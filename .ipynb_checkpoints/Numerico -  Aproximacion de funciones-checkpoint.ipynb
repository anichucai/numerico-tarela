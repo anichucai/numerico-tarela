{
 "cells": [
  {
   "cell_type": "markdown",
   "metadata": {},
   "source": [
    "# Análisis Numérico I - FIUBA (Cátedra Tarela)\n",
    "# Ecuaciones No Linealesb"
   ]
  },
  {
   "cell_type": "markdown",
   "metadata": {},
   "source": [
    "## 1er cuatrimestre 2020"
   ]
  },
  {
   "cell_type": "code",
   "execution_count": 1,
   "metadata": {},
   "outputs": [],
   "source": [
    "import numpy as np\n",
    "import sympy as sp\n",
    "import math\n",
    "import matplotlib.pyplot as plt\n",
    "from sympy.calculus.util import continuous_domain\n",
    "from scipy.linalg import solve"
   ]
  },
  {
   "cell_type": "markdown",
   "metadata": {},
   "source": [
    "## Funciones auxiliares"
   ]
  },
  {
   "cell_type": "markdown",
   "metadata": {},
   "source": [
    "### Funciones auxiliares - Matrices"
   ]
  },
  {
   "cell_type": "code",
   "execution_count": 16,
   "metadata": {},
   "outputs": [],
   "source": [
    "def print_matriz(matriz, spacing=15, rounding=-1):\n",
    "    \n",
    "    space_str = \"{: >\" + str(spacing)+ \"}\" + \" \"*3 + \"\\t\"\n",
    "    line = space_str * len(matriz)\n",
    "    \n",
    "    for fila in matriz:\n",
    "        \n",
    "        fila_modificada = fila\n",
    "        if (rounding!=-1):\n",
    "            fila_modificada = [round(x, rounding) for x in fila_modificada]  \n",
    "            \n",
    "        fila_string = [str(x) for x in fila_modificada]        \n",
    "        print('|'+ line.format(*fila_string) + \"|\")"
   ]
  },
  {
   "cell_type": "code",
   "execution_count": 17,
   "metadata": {},
   "outputs": [],
   "source": [
    "def print_vector(vector, spacing=4, rounding=-1):\n",
    "    \n",
    "    space_str = \"{: >\" + str(spacing)+ \"}\" + \" \"*3\n",
    "    line = space_str * len(vector)\n",
    "    \n",
    "    vector_modificado = vector\n",
    "    if (rounding!=-1):\n",
    "            vector_modificado = [round(x, rounding) for x in vector_modificado]  \n",
    "    \n",
    "    vector_string = [str(x) for x in vector_modificado]\n",
    "    \n",
    "    print('|'+ line.format(*vector_string) + \"|\")\n",
    "            "
   ]
  },
  {
   "cell_type": "code",
   "execution_count": 18,
   "metadata": {},
   "outputs": [],
   "source": [
    "def producto_vectorial(v1, v2):\n",
    "    \n",
    "    n = len(v1)\n",
    "    \n",
    "    if(len(v2) != n): return None\n",
    "    \n",
    "    res = 0\n",
    "    \n",
    "    for i in range(n):\n",
    "        res += v1[i]*v2[i]\n",
    "    \n",
    "    return res"
   ]
  },
  {
   "cell_type": "code",
   "execution_count": 24,
   "metadata": {},
   "outputs": [],
   "source": [
    "def resolver_sistema_ecuaciones(A,b):\n",
    "    A_bis = np.array(A, dtype = 'float')\n",
    "    b_bis = np.array(b, dtype = 'float')\n",
    "    return list(solve(A_bis,b_bis))"
   ]
  },
  {
   "cell_type": "markdown",
   "metadata": {},
   "source": [
    "## Aproximáción por cuadrados mínimos"
   ]
  },
  {
   "cell_type": "code",
   "execution_count": 50,
   "metadata": {
    "scrolled": true
   },
   "outputs": [],
   "source": [
    "def find_phis(phi, x):\n",
    "    phis = []\n",
    "\n",
    "    for f in phi:\n",
    "        vect = []\n",
    "        for n in x:\n",
    "            vect.append(f(n))\n",
    "        phis.append(vect)\n",
    "    \n",
    "    return phis"
   ]
  },
  {
   "cell_type": "code",
   "execution_count": 46,
   "metadata": {},
   "outputs": [],
   "source": [
    "def matriz_phixphi(phis):\n",
    "\n",
    "    n = len(phis)\n",
    "\n",
    "    matriz  = []\n",
    "\n",
    "    for fil in range(n):\n",
    "        fila = []\n",
    "        for col in range(n):\n",
    "            fila.append(producto_vectorial(phis[fil], phis[col]))\n",
    "        matriz.append(fila)\n",
    "        \n",
    "    return matriz"
   ]
  },
  {
   "cell_type": "code",
   "execution_count": 47,
   "metadata": {},
   "outputs": [],
   "source": [
    "def vector_f_t(phis, y):\n",
    "    f_t = []\n",
    "\n",
    "    for p in phis:\n",
    "        f_t.append(producto_vectorial(y,p))\n",
    "        \n",
    "    return f_t"
   ]
  },
  {
   "cell_type": "code",
   "execution_count": 68,
   "metadata": {},
   "outputs": [],
   "source": [
    "def aproximacion_cm(x,y,phi):\n",
    "    \n",
    "    phis = find_phis(phi, x)\n",
    "    A = matriz_phixphi(phis)\n",
    "    b = vector_f_t(phis, y)\n",
    "    c = resolver_sistema_ecuaciones(matriz, f_t)\n",
    "    \n",
    "    return phis,A,b,c"
   ]
  },
  {
   "cell_type": "code",
   "execution_count": 103,
   "metadata": {},
   "outputs": [],
   "source": [
    "def info_aproximacion_cm(x,y,phi):\n",
    "    phis,A,b,c = aproximacion_cm(x,y,phi)\n",
    "    \n",
    "    print(\"\\nAjk:\")\n",
    "    print_matriz(A, rounding=5)\n",
    "    print()\n",
    "    \n",
    "    print(\"\\nbk:\")\n",
    "    print_vector(b, rounding=5)\n",
    "    print()\n",
    "    \n",
    "    print(\"\\nC_k:\")\n",
    "    print_vector(c, rounding=5)\n",
    "    print()\n",
    "    \n",
    "    print(\"\\nAPROXIMACION POR CUADRADOS MÍNIMOS:\\n\")\n",
    "    x_symbol = sp.Symbol('x')\n",
    "    phi_symbol = [p(x_symbol) for p in phi]\n",
    "    res = 0\n",
    "    for i in range(len(c)):\n",
    "            res += c[i] * phi_symbol[i]\n",
    "    print(res)"
   ]
  },
  {
   "cell_type": "markdown",
   "metadata": {},
   "source": [
    "#### Ejemplo 1"
   ]
  },
  {
   "cell_type": "code",
   "execution_count": 110,
   "metadata": {},
   "outputs": [],
   "source": [
    "# Ejemplo 1 teórica\n",
    "\n",
    "x = [-3/2, -1, -1/2, 0, 1/2, 1, 3/2]\n",
    "y = [2.4, 1.4, 1.1, 0.9, 1.2, 1.5, 2.3]\n",
    "\n",
    "phi =[lambda x: 1, lambda x: sp.exp(x), lambda x: sp.exp(-x)]"
   ]
  },
  {
   "cell_type": "code",
   "execution_count": 106,
   "metadata": {},
   "outputs": [
    {
     "name": "stdout",
     "output_type": "stream",
     "text": [
      "\n",
      "Ajk:\n",
      "|              7   \t       11.04623   \t       11.04623   \t|\n",
      "|       11.04623   \t       31.74588   \t7.00000000000000   \t|\n",
      "|       11.04623   \t7.00000000000000   \t       31.74588   \t|\n",
      "\n",
      "\n",
      "bk:\n",
      "|10.8   18.98150   19.06810   |\n",
      "\n",
      "\n",
      "C_k:\n",
      "|-0.06803   0.50866   0.51216   |\n",
      "\n",
      "\n",
      "APROXIMACION POR CUADRADOS MÍNIMOS:\n",
      "\n",
      "0.508660004618175*exp(x) - 0.0680298360835958 + 0.512159439794367*exp(-x)\n"
     ]
    }
   ],
   "source": [
    "info_aproximacion_cm(x,y,phi)"
   ]
  },
  {
   "cell_type": "markdown",
   "metadata": {},
   "source": [
    "#### Ejemplo 2"
   ]
  },
  {
   "cell_type": "code",
   "execution_count": 111,
   "metadata": {},
   "outputs": [],
   "source": [
    "# Ejemplo entrega COVID-19 Chile\n",
    "\n",
    "x = [1,10,20,30,40,50,56]\n",
    "y = [1,10,114,373,286,464,552]\n",
    "\n",
    "phi = [lambda x: 1, lambda x: x, lambda x: x**2, lambda x: x**3]"
   ]
  },
  {
   "cell_type": "code",
   "execution_count": 112,
   "metadata": {},
   "outputs": [
    {
     "name": "stdout",
     "output_type": "stream",
     "text": [
      "\n",
      "Ajk:\n",
      "|              7   \t            207   \t           8637   \t         400617   \t|\n",
      "|            207   \t           8637   \t         400617   \t       19624497   \t|\n",
      "|           8637   \t         400617   \t       19624497   \t      993231777   \t|\n",
      "|         400617   \t       19624497   \t      993231777   \t    51355979457   \t|\n",
      "\n",
      "\n",
      "bk:\n",
      "|1800   79123   3730973   184237033   |\n",
      "\n",
      "\n",
      "C_k:\n",
      "|-0.06803   0.50866   0.51216   |\n",
      "\n",
      "\n",
      "APROXIMACION POR CUADRADOS MÍNIMOS:\n",
      "\n",
      "0.512159439794367*x**2 + 0.508660004618175*x - 0.0680298360835958\n"
     ]
    }
   ],
   "source": [
    "info_aproximacion_cm(x,y,phi)"
   ]
  }
 ],
 "metadata": {
  "kernelspec": {
   "display_name": "Python 3",
   "language": "python",
   "name": "python3"
  },
  "language_info": {
   "codemirror_mode": {
    "name": "ipython",
    "version": 3
   },
   "file_extension": ".py",
   "mimetype": "text/x-python",
   "name": "python",
   "nbconvert_exporter": "python",
   "pygments_lexer": "ipython3",
   "version": "3.6.10"
  }
 },
 "nbformat": 4,
 "nbformat_minor": 4
}
