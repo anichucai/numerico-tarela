{
 "cells": [
  {
   "cell_type": "markdown",
   "metadata": {},
   "source": [
    "# Análisis Numérico I - FIUBA (Cátedra Tarela)\n",
    "# Ecuaciones No Lineales"
   ]
  },
  {
   "cell_type": "markdown",
   "metadata": {},
   "source": [
    "## 1er cuatrimestre 2020"
   ]
  },
  {
   "cell_type": "code",
   "execution_count": 102,
   "metadata": {},
   "outputs": [],
   "source": [
    "import numpy as np\n",
    "import sympy as sp\n",
    "import math\n",
    "import matplotlib.pyplot as plt\n",
    "from sympy.calculus.util import continuous_domain"
   ]
  },
  {
   "cell_type": "markdown",
   "metadata": {},
   "source": [
    "## Calculo del orden de conergencia"
   ]
  },
  {
   "cell_type": "code",
   "execution_count": null,
   "metadata": {},
   "outputs": [],
   "source": [
    "def orden_de_convergencia(errores):\n",
    "    e1, e2, e3= errores[-3], errores[-2], errores[-1]\n",
    "    P = math.log(e3/e2) / math.log(e2/e1)\n",
    "    \n",
    "    print(\"P: \", P)"
   ]
  },
  {
   "cell_type": "markdown",
   "metadata": {},
   "source": [
    "## 1. MÉTODOS DE ARRANQUE"
   ]
  },
  {
   "cell_type": "markdown",
   "metadata": {},
   "source": [
    "Función que comprueba si el teorema del Bolzano se cumple para un intervalo en cierta función. Es decir, combrueba si hay una raiz en el intervalo para cierta función."
   ]
  },
  {
   "cell_type": "code",
   "execution_count": 2,
   "metadata": {},
   "outputs": [],
   "source": [
    "def cumple_teorema_del_bolzano(f,intervalo):\n",
    "    a = np.float64(intervalo[0])\n",
    "    b = np.float64(intervalo[1])\n",
    "    return(f(a)*f(b)<0)"
   ]
  },
  {
   "cell_type": "markdown",
   "metadata": {},
   "source": [
    "## 1.1 Método bisección"
   ]
  },
  {
   "cell_type": "markdown",
   "metadata": {},
   "source": [
    "Calcula la cantidad de pasos o iteraciones a realizar en el método biseccion para encontrar una raíz en cierto interalo con cierto valor absoluto."
   ]
  },
  {
   "cell_type": "code",
   "execution_count": 3,
   "metadata": {},
   "outputs": [],
   "source": [
    "def biseccion_cant_pasos(intervalo, error_absoluto):\n",
    "    a = np.float64(intervalo[0])\n",
    "    b = np.float64(intervalo[1])\n",
    "    return np.log2((b-a)/error_absoluto)"
   ]
  },
  {
   "cell_type": "markdown",
   "metadata": {},
   "source": [
    "Calcula el error absoluo del método biseccion para encontrar una raíz en cierto interalo con cierto n número de iteraciones o pasos."
   ]
  },
  {
   "cell_type": "code",
   "execution_count": 4,
   "metadata": {},
   "outputs": [],
   "source": [
    "def biseccion_error_asoluto(intervalo, n):\n",
    "    a = np.float64(intervalo[0])\n",
    "    b = np.float64(intervalo[1])\n",
    "    return (b-a)/(2**n)"
   ]
  },
  {
   "cell_type": "markdown",
   "metadata": {},
   "source": [
    "Calcula la raíz de una función en un intervalo utilizando el método numérico bisección.\n",
    "La condición de corte es el error absoluto."
   ]
  },
  {
   "cell_type": "code",
   "execution_count": 5,
   "metadata": {},
   "outputs": [],
   "source": [
    "def biseccion_1(f,intervalo,error_absoluto):\n",
    "        \n",
    "    i = 0\n",
    "    \n",
    "    a = np.float64(intervalo[0])\n",
    "    b = np.float64(intervalo[1])\n",
    "    \n",
    "    error_n = np.float64((b-a)/2)\n",
    "    \n",
    "    if(not cumple_teorema_del_bolzano(f,intervalo)):\n",
    "        print(\"No cumple teorema del Bolzano\")\n",
    "        return\n",
    "    \n",
    "    print(\"{: >3} {: >20} {: >20} {: >20} {: >20}\\n\".format(\"i\",\"m\",\"a\",\"b\", \"error\"))\n",
    "\n",
    "    while(error_n >= np.float64(error_absoluto)):\n",
    "\n",
    "        m = (a+b)/2\n",
    "\n",
    "        print(\"{: >3} {: >20} {: >20} {: >20} {: >20}\".format(i,m,a,b,error_n))\n",
    "        \n",
    "        if(f(m)==0): return m\n",
    "        \n",
    "        if(f(m)*f(a)<0 ):\n",
    "            b = m\n",
    "        else:\n",
    "            a = m\n",
    "        \n",
    "        i+=1\n",
    "        error_n = (b-a)/2\n",
    "    \n",
    "    print(\"{: >3} {: >20} {: >20} {: >20} {: >20}\".format(i,(a+b)/2,a,b,error_n))\n",
    "    \n",
    "    print(\"\\n\\nRaiz: \", m)"
   ]
  },
  {
   "cell_type": "markdown",
   "metadata": {},
   "source": [
    "Calcula la raíz de una función en un intervalo utilizando el método numérico bisección.\n",
    "La condición de corte es la cantidad de iteraciones o pasos a realizar."
   ]
  },
  {
   "cell_type": "code",
   "execution_count": 6,
   "metadata": {},
   "outputs": [],
   "source": [
    "def biseccion_2(f,intervalo,n_iteraciones):\n",
    "    \n",
    "    print(\"{: >3} {: >20} {: >20} {: >20} {: >20}\\n\".format(\"i\",\"m\",\"a\",\"b\", \"error\"))\n",
    "    \n",
    "    a = np.float64(intervalo[0])\n",
    "    b = np.float64(intervalo[1])\n",
    "    \n",
    "    error_n = np.float64((b-a)/2)\n",
    "    \n",
    "    if( not cumple_teorema_del_bolzano(f,intervalo)):\n",
    "        print(\"No cumple teorema del Bolzano\")\n",
    "        return\n",
    "    \n",
    "    for i in range(n_iteraciones-1):\n",
    "                \n",
    "        m = (a+b)/2\n",
    "        \n",
    "        print(\"{: >3} {: >20} {: >20} {: >20} {: >20}\".format(i,m,a,b,error_n))\n",
    "        \n",
    "        if(f(m)==0): return m\n",
    "        \n",
    "        if(f(m)*f(a)<0 ):\n",
    "            b = m\n",
    "        else:\n",
    "            a = m\n",
    "        \n",
    "        error_n = (b-a)/2\n",
    "    \n",
    "    print(\"{: >3} {: >20} {: >20} {: >20} {: >20}\".format(i+1,(a+b)/2,a,b,error_n))\n",
    "    \n",
    "    print(\"\\n\\nRaiz: \", m)"
   ]
  },
  {
   "cell_type": "markdown",
   "metadata": {},
   "source": [
    "Calculo los errores de cada iteración del método bisección"
   ]
  },
  {
   "cell_type": "code",
   "execution_count": 118,
   "metadata": {},
   "outputs": [],
   "source": [
    "def biseccion_errores(f,intervalo,error_absoluto):\n",
    "        \n",
    "    i = 0\n",
    "    \n",
    "    a = np.float64(intervalo[0])\n",
    "    b = np.float64(intervalo[1])\n",
    "    \n",
    "    errores = [np.float64((b-a)/2)]\n",
    "\n",
    "    while(errores[-1] >= np.float64(error_absoluto)):\n",
    "\n",
    "        m = (a+b)/2\n",
    "        \n",
    "        if(f(m)==0): return m\n",
    "        \n",
    "        if(f(m)*f(a)<0 ):\n",
    "            b = m\n",
    "        else:\n",
    "            a = m\n",
    "        \n",
    "        errores.append((b-a)/2)\n",
    "        \n",
    "    return errores"
   ]
  },
  {
   "cell_type": "markdown",
   "metadata": {},
   "source": [
    "### 1.1.1 Ejemplo"
   ]
  },
  {
   "cell_type": "code",
   "execution_count": 7,
   "metadata": {},
   "outputs": [],
   "source": [
    "def f(x):\n",
    "    return 2*x - np.exp(-x)"
   ]
  },
  {
   "cell_type": "code",
   "execution_count": 8,
   "metadata": {},
   "outputs": [
    {
     "data": {
      "text/plain": [
       "True"
      ]
     },
     "execution_count": 8,
     "metadata": {},
     "output_type": "execute_result"
    }
   ],
   "source": [
    "cumple_teorema_del_bolzano(f,[0,1])"
   ]
  },
  {
   "cell_type": "code",
   "execution_count": 9,
   "metadata": {},
   "outputs": [
    {
     "data": {
      "text/plain": [
       "0.015625"
      ]
     },
     "execution_count": 9,
     "metadata": {},
     "output_type": "execute_result"
    }
   ],
   "source": [
    "biseccion_error_asoluto([0,1], 6)"
   ]
  },
  {
   "cell_type": "code",
   "execution_count": 10,
   "metadata": {},
   "outputs": [
    {
     "data": {
      "text/plain": [
       "5.643856189774724"
      ]
     },
     "execution_count": 10,
     "metadata": {},
     "output_type": "execute_result"
    }
   ],
   "source": [
    "biseccion_cant_pasos([0,1],0.02)"
   ]
  },
  {
   "cell_type": "code",
   "execution_count": 11,
   "metadata": {},
   "outputs": [
    {
     "name": "stdout",
     "output_type": "stream",
     "text": [
      "  i                    m                    a                    b                error\n",
      "\n",
      "  0                  0.5                  0.0                  1.0                  0.5\n",
      "  1                 0.25                  0.0                  0.5                 0.25\n",
      "  2                0.375                 0.25                  0.5                0.125\n",
      "  3               0.3125                 0.25                0.375               0.0625\n",
      "  4              0.34375               0.3125                0.375              0.03125\n",
      "  5             0.359375              0.34375                0.375             0.015625\n",
      "\n",
      "\n",
      "Raiz:  0.34375\n"
     ]
    }
   ],
   "source": [
    "biseccion_1(f,[0,1],0.02)"
   ]
  },
  {
   "cell_type": "code",
   "execution_count": 12,
   "metadata": {},
   "outputs": [
    {
     "name": "stdout",
     "output_type": "stream",
     "text": [
      "  i                    m                    a                    b                error\n",
      "\n",
      "  0                  0.5                  0.0                  1.0                  0.5\n",
      "  1                 0.25                  0.0                  0.5                 0.25\n",
      "  2                0.375                 0.25                  0.5                0.125\n",
      "  3               0.3125                 0.25                0.375               0.0625\n",
      "  4              0.34375               0.3125                0.375              0.03125\n",
      "  5             0.359375              0.34375                0.375             0.015625\n",
      "\n",
      "\n",
      "Raiz:  0.34375\n"
     ]
    }
   ],
   "source": [
    "biseccion_2(f,[0,1],6)"
   ]
  },
  {
   "cell_type": "code",
   "execution_count": 120,
   "metadata": {},
   "outputs": [
    {
     "name": "stdout",
     "output_type": "stream",
     "text": [
      "P:  1.0\n"
     ]
    }
   ],
   "source": [
    "errores = biseccion_errores(f,[0,1],0.02)\n",
    "orden_de_convergencia(errores)"
   ]
  },
  {
   "cell_type": "markdown",
   "metadata": {},
   "source": [
    "## 1.2 Método Regula-Falsi"
   ]
  },
  {
   "cell_type": "markdown",
   "metadata": {},
   "source": [
    "Calcula la raíz de una función en un intervalo utilizando el método numérico Regula-Falsi.\n",
    "La condición de corte es el error absoluto."
   ]
  },
  {
   "cell_type": "code",
   "execution_count": 13,
   "metadata": {},
   "outputs": [],
   "source": [
    "def regula_falsi(f,intervalo,error_absoluto):\n",
    "        \n",
    "    i = 0\n",
    "    \n",
    "    a = np.float64(intervalo[0])\n",
    "    b = np.float64(intervalo[1])\n",
    "    \n",
    "    error_n = np.inf\n",
    "    \n",
    "    if(not cumple_teorema_del_bolzano(f,intervalo)):\n",
    "        print(\"No cumple teorema del Bolzano\")\n",
    "        return\n",
    "    \n",
    "    print(\"{: >3} {: >20} {: >20} {: >20} {: >20}\\n\".format(\"i\",\"m\",\"a\",\"b\", \"error\"))\n",
    "    \n",
    "    m = [0]\n",
    "\n",
    "    while(error_n >= np.float64(error_absoluto)):\n",
    "\n",
    "        m.append(a - (b-a)*(f(a)/(f(b)-f(a))))\n",
    "        error_n = abs(m[-2]-m[-1])\n",
    "        print(\"{: >3} {: >20} {: >20} {: >20} {: >20}\".format(i,m[-1],a,b,error_n))\n",
    "        \n",
    "        if(f(m[-1])==0): return m[-1]\n",
    "        \n",
    "        if(f(m[-1])*f(a)<0 ):\n",
    "            b = m[-1] \n",
    "        else:\n",
    "            a = m[-1]\n",
    "        \n",
    "        i+=1\n",
    "    \n",
    "    m.append(a - (b-a)*(f(a)/(f(b)-f(a))))\n",
    "    print(\"{: >3} {: >20} {: >20} {: >20} {: >20}\".format(i,(a+b)/2,a,b,abs(m[-2]-m[-1])))\n",
    "    \n",
    "    print(\"\\n\\nRaiz: \", m[-1])"
   ]
  },
  {
   "cell_type": "code",
   "execution_count": 137,
   "metadata": {},
   "outputs": [],
   "source": [
    "def regula_falsi_errores(f,intervalo,error_absoluto):\n",
    "        \n",
    "    i = 0\n",
    "    \n",
    "    a = np.float64(intervalo[0])\n",
    "    b = np.float64(intervalo[1])\n",
    "    \n",
    "    errores = [np.inf]\n",
    "    m = [0]\n",
    "        \n",
    "\n",
    "    while(errores[-1] >= np.float64(error_absoluto)):\n",
    "        \n",
    "        m.append(a - (b-a)*(f(a)/(f(b)-f(a))))\n",
    "        errores.append(abs(m[-2]-m[-1]))\n",
    "        \n",
    "        if(f(m[-1])==0): return m[-1]\n",
    "        \n",
    "        if(f(m[-1])*f(a)<0 ):\n",
    "            b = m[-1] \n",
    "        else:\n",
    "            a = m[-1]\n",
    "    \n",
    "    m.append(a - (b-a)*(f(a)/(f(b)-f(a))))\n",
    "    \n",
    "    return errores"
   ]
  },
  {
   "cell_type": "markdown",
   "metadata": {},
   "source": [
    "### 1.2.1 Ejemplo"
   ]
  },
  {
   "cell_type": "code",
   "execution_count": 133,
   "metadata": {},
   "outputs": [],
   "source": [
    "def f(x):\n",
    "    return 2*x - np.exp(-x)"
   ]
  },
  {
   "cell_type": "code",
   "execution_count": 134,
   "metadata": {},
   "outputs": [
    {
     "data": {
      "text/plain": [
       "True"
      ]
     },
     "execution_count": 134,
     "metadata": {},
     "output_type": "execute_result"
    }
   ],
   "source": [
    "cumple_teorema_del_bolzano(f,[0,1])"
   ]
  },
  {
   "cell_type": "code",
   "execution_count": 135,
   "metadata": {},
   "outputs": [
    {
     "name": "stdout",
     "output_type": "stream",
     "text": [
      "  i                    m                    a                    b                error\n",
      "\n",
      "  0   0.3799218073981598                  0.0                  1.0   0.3799218073981598\n",
      "  1  0.35311057005576196                  0.0   0.3799218073981598  0.02681123734239782\n",
      "  2  0.35180129704735125                  0.0  0.35311057005576196 0.0013092730084107163\n",
      "  3  0.17590064852367562                  0.0  0.35180129704735125 6.426741923926116e-05\n",
      "\n",
      "\n",
      "Raiz:  0.351737029628112\n"
     ]
    }
   ],
   "source": [
    "regula_falsi(f,[0,1],0.002)"
   ]
  },
  {
   "cell_type": "code",
   "execution_count": 140,
   "metadata": {},
   "outputs": [
    {
     "name": "stdout",
     "output_type": "stream",
     "text": [
      "P:  1.1388852012100912\n"
     ]
    }
   ],
   "source": [
    "errores = regula_falsi_errores(f,[0,1],0.002)\n",
    "orden_de_convergencia(errores)"
   ]
  },
  {
   "cell_type": "markdown",
   "metadata": {},
   "source": [
    "## 2. MÉTODOS ITERATIVOS"
   ]
  },
  {
   "cell_type": "markdown",
   "metadata": {},
   "source": [
    "## 2.1 Método de punto fijo"
   ]
  },
  {
   "cell_type": "code",
   "execution_count": 17,
   "metadata": {},
   "outputs": [],
   "source": [
    "def graph(f, intervalo):\n",
    "    \n",
    "    i1, i2 = intervalo[0], intervalo[1]\n",
    "    \n",
    "    x = np.linspace(i1,i2,100)\n",
    "    y = [f(p) for p in x]\n",
    "                 \n",
    "    plt.plot(x, y)  \n",
    "    plt.show()"
   ]
  },
  {
   "cell_type": "code",
   "execution_count": 18,
   "metadata": {},
   "outputs": [],
   "source": [
    "def cumple_condiciones_punto_fijo(g,intervalo):\n",
    "    \n",
    "    x = sp.Symbol('x')\n",
    "    y = g(x)\n",
    "    \n",
    "    Intervalo_continuidad_g = continuous_domain(y, x, sp.S.Reals)\n",
    "    g_derivada =  y.diff(x)\n",
    "    Intervalo_continuidad_g_derivada = continuous_domain(g_derivada, x, sp.S.Reals)\n",
    "\n",
    "    print(\"g(x)=\",y)\n",
    "    print(\"Continua en:\", Intervalo_continuidad_g)\n",
    "    print(\"Imagen de g(x):\",\"\\n\")\n",
    "    graph(g, intervalo)\n",
    "    \n",
    "\n",
    "    print(\"g'(x)=\",g_derivada)\n",
    "    print(\"Continua en:\", Intervalo_continuidad_g_derivada)\n",
    "    print(\"Existe k:\")\n",
    "    graph(sp.lambdify(x, g_derivada, \"math\"), intervalo)\n"
   ]
  },
  {
   "cell_type": "code",
   "execution_count": 19,
   "metadata": {},
   "outputs": [],
   "source": [
    "def error_relativo(actual, anterior):\n",
    "    return abs((actual-anterior)/actual)"
   ]
  },
  {
   "cell_type": "code",
   "execution_count": 85,
   "metadata": {},
   "outputs": [],
   "source": [
    "def metodo_punto_fijo_1(g, p, error_relativo):\n",
    "    \n",
    "    print(\"{: >3} {: >20} {: >20}\".format(\"k\",\"x\",\"error\"))\n",
    "        \n",
    "    k = 0\n",
    "    x = np.float64(p)\n",
    "    anterior = x\n",
    "    actual = g(x)\n",
    "    \n",
    "    while(error_relativo(actual, anterior) >= error_relativo):\n",
    "        \n",
    "        print(\"{: >3} {: >20} {: >20}\".format(k,actual,error_relativo(actual, anterior)))\n",
    "        \n",
    "        anterior = actual\n",
    "        actual = g(anterior)\n",
    "        \n",
    "        k += 1\n",
    "\n",
    "    print(\"{: >3} {: >20} {: >20}\".format(k,actual,error_relativo(actual, anterior)))"
   ]
  },
  {
   "cell_type": "code",
   "execution_count": 86,
   "metadata": {},
   "outputs": [],
   "source": [
    "def metodo_punto_fijo_2(g, p, error_absoluto):\n",
    "    \n",
    "    print(\"{: >3} {: >20} {: >20} {: >20}\".format(\"k\",\"Xn\",\"Xn+1\",\"error\"))\n",
    "    \n",
    "    k = 0\n",
    "\n",
    "    anterior = np.float64(p)\n",
    "    actual = np.float64(g(p))\n",
    "            \n",
    "    while(abs(actual-anterior) >= error_absoluto):\n",
    "        \n",
    "        print(\"{: >3} {: >20} {: >20} {: >20}\".format(k,anterior,actual,abs(actual-anterior)))\n",
    "        \n",
    "        anterior = actual\n",
    "        actual = g(anterior)\n",
    "        \n",
    "        k += 1\n",
    "\n",
    "    print(\"{: >3} {: >20} {: >20} {: >20}\".format(k,anterior, actual, abs(actual-anterior)))"
   ]
  },
  {
   "cell_type": "code",
   "execution_count": 107,
   "metadata": {},
   "outputs": [],
   "source": [
    "def mpf_errores_absolutos(g, p, error_absoluto):\n",
    "\n",
    "    anterior = np.float64(p)\n",
    "    actual = np.float64(g(p))\n",
    "    \n",
    "    errores_absolutos = [abs(actual-anterior)]\n",
    "            \n",
    "    while(errores_absolutos[-1] >= error_absoluto):\n",
    "                \n",
    "        anterior = actual\n",
    "        actual = g(anterior)\n",
    "        \n",
    "        errores_absolutos.append(abs(actual-anterior))\n",
    "    \n",
    "    return errores_absolutos"
   ]
  },
  {
   "cell_type": "code",
   "execution_count": 109,
   "metadata": {},
   "outputs": [],
   "source": [
    "def mpf_errores_relativos(g, p, error_relativo):\n",
    "    \n",
    "    x = np.float64(p)\n",
    "    anterior = x\n",
    "    actual = g(x)\n",
    "\n",
    "    errores_relativos = [error_relativo(actual, anterior)]\n",
    "    \n",
    "    while(error_relativo(actual, anterior) >= error_relativo):\n",
    "                \n",
    "        anterior = actual\n",
    "        actual = g(anterior)\n",
    "        \n",
    "        errores_relativos.append(error_relativo(actual, anterior))\n",
    "\n",
    "    return errores_relativos"
   ]
  },
  {
   "cell_type": "markdown",
   "metadata": {},
   "source": [
    "### 2.1.1 Ejemplo"
   ]
  },
  {
   "cell_type": "code",
   "execution_count": 93,
   "metadata": {},
   "outputs": [],
   "source": [
    "def g(x):\n",
    "    f = (x**2)/4 - sp.sin(x)\n",
    "    return x - f"
   ]
  },
  {
   "cell_type": "code",
   "execution_count": 88,
   "metadata": {},
   "outputs": [
    {
     "name": "stdout",
     "output_type": "stream",
     "text": [
      "g(x)= -x**2/4 + x + sin(x)\n",
      "Continua en: Reals\n",
      "Imagen de g(x): \n",
      "\n"
     ]
    },
    {
     "data": {
      "image/png": "[encoded data removed]",
      "text/plain": [
       "<Figure size 432x288 with 1 Axes>"
      ]
     },
     "metadata": {
      "needs_background": "light"
     },
     "output_type": "display_data"
    },
    {
     "name": "stdout",
     "output_type": "stream",
     "text": [
      "g'(x)= -x/2 + cos(x) + 1\n",
      "Continua en: Reals\n",
      "Existe k:\n"
     ]
    },
    {
     "data": {
      "image/png": "[encoded data removed]",
      "text/plain": [
       "<Figure size 432x288 with 1 Axes>"
      ]
     },
     "metadata": {
      "needs_background": "light"
     },
     "output_type": "display_data"
    }
   ],
   "source": [
    "cumple_condiciones_punto_fijo(g,[1.5,2])"
   ]
  },
  {
   "cell_type": "code",
   "execution_count": 92,
   "metadata": {},
   "outputs": [
    {
     "name": "stdout",
     "output_type": "stream",
     "text": [
      "  k                   Xn                 Xn+1                error\n",
      "  0                 1.75    1.968360946873937  0.21836094687393692\n",
      "  1    1.968360946873937     1.92175638581670   0.0466045610572381\n",
      "  2     1.92175638581670     1.93751256205809   0.0157561762413914\n"
     ]
    }
   ],
   "source": [
    "metodo_punto_fijo_2(g, 1.75, 0.02)"
   ]
  },
  {
   "cell_type": "code",
   "execution_count": 108,
   "metadata": {},
   "outputs": [
    {
     "name": "stdout",
     "output_type": "stream",
     "text": [
      "P:  0.7021692383413628\n"
     ]
    }
   ],
   "source": [
    "errores = mpf_orden_convergencia_errores_absolutos(g, 1.75, 0.02)\n",
    "orden_de_convergencia(errores)"
   ]
  }
 ],
 "metadata": {
  "kernelspec": {
   "display_name": "Python 3",
   "language": "python",
   "name": "python3"
  },
  "language_info": {
   "codemirror_mode": {
    "name": "ipython",
    "version": 3
   },
   "file_extension": ".py",
   "mimetype": "text/x-python",
   "name": "python",
   "nbconvert_exporter": "python",
   "pygments_lexer": "ipython3",
   "version": "3.6.10"
  }
 },
 "nbformat": 4,
 "nbformat_minor": 4
}
