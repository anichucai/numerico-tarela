{
 "cells": [
  {
   "cell_type": "markdown",
   "metadata": {},
   "source": [
    "# Análisis Numérico (1c 2020)"
   ]
  },
  {
   "cell_type": "markdown",
   "metadata": {},
   "source": [
    "# Trabajo práctico 1 - Ecuaciones no lineales: Fondo de retiro"
   ]
  },
  {
   "cell_type": "markdown",
   "metadata": {},
   "source": [
    "#### Carga de librerías"
   ]
  },
  {
   "cell_type": "code",
   "execution_count": 1,
   "metadata": {},
   "outputs": [],
   "source": [
    "import matplotlib.pyplot as plt\n",
    "import numpy as np\n",
    "import math\n",
    "import seaborn as sns"
   ]
  },
  {
   "cell_type": "markdown",
   "metadata": {},
   "source": [
    "## Algoritmos"
   ]
  },
  {
   "cell_type": "code",
   "execution_count": 2,
   "metadata": {},
   "outputs": [],
   "source": [
    "def algoritmo_1(x):\n",
    "    return x - ((P/x)*((1+x)**n-1)-A)"
   ]
  },
  {
   "cell_type": "code",
   "execution_count": 3,
   "metadata": {},
   "outputs": [],
   "source": [
    "def algoritmo_2(x):\n",
    "    return (A*(x/P)+1)**(1/n)-1"
   ]
  },
  {
   "cell_type": "code",
   "execution_count": 4,
   "metadata": {},
   "outputs": [],
   "source": [
    "def algoritmo_3(x):\n",
    "    return (P/A)*((1+x)**n-1)"
   ]
  },
  {
   "cell_type": "code",
   "execution_count": 5,
   "metadata": {},
   "outputs": [],
   "source": [
    "def algoritmo_4(x):\n",
    "    return ( (A*(x/P)+1) / ((1+x)**(n/2)) )**(2/n) -1"
   ]
  },
  {
   "cell_type": "code",
   "execution_count": 6,
   "metadata": {},
   "outputs": [],
   "source": [
    "def algoritmo_5(x):\n",
    "    return x - ((P/x)*((1+x)**n-1)-A) / ((-P/(x**2)) * ((1+x)**n-1) +(P/(x)) * n * ((1+x)**(n-1)))"
   ]
  },
  {
   "cell_type": "markdown",
   "metadata": {},
   "source": [
    "# B2"
   ]
  },
  {
   "cell_type": "code",
   "execution_count": 7,
   "metadata": {},
   "outputs": [],
   "source": [
    "P = np.float32(102995)/700\n",
    "n = np.float32(30 * 12)\n",
    "A = np.float32(200000)"
   ]
  },
  {
   "cell_type": "markdown",
   "metadata": {},
   "source": [
    "### Busco semilla"
   ]
  },
  {
   "cell_type": "code",
   "execution_count": 8,
   "metadata": {},
   "outputs": [],
   "source": [
    "def f(x):\n",
    "   return (P/x)*((1+x)**n-1)"
   ]
  },
  {
   "cell_type": "code",
   "execution_count": 9,
   "metadata": {},
   "outputs": [],
   "source": [
    "def biseccion(f):\n",
    "    \n",
    "    a =float(-1)\n",
    "    b = float(1.1)\n",
    "    for i in range(5):\n",
    "        c = (a+b)/2\n",
    "        res = f(c)\n",
    "        print(\"a: {} \\t- b:{} - c:{} \\nf(c): {}\\n\".format(a,b, c,res))\n",
    "        if(f(c)<0.0001):            \n",
    "            return c\n",
    "        if(f(c)*f(a)<0 ):\n",
    "            b = c \n",
    "        else:\n",
    "            a = c"
   ]
  },
  {
   "cell_type": "code",
   "execution_count": 10,
   "metadata": {},
   "outputs": [
    {
     "name": "stdout",
     "output_type": "stream",
     "text": [
      "a: -1.0 \t- b:1.1 - c:0.050000000000000044 \n",
      "f(c): 124995895574.7732\n",
      "\n",
      "a: 0.050000000000000044 \t- b:1.1 - c:0.5750000000000001 \n",
      "f(c): 2.685660937415293e+73\n",
      "\n",
      "a: 0.5750000000000001 \t- b:1.1 - c:0.8375000000000001 \n",
      "f(c): 2.3258327336143373e+97\n",
      "\n",
      "a: 0.8375000000000001 \t- b:1.1 - c:0.9687500000000001 \n",
      "f(c): 1.23058606966761e+108\n",
      "\n",
      "a: 0.9687500000000001 \t- b:1.1 - c:1.034375 \n",
      "f(c): 1.542424005858347e+113\n",
      "\n"
     ]
    }
   ],
   "source": [
    "biseccion(f)"
   ]
  },
  {
   "cell_type": "markdown",
   "metadata": {},
   "source": [
    "### Busco raíz"
   ]
  },
  {
   "cell_type": "code",
   "execution_count": 11,
   "metadata": {},
   "outputs": [],
   "source": [
    "a_float = np.float(10**(-5))"
   ]
  },
  {
   "cell_type": "code",
   "execution_count": 12,
   "metadata": {},
   "outputs": [],
   "source": [
    "def error_relativo(actual, anterior):\n",
    "    return abs((actual-anterior)/actual)"
   ]
  },
  {
   "cell_type": "code",
   "execution_count": 13,
   "metadata": {},
   "outputs": [],
   "source": [
    "def metodo_punto_fijo(g, p):\n",
    "    print(\"k\",\" \",\"valor\", \"\\t\\t\\t\", \"error\")\n",
    "    k = 1\n",
    "    anterior = np.float32(p)\n",
    "    actual = np.float32(g(p))\n",
    "    while(error_relativo(actual, anterior)>= a_float):\n",
    "        print(k,\" \",actual, \"\\t\\t\", error_relativo(actual, anterior))\n",
    "        anterior = np.float32(actual)\n",
    "        actual = np.float32(g(anterior))\n",
    "        k += 1\n",
    "\n",
    "    print(k,\" \",actual, \"\\t\\t\", error_relativo(actual, anterior))"
   ]
  },
  {
   "cell_type": "code",
   "execution_count": 14,
   "metadata": {
    "scrolled": true
   },
   "outputs": [
    {
     "name": "stdout",
     "output_type": "stream",
     "text": [
      "k   valor \t\t\t error\n",
      "1   0.015839601 \t\t 12.257909\n",
      "2   0.008689969 \t\t 0.82274544\n",
      "3   0.0071095885 \t\t 0.22228858\n",
      "4   0.006596306 \t\t 0.07781365\n",
      "5   0.0064071277 \t\t 0.029526204\n",
      "6   0.006334053 \t\t 0.01153682\n",
      "7   0.0063053076 \t\t 0.004558901\n",
      "8   0.006293919 \t\t 0.0018094733\n",
      "9   0.006289394 \t\t 0.00071943825\n",
      "10   0.0062875943 \t\t 0.00028624316\n",
      "11   0.006286878 \t\t 0.000113917755\n",
      "12   0.006286593 \t\t 4.5332137e-05\n",
      "13   0.0062864795 \t\t 1.8073924e-05\n",
      "14   0.0062864344 \t\t 7.1851773e-06\n"
     ]
    }
   ],
   "source": [
    "p = np.float32(0.21) \n",
    "#voy variando semilla para encontrar intervalo de convregenci\n",
    "metodo_punto_fijo(algoritmo_2, p)"
   ]
  },
  {
   "cell_type": "markdown",
   "metadata": {},
   "source": [
    "## B4"
   ]
  },
  {
   "cell_type": "code",
   "execution_count": 15,
   "metadata": {},
   "outputs": [],
   "source": [
    "P = np.float32(102995)/700\n",
    "n = np.float32(30 * 12)\n",
    "A = np.float32(200000)"
   ]
  },
  {
   "cell_type": "code",
   "execution_count": 16,
   "metadata": {},
   "outputs": [],
   "source": [
    "p = np.float32(0.01) #semilla"
   ]
  },
  {
   "cell_type": "code",
   "execution_count": 17,
   "metadata": {},
   "outputs": [
    {
     "name": "stdout",
     "output_type": "stream",
     "text": [
      "k   valor \t\t\t error\n",
      "1   0.0074737193 \t\t 0.33802184\n",
      "2   0.0067231706 \t\t 0.11163612\n",
      "3   0.0064550866 \t\t 0.041530658\n",
      "4   0.006352759 \t\t 0.016107595\n",
      "5   0.006312694 \t\t 0.0063467408\n",
      "6   0.00629685 \t\t 0.0025161987\n",
      "7   0.006290559 \t\t 0.0010000094\n",
      "8   0.0062880577 \t\t 0.00039782276\n",
      "9   0.0062870625 \t\t 0.00015828031\n",
      "10   0.0062866663 \t\t 6.303464e-05\n",
      "11   0.006286509 \t\t 2.5036712e-05\n",
      "12   0.006286446 \t\t 9.999971e-06\n"
     ]
    }
   ],
   "source": [
    "metodo_punto_fijo(algoritmo_2, p)"
   ]
  },
  {
   "cell_type": "code",
   "execution_count": 18,
   "metadata": {},
   "outputs": [
    {
     "name": "stdout",
     "output_type": "stream",
     "text": [
      "k   valor \t\t\t error\n",
      "1   0.004953758 \t\t 1.0186695\n",
      "2   0.006443437 \t\t 0.23119327\n",
      "3   0.0062530255 \t\t 0.03045113\n",
      "4   0.006293147 \t\t 0.006375408\n",
      "5   0.006285027 \t\t 0.0012919174\n",
      "6   0.0062866854 \t\t 0.00026376697\n",
      "7   0.0062863473 \t\t 5.377846e-05\n",
      "8   0.006286416 \t\t 1.0962983e-05\n",
      "9   0.0062864022 \t\t 2.2222312e-06\n"
     ]
    }
   ],
   "source": [
    "metodo_punto_fijo(algoritmo_4, p)"
   ]
  },
  {
   "cell_type": "code",
   "execution_count": 19,
   "metadata": {},
   "outputs": [
    {
     "name": "stdout",
     "output_type": "stream",
     "text": [
      "k   valor \t\t\t error\n",
      "1   0.0077082007 \t\t 0.2973196\n",
      "2   0.0065342714 \t\t 0.17965727\n",
      "3   0.0062946714 \t\t 0.038063936\n",
      "4   0.006286414 \t\t 0.0013135584\n",
      "5   0.0062864046 \t\t 1.4814868e-06\n"
     ]
    }
   ],
   "source": [
    "metodo_punto_fijo(algoritmo_5, p)"
   ]
  },
  {
   "cell_type": "markdown",
   "metadata": {},
   "source": [
    "## C1"
   ]
  },
  {
   "cell_type": "code",
   "execution_count": 20,
   "metadata": {},
   "outputs": [],
   "source": [
    "P = np.float32(102995)/700\n",
    "n = np.float32(30 * 12)\n",
    "A = np.float32(200000)"
   ]
  },
  {
   "cell_type": "code",
   "execution_count": 21,
   "metadata": {},
   "outputs": [],
   "source": [
    "p = np.float32(0.01) #semilla"
   ]
  },
  {
   "cell_type": "code",
   "execution_count": 22,
   "metadata": {},
   "outputs": [],
   "source": [
    "def mpf_error_relativo(g, p):\n",
    "    indices = []\n",
    "    errores_relativos = []\n",
    "    k = 1\n",
    "    anterior = np.float32(p)\n",
    "    actual = np.float32(g(p))\n",
    "    while(error_relativo(actual, anterior)>= 10**(-5)):\n",
    "        errores_relativos.append(error_relativo(actual, anterior))\n",
    "        indices.append(k)\n",
    "        anterior = np.float32(actual)\n",
    "        actual = np.float32(g(anterior))\n",
    "        k += 1\n",
    "    indices.append(k)\n",
    "    errores_relativos.append(error_relativo(actual, anterior))\n",
    "    return indices, errores_relativos"
   ]
  },
  {
   "cell_type": "markdown",
   "metadata": {},
   "source": [
    "### Calculo indices y errores relativos"
   ]
  },
  {
   "cell_type": "code",
   "execution_count": 23,
   "metadata": {},
   "outputs": [],
   "source": [
    "indice_2, error_2 = mpf_error_relativo(algoritmo_2, p)"
   ]
  },
  {
   "cell_type": "code",
   "execution_count": 24,
   "metadata": {},
   "outputs": [],
   "source": [
    "indice_4, error_4 = mpf_error_relativo(algoritmo_4, p)"
   ]
  },
  {
   "cell_type": "code",
   "execution_count": 25,
   "metadata": {},
   "outputs": [],
   "source": [
    "indice_5, error_5 = mpf_error_relativo(algoritmo_5, p)"
   ]
  },
  {
   "cell_type": "markdown",
   "metadata": {},
   "source": [
    "### Grafico"
   ]
  },
  {
   "cell_type": "code",
   "execution_count": 26,
   "metadata": {},
   "outputs": [
    {
     "data": {
      "image/png": "[encoded data removed]",
      "text/plain": [
       "<Figure size 504x360 with 1 Axes>"
      ]
     },
     "metadata": {
      "needs_background": "light"
     },
     "output_type": "display_data"
    }
   ],
   "source": [
    "plt.subplots(1, 1, figsize=(7, 5))\n",
    "\n",
    "plt.grid(color='g', linestyle='-', linewidth=0.1)\n",
    "plt.xticks(indice_2)\n",
    "plt.xlabel(\"Iteración\")\n",
    "plt.ylabel(\"Error relativo\")\n",
    "\n",
    "plt.scatter(indice_2, error_2, color =\"r\", alpha=0.5)\n",
    "plt.plot(indice_2, error_2, color =\"r\", alpha=0.5)\n",
    "\n",
    "plt.scatter(indice_4, error_4, color =\"g\", alpha=0.5)\n",
    "plt.plot(indice_4, error_4, color =\"g\", alpha=0.5)\n",
    "\n",
    "plt.scatter(indice_5, error_5, color =\"b\", alpha=0.5)\n",
    "plt.plot(indice_5, error_5, color =\"b\", alpha=0.5)\n",
    "\n",
    "plt.legend([\"Algoritmo 2\",\"Algoritmo 4\",\"Algoritmo 5\"])\n",
    "plt.show()"
   ]
  },
  {
   "cell_type": "markdown",
   "metadata": {},
   "source": [
    "## C2"
   ]
  },
  {
   "cell_type": "code",
   "execution_count": 27,
   "metadata": {},
   "outputs": [],
   "source": [
    "P = np.float32(102995)/700\n",
    "n = np.float32(30 * 12)\n",
    "A = np.float32(200000)"
   ]
  },
  {
   "cell_type": "code",
   "execution_count": 28,
   "metadata": {},
   "outputs": [
    {
     "data": {
      "image/png": "[encoded data removed]",
      "text/plain": [
       "<Figure size 720x576 with 1 Axes>"
      ]
     },
     "metadata": {
      "needs_background": "light"
     },
     "output_type": "display_data"
    }
   ],
   "source": [
    "plt.subplots(1, 1, figsize=(10, 8))\n",
    "\n",
    "plt.grid(color='g', linestyle='-', linewidth=0.1)\n",
    "plt.xlabel(\"Error relativo anterior\")\n",
    "plt.ylabel(\"Error relativo actual\")\n",
    "\n",
    "plt.scatter(error_2[:-1], error_2[1:], color =\"r\", alpha=0.5)\n",
    "plt.plot(error_2[:-1], error_2[1:], color =\"r\", alpha=0.5)\n",
    "\n",
    "plt.scatter(error_4[:-1], error_4[1:], color =\"g\", alpha=0.5)\n",
    "plt.plot(error_4[:-1], error_4[1:], color =\"g\", alpha=0.5)\n",
    "\n",
    "plt.scatter(error_5[:-1], error_5[1:], color =\"b\", alpha=0.5)\n",
    "plt.plot(error_5[:-1], error_5[1:], color =\"b\", alpha=0.5)\n",
    "\n",
    "plt.legend([\"Algoritmo 2\",\"Algoritmo 4\",\"Algoritmo 5\"])\n",
    "plt.show()"
   ]
  },
  {
   "cell_type": "markdown",
   "metadata": {},
   "source": [
    "## C3"
   ]
  },
  {
   "cell_type": "code",
   "execution_count": 29,
   "metadata": {},
   "outputs": [],
   "source": [
    "P = np.float32(102995)/700\n",
    "n = np.float32(30 * 12)\n",
    "A = np.float32(200000)"
   ]
  },
  {
   "cell_type": "code",
   "execution_count": 30,
   "metadata": {},
   "outputs": [],
   "source": [
    "a_float = np.float64(10**(-10))"
   ]
  },
  {
   "cell_type": "code",
   "execution_count": 31,
   "metadata": {},
   "outputs": [],
   "source": [
    "def error_relativo(actual, anterior):\n",
    "    return abs((actual-anterior)/actual)"
   ]
  },
  {
   "cell_type": "code",
   "execution_count": 32,
   "metadata": {},
   "outputs": [],
   "source": [
    "def metodo_punto_fijo(g, p):\n",
    "    print(\"k\",\" \",\"valor\", \"\\t\\t\\t\", \"error\")\n",
    "    k = 1\n",
    "    anterior = np.float64(p)\n",
    "    actual = np.float64(g(p))\n",
    "    while(error_relativo(actual, anterior)>= a_float):\n",
    "        print(k,\" \",actual, \"\\t\\t\", error_relativo(actual, anterior))\n",
    "        anterior = np.float64(actual)\n",
    "        actual = np.float64(g(anterior))\n",
    "        k += 1\n",
    "\n",
    "    print(k,\" \",actual, \"\\t\\t\", error_relativo(actual, anterior))"
   ]
  },
  {
   "cell_type": "code",
   "execution_count": 33,
   "metadata": {},
   "outputs": [],
   "source": [
    "p = np.float32(0.01) #semilla"
   ]
  },
  {
   "cell_type": "code",
   "execution_count": 34,
   "metadata": {},
   "outputs": [
    {
     "name": "stdout",
     "output_type": "stream",
     "text": [
      "k   valor \t\t\t error\n",
      "1   0.0074737193049398964 \t\t 0.33802185611558794\n",
      "2   0.0067231707215649195 \t\t 0.11163610362705106\n",
      "3   0.006455086879348482 \t\t 0.041530632697463515\n",
      "4   0.00635275929145096 \t\t 0.01610758147805568\n",
      "5   0.006312694278686859 \t\t 0.006346737382700448\n",
      "6   0.0062968500160640595 \t\t 0.0025162204248757336\n",
      "7   0.006290559388005157 \t\t 0.0010000109165009307\n",
      "8   0.006288057907222422 \t\t 0.00039781452709935437\n",
      "9   0.006287062567720492 \t\t 0.0001583155076331752\n",
      "10   0.006286666423697129 \t\t 6.301336776342616e-05\n",
      "11   0.006286508743236441 \t\t 2.508235765329544e-05\n",
      "12   0.006286445977918831 \t\t 9.984229217974984e-06\n",
      "13   0.006286420993550257 \t\t 3.974339071411823e-06\n",
      "14   0.0062864110482081514 \t\t 1.5820381500897132e-06\n",
      "15   0.006286407089329815 \t\t 6.29752142997986e-07\n",
      "16   0.006286405513442839 \t\t 2.50681724730974e-07\n",
      "17   0.006286404886138852 \t\t 9.978739802722568e-08\n",
      "18   0.006286404636431708 \t\t 3.972177393800974e-08\n",
      "19   0.006286404537032109 \t\t 1.5811836332958557e-08\n",
      "20   0.006286404497464648 \t\t 6.2941321124306774e-09\n",
      "21   0.006286404481714358 \t\t 2.5054528398484474e-09\n",
      "22   0.006286404475444707 \t\t 9.973350409050258e-10\n",
      "23   0.0062864044729489255 \t\t 3.970125323779225e-10\n",
      "24   0.006286404471955498 \t\t 1.580279421832313e-10\n",
      "25   0.0062864044715600365 \t\t 6.290741283997319e-11\n"
     ]
    }
   ],
   "source": [
    "metodo_punto_fijo(algoritmo_2, p)"
   ]
  },
  {
   "cell_type": "code",
   "execution_count": 35,
   "metadata": {},
   "outputs": [
    {
     "name": "stdout",
     "output_type": "stream",
     "text": [
      "k   valor \t\t\t error\n",
      "1   0.004953757737379494 \t\t 1.0186695245562247\n",
      "2   0.006443437255345685 \t\t 0.23119329931090815\n",
      "3   0.006253025381106392 \t\t 0.030451159660190377\n",
      "4   0.006293146734657418 \t\t 0.0063754041090557795\n",
      "5   0.0062850273638273 \t\t 0.0012918592649011405\n",
      "6   0.0062866851178096095 \t\t 0.00026369286058450844\n",
      "7   0.006286347251032831 \t\t 5.3746120487199174e-05\n",
      "8   0.006286416136699335 \t\t 1.0957859773578867e-05\n",
      "9   0.006286402093047538 \t\t 2.2339728813331862e-06\n",
      "10   0.006286404956155955 \t\t 4.554444769285036e-07\n",
      "11   0.006286404372449983 \t\t 9.285211988647938e-08\n",
      "12   0.006286404491451014 \t\t 1.8929903637781865e-08\n",
      "13   0.006286404467189977 \t\t 3.8592867751259184e-09\n",
      "14   0.006286404472136242 \t\t 7.868194993233008e-10\n",
      "15   0.006286404471127716 \t\t 1.6042979738282303e-10\n",
      "16   0.006286404471333329 \t\t 3.2707616110003334e-11\n"
     ]
    }
   ],
   "source": [
    "metodo_punto_fijo(algoritmo_4, p)"
   ]
  },
  {
   "cell_type": "code",
   "execution_count": 36,
   "metadata": {},
   "outputs": [
    {
     "name": "stdout",
     "output_type": "stream",
     "text": [
      "k   valor \t\t\t error\n",
      "1   0.0077082006316404605 \t\t 0.29731960211761904\n",
      "2   0.006534271460880334 \t\t 0.17965723918699392\n",
      "3   0.00629467145875553 \t\t 0.038063940857712954\n",
      "4   0.00628641384637793 \t\t 0.0013135648685232632\n",
      "5   0.006286404471310763 \t\t 1.4913242076313742e-06\n",
      "6   0.006286404471298697 \t\t 1.919359340024142e-12\n"
     ]
    }
   ],
   "source": [
    "metodo_punto_fijo(algoritmo_5, p)"
   ]
  },
  {
   "cell_type": "markdown",
   "metadata": {},
   "source": [
    "## D2"
   ]
  },
  {
   "cell_type": "code",
   "execution_count": 37,
   "metadata": {},
   "outputs": [],
   "source": [
    "# Valores originales\n",
    "p = np.float32(0.006286404471298697) #semilla\n",
    "P = np.float32(102995)/700\n",
    "n = np.float32(30 * 12)\n",
    "A = np.float32(200000)"
   ]
  },
  {
   "cell_type": "code",
   "execution_count": 38,
   "metadata": {},
   "outputs": [],
   "source": [
    "# función calcular A\n",
    "def monto(i, P, n):\n",
    "    return (P/i) * ((1+i)**n-1)"
   ]
  },
  {
   "cell_type": "markdown",
   "metadata": {},
   "source": [
    "#### Perturbación máxim"
   ]
  },
  {
   "cell_type": "code",
   "execution_count": 39,
   "metadata": {},
   "outputs": [
    {
     "data": {
      "text/plain": [
       "351117.81416233326"
      ]
     },
     "execution_count": 39,
     "metadata": {},
     "output_type": "execute_result"
    }
   ],
   "source": [
    "A_perturbada = monto(p*1.3, P*1.1, n)\n",
    "A_perturbada"
   ]
  },
  {
   "cell_type": "code",
   "execution_count": 40,
   "metadata": {},
   "outputs": [
    {
     "data": {
      "text/plain": [
       "151117.81416233326"
      ]
     },
     "execution_count": 40,
     "metadata": {},
     "output_type": "execute_result"
    }
   ],
   "source": [
    "# delta perturbación máxima\n",
    "(A_perturbada-A)"
   ]
  },
  {
   "cell_type": "markdown",
   "metadata": {},
   "source": [
    "#### Perturbación mínima"
   ]
  },
  {
   "cell_type": "code",
   "execution_count": 41,
   "metadata": {
    "scrolled": true
   },
   "outputs": [
    {
     "data": {
      "text/plain": [
       "116107.88193298192"
      ]
     },
     "execution_count": 41,
     "metadata": {},
     "output_type": "execute_result"
    }
   ],
   "source": [
    "A_perturbada = monto(p*0.7, P*0.9, n)\n",
    "A_perturbada"
   ]
  },
  {
   "cell_type": "code",
   "execution_count": 42,
   "metadata": {},
   "outputs": [
    {
     "data": {
      "text/plain": [
       "-83892.11806701808"
      ]
     },
     "execution_count": 42,
     "metadata": {},
     "output_type": "execute_result"
    }
   ],
   "source": [
    "# delta perturbación máxima\n",
    "(A_perturbada-A)"
   ]
  },
  {
   "cell_type": "markdown",
   "metadata": {},
   "source": [
    "## D3"
   ]
  },
  {
   "cell_type": "code",
   "execution_count": 43,
   "metadata": {},
   "outputs": [],
   "source": [
    "P = np.float32(102995)/700\n",
    "n = np.float32(30 * 12)\n",
    "A = np.float32(10000000) # un millón\n",
    "p = np.float32(0.006286404471298697) #semilla"
   ]
  },
  {
   "cell_type": "code",
   "execution_count": 44,
   "metadata": {},
   "outputs": [
    {
     "name": "stdout",
     "output_type": "stream",
     "text": [
      "k   valor \t\t\t error\n",
      "1   0.20999125673860677 \t\t 0.9700634937907124\n",
      "2   0.20657549781758633 \t\t 0.01653516006064129\n",
      "3   0.20316862415260165 \t\t 0.016768699789125666\n",
      "4   0.19977059125706104 \t\t 0.01700967531886655\n",
      "5   0.1963813538231729 \t\t 0.01725844825848333\n",
      "6   0.19300086566268088 \t\t 0.01751540413502758\n",
      "7   0.18962907964265513 \t\t 0.01778095441047164\n",
      "8   0.18626594761583487 \t\t 0.018055538706176006\n",
      "9   0.18291142034495564 \t\t 0.01833962726085049\n",
      "10   0.17956544742042566 \t\t 0.018633723651164846\n",
      "11   0.17622797717063496 \t\t 0.01893836780841642\n",
      "12   0.17289895656408993 \t\t 0.01925413936960937\n",
      "13   0.16957833110246034 \t\t 0.019581661407100683\n",
      "14   0.1662660447035047 \t\t 0.019921604587769596\n",
      "15   0.16296203957269997 \t\t 0.02027469182067249\n",
      "16   0.15966625606223928 \t\t 0.020641703461600387\n",
      "17   0.15637863251587306 \t\t 0.021023483154148394\n",
      "18   0.15309910509784988 \t\t 0.02142094440021148\n",
      "19   0.14982760760395697 \t\t 0.021835077968678118\n",
      "20   0.1465640712523605 \t\t 0.022266960270072987\n",
      "21   0.143308424451593 \t\t 0.022717762847690837\n",
      "22   0.140060592542619 \t\t 0.023188763163241168\n",
      "23   0.13682049751141825 \t\t 0.023681356888285945\n",
      "24   0.13358805766794052 \t\t 0.024197071953187634\n",
      "25   0.13036318728658822 \t\t 0.024737584654652554\n",
      "26   0.127145796202549 \t\t 0.025304738183508296\n",
      "27   0.12393578935729556 \t\t 0.02590056400899094\n",
      "28   0.12073306628535715 \t\t 0.02652730664827685\n",
      "29   0.11753752053299735 \t\t 0.027187452465127455\n",
      "30   0.11434903899763725 \t\t 0.027883763285723624\n",
      "31   0.1111675011746668 \t\t 0.028619315801401434\n",
      "32   0.10799277829557774 \t\t 0.02939754795825139\n",
      "33   0.1048247323379969 \t\t 0.030222313827292152\n",
      "34   0.10166321488401522 \t\t 0.03109794882631405\n",
      "35   0.09850806579796108 \t\t 0.0320293476528645\n",
      "36   0.09535911168814014 \t\t 0.033022057924775916\n",
      "37   0.09221616410863719 \t\t 0.034082393362191224\n",
      "38   0.08907901744648013 \t\t 0.03521757145606033\n",
      "39   0.08594744642553434 \t\t 0.036435882055658377\n",
      "40   0.08282120314038241 \t\t 0.037746895319220736\n",
      "41   0.07970001350974429 \t\t 0.039161720220493045\n",
      "42   0.07658357300785114 \t\t 0.04069332860160052\n",
      "43   0.07347154149130873 \t\t 0.04235696506940096\n",
      "44   0.07036353688600037 \t\t 0.04417067053271919\n",
      "45   0.067259127432555 \t\t 0.04615595788926001\n",
      "46   0.06415782211527524 \t\t 0.04833869378713483\n",
      "47   0.061059058844629734 \t\t 0.050750262602811895\n",
      "48   0.057962190016744915 \t\t 0.053429120379857156\n",
      "49   0.05486646550391766 \t\t 0.05642288936228648\n",
      "50   0.05177101471081972 \t\t 0.059791194172808385\n",
      "51   0.04867483422902608 \t\t 0.06360947152332165\n",
      "52   0.04557680184063054 \t\t 0.06797388722509551\n",
      "53   0.04247577766554214 \t\t 0.07300688405298007\n",
      "54   0.039370964218575555 \t\t 0.07886048788974565\n",
      "55   0.03626300103370047 \t\t 0.08570617699254254\n",
      "56   0.03315708795540829 \t\t 0.09367267362167646\n",
      "57   0.030071550865177283 \t\t 0.10260651683927761\n",
      "58   0.027060157150590895 \t\t 0.11128515247815661\n",
      "59   0.024263653766062033 \t\t 0.11525483389646687\n",
      "60   0.02199019180702371 \t\t 0.10338527189709067\n",
      "61   0.020667702044177935 \t\t 0.06398823439678526\n",
      "62   0.02030708594146216 \t\t 0.01775814135791308\n",
      "63   0.020285310264304045 \t\t 0.0010734702538138894\n",
      "64   0.020285236343243997 \t\t 3.6440817743804835e-06\n",
      "65   0.02028523634239615 \t\t 4.179621496998119e-11\n"
     ]
    }
   ],
   "source": [
    "metodo_punto_fijo(algoritmo_5, p)"
   ]
  },
  {
   "cell_type": "code",
   "execution_count": 45,
   "metadata": {},
   "outputs": [
    {
     "data": {
      "text/plain": [
       "24.342283610875384"
      ]
     },
     "execution_count": 45,
     "metadata": {},
     "output_type": "execute_result"
    }
   ],
   "source": [
    "# Interes anual\n",
    "0.02028523634239615 * 100 * 12"
   ]
  }
 ],
 "metadata": {
  "kernelspec": {
   "display_name": "Python 3",
   "language": "python",
   "name": "python3"
  },
  "language_info": {
   "codemirror_mode": {
    "name": "ipython",
    "version": 3
   },
   "file_extension": ".py",
   "mimetype": "text/x-python",
   "name": "python",
   "nbconvert_exporter": "python",
   "pygments_lexer": "ipython3",
   "version": "3.6.10"
  }
 },
 "nbformat": 4,
 "nbformat_minor": 2
}
