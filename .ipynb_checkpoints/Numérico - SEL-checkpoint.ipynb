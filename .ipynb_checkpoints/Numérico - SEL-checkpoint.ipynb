{
 "cells": [
  {
   "cell_type": "markdown",
   "metadata": {},
   "source": [
    "# <span style=\"color:red\"> Análisis Numérico I - FIUBA (Cátedra Tarela)</span>\n",
    "# <span style=\"color:red\">Ecuaciones No Lineales</span>"
   ]
  },
  {
   "cell_type": "markdown",
   "metadata": {},
   "source": [
    "## <span style=\"color:red\">1er cuatrimestre 2020</span>"
   ]
  },
  {
   "cell_type": "code",
   "execution_count": 1,
   "metadata": {},
   "outputs": [],
   "source": [
    "import numpy as np\n",
    "import sympy as sp\n",
    "import math\n",
    "\n",
    "import matplotlib.pyplot as plt\n",
    "from sympy.calculus.util import continuous_domain\n",
    "from sympy.solvers import solve\n",
    "from scipy.linalg import solve as solve_matrix\n",
    "from scipy.integrate import quad\n",
    "from scipy.linalg import lu"
   ]
  },
  {
   "cell_type": "markdown",
   "metadata": {},
   "source": [
    "# Funciones auxiliares"
   ]
  },
  {
   "cell_type": "code",
   "execution_count": 2,
   "metadata": {},
   "outputs": [],
   "source": [
    "def print_matriz(matriz, spacing=15, rounding=-1):\n",
    "    \n",
    "    space_str = \"{: >\" + str(spacing)+ \"}\" + \" \"*3 + \"\\t\"\n",
    "    line = space_str * len(matriz)\n",
    "    \n",
    "    for fila in matriz:\n",
    "        \n",
    "        fila_modificada = fila\n",
    "        if (rounding!=-1):\n",
    "            fila_modificada = [round(x, rounding) for x in fila_modificada]  \n",
    "            \n",
    "        fila_string = [str(x) for x in fila_modificada]        \n",
    "        print('|'+ line.format(*fila_string) + \"|\")"
   ]
  },
  {
   "cell_type": "code",
   "execution_count": 3,
   "metadata": {},
   "outputs": [],
   "source": [
    "def print_vector(vector, spacing=4, rounding=-1):\n",
    "    \n",
    "    space_str = \"{: >\" + str(spacing)+ \"}\" + \" \"*3\n",
    "    line = space_str * len(vector)\n",
    "    \n",
    "    vector_modificado = vector\n",
    "    if (rounding!=-1):\n",
    "            vector_modificado = [round(x, rounding) for x in vector_modificado]  \n",
    "    \n",
    "    vector_string = [str(x) for x in vector_modificado]    \n",
    "    print('|'+ line.format(*vector_string) + \"|\")"
   ]
  },
  {
   "cell_type": "code",
   "execution_count": 4,
   "metadata": {},
   "outputs": [],
   "source": [
    "def resolver_sistema_ecuaciones(A,b):\n",
    "    A_bis = np.array(A, dtype = 'float')\n",
    "    b_bis = np.array(b, dtype = 'float')\n",
    "    return list(solve_matrix(A_bis,b_bis))"
   ]
  },
  {
   "cell_type": "code",
   "execution_count": 5,
   "metadata": {},
   "outputs": [],
   "source": [
    "def matriz_aumentada(A,b):\n",
    "    \n",
    "    m = np.array(A +[b])\n",
    "\n",
    "    A_bis, b_bis = lu(m, permute_l=True)\n",
    "    \n",
    "    return A_bis, b_bis"
   ]
  },
  {
   "cell_type": "code",
   "execution_count": 6,
   "metadata": {},
   "outputs": [],
   "source": [
    "def permutar_filas(A,b,pos1,pos2):\n",
    "    \n",
    "    fil_aux = A[pos1]\n",
    "    A[pos1] = A[pos2]\n",
    "    A[pos2] = fil_aux\n",
    "    \n",
    "    b_aux = b[pos1]\n",
    "    b[pos1] = b[pos2]\n",
    "    b[pos2] = b_aux\n",
    "    \n",
    "    return A,b"
   ]
  },
  {
   "cell_type": "code",
   "execution_count": 7,
   "metadata": {},
   "outputs": [],
   "source": [
    "def permutar_columnas(A,x,pos1,pos2):\n",
    "    \n",
    "    col_aux = []\n",
    "    for fil in A:\n",
    "        col_aux.append(fil[pos1])\n",
    "    \n",
    "    n = 0\n",
    "    for fil in range(len(A)):\n",
    "        A[fil][pos1] = A[fil][pos2]\n",
    "        A[fil][pos2] = col_aux[n]\n",
    "        n +=1\n",
    "        \n",
    "    x_aux = x[pos1]\n",
    "    x[pos1] = x[pos2]\n",
    "    x[pos2] = x_aux\n",
    "\n",
    "    return A,x"
   ]
  },
  {
   "cell_type": "code",
   "execution_count": 8,
   "metadata": {},
   "outputs": [],
   "source": [
    "def indice_fila_mayor(A,n):\n",
    "    \n",
    "    \n",
    "    fil_max = 0\n",
    "    \n",
    "    for fil in range(1, len(A)):\n",
    "        if(A[fil][n] > A[fil_max][n]):\n",
    "            fil_max = fil\n",
    "    \n",
    "    return fil_max"
   ]
  },
  {
   "cell_type": "code",
   "execution_count": 9,
   "metadata": {},
   "outputs": [],
   "source": [
    "def indice_valor_mayor(A):\n",
    "    \n",
    "    fil_max = 0\n",
    "    col_max = 0\n",
    "    \n",
    "    for fil in range(0, len(A)):\n",
    "        for col in range(0,len(A[0])): \n",
    "            if(A[fil][col] > A[fil_max][col_max]):\n",
    "                fil_max = fil\n",
    "                col_max = col\n",
    "    \n",
    "    return fil_max, col_max"
   ]
  },
  {
   "cell_type": "code",
   "execution_count": 10,
   "metadata": {},
   "outputs": [],
   "source": [
    "def sustitucion_inversa(A,b):\n",
    "    \n",
    "    cant_fil = len(A)\n",
    "    cant_col = len(A[0])\n",
    "    \n",
    "    res = [0]*cant_col\n",
    "    \n",
    "    for i in range(cant_fil):\n",
    "        suma = sum([res[j]* A[cant_fil-i-1][j] for j in range(cant_col)])\n",
    "        res[-i-1] = (b[-i-1] - suma) / A[cant_fil-i-1][cant_col-i-1]\n",
    "    \n",
    "    return res"
   ]
  },
  {
   "cell_type": "code",
   "execution_count": 11,
   "metadata": {},
   "outputs": [],
   "source": [
    "def sustitucion_directa(A,b):\n",
    "    \n",
    "    cant_fil = len(A)\n",
    "    cant_col = len(A[0])\n",
    "    \n",
    "    res = [0]*cant_col\n",
    "    \n",
    "    for i in range(cant_fil):\n",
    "        suma = sum([res[j]* A[i][j] for j in range(cant_col)])\n",
    "        res[i] = (b[i] - suma) / A[i][i]\n",
    "    \n",
    "    return res"
   ]
  },
  {
   "cell_type": "code",
   "execution_count": 12,
   "metadata": {},
   "outputs": [],
   "source": [
    "def get_x(A):\n",
    "    return [\"x{}\".format(i+1) for i in range(len(A[0]))]"
   ]
  },
  {
   "cell_type": "markdown",
   "metadata": {},
   "source": [
    "# 1. MÉTODOS DIRECTOS"
   ]
  },
  {
   "cell_type": "markdown",
   "metadata": {},
   "source": [
    "## 1.1 Eliminación de Gauss"
   ]
  },
  {
   "cell_type": "markdown",
   "metadata": {},
   "source": [
    "### 1.1.1 Calculo"
   ]
  },
  {
   "cell_type": "markdown",
   "metadata": {},
   "source": [
    "#### SIN PIVOTEO"
   ]
  },
  {
   "cell_type": "code",
   "execution_count": 13,
   "metadata": {},
   "outputs": [],
   "source": [
    "#Pre condición: sistema linialmente dependiente\n",
    "\n",
    "def triangular_sin_pivoteo(A,b,x=None):\n",
    "    \n",
    "    if(x==None):x = get_x(A)\n",
    "    \n",
    "    cant_fil = len(A)\n",
    "    cant_col = len(A[0])\n",
    "    \n",
    "    for fil in range(cant_fil-1):\n",
    "        \n",
    "        for sub_fil in range(fil+1, cant_col):\n",
    "            \n",
    "            n = 1\n",
    "            while(A[fil][fil]==0):\n",
    "                A, b = permutar_filas(A,b,fil,fil + n)\n",
    "                n += 1\n",
    "                if(fil+n == cant_fil): break\n",
    "            if(fil+n == cant_fil):break\n",
    "                \n",
    "            pivote = A[sub_fil][fil]/A[fil][fil]\n",
    "            \n",
    "            A[sub_fil] = A[sub_fil][:fil]+[A[sub_fil][p] - pivote*A[fil][p] for p in range(fil,cant_col)]\n",
    "            b[sub_fil] = b[sub_fil] - pivote*b[fil]\n",
    "            \n",
    "    return A,b,x"
   ]
  },
  {
   "cell_type": "markdown",
   "metadata": {},
   "source": [
    "#### PIVOTEO PARCIAL"
   ]
  },
  {
   "cell_type": "code",
   "execution_count": 14,
   "metadata": {},
   "outputs": [],
   "source": [
    "def _permutar_fila_mayor(A,b,n):\n",
    "    \n",
    "    fil_max = indice_fila_mayor(A[n:],n) + n\n",
    "    A,b = permutar_filas(A,b,n,fil_max)\n",
    "    \n",
    "    return A,b"
   ]
  },
  {
   "cell_type": "code",
   "execution_count": 15,
   "metadata": {},
   "outputs": [],
   "source": [
    "#Pre condición: sistema linialmente dependiente\n",
    "\n",
    "def triangular_pivoteo_parcial(A,b,x=None):\n",
    "    \n",
    "    if(x==None):x = get_x(A)\n",
    "    \n",
    "    cant_fil = len(A)\n",
    "    cant_col = len(A[0])\n",
    "    \n",
    "    for fil in range(cant_fil-1):\n",
    "                \n",
    "        A,b = _permutar_fila_mayor(A,b,fil)\n",
    "\n",
    "        for sub_fil in range(fil+1, cant_col):\n",
    "                \n",
    "            pivote = A[sub_fil][fil]/A[fil][fil]\n",
    "            \n",
    "            A[sub_fil] = A[sub_fil][:fil]+[A[sub_fil][p] - pivote*A[fil][p] for p in range(fil,cant_col)]\n",
    "            b[sub_fil] = b[sub_fil] - pivote * b[fil]\n",
    "    \n",
    "    return A,b,x"
   ]
  },
  {
   "cell_type": "markdown",
   "metadata": {},
   "source": [
    "#### PIVOTEO TOTAL O COMPLETO"
   ]
  },
  {
   "cell_type": "code",
   "execution_count": 16,
   "metadata": {},
   "outputs": [],
   "source": [
    "def _indice_valor_mayor(A,n):\n",
    "    B = A[n:]\n",
    "    B = [fil[n:] for fil in B]\n",
    "    \n",
    "    fil_max, col_max = indice_valor_mayor(B)\n",
    "    \n",
    "    return fil_max+n, col_max+n"
   ]
  },
  {
   "cell_type": "code",
   "execution_count": 17,
   "metadata": {},
   "outputs": [],
   "source": [
    "def _permutar_valor_mayor(A,b,x,n):\n",
    "    \n",
    "    fil_max, col_max = _indice_valor_mayor(A,n)\n",
    "    \n",
    "    A,b = permutar_filas(A,b,n,fil_max)\n",
    "    \n",
    "    A,x = permutar_columnas(A,x,n,col_max)\n",
    "        \n",
    "    return A,b,x"
   ]
  },
  {
   "cell_type": "code",
   "execution_count": 18,
   "metadata": {},
   "outputs": [],
   "source": [
    "#Pre condición: sistema linialmente dependiente\n",
    "\n",
    "def triangular_pivoteo_total(A,b,x=None):\n",
    "    \n",
    "    if(x==None):x = get_x(A)\n",
    "    \n",
    "    cant_fil = len(A)\n",
    "    cant_col = len(A[0])\n",
    "    \n",
    "    for fil in range(cant_fil-1):\n",
    "                \n",
    "        A,b,x = _permutar_valor_mayor(A,b,x,fil)\n",
    "    \n",
    "        for sub_fil in range(fil+1, cant_col):\n",
    "                \n",
    "            pivote = A[sub_fil][fil]/A[fil][fil]\n",
    "            \n",
    "            A[sub_fil] = A[sub_fil][:fil]+[A[sub_fil][p] - pivote*A[fil][p] for p in range(fil,cant_col)]\n",
    "            b[sub_fil] = b[sub_fil] - pivote*b[fil]\n",
    "    \n",
    "    return A,b,x"
   ]
  },
  {
   "cell_type": "markdown",
   "metadata": {},
   "source": [
    "### 1.1.2 Errores"
   ]
  },
  {
   "cell_type": "code",
   "execution_count": 19,
   "metadata": {},
   "outputs": [],
   "source": [
    "def cota_error_x(A,dA,db, x):\n",
    "    inversa = np.linalg.inv(A)\n",
    "    A = np.array(A)\n",
    "    dA = np.array(dA)\n",
    "    db = np.array(db)\n",
    "    x = np.array(x)\n",
    "    return abs(inversa.dot(db) - inversa.dot(dA.dot(x)))"
   ]
  },
  {
   "cell_type": "code",
   "execution_count": 20,
   "metadata": {},
   "outputs": [],
   "source": [
    "def numero_de_condicion_K(A):\n",
    "    norma_inf_inversa_A = np.linalg.norm(np.linalg.inv(A), ord = np.inf)\n",
    "    norma_inf_A = np.linalg.norm(A, ord = np.inf)\n",
    "    \n",
    "    return norma_inf_A * norma_inf_inversa_A"
   ]
  },
  {
   "cell_type": "code",
   "execution_count": 21,
   "metadata": {},
   "outputs": [],
   "source": [
    "def cota_error_relativo_norma_x(A,dA,b,db):\n",
    "    norma_b = np.linalg.norm(b, ord = np.inf)\n",
    "    norma_db = np.linalg.norm(db, ord = np.inf)\n",
    "    norma_A = np.linalg.norm(A, ord = np.inf)\n",
    "    norma_dA = np.linalg.norm(dA, ord = np.inf)\n",
    "    \n",
    "    return numero_de_condicion_K(A)*(norma_db/norma_b+norma_dA/norma_A)"
   ]
  },
  {
   "cell_type": "code",
   "execution_count": 22,
   "metadata": {},
   "outputs": [],
   "source": [
    "def cota_error_absoluto_norma_x(A,x,unidad_de_maquina):\n",
    "    \n",
    "    norma_x = np.linalg.norm(x, ord = np.inf)\n",
    "    \n",
    "    return numero_de_condicion_K(A)*norma_x*2*unidad_de_maquina"
   ]
  },
  {
   "cell_type": "code",
   "execution_count": 23,
   "metadata": {},
   "outputs": [],
   "source": [
    "def cota_error_de_redondeo(A,b,x_monio):\n",
    "    K = numero_de_condicion_K(A)\n",
    "    norma_b = np.linalg.norm(b, ord = np.inf)\n",
    "    norma_R = np.linalg.norm(residuo(b, x_monio, A), ord = np.inf)\n",
    "    return K*(norma_R/norma_b)"
   ]
  },
  {
   "cell_type": "code",
   "execution_count": 24,
   "metadata": {},
   "outputs": [],
   "source": [
    "def residuo(b, x_monio, A):\n",
    "    \n",
    "    b_ = np.array(b).astype('float64') \n",
    "    \n",
    "    x_monio = np.array(x_monio)\n",
    "    A = np.array(A)\n",
    "    b_monio = A.dot(np.array(x_monio)).astype(\"float32\")\n",
    "\n",
    "    return [abs(b_[i] - b_monio[i]) for i in range(len(b))]"
   ]
  },
  {
   "cell_type": "markdown",
   "metadata": {},
   "source": [
    "### 1.1.3 Ejemplos"
   ]
  },
  {
   "cell_type": "markdown",
   "metadata": {},
   "source": [
    "##### Gauss sin pivoteo"
   ]
  },
  {
   "cell_type": "code",
   "execution_count": 25,
   "metadata": {
    "scrolled": true
   },
   "outputs": [
    {
     "name": "stdout",
     "output_type": "stream",
     "text": [
      "x1 = 0.14405407986761104\n",
      "x2 = 0.04733202013941571\n",
      "x3 = 0.03175079752602389\n"
     ]
    }
   ],
   "source": [
    "A = [[0.001,1,30],[5,21,9],[20,0.5,3]]\n",
    "b = [1,2,3]\n",
    "\n",
    "dA = [[0.1,0.1,0.02],[0.05,0.06,0.3],[0.1,0.3,0.01]]\n",
    "db = [0.001,0.002,0.02]\n",
    "      \n",
    "A_bis, b_bis, x = triangular_pivoteo_parcial(A,b)\n",
    "x_monio = sustitucion_inversa(A_bis, b_bis)\n",
    "\n",
    "for i in range(len(x_monio)):\n",
    "    print(\"{} = {}\".format(x[i], x_monio[i]))"
   ]
  },
  {
   "cell_type": "code",
   "execution_count": 26,
   "metadata": {
    "scrolled": true
   },
   "outputs": [
    {
     "data": {
      "text/plain": [
       "1.8133964215282012"
      ]
     },
     "execution_count": 26,
     "metadata": {},
     "output_type": "execute_result"
    }
   ],
   "source": [
    "numero_de_condicion_K(A)"
   ]
  },
  {
   "cell_type": "code",
   "execution_count": 27,
   "metadata": {},
   "outputs": [
    {
     "data": {
      "text/plain": [
       "array([0.00087541, 0.00072246, 0.00030139])"
      ]
     },
     "execution_count": 27,
     "metadata": {},
     "output_type": "execute_result"
    }
   ],
   "source": [
    "cota_error_x(A,dA,db, x_monio)"
   ]
  },
  {
   "cell_type": "markdown",
   "metadata": {},
   "source": [
    "##### Gauss con pivoteo parcial"
   ]
  },
  {
   "cell_type": "code",
   "execution_count": 28,
   "metadata": {},
   "outputs": [
    {
     "name": "stdout",
     "output_type": "stream",
     "text": [
      "x1 = 0.1440540798676171\n",
      "x2 = 0.047332020139405996\n",
      "x3 = 0.031750797526024215\n"
     ]
    }
   ],
   "source": [
    "A = [[0.001,1,30],[5,21,9],[20,0.5,3]]\n",
    "b = [1,2,3]\n",
    "\n",
    "dA = [[0.1,0.1,0.02],[0.05,0.06,0.3],[0.1,0.3,0.01]]\n",
    "db = [0.001,0.002,0.02]\n",
    "      \n",
    "A_bis, b_bis, x = triangular_sin_pivoteo(A,b)\n",
    "x_monio = sustitucion_inversa(A_bis, b_bis)\n",
    "\n",
    "for i in range(len(x_monio)):\n",
    "    print(\"{} = {}\".format(x[i], x_monio[i]))"
   ]
  },
  {
   "cell_type": "code",
   "execution_count": 29,
   "metadata": {},
   "outputs": [
    {
     "data": {
      "text/plain": [
       "array([1.87776026e+01, 1.11805442e-04, 3.59429185e-06])"
      ]
     },
     "execution_count": 29,
     "metadata": {},
     "output_type": "execute_result"
    }
   ],
   "source": [
    "cota_error_x(A,dA,db, x_monio)"
   ]
  },
  {
   "cell_type": "code",
   "execution_count": 30,
   "metadata": {},
   "outputs": [
    {
     "data": {
      "text/plain": [
       "1030.3867024665217"
      ]
     },
     "execution_count": 30,
     "metadata": {},
     "output_type": "execute_result"
    }
   ],
   "source": [
    "cota_error_relativo_norma_x(A,dA,b,db)"
   ]
  },
  {
   "cell_type": "code",
   "execution_count": 31,
   "metadata": {},
   "outputs": [
    {
     "data": {
      "text/plain": [
       "[0.0, 0.0, 3.381817805347964e-06]"
      ]
     },
     "execution_count": 31,
     "metadata": {},
     "output_type": "execute_result"
    }
   ],
   "source": [
    "residuo(b, x_monio, A)"
   ]
  },
  {
   "cell_type": "code",
   "execution_count": 32,
   "metadata": {},
   "outputs": [
    {
     "data": {
      "text/plain": [
       "0.10488433268985432"
      ]
     },
     "execution_count": 32,
     "metadata": {},
     "output_type": "execute_result"
    }
   ],
   "source": [
    "cota_error_de_redondeo(A,b,x_monio)"
   ]
  },
  {
   "cell_type": "markdown",
   "metadata": {},
   "source": [
    "##### Gauss con pivoteo total"
   ]
  },
  {
   "cell_type": "code",
   "execution_count": 33,
   "metadata": {
    "scrolled": true
   },
   "outputs": [
    {
     "name": "stdout",
     "output_type": "stream",
     "text": [
      "x3 = 0.03175079752602389\n",
      "x2 = 0.04733202013941571\n",
      "x1 = 0.144054079867611\n"
     ]
    }
   ],
   "source": [
    "A = [[0.001,1,30],[5,21,9],[20,0.5,3]]\n",
    "b = [1,2,3]\n",
    "\n",
    "A_bis,b_bis,x = triangular_pivoteo_total(A,b)\n",
    "x_monio = sustitucion_inversa(A_bis, b_bis)\n",
    "\n",
    "for i in range(len(x_monio)):\n",
    "    print(\"{} = {}\".format(x[i], x_monio[i]))"
   ]
  },
  {
   "cell_type": "markdown",
   "metadata": {},
   "source": [
    "## 1.2 Descomposición LU"
   ]
  },
  {
   "cell_type": "markdown",
   "metadata": {},
   "source": [
    "### 1.2.1 Cálculo"
   ]
  },
  {
   "cell_type": "code",
   "execution_count": 34,
   "metadata": {},
   "outputs": [],
   "source": [
    "def matriz_identidad(n):\n",
    "    \n",
    "    I = np.zeros((1,n,n))[0]\n",
    "    for i in range(n):\n",
    "        I[i][i]=1\n",
    "        \n",
    "    return I"
   ]
  },
  {
   "cell_type": "code",
   "execution_count": 35,
   "metadata": {},
   "outputs": [],
   "source": [
    "def descomponer_LU(A):\n",
    "        \n",
    "    cant_fil = len(A)\n",
    "    cant_col = len(A[0])\n",
    "    \n",
    "    L = matriz_identidad(cant_fil)\n",
    "    U = A\n",
    "    \n",
    "    for fil in range(cant_fil-1):\n",
    "        \n",
    "        for sub_fil in range(fil+1, cant_col):\n",
    "                \n",
    "            pivote = U[sub_fil][fil]/U[fil][fil]\n",
    "            \n",
    "            U[sub_fil] = U[sub_fil][:fil]+[U[sub_fil][p] - pivote*U[fil][p] for p in range(fil,cant_col)]\n",
    "            L[sub_fil][fil] = pivote\n",
    "            \n",
    "    return L,U"
   ]
  },
  {
   "cell_type": "code",
   "execution_count": 36,
   "metadata": {},
   "outputs": [],
   "source": [
    "#Precondicion A no singular\n",
    "def resolverLU(A,b):\n",
    "    \n",
    "    # A = LU   -   Ux = y   -   Ly = b\n",
    "    \n",
    "    L,U = descomponer_LU(A)\n",
    "    \n",
    "    y = sustitucion_directa(L, b)\n",
    "    x_monio = sustitucion_inversa(U,y)\n",
    "    \n",
    "    return x_monio"
   ]
  },
  {
   "cell_type": "code",
   "execution_count": 37,
   "metadata": {},
   "outputs": [],
   "source": [
    "# n **2 operaciones LU\n",
    "# 2/3  * n**3 operaciones GAUS"
   ]
  },
  {
   "cell_type": "markdown",
   "metadata": {},
   "source": [
    "### 1.2.2 Ejemplos"
   ]
  },
  {
   "cell_type": "code",
   "execution_count": 38,
   "metadata": {},
   "outputs": [
    {
     "name": "stdout",
     "output_type": "stream",
     "text": [
      "x1 = 0.1440540798676171\n",
      "x2 = 0.047332020139405996\n",
      "x3 = 0.031750797526024215\n"
     ]
    }
   ],
   "source": [
    "A = [[0.001,1,30],[5,21,9],[20,0.5,3]]\n",
    "b = [1,2,3]\n",
    "\n",
    "x_monio = resolverLU(A,b)\n",
    "x = get_x(A)\n",
    "\n",
    "for i in range(len(x_monio)):\n",
    "    print(\"{} = {}\".format(x[i], x_monio[i]))"
   ]
  },
  {
   "cell_type": "code",
   "execution_count": null,
   "metadata": {},
   "outputs": [],
   "source": []
  }
 ],
 "metadata": {
  "kernelspec": {
   "display_name": "Python 3",
   "language": "python",
   "name": "python3"
  },
  "language_info": {
   "codemirror_mode": {
    "name": "ipython",
    "version": 3
   },
   "file_extension": ".py",
   "mimetype": "text/x-python",
   "name": "python",
   "nbconvert_exporter": "python",
   "pygments_lexer": "ipython3",
   "version": "3.6.10"
  }
 },
 "nbformat": 4,
 "nbformat_minor": 4
}
