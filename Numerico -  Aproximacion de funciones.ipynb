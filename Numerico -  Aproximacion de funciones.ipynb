{
 "cells": [
  {
   "cell_type": "markdown",
   "metadata": {},
   "source": [
    "# <span style=\"color:red\"> Análisis Numérico I - FIUBA (Cátedra Tarela)</span>\n",
    "# <span style=\"color:red\">Ecuaciones No Lineales</span>"
   ]
  },
  {
   "cell_type": "markdown",
   "metadata": {},
   "source": [
    "## <span style=\"color:red\">1er cuatrimestre 2020</span>"
   ]
  },
  {
   "cell_type": "code",
   "execution_count": 1,
   "metadata": {},
   "outputs": [],
   "source": [
    "import numpy as np\n",
    "import sympy as sp\n",
    "import math\n",
    "import matplotlib.pyplot as plt\n",
    "from sympy.calculus.util import continuous_domain\n",
    "from scipy.linalg import solve\n",
    "from scipy.integrate import quad"
   ]
  },
  {
   "cell_type": "markdown",
   "metadata": {},
   "source": [
    "# 0. Funciones auxiliares"
   ]
  },
  {
   "cell_type": "markdown",
   "metadata": {},
   "source": [
    "### 0.1 Funciones auxiliares - Matrices"
   ]
  },
  {
   "cell_type": "code",
   "execution_count": 2,
   "metadata": {},
   "outputs": [],
   "source": [
    "def print_matriz(matriz, spacing=15, rounding=-1):\n",
    "    \n",
    "    space_str = \"{: >\" + str(spacing)+ \"}\" + \" \"*3 + \"\\t\"\n",
    "    line = space_str * len(matriz)\n",
    "    \n",
    "    for fila in matriz:\n",
    "        \n",
    "        fila_modificada = fila\n",
    "        if (rounding!=-1):\n",
    "            fila_modificada = [round(x, rounding) for x in fila_modificada]  \n",
    "            \n",
    "        fila_string = [str(x) for x in fila_modificada]        \n",
    "        print('|'+ line.format(*fila_string) + \"|\")\n"
   ]
  },
  {
   "cell_type": "code",
   "execution_count": 3,
   "metadata": {},
   "outputs": [],
   "source": [
    "def print_vector(vector, spacing=4, rounding=-1):\n",
    "    \n",
    "    space_str = \"{: >\" + str(spacing)+ \"}\" + \" \"*3\n",
    "    line = space_str * len(vector)\n",
    "    \n",
    "    vector_modificado = vector\n",
    "    if (rounding!=-1):\n",
    "            vector_modificado = [round(x, rounding) for x in vector_modificado]  \n",
    "    \n",
    "    vector_string = [str(x) for x in vector_modificado]\n",
    "    \n",
    "    print('|'+ line.format(*vector_string) + \"|\")\n",
    "            "
   ]
  },
  {
   "cell_type": "code",
   "execution_count": 4,
   "metadata": {},
   "outputs": [],
   "source": [
    "def producto_vectorial(v1, v2):\n",
    "    \n",
    "    n = len(v1)\n",
    "    \n",
    "    if(len(v2) != n): return None\n",
    "    \n",
    "    res = 0\n",
    "    \n",
    "    for i in range(n):\n",
    "        res += v1[i]*v2[i]\n",
    "    \n",
    "    return res"
   ]
  },
  {
   "cell_type": "code",
   "execution_count": 5,
   "metadata": {},
   "outputs": [],
   "source": [
    "def resolver_sistema_ecuaciones(A,b):\n",
    "    A_bis = np.array(A, dtype = 'float')\n",
    "    b_bis = np.array(b, dtype = 'float')\n",
    "    return list(solve(A_bis,b_bis))"
   ]
  },
  {
   "cell_type": "markdown",
   "metadata": {},
   "source": [
    "### 0.2 Aproximación lineal "
   ]
  },
  {
   "cell_type": "code",
   "execution_count": 6,
   "metadata": {},
   "outputs": [],
   "source": [
    "def get_función_aproximacion(phi,c):\n",
    "    \n",
    "    x_symbol = sp.Symbol('x')\n",
    "    phi_symbol = [p(x_symbol) for p in phi]\n",
    "    res = 0\n",
    "    for i in range(len(c)):\n",
    "            res += c[i] * phi_symbol[i]\n",
    "            \n",
    "    return sp.lambdify(x_symbol, res, \"math\")"
   ]
  },
  {
   "cell_type": "code",
   "execution_count": 7,
   "metadata": {},
   "outputs": [],
   "source": [
    "def print_funcion_algebraica(f):\n",
    "    \n",
    "    x = sp.Symbol('x')\n",
    "    y = f(x)\n",
    "    print(y)"
   ]
  },
  {
   "cell_type": "code",
   "execution_count": 8,
   "metadata": {},
   "outputs": [],
   "source": [
    "def print_polinomio(c,phi):\n",
    "    \n",
    "    x_symbol = sp.Symbol('x')\n",
    "    phi_symbol = [p(x_symbol) for p in phi]\n",
    "    res = 0\n",
    "    for i in range(len(c)):\n",
    "            res += c[i] * phi_symbol[i]\n",
    "    print(res)"
   ]
  },
  {
   "cell_type": "code",
   "execution_count": 9,
   "metadata": {},
   "outputs": [],
   "source": [
    "def info_aproximacion_cm(A, b, c, phi):\n",
    "        \n",
    "    print(\"\\nAjk:\")\n",
    "    print_matriz(A, rounding=5)\n",
    "    print()\n",
    "    \n",
    "    print(\"\\nbk:\")\n",
    "    print_vector(b, rounding=5)\n",
    "    print()\n",
    "    \n",
    "    print(\"\\nC_k:\")\n",
    "    print_vector(c, rounding=5)\n",
    "    print()\n",
    "    \n",
    "    print(\"\\nPOLINOMIO:\\n\")\n",
    "    print_polinomio(c,phi)\n",
    "\n",
    "    print(\"\\n\")"
   ]
  },
  {
   "cell_type": "markdown",
   "metadata": {},
   "source": [
    "## 0.3 Errores"
   ]
  },
  {
   "cell_type": "code",
   "execution_count": 10,
   "metadata": {},
   "outputs": [],
   "source": [
    "ERROR_ROUNDING = 4"
   ]
  },
  {
   "cell_type": "markdown",
   "metadata": {},
   "source": [
    "#### 0.3.1 Errores P vs y"
   ]
  },
  {
   "cell_type": "code",
   "execution_count": 11,
   "metadata": {},
   "outputs": [],
   "source": [
    "def error_absoluto_y(P,y,x):\n",
    "    e = [y[i]-P(x[i]) for i in range(len(x))]\n",
    "    return e\n",
    "\n",
    "def error_absoluto_cuadratico_y(P,y,x):\n",
    "    e_absoluto = error_absoluto_y(P,y,x)\n",
    "    return round(sum([e**2 for e in e_absoluto]),ERROR_ROUNDING)\n",
    "\n",
    "def norma_error_absoluto_y(P,y,x):\n",
    "    e_absoluto = error_absoluto_y(P,y,x)\n",
    "    return round(sum([e**2 for e in e_absoluto])**(1/2),ERROR_ROUNDING)\n",
    "\n",
    "def error_relativo_y(P,y,x):\n",
    "    norma_error_absoluto = error_absoluto_cuadratico_y(P,y,x)**(1/2)\n",
    "    norma_y =  sum([y_i**2 for y_i in y])**(1/2)\n",
    "    return round(norma_error_absoluto/norma_y,ERROR_ROUNDING)"
   ]
  },
  {
   "cell_type": "code",
   "execution_count": 12,
   "metadata": {},
   "outputs": [],
   "source": [
    "def info_errores_y(P,y,x):\n",
    "    print(\"\\nERRORES\\n\")\n",
    "    print(\"- error absoluto:\")\n",
    "    print_vector(error_absoluto_y(P,y,x), rounding=ERROR_ROUNDING)\n",
    "    print(\"- error absoluto cuadratico:\", error_absoluto_cuadratico_y(P,y,x))\n",
    "    print(\"- ||e||:\", norma_error_absoluto_y(P,y,x))\n",
    "    print(\"- error relativo %:\", error_relativo_y(P,y,x)*100,\"%\")"
   ]
  },
  {
   "cell_type": "markdown",
   "metadata": {},
   "source": [
    "#### 0.3.2 Errores P vs f"
   ]
  },
  {
   "cell_type": "code",
   "execution_count": 13,
   "metadata": {},
   "outputs": [],
   "source": [
    "def info_errores_f(P,f,x):\n",
    "    y = [f(x_i) for x_i in x]\n",
    "    info_errores_y(P,y,x)"
   ]
  },
  {
   "cell_type": "markdown",
   "metadata": {},
   "source": [
    "# 1. APROXIMACIÓN LINEAL"
   ]
  },
  {
   "cell_type": "markdown",
   "metadata": {},
   "source": [
    "# 1.1  Aproximáción lineal (discreta)"
   ]
  },
  {
   "cell_type": "markdown",
   "metadata": {},
   "source": [
    "### 1.1.1 Cálculo del polinomio"
   ]
  },
  {
   "cell_type": "code",
   "execution_count": 14,
   "metadata": {
    "scrolled": true
   },
   "outputs": [],
   "source": [
    "def find_phis(phi, x):\n",
    "    \n",
    "    phis = []\n",
    "\n",
    "    for f in phi:\n",
    "        vect = []\n",
    "        for n in x:\n",
    "            vect.append(f(n))\n",
    "        phis.append(vect)\n",
    "    \n",
    "    return phis"
   ]
  },
  {
   "cell_type": "code",
   "execution_count": 15,
   "metadata": {},
   "outputs": [],
   "source": [
    "def matriz_phixphi(phis):\n",
    "\n",
    "    n = len(phis)\n",
    "\n",
    "    matriz  = []\n",
    "\n",
    "    for fil in range(n):\n",
    "        fila = []\n",
    "        for col in range(n):\n",
    "            fila.append(producto_vectorial(phis[fil], phis[col]))\n",
    "        matriz.append(fila)\n",
    "        \n",
    "    return matriz"
   ]
  },
  {
   "cell_type": "code",
   "execution_count": 16,
   "metadata": {},
   "outputs": [],
   "source": [
    "def vector_f_t(phis, y):\n",
    "    f_t = []\n",
    "\n",
    "    for p in phis:\n",
    "        f_t.append(producto_vectorial(y,p))\n",
    "        \n",
    "    return f_t"
   ]
  },
  {
   "cell_type": "code",
   "execution_count": 17,
   "metadata": {},
   "outputs": [],
   "source": [
    "def aproximacion_discreta(x,y,phi):\n",
    "    \n",
    "    phis = find_phis(phi, x)\n",
    "    A = matriz_phixphi(phis)\n",
    "    b = vector_f_t(phis, y)\n",
    "    c = resolver_sistema_ecuaciones(A, b)\n",
    "    P = get_función_aproximacion(phi,c)\n",
    "    \n",
    "    return phis,A,b,c,P"
   ]
  },
  {
   "cell_type": "code",
   "execution_count": 46,
   "metadata": {},
   "outputs": [],
   "source": [
    "def aproximacion_discreta_logaritmica(x,y):\n",
    "        \n",
    "    log_y = [sp.ln(y_i) for y_i in y]\n",
    "    log_phi = [lambda x: 1, lambda x: x]\n",
    "\n",
    "    phis = find_phis(log_phi, x)\n",
    "    A = matriz_phixphi(phis)\n",
    "    b = vector_f_t(phis, log_y)\n",
    "    c = resolver_sistema_ecuaciones(A, b)\n",
    "\n",
    "    P = lambda x: sp.exp(c[0])* (sp.exp(x*c[1]))\n",
    "    \n",
    "    return phis,A,b,c,P"
   ]
  },
  {
   "cell_type": "markdown",
   "metadata": {},
   "source": [
    "### 1.1.2 Ejemplos"
   ]
  },
  {
   "cell_type": "markdown",
   "metadata": {},
   "source": [
    "#### Ejemplo 1"
   ]
  },
  {
   "cell_type": "code",
   "execution_count": 18,
   "metadata": {},
   "outputs": [
    {
     "name": "stdout",
     "output_type": "stream",
     "text": [
      "\n",
      "Ajk:\n",
      "|              7   \t       11.04623   \t       11.04623   \t|\n",
      "|       11.04623   \t       31.74588   \t7.00000000000000   \t|\n",
      "|       11.04623   \t7.00000000000000   \t       31.74588   \t|\n",
      "\n",
      "\n",
      "bk:\n",
      "|10.8   18.98150   19.06810   |\n",
      "\n",
      "\n",
      "C_k:\n",
      "|-0.06803   0.50866   0.51216   |\n",
      "\n",
      "\n",
      "POLINOMIO:\n",
      "\n",
      "0.508660004618175*exp(x) - 0.0680298360835958 + 0.512159439794367*exp(-x)\n",
      "\n",
      "\n",
      "\n",
      "ERRORES\n",
      "\n",
      "- error absoluto:\n",
      "|0.0592   -0.1113   0.0151   -0.0528   0.1188   -0.0031   -0.0259   |\n",
      "- error absoluto cuadratico: 0.0337\n",
      "- ||e||: 0.1835\n",
      "- error relativo %: 4.24 %\n"
     ]
    }
   ],
   "source": [
    "# Ejemplo 1 teórica\n",
    "\n",
    "x = [-3/2, -1, -1/2, 0, 1/2, 1, 3/2]\n",
    "y = [2.4, 1.4, 1.1, 0.9, 1.2, 1.5, 2.3]\n",
    "\n",
    "phi =[lambda x: 1, lambda x: sp.exp(x), lambda x: sp.exp(-x)]\n",
    "\n",
    "phis,A,b,c,P = aproximacion_discreta(x,y,phi)\n",
    "\n",
    "info_aproximacion_cm(A, b, c, phi)\n",
    "info_errores_y(P,y,x)"
   ]
  },
  {
   "cell_type": "markdown",
   "metadata": {},
   "source": [
    "#### Ejemplo 2"
   ]
  },
  {
   "cell_type": "code",
   "execution_count": 19,
   "metadata": {},
   "outputs": [
    {
     "name": "stdout",
     "output_type": "stream",
     "text": [
      "\n",
      "Ajk:\n",
      "|              7   \t            207   \t           8637   \t         400617   \t|\n",
      "|            207   \t           8637   \t         400617   \t       19624497   \t|\n",
      "|           8637   \t         400617   \t       19624497   \t      993231777   \t|\n",
      "|         400617   \t       19624497   \t      993231777   \t    51355979457   \t|\n",
      "\n",
      "\n",
      "bk:\n",
      "|1800   79123   3730973   184237033   |\n",
      "\n",
      "\n",
      "C_k:\n",
      "|-27.13891   6.4914   0.13272   -0.00125   |\n",
      "\n",
      "\n",
      "POLINOMIO:\n",
      "\n",
      "-0.0012482600842409*x**3 + 0.132722812153222*x**2 + 6.49139936415258*x - 27.138912396947\n",
      "\n",
      "\n",
      "\n",
      "ERRORES\n",
      "\n",
      "- error absoluto:\n",
      "|21.516   -39.7991   -31.7921   119.6494   -78.9849   -9.2056   18.6163   |\n",
      "- error absoluto cuadratico: 24043.5561\n",
      "- ||e||: 155.0598\n",
      "- error relativo %: 17.86 %\n"
     ]
    }
   ],
   "source": [
    "# Ejemplo entrega COVID-19 Chile\n",
    "\n",
    "x = [1,10,20,30,40,50,56]\n",
    "y = [1,10,114,373,286,464,552]\n",
    "\n",
    "phi = [lambda x: 1, lambda x: x, lambda x: x**2, lambda x: x**3]\n",
    "\n",
    "phis,A,b,c,P = aproximacion_discreta(x,y,phi)\n",
    "info_aproximacion_cm(A, b, c, phi)\n",
    "info_errores_y(P,y,x)"
   ]
  },
  {
   "cell_type": "markdown",
   "metadata": {},
   "source": [
    "#### Ejemplo 3"
   ]
  },
  {
   "cell_type": "code",
   "execution_count": 51,
   "metadata": {
    "scrolled": true
   },
   "outputs": [
    {
     "name": "stdout",
     "output_type": "stream",
     "text": [
      "\n",
      "Ajk:\n",
      "|              7   \t            211   \t|\n",
      "|            211   \t           9101   \t|\n",
      "\n",
      "\n",
      "bk:\n",
      "|11.78486   518.16697   |\n",
      "\n",
      "\n",
      "C_k:\n",
      "|-0.10837   0.05945   |\n",
      "\n",
      "\n",
      "POLINOMIO:\n",
      "\n",
      "0.0594476964574998*x - 0.10837211029694\n",
      "\n",
      "\n",
      "APROXIMACIÓN EXPONENCIAL:\n",
      "\n",
      "0.897293642096762*exp(0.0594476964574998*x)\n",
      "\n",
      "ERRORES\n",
      "\n",
      "- error absoluto:\n",
      "|0.0477   0.1240   -0.4464   -0.3391   0.3251   2.4683   -1.7690   |\n",
      "- error absoluto cuadratico: 9.6592\n",
      "- ||e||: 3.1079\n",
      "- error relativo %: 8.20 %\n"
     ]
    }
   ],
   "source": [
    "# Ejemplo aproximación funcion potencial en escala logarítmica\n",
    "\n",
    "x = [1,10,20,30,40,50,60]\n",
    "y = [1,1.75,2.5,5,10,20,30]\n",
    "\n",
    "phis,A,b,c,P = aproximacion_discreta_logaritmica(x,y)\n",
    "\n",
    "info_aproximacion_cm(A, b, c, log_phi)\n",
    "\n",
    "print(\"APROXIMACIÓN EXPONENCIAL:\\n\")\n",
    "print_funcion_algebraica(P)\n",
    "\n",
    "info_errores_y(P,y,x)"
   ]
  },
  {
   "cell_type": "markdown",
   "metadata": {},
   "source": [
    "#### Ejemplo 4: Evolucion a plazo medio del coronavirus 1"
   ]
  },
  {
   "cell_type": "code",
   "execution_count": 52,
   "metadata": {
    "scrolled": false
   },
   "outputs": [
    {
     "name": "stdout",
     "output_type": "stream",
     "text": [
      "\n",
      "Ajk:\n",
      "|             16   \t            408   \t|\n",
      "|            408   \t          10744   \t|\n",
      "\n",
      "\n",
      "bk:\n",
      "|14704   407003   |\n",
      "\n",
      "\n",
      "C_k:\n",
      "|-1484.825   94.26765   |\n",
      "\n",
      "\n",
      "POLINOMIO:\n",
      "\n",
      "94.2676470588236*x - 1484.825\n",
      "\n",
      "\n",
      "\n",
      "ERRORES\n",
      "\n",
      "- error absoluto:\n",
      "|54.0074   -5.2603   -13.5279   7.2044   -0.0632   6.6691   -32.5985   -51.8662   -0.1338   -6.4015   -21.6691   16.0632   9.7956   13.5279   22.2603   1.9926   |\n",
      "- error absoluto cuadratico: 8523.6441\n",
      "- ||e||: 92.3236\n",
      "- error relativo %: 2.27 %\n"
     ]
    }
   ],
   "source": [
    "# Ejemplo práctica 1\n",
    "\n",
    "x = [x for x in range(18,33+1)]\n",
    "y = [266,301,387,502,589,690,745,820,966,1054,1133,1265,1353,1451,1554,1628]\n",
    "\n",
    "phi = [lambda x: 1, lambda x: x]\n",
    "\n",
    "phis,A,b,c,P = aproximacion_discreta(x,y,phi)\n",
    "info_aproximacion_cm(A, b, c, phi)\n",
    "info_errores_y(P,y,x)"
   ]
  },
  {
   "cell_type": "markdown",
   "metadata": {},
   "source": [
    "#### Ejemplo 5: Evolucion a plazo medio del coronavirus 2"
   ]
  },
  {
   "cell_type": "code",
   "execution_count": 53,
   "metadata": {},
   "outputs": [
    {
     "name": "stdout",
     "output_type": "stream",
     "text": [
      "\n",
      "Ajk:\n",
      "|             16   \t            152   \t|\n",
      "|            152   \t           1784   \t|\n",
      "\n",
      "\n",
      "bk:\n",
      "|58.82538   632.18628   |\n",
      "\n",
      "\n",
      "C_k:\n",
      "|1.62724   0.21572   |\n",
      "\n",
      "\n",
      "POLINOMIO:\n",
      "\n",
      "0.215721057345868*x + 1.62723628267513\n",
      "\n",
      "\n",
      "APROXIMACIÓN EXPONENCIAL:\n",
      "\n",
      "5.08978852564681*exp(0.215721057345868*x)\n",
      "\n",
      "ERRORES\n",
      "\n",
      "- error absoluto:\n",
      "|0.1644   -0.7221   -0.0627   2.0331   0.4297   -2.0412   2.4115   -1.4714   0.9887   1.3927   -2.7544   -5.0667   -7.3062   -1.4186   -2.5769   25.7632   |\n",
      "- error absoluto cuadratico: 778.9664\n",
      "- ||e||: 27.9100\n",
      "- error relativo %: 8.04 %\n"
     ]
    }
   ],
   "source": [
    "# Ejemplo práctica 2\n",
    " \n",
    "x = [x for x in range(2,17+1)]\n",
    "y = [8,9,12,17,19,21,31,34,45,56,65,79,97,128,158,225]\n",
    "\n",
    "phis,A,b,c,P = aproximacion_discreta_logaritmica(x,y)\n",
    "\n",
    "info_aproximacion_cm(A, b, c, log_phi)\n",
    "\n",
    "print(\"APROXIMACIÓN EXPONENCIAL:\\n\")\n",
    "print_funcion_algebraica(P)\n",
    "\n",
    "info_errores_y(P,y,x)"
   ]
  },
  {
   "cell_type": "markdown",
   "metadata": {},
   "source": [
    "#### Ejemplo 4"
   ]
  },
  {
   "cell_type": "code",
   "execution_count": 23,
   "metadata": {},
   "outputs": [
    {
     "name": "stdout",
     "output_type": "stream",
     "text": [
      "\n",
      "Ajk:\n",
      "|              4   \t             12   \t|\n",
      "|             12   \t             46   \t|\n",
      "\n",
      "\n",
      "bk:\n",
      "|  25     95   |\n",
      "\n",
      "\n",
      "C_k:\n",
      "|0.25    2.0   |\n",
      "\n",
      "\n",
      "POLINOMIO:\n",
      "\n",
      "2.0*x + 0.25\n",
      "\n",
      "\n",
      "\n",
      "ERRORES\n",
      "\n",
      "- error absoluto:\n",
      "|-0.25   0.75   -1.25   0.75   |\n",
      "- error absoluto cuadratico: 2.75\n",
      "- ||e||: 1.6583\n",
      "- error relativo %: 11.76 %\n"
     ]
    }
   ],
   "source": [
    "# Ejemplo práctica 1\n",
    "\n",
    "x = [1,2,4,5]\n",
    "y = [2,5,7,11]\n",
    "\n",
    "phi = [lambda x: 1, lambda x: x]\n",
    "\n",
    "phis,A,b,c,P = aproximacion_discreta(x,y,phi)\n",
    "info_aproximacion_cm(A, b, c, phi)\n",
    "info_errores_y(P,y,x)"
   ]
  },
  {
   "cell_type": "markdown",
   "metadata": {},
   "source": [
    "# 1.2  Aproximáción lineal (continua)"
   ]
  },
  {
   "cell_type": "markdown",
   "metadata": {},
   "source": [
    "### 1.2.1 Cálculo del polinomio"
   ]
  },
  {
   "cell_type": "code",
   "execution_count": 24,
   "metadata": {},
   "outputs": [],
   "source": [
    "def matriz_Hilbert(a, b, grado):\n",
    "    \n",
    "    matriz = []\n",
    "    n = grado + 1\n",
    "    \n",
    "    for j in range(n):\n",
    "        fila = []\n",
    "        for k in range(n):\n",
    "            p = j+k+1\n",
    "            fila.append((b**p-a**p)/p)\n",
    "        matriz.append(fila)\n",
    "        \n",
    "    return matriz\n",
    "    "
   ]
  },
  {
   "cell_type": "code",
   "execution_count": 25,
   "metadata": {},
   "outputs": [],
   "source": [
    "def b_Hilbert(f, grado, a, b):\n",
    "    \n",
    "    res = []\n",
    "    \n",
    "    for i in range(grado+1):\n",
    "        integrand = lambda x: f(x) * (x**i)\n",
    "        r,err = quad(integrand, a, b)\n",
    "        res.append(r)\n",
    "        \n",
    "    return res"
   ]
  },
  {
   "cell_type": "code",
   "execution_count": 26,
   "metadata": {},
   "outputs": [],
   "source": [
    "def polinomio(grado):\n",
    "    return lambda x: x**grado\n",
    "\n",
    "def funcione_polinomicas(grado):\n",
    "    res = [polinomio(g) for g in range(grado+1)]\n",
    "    return res"
   ]
  },
  {
   "cell_type": "code",
   "execution_count": 27,
   "metadata": {},
   "outputs": [],
   "source": [
    "def aproximacion_continua(f, grado, intervalo):\n",
    "    \n",
    "    a = intervalo[0]\n",
    "    b = intervalo[1]\n",
    "    \n",
    "    phi = funcione_polinomicas(grado)\n",
    "    A = matriz_Hilbert(a, b, grado)\n",
    "    b = b_Hilbert(f, grado, a, b)\n",
    "    c = resolver_sistema_ecuaciones(A, b)\n",
    "    P = get_función_aproximacion(phi,c)\n",
    "        \n",
    "    return phi,A,b,c,P"
   ]
  },
  {
   "cell_type": "markdown",
   "metadata": {},
   "source": [
    "### 1.2.2 Cálculo del error"
   ]
  },
  {
   "cell_type": "code",
   "execution_count": 28,
   "metadata": {},
   "outputs": [],
   "source": [
    "def error_globlal_aprox_continuo(f, P, intervalo):\n",
    "    a = intervalo[0]\n",
    "    b = intervalo[1]\n",
    "    \n",
    "    integrand = lambda x: (f(x) - P(x))**2\n",
    "    r,err = quad(integrand, a, b)\n",
    "    return r"
   ]
  },
  {
   "cell_type": "code",
   "execution_count": 29,
   "metadata": {},
   "outputs": [],
   "source": [
    "def error_relativo_aprox_continuo(f, P, intervalo):\n",
    "    a = intervalo[0]\n",
    "    b = intervalo[1]\n",
    "    \n",
    "    norma_error_absoluto = error_globlal_aprox_continuo(f, P, intervalo)**(1/2)\n",
    "    \n",
    "    integrand = lambda x: f(x)**2\n",
    "    r,err = quad(integrand, a, b)\n",
    "    norma_f = r**(1/2)\n",
    "    \n",
    "    return norma_error_absoluto/norma_f"
   ]
  },
  {
   "cell_type": "code",
   "execution_count": 138,
   "metadata": {},
   "outputs": [],
   "source": [
    "def info_errores_aprox_continuo(f,P,intervalo):\n",
    "    print(\"\\nERRORES\\n\")\n",
    "    print(\"- error global:\", error_globlal_aprox_continuo(f, P, intervalo))\n",
    "    print(\"- error relativo %:\", error_relativo_aprox_continuo(f, P, intervalo) *100,\"%\")"
   ]
  },
  {
   "cell_type": "markdown",
   "metadata": {},
   "source": [
    "### 1.2.3 Ejemplos"
   ]
  },
  {
   "cell_type": "markdown",
   "metadata": {},
   "source": [
    "#### Ejemplo 1"
   ]
  },
  {
   "cell_type": "code",
   "execution_count": 31,
   "metadata": {},
   "outputs": [
    {
     "name": "stdout",
     "output_type": "stream",
     "text": [
      "\n",
      "Ajk:\n",
      "|            1.0   \t            0.5   \t        0.33333   \t|\n",
      "|            0.5   \t        0.33333   \t           0.25   \t|\n",
      "|        0.33333   \t           0.25   \t            0.2   \t|\n",
      "\n",
      "\n",
      "bk:\n",
      "|0.63662   0.31831   0.1893   |\n",
      "\n",
      "\n",
      "C_k:\n",
      "|-0.05047   4.12251   -4.12251   |\n",
      "\n",
      "\n",
      "POLINOMIO:\n",
      "\n",
      "-4.1225116208762*x**2 + 4.1225116208762*x - 0.0504654977784531\n",
      "\n",
      "\n",
      "ERRORES\n",
      "\n",
      "- error global: 0.0002980317403197641\n",
      "- error relativo %: 2.4414411331005463 %\n"
     ]
    }
   ],
   "source": [
    "intervalo = [0,1]\n",
    "grado = 2\n",
    "f = lambda x: np.sin(np.pi * x)\n",
    "\n",
    "phi,A,b,c,P = aproximacion_continua(f, grado, intervalo)\n",
    "\n",
    "info_aproximacion_cm(A, b, c, phi)\n",
    "info_errores_aprox_continuo(f,P,intervalo)"
   ]
  },
  {
   "cell_type": "markdown",
   "metadata": {},
   "source": [
    "#### Ejemplo 2"
   ]
  },
  {
   "cell_type": "code",
   "execution_count": 32,
   "metadata": {},
   "outputs": [
    {
     "name": "stdout",
     "output_type": "stream",
     "text": [
      "\n",
      "Ajk:\n",
      "|        1.34640   \t        0.90639   \t        0.81358   \t|\n",
      "|        0.90639   \t        0.81358   \t        0.82155   \t|\n",
      "|        0.81358   \t        0.82155   \t        0.88490   \t|\n",
      "\n",
      "\n",
      "bk:\n",
      "|6.1697   4.12416   3.81304   |\n",
      "\n",
      "\n",
      "C_k:\n",
      "|6.2075   -6.95432   5.05826   |\n",
      "\n",
      "\n",
      "POLINOMIO:\n",
      "\n",
      "5.05826101075986*x**2 - 6.9543157092034*x + 6.20749877797216\n",
      "\n",
      "\n",
      "ERRORES\n",
      "\n",
      "- error global: 0.0514017682694824\n",
      "- error relativo %: 4.213244455255807 %\n"
     ]
    }
   ],
   "source": [
    "intervalo = [0,(3*sp.pi)/7]\n",
    "grado = 2\n",
    "f = lambda x: 6*(sp.exp(-x)/sp.cos(x))\n",
    "\n",
    "phi,A,b,c,P = aproximacion_continua(f, grado, intervalo)\n",
    "\n",
    "info_aproximacion_cm(A, b, c, phi)\n",
    "info_errores_aprox_continuo(f,P,intervalo)"
   ]
  },
  {
   "cell_type": "markdown",
   "metadata": {},
   "source": [
    "# 2. INTERPOLACIÓN"
   ]
  },
  {
   "cell_type": "markdown",
   "metadata": {},
   "source": [
    "## 2.1 Interpolación de Lagrange"
   ]
  },
  {
   "cell_type": "markdown",
   "metadata": {},
   "source": [
    "### 1.1.1 Cálculo del polinomio"
   ]
  },
  {
   "cell_type": "code",
   "execution_count": 99,
   "metadata": {},
   "outputs": [],
   "source": [
    "def L_i(n,i,x,p):\n",
    "    res = 1\n",
    "    for j in range(n+1):\n",
    "        if (i!=j):\n",
    "            res = res * ((p - x[j]) / (x[i] - x[j]))\n",
    "    return res"
   ]
  },
  {
   "cell_type": "code",
   "execution_count": 102,
   "metadata": {},
   "outputs": [],
   "source": [
    "def polinomio_lagrange(n,x,y,p):\n",
    "    res = 0\n",
    "    for i in range(n+1):\n",
    "        L = lambda p: L_i(n,i,x,p)\n",
    "        res += (L(p)*y[i])\n",
    "    return res"
   ]
  },
  {
   "cell_type": "code",
   "execution_count": 103,
   "metadata": {},
   "outputs": [],
   "source": [
    "def get_polinomio_lagrange(n,x,y):\n",
    "    return lambda p: polinomio_lagrange(n,x,y,p)"
   ]
  },
  {
   "cell_type": "code",
   "execution_count": 141,
   "metadata": {},
   "outputs": [],
   "source": [
    "def print_polinomio_lagrange(P):\n",
    "    \n",
    "    print(\"\\nPOLINOMIO\\n\")            \n",
    "    print_funcion_algebraica(P)\n",
    "    print()"
   ]
  },
  {
   "cell_type": "markdown",
   "metadata": {},
   "source": [
    "### 1.2.3 Ejemplos"
   ]
  },
  {
   "cell_type": "markdown",
   "metadata": {},
   "source": [
    "#### Ejemplo 1"
   ]
  },
  {
   "cell_type": "code",
   "execution_count": 150,
   "metadata": {},
   "outputs": [
    {
     "name": "stdout",
     "output_type": "stream",
     "text": [
      "\n",
      "POLINOMIO\n",
      "\n",
      "(4/3 - x/3)*(3/2 - x/2)*(2 - x) + 0.5*(2 - x/2)*(3 - x)*(x - 1) + 0.333333333333333*(4 - x)*(x/2 - 1/2)*(x - 2) + 0.25*(x/3 - 1/3)*(x/2 - 1)*(x - 3)\n",
      "\n",
      "\n",
      "ERRORES\n",
      "\n",
      "- error global: 0.0005592096195033726\n",
      "- error relativo %: 2.7305911924059534 %\n",
      "\n",
      "RESULTADO P(3.5): 0.296875\n"
     ]
    }
   ],
   "source": [
    "# Ejemplo práctica\n",
    "\n",
    "x = [1,2,3,4]\n",
    "y = [1,0.5,1/3,0.25]\n",
    "grado = 3 \n",
    "\n",
    "P = get_polinomio_lagrange(grado,x,y)\n",
    "\n",
    "print_polinomio_lagrange(P)\n",
    "info_errores_aprox_continuo(lambda x: 1/x,P,[1,4])\n",
    "\n",
    "print(\"\\nRESULTADO P(3.5):\", P(3.5))"
   ]
  },
  {
   "cell_type": "markdown",
   "metadata": {},
   "source": [
    "#### Ejemplo 2"
   ]
  },
  {
   "cell_type": "code",
   "execution_count": 147,
   "metadata": {
    "scrolled": true
   },
   "outputs": [
    {
     "name": "stdout",
     "output_type": "stream",
     "text": [
      "\n",
      "POLINOMIO\n",
      "\n",
      "1.386294*(3 - x/2)*(x/3 - 1/3) + 1.791759*(x/5 - 1/5)*(x/2 - 2)\n",
      "\n",
      "\n",
      "ERRORES\n",
      "\n",
      "- error global: 0.024006424040363086\n",
      "- error relativo %: 5.5615589838397765 %\n",
      "\n",
      "RESULTADO P(2): 0.5658441999999999\n"
     ]
    }
   ],
   "source": [
    "# Ejemplo práctica\n",
    "\n",
    "x = [1,4,6]\n",
    "y = [0,1.386294, 1.791759]\n",
    "grado = 2 \n",
    "\n",
    "P = get_polinomio_lagrange(grado,x,y)\n",
    "\n",
    "print_polinomio_lagrange(P)\n",
    "info_errores_aprox_continuo(lambda x: np.log(x),P,[1,6])\n",
    "\n",
    "print(\"\\nRESULTADO P(2):\", P(2))"
   ]
  },
  {
   "cell_type": "markdown",
   "metadata": {},
   "source": [
    "#### Ejemplo 3"
   ]
  },
  {
   "cell_type": "code",
   "execution_count": 151,
   "metadata": {},
   "outputs": [
    {
     "name": "stdout",
     "output_type": "stream",
     "text": [
      "\n",
      "POLINOMIO\n",
      "\n",
      "5*(11/10 - x/50)*(9/8 - x/40)*(7/6 - x/30)*(5/4 - x/20)*(3/2 - x/10) + 37*(11/8 - x/40)*(3/2 - x/30)*(7/4 - x/20)*(5/2 - x/10)*(x/10 - 1/2) + 299*(11/6 - x/30)*(9/4 - x/20)*(7/2 - x/10)*(x/20 - 1/4)*(x/10 - 3/2) + 301*(11/4 - x/20)*(9/2 - x/10)*(x/30 - 1/6)*(x/20 - 3/4)*(x/10 - 5/2) + 445*(11/2 - x/10)*(x/40 - 1/8)*(x/30 - 1/2)*(x/20 - 5/4)*(x/10 - 7/2) + 482*(x/50 - 1/10)*(x/40 - 3/8)*(x/30 - 5/6)*(x/20 - 7/4)*(x/10 - 9/2)\n",
      "\n",
      "\n",
      "ERRORES\n",
      "\n",
      "- error absoluto:\n",
      "|-96.6822   45.649   15.5148   42.98   114.8098   -55.5309   |\n",
      "- error absoluto cuadratico: 29784.2575\n",
      "- ||e||: 172.5812\n",
      "- error relativo %: 20.32 %\n"
     ]
    }
   ],
   "source": [
    "# Entrega 3 -  COVID-19 Chile\n",
    "\n",
    "x = [5, 15, 25, 35, 45, 55]\n",
    "y = [5, 37, 299, 301, 445, 482]\n",
    "grado = 5 \n",
    "\n",
    "P = get_polinomio_lagrange(grado,x,y)\n",
    "\n",
    "print_polinomio_lagrange(P)\n",
    "\n",
    "xbis = [4,14,24,34,44,54]\n",
    "ybis = [1,45,304,344,534,473]\n",
    "info_errores_y(P,ybis,xbis)"
   ]
  },
  {
   "cell_type": "markdown",
   "metadata": {},
   "source": [
    "## 2.2 Interpolación de Newton"
   ]
  },
  {
   "cell_type": "markdown",
   "metadata": {},
   "source": [
    "### 2.2.1 Cálculo del polinomio interpolador de Newton"
   ]
  },
  {
   "cell_type": "code",
   "execution_count": 37,
   "metadata": {},
   "outputs": [],
   "source": [
    "def get_coeficientes(x,y):\n",
    "    n = len(x)\n",
    "    c = []\n",
    "    for i in range(n):\n",
    "        c.append(y[i])\n",
    "\n",
    "    for j in range(1, n):\n",
    "        for i in range(n-1, j-1, -1):\n",
    "            c[i] = float(c[i]-c[i-1])/float(x[i]-x[i-j])\n",
    "    return c"
   ]
  },
  {
   "cell_type": "code",
   "execution_count": 38,
   "metadata": {},
   "outputs": [],
   "source": [
    "def polinomio_newton(x, y, r):\n",
    "    \n",
    "    c = get_coeficientes(x,y)\n",
    "    \n",
    "    res = c[0]\n",
    "\n",
    "    for i in range(1, len(c)):\n",
    "        aux = c[i]\n",
    "        for j in range(i):\n",
    "            aux = aux * (r - x[j])\n",
    "        res += aux\n",
    "                \n",
    "    return res "
   ]
  },
  {
   "cell_type": "code",
   "execution_count": 39,
   "metadata": {},
   "outputs": [],
   "source": [
    "def print_polinomio_newton(x, y):\n",
    "    \n",
    "    c = get_coeficientes(x,y)\n",
    "    \n",
    "    res = str(c[0])\n",
    "\n",
    "    for i in range(1, len(c)):\n",
    "        aux = str(c[i])\n",
    "        for j in range(i):\n",
    "            aux = aux + \" . \" + \"(x - {})\".format(x[j])\n",
    "        res += \" + \" + aux\n",
    "    print(\"\\nPOLINOMIO\\n\")            \n",
    "    print(res) "
   ]
  },
  {
   "cell_type": "code",
   "execution_count": 40,
   "metadata": {},
   "outputs": [],
   "source": [
    "def get_polinomio_newton(x, y):\n",
    "    return lambda r: polinomio_newton(x, y, r)"
   ]
  },
  {
   "cell_type": "code",
   "execution_count": 41,
   "metadata": {},
   "outputs": [],
   "source": [
    "def error_relativo_interpolacion_newton(P,f,x):\n",
    "    return abs(P(x)-f(x))/f(x)"
   ]
  },
  {
   "cell_type": "markdown",
   "metadata": {},
   "source": [
    "### 2.2.2 Ejemplos"
   ]
  },
  {
   "cell_type": "markdown",
   "metadata": {},
   "source": [
    "#### Ejemplo 1"
   ]
  },
  {
   "cell_type": "code",
   "execution_count": 42,
   "metadata": {
    "scrolled": true
   },
   "outputs": [
    {
     "name": "stdout",
     "output_type": "stream",
     "text": [
      "\n",
      "POLINOMIO\n",
      "\n",
      "0.7071067811865476 + 1.1715728752538097 . (x - 0.25) + -4.686291501015239 . (x - 0.25) . (x - 0.5)\n"
     ]
    }
   ],
   "source": [
    "# Ejemplo teórica\n",
    "\n",
    "x = [1/4, 1/2, 3/4]\n",
    "y = [(1/2)**(1/2), 1, (1/2)**(1/2)]\n",
    "\n",
    "P = get_polinomio_newton(x, y)\n",
    "\n",
    "print_polinomio_newton(x, y)"
   ]
  },
  {
   "cell_type": "markdown",
   "metadata": {},
   "source": [
    "#### Ejemplo 2"
   ]
  },
  {
   "cell_type": "code",
   "execution_count": 43,
   "metadata": {},
   "outputs": [
    {
     "name": "stdout",
     "output_type": "stream",
     "text": [
      "\n",
      "POLINOMIO\n",
      "\n",
      "5 + 3.2 . (x - 5) + 1.15 . (x - 5) . (x - 15) + -0.08166666666666668 . (x - 5) . (x - 15) . (x - 25) + 0.0037166666666666667 . (x - 5) . (x - 15) . (x - 25) . (x - 35) + -0.00012858333333333333 . (x - 5) . (x - 15) . (x - 25) . (x - 35) . (x - 45)\n",
      "\n",
      "ERRORES\n",
      "\n",
      "- error absoluto:\n",
      "|-96.6822   45.649   15.5148   42.98   114.8098   -55.5309   |\n",
      "- error absoluto cuadratico: 29784.2575\n",
      "- ||e||: 172.5812\n",
      "- error relativo %: 20.32 %\n"
     ]
    }
   ],
   "source": [
    "# Entrega 3 -  COVID-19 Chile\n",
    "\n",
    "x = [5, 15, 25, 35, 45, 55]\n",
    "y = [5, 37, 299, 301, 445, 482]\n",
    "\n",
    "P = get_polinomio_newton(x, y)\n",
    "\n",
    "print_polinomio_newton(x, y)\n",
    "\n",
    "# Si tomamos un día anterior para calcular el error:\n",
    "xbis = [4,14,24,34,44,54]\n",
    "ybis = [1,45,304,344,534,473]\n",
    "info_errores_y(P,ybis,xbis)"
   ]
  },
  {
   "cell_type": "markdown",
   "metadata": {},
   "source": [
    "#### Ejemplo 3"
   ]
  },
  {
   "cell_type": "code",
   "execution_count": 44,
   "metadata": {},
   "outputs": [
    {
     "name": "stdout",
     "output_type": "stream",
     "text": [
      "\n",
      "POLINOMIO\n",
      "\n",
      "0 + 0.46209799999999995 . (x - 1) + -0.05187309999999997 . (x - 1) . (x - 4)\n",
      "Error relativo para x=2: 0.1836\n"
     ]
    }
   ],
   "source": [
    "# Ejemplo de prácticas\n",
    "\n",
    "x = [1,4,6]\n",
    "y = [0, 1.386294, 1.791759]\n",
    "\n",
    "f = lambda x: math.log(x)\n",
    "P = get_polinomio_newton(x, y)\n",
    "\n",
    "print_polinomio_newton(x, y)\n",
    "\n",
    "print(\"Error relativo para x=2:\", error_relativo_y(P,[f(2)],[2]))"
   ]
  },
  {
   "cell_type": "markdown",
   "metadata": {},
   "source": [
    "### 2.3 Interpolación de Tchebychef"
   ]
  },
  {
   "cell_type": "code",
   "execution_count": null,
   "metadata": {},
   "outputs": [],
   "source": []
  }
 ],
 "metadata": {
  "kernelspec": {
   "display_name": "Python 3",
   "language": "python",
   "name": "python3"
  },
  "language_info": {
   "codemirror_mode": {
    "name": "ipython",
    "version": 3
   },
   "file_extension": ".py",
   "mimetype": "text/x-python",
   "name": "python",
   "nbconvert_exporter": "python",
   "pygments_lexer": "ipython3",
   "version": "3.6.10"
  }
 },
 "nbformat": 4,
 "nbformat_minor": 4
}
