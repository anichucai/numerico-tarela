{
 "cells": [
  {
   "cell_type": "markdown",
   "metadata": {},
   "source": [
    "# <span style=\"color:red\"> Análisis Numérico I - FIUBA (Cátedra Tarela)</span>\n",
    "# <span style=\"color:red\">Ecuaciones No Lineales</span>"
   ]
  },
  {
   "cell_type": "markdown",
   "metadata": {},
   "source": [
    "## <span style=\"color:red\">1er cuatrimestre 2020</span>"
   ]
  },
  {
   "cell_type": "code",
   "execution_count": 1,
   "metadata": {},
   "outputs": [],
   "source": [
    "import numpy as np\n",
    "import sympy as sp\n",
    "import math\n",
    "import matplotlib.pyplot as plt\n",
    "from sympy.calculus.util import continuous_domain\n",
    "from scipy.linalg import solve\n",
    "from scipy.integrate import quad"
   ]
  },
  {
   "cell_type": "markdown",
   "metadata": {},
   "source": [
    "# 0. Funciones auxiliares"
   ]
  },
  {
   "cell_type": "markdown",
   "metadata": {},
   "source": [
    "### 0.1 Funciones auxiliares - Matrices"
   ]
  },
  {
   "cell_type": "code",
   "execution_count": 2,
   "metadata": {},
   "outputs": [],
   "source": [
    "def print_matriz(matriz, spacing=15, rounding=-1):\n",
    "    \n",
    "    space_str = \"{: >\" + str(spacing)+ \"}\" + \" \"*3 + \"\\t\"\n",
    "    line = space_str * len(matriz)\n",
    "    \n",
    "    for fila in matriz:\n",
    "        \n",
    "        fila_modificada = fila\n",
    "        if (rounding!=-1):\n",
    "            fila_modificada = [round(x, rounding) for x in fila_modificada]  \n",
    "            \n",
    "        fila_string = [str(x) for x in fila_modificada]        \n",
    "        print('|'+ line.format(*fila_string) + \"|\")\n"
   ]
  },
  {
   "cell_type": "code",
   "execution_count": 3,
   "metadata": {},
   "outputs": [],
   "source": [
    "def print_vector(vector, spacing=4, rounding=-1):\n",
    "    \n",
    "    space_str = \"{: >\" + str(spacing)+ \"}\" + \" \"*3\n",
    "    line = space_str * len(vector)\n",
    "    \n",
    "    vector_modificado = vector\n",
    "    if (rounding!=-1):\n",
    "            vector_modificado = [round(x, rounding) for x in vector_modificado]  \n",
    "    \n",
    "    vector_string = [str(x) for x in vector_modificado]\n",
    "    \n",
    "    print('|'+ line.format(*vector_string) + \"|\")\n",
    "            "
   ]
  },
  {
   "cell_type": "code",
   "execution_count": 4,
   "metadata": {},
   "outputs": [],
   "source": [
    "def producto_vectorial(v1, v2):\n",
    "    \n",
    "    n = len(v1)\n",
    "    \n",
    "    if(len(v2) != n): return None\n",
    "    \n",
    "    res = 0\n",
    "    \n",
    "    for i in range(n):\n",
    "        res += v1[i]*v2[i]\n",
    "    \n",
    "    return res"
   ]
  },
  {
   "cell_type": "code",
   "execution_count": 5,
   "metadata": {},
   "outputs": [],
   "source": [
    "def resolver_sistema_ecuaciones(A,b):\n",
    "    A_bis = np.array(A, dtype = 'float')\n",
    "    b_bis = np.array(b, dtype = 'float')\n",
    "    return list(solve(A_bis,b_bis))"
   ]
  },
  {
   "cell_type": "markdown",
   "metadata": {},
   "source": [
    "### 0.2 Aproximación lineal "
   ]
  },
  {
   "cell_type": "code",
   "execution_count": 6,
   "metadata": {},
   "outputs": [],
   "source": [
    "def get_función_aproximacion(phi,c):\n",
    "    \n",
    "    x_symbol = sp.Symbol('x')\n",
    "    phi_symbol = [p(x_symbol) for p in phi]\n",
    "    res = 0\n",
    "    for i in range(len(c)):\n",
    "            res += c[i] * phi_symbol[i]\n",
    "            \n",
    "    return sp.lambdify(x_symbol, res, \"math\")"
   ]
  },
  {
   "cell_type": "code",
   "execution_count": 7,
   "metadata": {},
   "outputs": [],
   "source": [
    "def print_funcion_algebraica(f):\n",
    "    \n",
    "    x = sp.Symbol('x')\n",
    "    y = f(x)\n",
    "    print(y)"
   ]
  },
  {
   "cell_type": "code",
   "execution_count": 8,
   "metadata": {},
   "outputs": [],
   "source": [
    "def print_polinomio(c,phi):\n",
    "    \n",
    "    x_symbol = sp.Symbol('x')\n",
    "    phi_symbol = [p(x_symbol) for p in phi]\n",
    "    res = 0\n",
    "    for i in range(len(c)):\n",
    "            res += c[i] * phi_symbol[i]\n",
    "    print(res)"
   ]
  },
  {
   "cell_type": "code",
   "execution_count": 9,
   "metadata": {},
   "outputs": [],
   "source": [
    "def info_aproximacion_cm(A, b, c, phi):\n",
    "        \n",
    "    print(\"\\nAjk:\")\n",
    "    print_matriz(A, rounding=5)\n",
    "    print()\n",
    "    \n",
    "    print(\"\\nbk:\")\n",
    "    print_vector(b, rounding=5)\n",
    "    print()\n",
    "    \n",
    "    print(\"\\nC_k:\")\n",
    "    print_vector(c, rounding=5)\n",
    "    print()\n",
    "    \n",
    "    print(\"\\nPOLINOMIO:\\n\")\n",
    "    print_polinomio(c,phi)\n",
    "\n",
    "    print(\"\\n\")"
   ]
  },
  {
   "cell_type": "markdown",
   "metadata": {},
   "source": [
    "## 0.3 Errores"
   ]
  },
  {
   "cell_type": "code",
   "execution_count": 76,
   "metadata": {},
   "outputs": [],
   "source": [
    "ERROR_ROUNDING = 4"
   ]
  },
  {
   "cell_type": "markdown",
   "metadata": {},
   "source": [
    "#### 0.3.1 Errores P vs y"
   ]
  },
  {
   "cell_type": "code",
   "execution_count": 32,
   "metadata": {},
   "outputs": [],
   "source": [
    "def error_absoluto_y(P,y,x):\n",
    "    e = [y[i]-P(x[i]) for i in range(len(x))]\n",
    "    return e\n",
    "\n",
    "def error_absoluto_cuadratico_y(P,y,x):\n",
    "    e_absoluto = error_absoluto_y(P,y,x)\n",
    "    return round(sum([e**2 for e in e_absoluto]),ERROR_ROUNDING)\n",
    "\n",
    "def norma_error_absoluto_y(P,y,x):\n",
    "    e_absoluto = error_absoluto_y(P,y,x)\n",
    "    return round(sum([e**2 for e in e_absoluto])**(1/2),ERROR_ROUNDING)\n",
    "\n",
    "def error_relativo_y(P,y,x):\n",
    "    norma_error_absoluto = error_absoluto_cuadratico_y(P,y,x)**(1/2)\n",
    "    norma_y =  sum([y_i**2 for y_i in y])**(1/2)\n",
    "    return round(norma_error_absoluto/norma_y,ERROR_ROUNDING)"
   ]
  },
  {
   "cell_type": "code",
   "execution_count": 33,
   "metadata": {},
   "outputs": [],
   "source": [
    "def info_errores_y(P,y,x):\n",
    "    print(\"\\nERRORES\\n\")\n",
    "    print(\"- error absoluto:\")\n",
    "    print_vector(error_absoluto_y(P,y,x), rounding=ERROR_ROUNDING)\n",
    "    print(\"- error absoluto cuadratico:\", error_absoluto_cuadratico_y(P,y,x))\n",
    "    print(\"- ||e||:\", norma_error_absoluto_y(P,y,x))\n",
    "    print(\"- error relativo %:\", error_relativo_y(P,y,x)*100,\"%\")"
   ]
  },
  {
   "cell_type": "markdown",
   "metadata": {},
   "source": [
    "#### 0.3.2 Errores P vs f"
   ]
  },
  {
   "cell_type": "code",
   "execution_count": 34,
   "metadata": {},
   "outputs": [],
   "source": [
    "def info_errores_f(P,f,x):\n",
    "    y = [f(x_i) for x_i in x]\n",
    "    info_errores_y(P,y,x)"
   ]
  },
  {
   "cell_type": "markdown",
   "metadata": {},
   "source": [
    "# 1. APROXIMACIÓN LINEAL"
   ]
  },
  {
   "cell_type": "markdown",
   "metadata": {},
   "source": [
    "# 1.1  Aproximáción lineal (discreta)"
   ]
  },
  {
   "cell_type": "markdown",
   "metadata": {},
   "source": [
    "### 1.1.1 Cálculo del polinomio"
   ]
  },
  {
   "cell_type": "code",
   "execution_count": 15,
   "metadata": {
    "scrolled": true
   },
   "outputs": [],
   "source": [
    "def find_phis(phi, x):\n",
    "    \n",
    "    phis = []\n",
    "\n",
    "    for f in phi:\n",
    "        vect = []\n",
    "        for n in x:\n",
    "            vect.append(f(n))\n",
    "        phis.append(vect)\n",
    "    \n",
    "    return phis"
   ]
  },
  {
   "cell_type": "code",
   "execution_count": 16,
   "metadata": {},
   "outputs": [],
   "source": [
    "def matriz_phixphi(phis):\n",
    "\n",
    "    n = len(phis)\n",
    "\n",
    "    matriz  = []\n",
    "\n",
    "    for fil in range(n):\n",
    "        fila = []\n",
    "        for col in range(n):\n",
    "            fila.append(producto_vectorial(phis[fil], phis[col]))\n",
    "        matriz.append(fila)\n",
    "        \n",
    "    return matriz"
   ]
  },
  {
   "cell_type": "code",
   "execution_count": 17,
   "metadata": {},
   "outputs": [],
   "source": [
    "def vector_f_t(phis, y):\n",
    "    f_t = []\n",
    "\n",
    "    for p in phis:\n",
    "        f_t.append(producto_vectorial(y,p))\n",
    "        \n",
    "    return f_t"
   ]
  },
  {
   "cell_type": "code",
   "execution_count": 18,
   "metadata": {},
   "outputs": [],
   "source": [
    "def aproximacion_discreta(x,y,phi):\n",
    "    \n",
    "    phis = find_phis(phi, x)\n",
    "    A = matriz_phixphi(phis)\n",
    "    b = vector_f_t(phis, y)\n",
    "    c = resolver_sistema_ecuaciones(A, b)\n",
    "    P = get_función_aproximacion(phi,c)\n",
    "    \n",
    "    return phis,A,b,c,P"
   ]
  },
  {
   "cell_type": "markdown",
   "metadata": {},
   "source": [
    "### 1.1.2 Ejemplos"
   ]
  },
  {
   "cell_type": "markdown",
   "metadata": {},
   "source": [
    "#### Ejemplo 1"
   ]
  },
  {
   "cell_type": "code",
   "execution_count": 35,
   "metadata": {},
   "outputs": [
    {
     "name": "stdout",
     "output_type": "stream",
     "text": [
      "\n",
      "Ajk:\n",
      "|              7   \t       11.04623   \t       11.04623   \t|\n",
      "|       11.04623   \t       31.74588   \t7.00000000000000   \t|\n",
      "|       11.04623   \t7.00000000000000   \t       31.74588   \t|\n",
      "\n",
      "\n",
      "bk:\n",
      "|10.8   18.98150   19.06810   |\n",
      "\n",
      "\n",
      "C_k:\n",
      "|-0.06803   0.50866   0.51216   |\n",
      "\n",
      "\n",
      "POLINOMIO:\n",
      "\n",
      "0.508660004618175*exp(x) - 0.0680298360835958 + 0.512159439794367*exp(-x)\n",
      "\n",
      "\n",
      "\n",
      "ERRORES\n",
      "\n",
      "- error absoluto:\n",
      "|0.059   -0.111   0.015   -0.053   0.119   -0.003   -0.026   |\n",
      "- error absoluto cuadratico: 0.034\n",
      "- ||e||: 0.184\n",
      "- error relativo %: 4.3 %\n"
     ]
    }
   ],
   "source": [
    "# Ejemplo 1 teórica\n",
    "\n",
    "x = [-3/2, -1, -1/2, 0, 1/2, 1, 3/2]\n",
    "y = [2.4, 1.4, 1.1, 0.9, 1.2, 1.5, 2.3]\n",
    "\n",
    "phi =[lambda x: 1, lambda x: sp.exp(x), lambda x: sp.exp(-x)]\n",
    "\n",
    "phis,A,b,c,P = aproximacion_discreta(x,y,phi)\n",
    "\n",
    "info_aproximacion_cm(A, b, c, phi)\n",
    "info_errores_y(P,y,x)"
   ]
  },
  {
   "cell_type": "markdown",
   "metadata": {},
   "source": [
    "#### Ejemplo 2"
   ]
  },
  {
   "cell_type": "code",
   "execution_count": 36,
   "metadata": {},
   "outputs": [
    {
     "name": "stdout",
     "output_type": "stream",
     "text": [
      "\n",
      "Ajk:\n",
      "|              7   \t            207   \t           8637   \t         400617   \t|\n",
      "|            207   \t           8637   \t         400617   \t       19624497   \t|\n",
      "|           8637   \t         400617   \t       19624497   \t      993231777   \t|\n",
      "|         400617   \t       19624497   \t      993231777   \t    51355979457   \t|\n",
      "\n",
      "\n",
      "bk:\n",
      "|1800   79123   3730973   184237033   |\n",
      "\n",
      "\n",
      "C_k:\n",
      "|-27.13891   6.4914   0.13272   -0.00125   |\n",
      "\n",
      "\n",
      "POLINOMIO:\n",
      "\n",
      "-0.0012482600842409*x**3 + 0.132722812153222*x**2 + 6.49139936415258*x - 27.138912396947\n",
      "\n",
      "\n",
      "\n",
      "ERRORES\n",
      "\n",
      "- error absoluto:\n",
      "|21.516   -39.799   -31.792   119.649   -78.985   -9.206   18.616   |\n",
      "- error absoluto cuadratico: 24043.556\n",
      "- ||e||: 155.06\n",
      "- error relativo %: 17.9 %\n"
     ]
    }
   ],
   "source": [
    "# Ejemplo entrega COVID-19 Chile\n",
    "\n",
    "x = [1,10,20,30,40,50,56]\n",
    "y = [1,10,114,373,286,464,552]\n",
    "\n",
    "phi = [lambda x: 1, lambda x: x, lambda x: x**2, lambda x: x**3]\n",
    "\n",
    "phis,A,b,c,P = aproximacion_discreta(x,y,phi)\n",
    "info_aproximacion_cm(A, b, c, phi)\n",
    "info_errores_y(P,y,x)"
   ]
  },
  {
   "cell_type": "markdown",
   "metadata": {},
   "source": [
    "#### Ejemplo 3"
   ]
  },
  {
   "cell_type": "code",
   "execution_count": 40,
   "metadata": {
    "scrolled": true
   },
   "outputs": [
    {
     "name": "stdout",
     "output_type": "stream",
     "text": [
      "\n",
      "Ajk:\n",
      "|              7   \t            211   \t|\n",
      "|            211   \t           9101   \t|\n",
      "\n",
      "\n",
      "bk:\n",
      "|11.78486   518.16697   |\n",
      "\n",
      "\n",
      "C_k:\n",
      "|-0.10837   0.05945   |\n",
      "\n",
      "\n",
      "POLINOMIO:\n",
      "\n",
      "0.0594476964574998*x - 0.10837211029694\n",
      "\n",
      "\n",
      "POLINOMIO EXPONENCIAL:\n",
      "\n",
      "0.897293642096762*exp(0.0594476964574998*x)\n",
      "\n",
      "\n",
      "\n",
      "ERRORES\n",
      "\n",
      "- error absoluto:\n",
      "|0.048   0.124   -0.446   -0.339   0.325   2.468   -1.769   |\n",
      "- error absoluto cuadratico: 9.659\n",
      "- ||e||: 3.108\n",
      "- error relativo %: 8.2 %\n"
     ]
    }
   ],
   "source": [
    "# Ejemplo aproximación funcion potencial en escala logarítmica\n",
    "\n",
    "x = [1,10,20,30,40,50,60]\n",
    "y = [1,1.75,2.5,5,10,20,30]\n",
    "\n",
    "log_y = [sp.ln(y_i) for y_i in y]\n",
    "\n",
    "log_phi = [lambda x: 1, lambda x: x]\n",
    "\n",
    "phis = find_phis(log_phi, x)\n",
    "A = matriz_phixphi(phis)\n",
    "b = vector_f_t(phis, log_y)\n",
    "c = resolver_sistema_ecuaciones(A, b)\n",
    "\n",
    "info_aproximacion_cm(A, b, c, log_phi)\n",
    "\n",
    "P = lambda x: sp.exp(c[0])* (sp.exp(x*c[1]))\n",
    "\n",
    "print(\"POLINOMIO EXPONENCIAL:\\n\")\n",
    "print_funcion_algebraica(P)\n",
    "print(\"\\n\")\n",
    "\n",
    "info_errores_y(P,y,x)"
   ]
  },
  {
   "cell_type": "markdown",
   "metadata": {},
   "source": [
    "#### Ejemplo 4: Evolucion a plazo medio del coronavirus"
   ]
  },
  {
   "cell_type": "code",
   "execution_count": 41,
   "metadata": {},
   "outputs": [
    {
     "name": "stdout",
     "output_type": "stream",
     "text": [
      "\n",
      "Ajk:\n",
      "|             16   \t            408   \t|\n",
      "|            408   \t          10744   \t|\n",
      "\n",
      "\n",
      "bk:\n",
      "|14704   407003   |\n",
      "\n",
      "\n",
      "C_k:\n",
      "|-1484.825   94.26765   |\n",
      "\n",
      "\n",
      "POLINOMIO:\n",
      "\n",
      "94.2676470588236*x - 1484.825\n",
      "\n",
      "\n",
      "\n",
      "ERRORES\n",
      "\n",
      "- error absoluto:\n",
      "|54.007   -5.26   -13.528   7.204   -0.063   6.669   -32.599   -51.866   -0.134   -6.401   -21.669   16.063   9.796   13.528   22.26   1.993   |\n",
      "- error absoluto cuadratico: 8523.644\n",
      "- ||e||: 92.324\n",
      "- error relativo %: 2.3 %\n"
     ]
    }
   ],
   "source": [
    "x = [x for x in range(18,33+1)]\n",
    "y = [266,301,387,502,589,690,745,820,966,1054,1133,1265,1353,1451,1554,1628]\n",
    "\n",
    "phi = [lambda x: 1, lambda x: x]\n",
    "\n",
    "phis,A,b,c,P = aproximacion_discreta(x,y,phi)\n",
    "info_aproximacion_cm(A, b, c, phi)\n",
    "info_errores_y(P,y,x)"
   ]
  },
  {
   "cell_type": "code",
   "execution_count": 42,
   "metadata": {},
   "outputs": [
    {
     "name": "stdout",
     "output_type": "stream",
     "text": [
      "\n",
      "Ajk:\n",
      "|             16   \t            152   \t|\n",
      "|            152   \t           1784   \t|\n",
      "\n",
      "\n",
      "bk:\n",
      "|58.82538   632.18628   |\n",
      "\n",
      "\n",
      "C_k:\n",
      "|1.62724   0.21572   |\n",
      "\n",
      "\n",
      "POLINOMIO:\n",
      "\n",
      "0.215721057345868*x + 1.62723628267513\n",
      "\n",
      "\n",
      "POLINOMIO EXPONENCIAL:\n",
      "\n",
      "5.08978852564681*exp(0.215721057345868*x)\n",
      "\n",
      "\n",
      "\n",
      "ERRORES\n",
      "\n",
      "- error absoluto:\n",
      "|0.164   -0.722   -0.063   2.033   0.430   -2.041   2.411   -1.471   0.989   1.393   -2.754   -5.067   -7.306   -1.419   -2.577   25.763   |\n",
      "- error absoluto cuadratico: 778.966\n",
      "- ||e||: 27.910\n",
      "- error relativo %: 8.0 %\n"
     ]
    }
   ],
   "source": [
    "x = [x for x in range(2,17+1)]\n",
    "y = [8,9,12,17,19,21,31,34,45,56,65,79,97,128,158,225]\n",
    "\n",
    "log_y = [sp.ln(y_i) for y_i in y]\n",
    "\n",
    "log_phi = [lambda x: 1, lambda x: x]\n",
    "\n",
    "phis = find_phis(log_phi, x)\n",
    "A = matriz_phixphi(phis)\n",
    "b = vector_f_t(phis, log_y)\n",
    "c = resolver_sistema_ecuaciones(A, b)\n",
    "\n",
    "info_aproximacion_cm(A, b, c, log_phi)\n",
    "\n",
    "P = lambda x: sp.exp(c[0])* (sp.exp(x*c[1]))\n",
    "\n",
    "print(\"POLINOMIO EXPONENCIAL:\\n\")\n",
    "print_funcion_algebraica(P)\n",
    "print(\"\\n\")\n",
    "\n",
    "info_errores_y(P,y,x)"
   ]
  },
  {
   "cell_type": "markdown",
   "metadata": {},
   "source": [
    "#### Ejemplo 4"
   ]
  },
  {
   "cell_type": "code",
   "execution_count": 43,
   "metadata": {},
   "outputs": [
    {
     "name": "stdout",
     "output_type": "stream",
     "text": [
      "\n",
      "Ajk:\n",
      "|              4   \t             12   \t|\n",
      "|             12   \t             46   \t|\n",
      "\n",
      "\n",
      "bk:\n",
      "|  25     95   |\n",
      "\n",
      "\n",
      "C_k:\n",
      "|0.25    2.0   |\n",
      "\n",
      "\n",
      "POLINOMIO:\n",
      "\n",
      "2.0*x + 0.25\n",
      "\n",
      "\n",
      "\n",
      "ERRORES\n",
      "\n",
      "- error absoluto:\n",
      "|-0.25   0.75   -1.25   0.75   |\n",
      "- error absoluto cuadratico: 2.75\n",
      "- ||e||: 1.658\n",
      "- error relativo %: 11.799999999999999 %\n"
     ]
    }
   ],
   "source": [
    "# Ejemplo práctica 1\n",
    "\n",
    "x = [1,2,4,5]\n",
    "y = [2,5,7,11]\n",
    "\n",
    "phi = [lambda x: 1, lambda x: x]\n",
    "\n",
    "phis,A,b,c,P = aproximacion_discreta(x,y,phi)\n",
    "info_aproximacion_cm(A, b, c, phi)\n",
    "info_errores_y(P,y,x)"
   ]
  },
  {
   "cell_type": "markdown",
   "metadata": {},
   "source": [
    "# 1.2  Aproximáción lineal (continua)"
   ]
  },
  {
   "cell_type": "markdown",
   "metadata": {},
   "source": [
    "### 1.2.1 Cálculo del polinomio"
   ]
  },
  {
   "cell_type": "code",
   "execution_count": 44,
   "metadata": {},
   "outputs": [],
   "source": [
    "def matriz_Hilbert(a, b, grado):\n",
    "    \n",
    "    matriz = []\n",
    "    n = grado + 1\n",
    "    \n",
    "    for j in range(n):\n",
    "        fila = []\n",
    "        for k in range(n):\n",
    "            p = j+k+1\n",
    "            fila.append((b**p-a**p)/p)\n",
    "        matriz.append(fila)\n",
    "        \n",
    "    return matriz\n",
    "    "
   ]
  },
  {
   "cell_type": "code",
   "execution_count": 45,
   "metadata": {},
   "outputs": [],
   "source": [
    "def b_Hilbert(f, grado, a, b):\n",
    "    \n",
    "    res = []\n",
    "    \n",
    "    for i in range(grado+1):\n",
    "        integrand = lambda x: f(x) * (x**i)\n",
    "        r,err = quad(integrand, a, b)\n",
    "        res.append(r)\n",
    "        \n",
    "    return res"
   ]
  },
  {
   "cell_type": "code",
   "execution_count": 46,
   "metadata": {},
   "outputs": [],
   "source": [
    "def polinomio(grado):\n",
    "    return lambda x: x**grado\n",
    "\n",
    "def funcione_polinomicas(grado):\n",
    "    res = [polinomio(g) for g in range(grado+1)]\n",
    "    return res"
   ]
  },
  {
   "cell_type": "code",
   "execution_count": 47,
   "metadata": {},
   "outputs": [],
   "source": [
    "def aproximacion_continua(f, grado, intervalo):\n",
    "    \n",
    "    a = intervalo[0]\n",
    "    b = intervalo[1]\n",
    "    \n",
    "    phi = funcione_polinomicas(grado)\n",
    "    A = matriz_Hilbert(a, b, grado)\n",
    "    b = b_Hilbert(f, grado, a, b)\n",
    "    c = resolver_sistema_ecuaciones(A, b)\n",
    "    P = get_función_aproximacion(phi,c)\n",
    "        \n",
    "    return phi,A,b,c,P"
   ]
  },
  {
   "cell_type": "markdown",
   "metadata": {},
   "source": [
    "### 1.2.2 Cálculo del error"
   ]
  },
  {
   "cell_type": "code",
   "execution_count": 48,
   "metadata": {},
   "outputs": [],
   "source": [
    "def error_globlal_aprox_continuo(f, P, intervalo):\n",
    "    a = intervalo[0]\n",
    "    b = intervalo[1]\n",
    "    \n",
    "    integrand = lambda x: (f(x) - P(x))**2\n",
    "    r,err = quad(integrand, a, b)\n",
    "    return r"
   ]
  },
  {
   "cell_type": "code",
   "execution_count": 49,
   "metadata": {},
   "outputs": [],
   "source": [
    "def error_relativo_aprox_continuo(f, P, intervalo):\n",
    "    a = intervalo[0]\n",
    "    b = intervalo[1]\n",
    "    \n",
    "    norma_error_absoluto = error_globlal_aprox_continuo(f, P, intervalo)**(1/2)\n",
    "    \n",
    "    integrand = lambda x: f(x)**2\n",
    "    r,err = quad(integrand, a, b)\n",
    "    norma_f = r**(1/2)\n",
    "    \n",
    "    return norma_error_absoluto/norma_f"
   ]
  },
  {
   "cell_type": "code",
   "execution_count": 50,
   "metadata": {},
   "outputs": [],
   "source": [
    "def info_errores_aprox_continuo(f,P,intervalo):\n",
    "    print(\"ERRORES\\n\")\n",
    "    print(\"- error global:\", error_globlal_aprox_continuo(f, P, intervalo))\n",
    "    print(\"- error relativo %:\", error_relativo_aprox_continuo(f, P, intervalo) *100,\"%\")"
   ]
  },
  {
   "cell_type": "markdown",
   "metadata": {},
   "source": [
    "### 1.2.3 Ejemplos"
   ]
  },
  {
   "cell_type": "markdown",
   "metadata": {},
   "source": [
    "#### Ejemplo 1"
   ]
  },
  {
   "cell_type": "code",
   "execution_count": 55,
   "metadata": {},
   "outputs": [
    {
     "name": "stdout",
     "output_type": "stream",
     "text": [
      "\n",
      "Ajk:\n",
      "|            1.0   \t            0.5   \t        0.33333   \t|\n",
      "|            0.5   \t        0.33333   \t           0.25   \t|\n",
      "|        0.33333   \t           0.25   \t            0.2   \t|\n",
      "\n",
      "\n",
      "bk:\n",
      "|0.63662   0.31831   0.1893   |\n",
      "\n",
      "\n",
      "C_k:\n",
      "|-0.05047   4.12251   -4.12251   |\n",
      "\n",
      "\n",
      "POLINOMIO:\n",
      "\n",
      "-4.1225116208762*x**2 + 4.1225116208762*x - 0.0504654977784531\n",
      "\n",
      "\n",
      "ERRORES\n",
      "\n",
      "- error global: 0.0002980317403197641\n",
      "- error relativo %: 2.4414411331005463 %\n"
     ]
    }
   ],
   "source": [
    "intervalo = [0,1]\n",
    "grado = 2\n",
    "f = lambda x: np.sin(np.pi * x)\n",
    "\n",
    "phi,A,b,c,P = aproximacion_continua(f, grado, intervalo)\n",
    "\n",
    "info_aproximacion_cm(A, b, c, phi)\n",
    "info_errores_aprox_continuo(f,P,intervalo)"
   ]
  },
  {
   "cell_type": "markdown",
   "metadata": {},
   "source": [
    "#### Ejemplo 2"
   ]
  },
  {
   "cell_type": "code",
   "execution_count": 56,
   "metadata": {},
   "outputs": [
    {
     "name": "stdout",
     "output_type": "stream",
     "text": [
      "\n",
      "Ajk:\n",
      "|        1.34640   \t        0.90639   \t        0.81358   \t|\n",
      "|        0.90639   \t        0.81358   \t        0.82155   \t|\n",
      "|        0.81358   \t        0.82155   \t        0.88490   \t|\n",
      "\n",
      "\n",
      "bk:\n",
      "|6.1697   4.12416   3.81304   |\n",
      "\n",
      "\n",
      "C_k:\n",
      "|6.2075   -6.95432   5.05826   |\n",
      "\n",
      "\n",
      "POLINOMIO:\n",
      "\n",
      "5.05826101075986*x**2 - 6.9543157092034*x + 6.20749877797216\n",
      "\n",
      "\n",
      "ERRORES\n",
      "\n",
      "- error global: 0.0514017682694824\n",
      "- error relativo %: 4.213244455255807 %\n"
     ]
    }
   ],
   "source": [
    "intervalo = [0,(3*sp.pi)/7]\n",
    "grado = 2\n",
    "f = lambda x: 6*(sp.exp(-x)/sp.cos(x))\n",
    "\n",
    "phi,A,b,c,P = aproximacion_continua(f, grado, intervalo)\n",
    "\n",
    "info_aproximacion_cm(A, b, c, phi)\n",
    "info_errores_aprox_continuo(f,P,intervalo)"
   ]
  },
  {
   "cell_type": "markdown",
   "metadata": {},
   "source": [
    "# 2. INTERPOLACIÓN"
   ]
  },
  {
   "cell_type": "markdown",
   "metadata": {},
   "source": [
    "## 2.1 Interpolación de Larange"
   ]
  },
  {
   "cell_type": "code",
   "execution_count": null,
   "metadata": {},
   "outputs": [],
   "source": [
    "def L(n,k,x,x_par):\n",
    "    res = 1\n",
    "    for i in range(n):\n",
    "        res = res * ((x_par - x[i]) / (x[k] - x[i]))\n",
    "    return res"
   ]
  },
  {
   "cell_type": "markdown",
   "metadata": {},
   "source": [
    "## 2.2 Interpolación de Newton"
   ]
  },
  {
   "cell_type": "markdown",
   "metadata": {},
   "source": [
    "### 2.2.1 Cálculo del polinomio interpolador de Newton"
   ]
  },
  {
   "cell_type": "code",
   "execution_count": 57,
   "metadata": {},
   "outputs": [],
   "source": [
    "def get_coeficientes(x,y):\n",
    "    n = len(x)\n",
    "    c = []\n",
    "    for i in range(n):\n",
    "        c.append(y[i])\n",
    "\n",
    "    for j in range(1, n):\n",
    "        for i in range(n-1, j-1, -1):\n",
    "            c[i] = float(c[i]-c[i-1])/float(x[i]-x[i-j])\n",
    "    return c"
   ]
  },
  {
   "cell_type": "code",
   "execution_count": 58,
   "metadata": {},
   "outputs": [],
   "source": [
    "def polinomio_newton(x, y, r):\n",
    "    \n",
    "    c = get_coeficientes(x,y)\n",
    "    \n",
    "    res = c[0]\n",
    "\n",
    "    for i in range(1, len(c)):\n",
    "        aux = c[i]\n",
    "        for j in range(i):\n",
    "            aux = aux * (r - x[j])\n",
    "        res += aux\n",
    "                \n",
    "    return res "
   ]
  },
  {
   "cell_type": "code",
   "execution_count": 78,
   "metadata": {},
   "outputs": [],
   "source": [
    "def print_polinomio_newton(x, y):\n",
    "    \n",
    "    c = get_coeficientes(x,y)\n",
    "    \n",
    "    res = str(c[0])\n",
    "\n",
    "    for i in range(1, len(c)):\n",
    "        aux = str(c[i])\n",
    "        for j in range(i):\n",
    "            aux = aux + \" . \" + \"(x - {})\".format(x[j])\n",
    "        res += \" + \" + aux\n",
    "    print(\"\\nPOLINOMIO\\n\")            \n",
    "    print(res) "
   ]
  },
  {
   "cell_type": "code",
   "execution_count": 67,
   "metadata": {},
   "outputs": [],
   "source": [
    "def get_polinomio_newton(x, y):\n",
    "    return lambda r: polinomio_newton(x, y, r)"
   ]
  },
  {
   "cell_type": "code",
   "execution_count": 62,
   "metadata": {},
   "outputs": [],
   "source": [
    "def error_relativo_interpolacion_newton(P,f,x):\n",
    "    return abs(P(x)-f(x))/f(x)"
   ]
  },
  {
   "cell_type": "markdown",
   "metadata": {},
   "source": [
    "### 2.2.2 Ejemplos"
   ]
  },
  {
   "cell_type": "markdown",
   "metadata": {},
   "source": [
    "#### Ejemplo 1"
   ]
  },
  {
   "cell_type": "code",
   "execution_count": 79,
   "metadata": {
    "scrolled": true
   },
   "outputs": [
    {
     "name": "stdout",
     "output_type": "stream",
     "text": [
      "\n",
      "POLINOMIO\n",
      "\n",
      "0.7071067811865476 + 1.1715728752538097 . (x - 0.25) + -4.686291501015239 . (x - 0.25) . (x - 0.5)\n"
     ]
    }
   ],
   "source": [
    "# Ejemplo teórica\n",
    "\n",
    "x = [1/4, 1/2, 3/4]\n",
    "y = [(1/2)**(1/2), 1, (1/2)**(1/2)]\n",
    "\n",
    "P = get_polinomio_newton(x, y)\n",
    "\n",
    "print_polinomio_newton(x, y)"
   ]
  },
  {
   "cell_type": "markdown",
   "metadata": {},
   "source": [
    "#### Ejemplo 2"
   ]
  },
  {
   "cell_type": "code",
   "execution_count": 80,
   "metadata": {},
   "outputs": [
    {
     "name": "stdout",
     "output_type": "stream",
     "text": [
      "\n",
      "POLINOMIO\n",
      "\n",
      "5 + 3.2 . (x - 5) + 1.15 . (x - 5) . (x - 15) + -0.08166666666666668 . (x - 5) . (x - 15) . (x - 25) + 0.0037166666666666667 . (x - 5) . (x - 15) . (x - 25) . (x - 35) + -0.00012858333333333333 . (x - 5) . (x - 15) . (x - 25) . (x - 35) . (x - 45)\n",
      "\n",
      "ERRORES\n",
      "\n",
      "- error absoluto:\n",
      "|-96.6822   45.649   15.5148   42.98   114.8098   -55.5309   |\n",
      "- error absoluto cuadratico: 29784.2575\n",
      "- ||e||: 172.5812\n",
      "- error relativo %: 20.32 %\n"
     ]
    }
   ],
   "source": [
    "# Entrega 3 -  COVID-19 Chile\n",
    "\n",
    "x = [5, 15, 25, 35, 45, 55]\n",
    "y = [5, 37, 299, 301, 445, 482]\n",
    "\n",
    "P = get_polinomio_newton(x, y)\n",
    "\n",
    "print_polinomio_newton(x, y)\n",
    "\n",
    "# Si tomamos un día anterior para calcular el error:\n",
    "xbis = [4,14,24,34,44,54]\n",
    "ybis = [1,45,304,344,534,473]\n",
    "info_errores_y(P,ybis,xbis)"
   ]
  },
  {
   "cell_type": "markdown",
   "metadata": {},
   "source": [
    "#### Ejemplo 3"
   ]
  },
  {
   "cell_type": "code",
   "execution_count": 87,
   "metadata": {},
   "outputs": [
    {
     "name": "stdout",
     "output_type": "stream",
     "text": [
      "\n",
      "POLINOMIO\n",
      "\n",
      "0 + 0.46209799999999995 . (x - 1) + -0.05187309999999997 . (x - 1) . (x - 4)\n",
      "Error relativo para x=2: 0.1836\n"
     ]
    }
   ],
   "source": [
    "# Ejemplo de prácticas\n",
    "\n",
    "x = [1,4,6]\n",
    "y = [0, 1.386294, 1.791759]\n",
    "\n",
    "f = lambda x: math.log(x)\n",
    "P = get_polinomio_newton(x, y)\n",
    "\n",
    "print_polinomio_newton(x, y)\n",
    "\n",
    "print(\"Error relativo para x=2:\", error_relativo_y(P,[f(2)],[2]))"
   ]
  },
  {
   "cell_type": "markdown",
   "metadata": {},
   "source": [
    "### 2.3 Interpolación de Tchebychef"
   ]
  },
  {
   "cell_type": "code",
   "execution_count": null,
   "metadata": {},
   "outputs": [],
   "source": []
  }
 ],
 "metadata": {
  "kernelspec": {
   "display_name": "Python 3",
   "language": "python",
   "name": "python3"
  },
  "language_info": {
   "codemirror_mode": {
    "name": "ipython",
    "version": 3
   },
   "file_extension": ".py",
   "mimetype": "text/x-python",
   "name": "python",
   "nbconvert_exporter": "python",
   "pygments_lexer": "ipython3",
   "version": "3.6.10"
  }
 },
 "nbformat": 4,
 "nbformat_minor": 4
}
