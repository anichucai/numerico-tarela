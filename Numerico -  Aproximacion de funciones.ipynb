{
 "cells": [
  {
   "cell_type": "markdown",
   "metadata": {},
   "source": [
    "# Análisis Numérico I - FIUBA (Cátedra Tarela)\n",
    "# Ecuaciones No Linealesb"
   ]
  },
  {
   "cell_type": "markdown",
   "metadata": {},
   "source": [
    "## 1er cuatrimestre 2020"
   ]
  },
  {
   "cell_type": "code",
   "execution_count": 1,
   "metadata": {},
   "outputs": [],
   "source": [
    "import numpy as np\n",
    "import sympy as sp\n",
    "import math\n",
    "import matplotlib.pyplot as plt\n",
    "from sympy.calculus.util import continuous_domain\n",
    "from scipy.linalg import solve\n",
    "from scipy.integrate import quad"
   ]
  },
  {
   "cell_type": "markdown",
   "metadata": {},
   "source": [
    "# 0. Funciones auxiliares"
   ]
  },
  {
   "cell_type": "markdown",
   "metadata": {},
   "source": [
    "### 0.1 Funciones auxiliares - Matrices"
   ]
  },
  {
   "cell_type": "code",
   "execution_count": 2,
   "metadata": {},
   "outputs": [],
   "source": [
    "def print_matriz(matriz, spacing=15, rounding=-1):\n",
    "    \n",
    "    space_str = \"{: >\" + str(spacing)+ \"}\" + \" \"*3 + \"\\t\"\n",
    "    line = space_str * len(matriz)\n",
    "    \n",
    "    for fila in matriz:\n",
    "        \n",
    "        fila_modificada = fila\n",
    "        if (rounding!=-1):\n",
    "            fila_modificada = [round(x, rounding) for x in fila_modificada]  \n",
    "            \n",
    "        fila_string = [str(x) for x in fila_modificada]        \n",
    "        print('|'+ line.format(*fila_string) + \"|\")\n"
   ]
  },
  {
   "cell_type": "code",
   "execution_count": 3,
   "metadata": {},
   "outputs": [],
   "source": [
    "def print_vector(vector, spacing=4, rounding=-1):\n",
    "    \n",
    "    space_str = \"{: >\" + str(spacing)+ \"}\" + \" \"*3\n",
    "    line = space_str * len(vector)\n",
    "    \n",
    "    vector_modificado = vector\n",
    "    if (rounding!=-1):\n",
    "            vector_modificado = [round(x, rounding) for x in vector_modificado]  \n",
    "    \n",
    "    vector_string = [str(x) for x in vector_modificado]\n",
    "    \n",
    "    print('|'+ line.format(*vector_string) + \"|\")\n",
    "            "
   ]
  },
  {
   "cell_type": "code",
   "execution_count": 4,
   "metadata": {},
   "outputs": [],
   "source": [
    "def producto_vectorial(v1, v2):\n",
    "    \n",
    "    n = len(v1)\n",
    "    \n",
    "    if(len(v2) != n): return None\n",
    "    \n",
    "    res = 0\n",
    "    \n",
    "    for i in range(n):\n",
    "        res += v1[i]*v2[i]\n",
    "    \n",
    "    return res"
   ]
  },
  {
   "cell_type": "code",
   "execution_count": 5,
   "metadata": {},
   "outputs": [],
   "source": [
    "def resolver_sistema_ecuaciones(A,b):\n",
    "    A_bis = np.array(A, dtype = 'float')\n",
    "    b_bis = np.array(b, dtype = 'float')\n",
    "    return list(solve(A_bis,b_bis))"
   ]
  },
  {
   "cell_type": "markdown",
   "metadata": {},
   "source": [
    "# 1. APROXIMACIÓN DE FUNCIONES"
   ]
  },
  {
   "cell_type": "markdown",
   "metadata": {},
   "source": [
    "# 1.1  Aproximáción de funciones (discreta)"
   ]
  },
  {
   "cell_type": "markdown",
   "metadata": {},
   "source": [
    "### 1.1.1 Cálculo del polinomio"
   ]
  },
  {
   "cell_type": "code",
   "execution_count": 6,
   "metadata": {
    "scrolled": true
   },
   "outputs": [],
   "source": [
    "def find_phis(phi, x):\n",
    "    \n",
    "    phis = []\n",
    "\n",
    "    for f in phi:\n",
    "        vect = []\n",
    "        for n in x:\n",
    "            vect.append(f(n))\n",
    "        phis.append(vect)\n",
    "    \n",
    "    return phis"
   ]
  },
  {
   "cell_type": "code",
   "execution_count": 7,
   "metadata": {},
   "outputs": [],
   "source": [
    "def matriz_phixphi(phis):\n",
    "\n",
    "    n = len(phis)\n",
    "\n",
    "    matriz  = []\n",
    "\n",
    "    for fil in range(n):\n",
    "        fila = []\n",
    "        for col in range(n):\n",
    "            fila.append(producto_vectorial(phis[fil], phis[col]))\n",
    "        matriz.append(fila)\n",
    "        \n",
    "    return matriz"
   ]
  },
  {
   "cell_type": "code",
   "execution_count": 8,
   "metadata": {},
   "outputs": [],
   "source": [
    "def vector_f_t(phis, y):\n",
    "    f_t = []\n",
    "\n",
    "    for p in phis:\n",
    "        f_t.append(producto_vectorial(y,p))\n",
    "        \n",
    "    return f_t"
   ]
  },
  {
   "cell_type": "code",
   "execution_count": 9,
   "metadata": {},
   "outputs": [],
   "source": [
    "def get_función_aproximacion(phi,c):\n",
    "    \n",
    "    x_symbol = sp.Symbol('x')\n",
    "    phi_symbol = [p(x_symbol) for p in phi]\n",
    "    res = 0\n",
    "    for i in range(len(c)):\n",
    "            res += c[i] * phi_symbol[i]\n",
    "            \n",
    "    return sp.lambdify(x_symbol, res, \"math\")"
   ]
  },
  {
   "cell_type": "code",
   "execution_count": 10,
   "metadata": {},
   "outputs": [],
   "source": [
    "def aproximacion_cm(x,y,phi):\n",
    "    \n",
    "    phis = find_phis(phi, x)\n",
    "    A = matriz_phixphi(phis)\n",
    "    b = vector_f_t(phis, y)\n",
    "    c = resolver_sistema_ecuaciones(A, b)\n",
    "    P = get_función_aproximacion(phi,c)\n",
    "    \n",
    "    return phis,A,b,c,P"
   ]
  },
  {
   "cell_type": "code",
   "execution_count": 11,
   "metadata": {},
   "outputs": [],
   "source": [
    "def info_aproximacion_cm(A, b, c, phi):\n",
    "        \n",
    "    print(\"\\nAjk:\")\n",
    "    print_matriz(A, rounding=5)\n",
    "    print()\n",
    "    \n",
    "    print(\"\\nbk:\")\n",
    "    print_vector(b, rounding=5)\n",
    "    print()\n",
    "    \n",
    "    print(\"\\nC_k:\")\n",
    "    print_vector(c, rounding=5)\n",
    "    print()\n",
    "    \n",
    "    print(\"\\nAPROXIMACION POR CUADRADOS MÍNIMOS:\\n\")\n",
    "    x_symbol = sp.Symbol('x')\n",
    "    phi_symbol = [p(x_symbol) for p in phi]\n",
    "    res = 0\n",
    "    for i in range(len(c)):\n",
    "            res += c[i] * phi_symbol[i]\n",
    "    print(res)\n",
    "    print(\"\\n\")"
   ]
  },
  {
   "cell_type": "markdown",
   "metadata": {},
   "source": [
    "### 1.1.2 Cálculo del error"
   ]
  },
  {
   "cell_type": "code",
   "execution_count": 12,
   "metadata": {},
   "outputs": [],
   "source": [
    "ERROR_ROUNDING = 3"
   ]
  },
  {
   "cell_type": "code",
   "execution_count": 13,
   "metadata": {},
   "outputs": [],
   "source": [
    "def error_absoluto_aprox_discreta(f,y,x):\n",
    "    e = [y[i]-f(x[i]) for i in range(len(x))]\n",
    "    return e"
   ]
  },
  {
   "cell_type": "code",
   "execution_count": 14,
   "metadata": {},
   "outputs": [],
   "source": [
    "def error_absoluto_cuadratico_aprox_discreta(f,y,x):\n",
    "    e_absoluto = error_absoluto_aprox_discreta(f,y,x)\n",
    "    return round(sum([e**2 for e in e_absoluto]),ERROR_ROUNDING)"
   ]
  },
  {
   "cell_type": "code",
   "execution_count": 15,
   "metadata": {},
   "outputs": [],
   "source": [
    "def norma_error_absoluto_aprox_discreta(f,y,x):\n",
    "    e_absoluto = error_absoluto_aprox_discreta(f,y,x)\n",
    "    return round(sum([e**2 for e in e_absoluto])**(1/2),ERROR_ROUNDING)"
   ]
  },
  {
   "cell_type": "code",
   "execution_count": 16,
   "metadata": {},
   "outputs": [],
   "source": [
    "def error_relativo_aprox_discreta(f,y,x):\n",
    "    norma_error_absoluto = error_absoluto_cuadratico_aprox_discreta(f,y,x)**(1/2)\n",
    "    norma_y =  sum([y_i**2 for y_i in y])**(1/2)\n",
    "    return round(norma_error_absoluto/norma_y,ERROR_ROUNDING)"
   ]
  },
  {
   "cell_type": "code",
   "execution_count": 17,
   "metadata": {},
   "outputs": [],
   "source": [
    "def info_errores_aprox_discreta(P,y,x):\n",
    "    print(\"ERRORES\\n\")\n",
    "    print(\"- error absoluto:\")\n",
    "    print_vector(error_absoluto_aprox_discreta(P,y,x), rounding=3)\n",
    "    print(\"- error absoluto cuadratico:\", error_absoluto_cuadratico_aprox_discreta(P,y,x))\n",
    "    print(\"- ||e||:\", norma_error_absoluto_aprox_discreta(P,y,x))\n",
    "    print(\"- error relativo %:\", error_relativo_aprox_discreta(P,y,x)*100,\"%\")"
   ]
  },
  {
   "cell_type": "markdown",
   "metadata": {},
   "source": [
    "### 1.1.3 Ejemplos"
   ]
  },
  {
   "cell_type": "markdown",
   "metadata": {},
   "source": [
    "#### Ejemplo 1"
   ]
  },
  {
   "cell_type": "code",
   "execution_count": 18,
   "metadata": {},
   "outputs": [
    {
     "name": "stdout",
     "output_type": "stream",
     "text": [
      "\n",
      "Ajk:\n",
      "|              7   \t       11.04623   \t       11.04623   \t|\n",
      "|       11.04623   \t       31.74588   \t7.00000000000000   \t|\n",
      "|       11.04623   \t7.00000000000000   \t       31.74588   \t|\n",
      "\n",
      "\n",
      "bk:\n",
      "|10.8   18.98150   19.06810   |\n",
      "\n",
      "\n",
      "C_k:\n",
      "|-0.06803   0.50866   0.51216   |\n",
      "\n",
      "\n",
      "APROXIMACION POR CUADRADOS MÍNIMOS:\n",
      "\n",
      "0.508660004618175*exp(x) - 0.0680298360835958 + 0.512159439794367*exp(-x)\n",
      "\n",
      "\n",
      "ERRORES\n",
      "\n",
      "- error absoluto:\n",
      "|0.059   -0.111   0.015   -0.053   0.119   -0.003   -0.026   |\n",
      "- error absoluto cuadratico: 0.034\n",
      "- ||e||: 0.184\n",
      "- error relativo %: 4.3 %\n"
     ]
    }
   ],
   "source": [
    "# Ejemplo 1 teórica\n",
    "\n",
    "x = [-3/2, -1, -1/2, 0, 1/2, 1, 3/2]\n",
    "y = [2.4, 1.4, 1.1, 0.9, 1.2, 1.5, 2.3]\n",
    "\n",
    "phi =[lambda x: 1, lambda x: sp.exp(x), lambda x: sp.exp(-x)]\n",
    "\n",
    "phis,A,b,c,P = aproximacion_cm(x,y,phi)\n",
    "\n",
    "info_aproximacion_cm(A, b, c, phi)\n",
    "info_errores_aprox_discreta(P,y,x)"
   ]
  },
  {
   "cell_type": "markdown",
   "metadata": {},
   "source": [
    "#### Ejemplo 2"
   ]
  },
  {
   "cell_type": "code",
   "execution_count": 19,
   "metadata": {},
   "outputs": [
    {
     "name": "stdout",
     "output_type": "stream",
     "text": [
      "\n",
      "Ajk:\n",
      "|              7   \t            207   \t           8637   \t         400617   \t|\n",
      "|            207   \t           8637   \t         400617   \t       19624497   \t|\n",
      "|           8637   \t         400617   \t       19624497   \t      993231777   \t|\n",
      "|         400617   \t       19624497   \t      993231777   \t    51355979457   \t|\n",
      "\n",
      "\n",
      "bk:\n",
      "|1800   79123   3730973   184237033   |\n",
      "\n",
      "\n",
      "C_k:\n",
      "|-27.13891   6.4914   0.13272   -0.00125   |\n",
      "\n",
      "\n",
      "APROXIMACION POR CUADRADOS MÍNIMOS:\n",
      "\n",
      "-0.0012482600842409*x**3 + 0.132722812153222*x**2 + 6.49139936415258*x - 27.138912396947\n",
      "\n",
      "\n",
      "ERRORES\n",
      "\n",
      "- error absoluto:\n",
      "|21.516   -39.799   -31.792   119.649   -78.985   -9.206   18.616   |\n",
      "- error absoluto cuadratico: 24043.556\n",
      "- ||e||: 155.06\n",
      "- error relativo %: 17.9 %\n"
     ]
    }
   ],
   "source": [
    "# Ejemplo entrega COVID-19 Chile\n",
    "\n",
    "x = [1,10,20,30,40,50,56]\n",
    "y = [1,10,114,373,286,464,552]\n",
    "\n",
    "phi = [lambda x: 1, lambda x: x, lambda x: x**2, lambda x: x**3]\n",
    "\n",
    "phis,A,b,c,P = aproximacion_cm(x,y,phi)\n",
    "info_aproximacion_cm(A, b, c, phi)\n",
    "info_errores_aprox_discreta(P,y,x)"
   ]
  },
  {
   "cell_type": "markdown",
   "metadata": {},
   "source": [
    "#### Ejemplo 3"
   ]
  },
  {
   "cell_type": "code",
   "execution_count": 20,
   "metadata": {},
   "outputs": [
    {
     "name": "stdout",
     "output_type": "stream",
     "text": [
      "\n",
      "Ajk:\n",
      "|              7   \t       20.39476   \t|\n",
      "|       20.39476   \t       71.51987   \t|\n",
      "\n",
      "\n",
      "bk:\n",
      "|11.78486   43.64655   |\n",
      "\n",
      "\n",
      "C_k:\n",
      "|-0.5586   0.76956   |\n",
      "\n",
      "\n",
      "APROXIMACION POR CUADRADOS MÍNIMOS:\n",
      "\n",
      "0.769563247492521*x - 0.558599988440562\n",
      "\n",
      "\n",
      "ERRORES\n",
      "\n",
      "- error absoluto:\n",
      "|0.559   2.431   2.849   2.721   2.475   2.165   2.036   |\n",
      "- error absoluto cuadratico: 36.702\n",
      "- ||e||: 6.058\n",
      "- error relativo %: 71.6 %\n"
     ]
    }
   ],
   "source": [
    "# Ejemplo aproximación funcion potencial en escala logarítmica\n",
    "\n",
    "x = [1,10,20,30,40,50,60]\n",
    "y = [1,1.75,2.5,5,10,20,30]\n",
    "\n",
    "log_x = [sp.ln(x_i) for x_i in x]\n",
    "log_y = [sp.ln(y_i) for y_i in y]\n",
    "\n",
    "phi = [lambda x: a*x**P]\n",
    "log_phi = [lambda x: 1, lambda x: x]\n",
    "\n",
    "phis,A,b,c,P = aproximacion_cm(log_x,log_y,log_phi)\n",
    "info_aproximacion_cm(A, b, c, log_phi)\n",
    "info_errores_aprox_discreta(P,log_x,log_y)"
   ]
  },
  {
   "cell_type": "markdown",
   "metadata": {},
   "source": [
    "# 1.2  Aproximáción de funciones (continua)"
   ]
  },
  {
   "cell_type": "markdown",
   "metadata": {},
   "source": [
    "### 1.2.1 Cálculo del polinomio"
   ]
  },
  {
   "cell_type": "code",
   "execution_count": 21,
   "metadata": {},
   "outputs": [],
   "source": [
    "def matriz_Hilbert(a, b, grado):\n",
    "    \n",
    "    matriz = []\n",
    "    n = grado + 1\n",
    "    \n",
    "    for j in range(n):\n",
    "        fila = []\n",
    "        for k in range(n):\n",
    "            p = j+k+1\n",
    "            fila.append((b**p-a**p)/p)\n",
    "        matriz.append(fila)\n",
    "        \n",
    "    return matriz\n",
    "    "
   ]
  },
  {
   "cell_type": "code",
   "execution_count": 22,
   "metadata": {},
   "outputs": [],
   "source": [
    "def b_Hilbert(f, grado, a, b):\n",
    "    \n",
    "    res = []\n",
    "    \n",
    "    for i in range(grado+1):\n",
    "        integrand = lambda x: f(x) * (x**i)\n",
    "        r,err = quad(integrand, a, b)\n",
    "        res.append(r)\n",
    "        \n",
    "    return res"
   ]
  },
  {
   "cell_type": "code",
   "execution_count": 23,
   "metadata": {},
   "outputs": [],
   "source": [
    "def polinomio(grado):\n",
    "    return lambda x: x**grado\n",
    "\n",
    "def funcione_polinomicas(grado):\n",
    "    res = [polinomio(g) for g in range(grado+1)]\n",
    "    return res"
   ]
  },
  {
   "cell_type": "code",
   "execution_count": 24,
   "metadata": {},
   "outputs": [],
   "source": [
    "def aproximacion_cm_continua(f, grado, intervalo):\n",
    "    \n",
    "    a = intervalo[0]\n",
    "    b = intervalo[1]\n",
    "    \n",
    "    phi = funcione_polinomicas(grado)\n",
    "    A = matriz_Hilbert(a, b, grado)\n",
    "    b = b_Hilbert(f, grado, a, b)\n",
    "    c = resolver_sistema_ecuaciones(A, b)\n",
    "    f = get_función_aproximacion(phi,c)\n",
    "        \n",
    "    return phi,A,b,c,P"
   ]
  },
  {
   "cell_type": "markdown",
   "metadata": {},
   "source": [
    "### 1.2.2 Cálculo del error"
   ]
  },
  {
   "cell_type": "code",
   "execution_count": 25,
   "metadata": {},
   "outputs": [],
   "source": [
    "def error_globlal_aprox_continuo(f, P, intervalo):\n",
    "    a = intervalo[0]\n",
    "    b = intervalo[1]\n",
    "    \n",
    "    integrand = lambda x: (f(x) - P(x))**2\n",
    "    r,err = quad(integrand, a, b)\n",
    "    return r"
   ]
  },
  {
   "cell_type": "code",
   "execution_count": 26,
   "metadata": {},
   "outputs": [],
   "source": [
    "def error_relativo_aprox_continuo(f, P, intervalo):\n",
    "    a = intervalo[0]\n",
    "    b = intervalo[1]\n",
    "    \n",
    "    norma_error_absoluto = error_globlal_aprox_continuo(f, P, intervalo)**(1/2)\n",
    "    \n",
    "    integrand = lambda x: f(x)**2\n",
    "    r,err = quad(integrand, a, b)\n",
    "    norma_f = r**(1/2)\n",
    "    \n",
    "    return norma_error_absoluto/norma_f"
   ]
  },
  {
   "cell_type": "code",
   "execution_count": 27,
   "metadata": {},
   "outputs": [],
   "source": [
    "def info_errores_aprox_continuo(f,P,intervalo):\n",
    "    print(\"ERRORES\\n\")\n",
    "    print(\"- error global:\", error_globlal_aprox_continuo(f, P, intervalo))\n",
    "    print(\"- error relativo %:\", error_relativo_aprox_continuo(f, P, intervalo) *100,\"%\")"
   ]
  },
  {
   "cell_type": "markdown",
   "metadata": {},
   "source": [
    "### 1.2.3 Ejemplos"
   ]
  },
  {
   "cell_type": "markdown",
   "metadata": {},
   "source": [
    "#### Ejemplo 1"
   ]
  },
  {
   "cell_type": "code",
   "execution_count": 28,
   "metadata": {},
   "outputs": [
    {
     "name": "stdout",
     "output_type": "stream",
     "text": [
      "\n",
      "Ajk:\n",
      "|            1.0   \t            0.5   \t        0.33333   \t|\n",
      "|            0.5   \t        0.33333   \t           0.25   \t|\n",
      "|        0.33333   \t           0.25   \t            0.2   \t|\n",
      "\n",
      "\n",
      "bk:\n",
      "|0.63662   0.31831   0.1893   |\n",
      "\n",
      "\n",
      "C_k:\n",
      "|-0.05047   4.12251   -4.12251   |\n",
      "\n",
      "\n",
      "APROXIMACION POR CUADRADOS MÍNIMOS:\n",
      "\n",
      "-4.1225116208762*x**2 + 4.1225116208762*x - 0.0504654977784531\n",
      "\n",
      "\n",
      "ERRORES\n",
      "\n",
      "- error global: 0.8008775387592536\n",
      "- error relativo %: 126.56046292260893 %\n"
     ]
    }
   ],
   "source": [
    "intervalo = [0,1]\n",
    "grado = 2\n",
    "f = lambda x: np.sin(np.pi * x)\n",
    "\n",
    "phi,A,b,c,P = aproximacion_cm_continua(f, grado, intervalo)\n",
    "\n",
    "info_aproximacion_cm(A, b, c, phi)\n",
    "info_errores_aprox_continuo(f,P,intervalo)"
   ]
  }
 ],
 "metadata": {
  "kernelspec": {
   "display_name": "Python 3",
   "language": "python",
   "name": "python3"
  },
  "language_info": {
   "codemirror_mode": {
    "name": "ipython",
    "version": 3
   },
   "file_extension": ".py",
   "mimetype": "text/x-python",
   "name": "python",
   "nbconvert_exporter": "python",
   "pygments_lexer": "ipython3",
   "version": "3.6.10"
  }
 },
 "nbformat": 4,
 "nbformat_minor": 4
}
