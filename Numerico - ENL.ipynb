{
 "cells": [
  {
   "cell_type": "markdown",
   "metadata": {},
   "source": [
    "# Análisis Numérico I - FIUBA (Cátedra Tarela)\n",
    "# Ecuaciones No Lineales"
   ]
  },
  {
   "cell_type": "markdown",
   "metadata": {},
   "source": [
    "## 1er cuatrimestre 2020"
   ]
  },
  {
   "cell_type": "code",
   "execution_count": 29,
   "metadata": {},
   "outputs": [],
   "source": [
    "import numpy as np"
   ]
  },
  {
   "cell_type": "markdown",
   "metadata": {},
   "source": [
    "## 1. MÉTODOS DE ARRANQUE"
   ]
  },
  {
   "cell_type": "markdown",
   "metadata": {},
   "source": [
    "Función que comprueba si el teorema del Bolzano se cumple para un intervalo en cierta función. Es decir, combrueba si hay una raiz en el intervalo para cierta función."
   ]
  },
  {
   "cell_type": "code",
   "execution_count": 83,
   "metadata": {},
   "outputs": [],
   "source": [
    "def cumple_teorema_del_bolzano(f,intervalo):\n",
    "    a = np.float64(intervalo[0])\n",
    "    b = np.float64(intervalo[1])\n",
    "    return(f(a)*f(b)<0)"
   ]
  },
  {
   "cell_type": "markdown",
   "metadata": {},
   "source": [
    "## 1.1 Método bisección"
   ]
  },
  {
   "cell_type": "markdown",
   "metadata": {},
   "source": [
    "Calcula la cantidad de pasos o iteraciones a realizar en el método biseccion para encontrar una raíz en cierto interalo con cierto valor absoluto."
   ]
  },
  {
   "cell_type": "code",
   "execution_count": 3,
   "metadata": {},
   "outputs": [],
   "source": [
    "def biseccion_cant_pasos(intervalo, error_absoluto):\n",
    "    a = np.float64(intervalo[0])\n",
    "    b = np.float64(intervalo[1])\n",
    "    return np.log2((b-a)/error_absoluto)"
   ]
  },
  {
   "cell_type": "markdown",
   "metadata": {},
   "source": [
    "Calcula el error absoluo del método biseccion para encontrar una raíz en cierto interalo con cierto n número de iteraciones o pasos."
   ]
  },
  {
   "cell_type": "code",
   "execution_count": 27,
   "metadata": {},
   "outputs": [],
   "source": [
    "def biseccion_error_asoluto(intervalo, n):\n",
    "    a = np.float64(intervalo[0])\n",
    "    b = np.float64(intervalo[1])\n",
    "    return (b-a)/(2**n)"
   ]
  },
  {
   "cell_type": "markdown",
   "metadata": {},
   "source": [
    "Calcula la raíz de una función en un intervalo utilizando el método numérico bisección.\n",
    "La condición de corte es el error absoluto."
   ]
  },
  {
   "cell_type": "code",
   "execution_count": 37,
   "metadata": {},
   "outputs": [],
   "source": [
    "def biseccion_1(f,intervalo,error_absoluto):\n",
    "        \n",
    "    i = 0\n",
    "    \n",
    "    a = np.float64(intervalo[0])\n",
    "    b = np.float64(intervalo[1])\n",
    "    \n",
    "    error_n = np.float64((b-a)/2)\n",
    "    \n",
    "    if(not cumple_teorema_del_bolzano(f,intervalo)):\n",
    "        print(\"No cumple teorema del Bolzano\")\n",
    "        return\n",
    "    \n",
    "    print(\"{: >3} {: >20} {: >20} {: >20} {: >20}\\n\".format(\"i\",\"m\",\"a\",\"b\", \"error\"))\n",
    "\n",
    "    while(error_n >= np.float64(error_absoluto)):\n",
    "\n",
    "        m = (a+b)/2\n",
    "\n",
    "        print(\"{: >3} {: >20} {: >20} {: >20} {: >20}\".format(i,m,a,b,error_n))\n",
    "        \n",
    "        if(f(m)==0): return m\n",
    "        \n",
    "        if(f(m)*f(a)<0 ):\n",
    "            b = m\n",
    "        else:\n",
    "            a = m\n",
    "        \n",
    "        i+=1\n",
    "        error_n = (b-a)/2\n",
    "    \n",
    "    print(\"{: >3} {: >20} {: >20} {: >20} {: >20}\".format(i,(a+b)/2,a,b,error_n))\n",
    "    \n",
    "    print(\"\\n\\nRaiz: \", m)"
   ]
  },
  {
   "cell_type": "markdown",
   "metadata": {},
   "source": [
    "Calcula la raíz de una función en un intervalo utilizando el método numérico bisección.\n",
    "La condición de corte es la cantidad de iteraciones o pasos a realizar."
   ]
  },
  {
   "cell_type": "code",
   "execution_count": 42,
   "metadata": {},
   "outputs": [],
   "source": [
    "def biseccion_2(f,intervalo,n_iteraciones):\n",
    "    \n",
    "    print(\"{: >3} {: >20} {: >20} {: >20} {: >20}\\n\".format(\"i\",\"m\",\"a\",\"b\", \"error\"))\n",
    "    \n",
    "    a = np.float64(intervalo[0])\n",
    "    b = np.float64(intervalo[1])\n",
    "    \n",
    "    error_n = np.float64((b-a)/2)\n",
    "    \n",
    "    if( not cumple_teorema_del_bolzano(f,intervalo)):\n",
    "        print(\"No cumple teorema del Bolzano\")\n",
    "        return\n",
    "    \n",
    "    for i in range(n_iteraciones-1):\n",
    "                \n",
    "        m = (a+b)/2\n",
    "        \n",
    "        print(\"{: >3} {: >20} {: >20} {: >20} {: >20}\".format(i,m,a,b,error_n))\n",
    "        \n",
    "        if(f(m)==0): return m\n",
    "        \n",
    "        if(f(m)*f(a)<0 ):\n",
    "            b = m\n",
    "        else:\n",
    "            a = m\n",
    "        \n",
    "        error_n = (b-a)/2\n",
    "    \n",
    "    print(\"{: >3} {: >20} {: >20} {: >20} {: >20}\".format(i+1,(a+b)/2,a,b,error_n))\n",
    "    \n",
    "    print(\"\\n\\nRaiz: \", m)"
   ]
  },
  {
   "cell_type": "markdown",
   "metadata": {},
   "source": [
    "### 1.1.1 Ejemplo"
   ]
  },
  {
   "cell_type": "code",
   "execution_count": 6,
   "metadata": {},
   "outputs": [],
   "source": [
    "def f(x):\n",
    "    return 2*x - np.exp(-x)"
   ]
  },
  {
   "cell_type": "code",
   "execution_count": 7,
   "metadata": {},
   "outputs": [
    {
     "data": {
      "text/plain": [
       "True"
      ]
     },
     "execution_count": 7,
     "metadata": {},
     "output_type": "execute_result"
    }
   ],
   "source": [
    "cumple_teorema_del_bolzano(f,[0,1])"
   ]
  },
  {
   "cell_type": "code",
   "execution_count": 28,
   "metadata": {},
   "outputs": [
    {
     "data": {
      "text/plain": [
       "0.015625"
      ]
     },
     "execution_count": 28,
     "metadata": {},
     "output_type": "execute_result"
    }
   ],
   "source": [
    "biseccion_error_asoluto([0,1], 6)"
   ]
  },
  {
   "cell_type": "code",
   "execution_count": 8,
   "metadata": {},
   "outputs": [
    {
     "data": {
      "text/plain": [
       "5.643856189774724"
      ]
     },
     "execution_count": 8,
     "metadata": {},
     "output_type": "execute_result"
    }
   ],
   "source": [
    "biseccion_cant_pasos([0,1],0.02)"
   ]
  },
  {
   "cell_type": "code",
   "execution_count": 38,
   "metadata": {},
   "outputs": [
    {
     "name": "stdout",
     "output_type": "stream",
     "text": [
      "  i                    m                    a                    b                error\n",
      "\n",
      "  0                  0.5                  0.0                  1.0                  0.5\n",
      "  1                 0.25                  0.0                  0.5                 0.25\n",
      "  2                0.375                 0.25                  0.5                0.125\n",
      "  3               0.3125                 0.25                0.375               0.0625\n",
      "  4              0.34375               0.3125                0.375              0.03125\n",
      "  5             0.359375              0.34375                0.375             0.015625\n",
      "\n",
      "\n",
      "Raiz:  0.34375\n"
     ]
    }
   ],
   "source": [
    "biseccion_1(f,[0,1],0.02)"
   ]
  },
  {
   "cell_type": "code",
   "execution_count": 43,
   "metadata": {},
   "outputs": [
    {
     "name": "stdout",
     "output_type": "stream",
     "text": [
      "  i                    m                    a                    b                error\n",
      "\n",
      "  0                  0.5                  0.0                  1.0                  0.5\n",
      "  1                 0.25                  0.0                  0.5                 0.25\n",
      "  2                0.375                 0.25                  0.5                0.125\n",
      "  3               0.3125                 0.25                0.375               0.0625\n",
      "  4              0.34375               0.3125                0.375              0.03125\n",
      "  5             0.359375              0.34375                0.375             0.015625\n",
      "\n",
      "\n",
      "Raiz:  0.34375\n"
     ]
    }
   ],
   "source": [
    "biseccion_2(f,[0,1],6)"
   ]
  },
  {
   "cell_type": "markdown",
   "metadata": {},
   "source": [
    "## 1.2 Método Regula-Falsi"
   ]
  },
  {
   "cell_type": "markdown",
   "metadata": {},
   "source": [
    "Calcula la raíz de una función en un intervalo utilizando el método numérico Regula-Falsi.\n",
    "La condición de corte es el error absoluto."
   ]
  },
  {
   "cell_type": "code",
   "execution_count": 96,
   "metadata": {},
   "outputs": [],
   "source": [
    "def regula_falsi(f,intervalo,error_absoluto):\n",
    "        \n",
    "    i = 0\n",
    "    \n",
    "    a = np.float64(intervalo[0])\n",
    "    b = np.float64(intervalo[1])\n",
    "    \n",
    "    error_n = np.inf\n",
    "    \n",
    "    if(not cumple_teorema_del_bolzano(f,intervalo)):\n",
    "        print(\"No cumple teorema del Bolzano\")\n",
    "        return\n",
    "    \n",
    "    print(\"{: >3} {: >20} {: >20} {: >20} {: >20}\\n\".format(\"i\",\"m\",\"a\",\"b\", \"error\"))\n",
    "    \n",
    "    m = [0]\n",
    "\n",
    "    while(error_n >= np.float64(error_absoluto)):\n",
    "\n",
    "        m.append(a - (b-a)*(f(a)/(f(b)-f(a))))\n",
    "        error_n = abs(m[-2]-m[-1])\n",
    "        print(\"{: >3} {: >20} {: >20} {: >20} {: >20}\".format(i,m[-1],a,b,error_n))\n",
    "        \n",
    "        if(f(m[-1])==0): return m[-1]\n",
    "        \n",
    "        if(f(m[-1])*f(a)<0 ):\n",
    "            b = m[-1] \n",
    "        else:\n",
    "            a = m[-1]\n",
    "        \n",
    "        i+=1\n",
    "    \n",
    "    m.append(a - (b-a)*(f(a)/(f(b)-f(a))))\n",
    "    print(\"{: >3} {: >20} {: >20} {: >20} {: >20}\".format(i,(a+b)/2,a,b,abs(m[-2]-m[-1])))\n",
    "    \n",
    "    print(\"\\n\\nRaiz: \", m[-1])"
   ]
  },
  {
   "cell_type": "markdown",
   "metadata": {},
   "source": [
    "### 1.2.1 Ejemplo"
   ]
  },
  {
   "cell_type": "code",
   "execution_count": 90,
   "metadata": {},
   "outputs": [],
   "source": [
    "def f(x):\n",
    "    return 2*x - np.exp(-x)"
   ]
  },
  {
   "cell_type": "code",
   "execution_count": 91,
   "metadata": {},
   "outputs": [
    {
     "data": {
      "text/plain": [
       "True"
      ]
     },
     "execution_count": 91,
     "metadata": {},
     "output_type": "execute_result"
    }
   ],
   "source": [
    "cumple_teorema_del_bolzano(f,[0,1])"
   ]
  },
  {
   "cell_type": "code",
   "execution_count": 97,
   "metadata": {},
   "outputs": [
    {
     "name": "stdout",
     "output_type": "stream",
     "text": [
      "  i                    m                    a                    b                error\n",
      "\n",
      "  0   0.3799218073981598                  0.0                  1.0   0.3799218073981598\n",
      "  1  0.35311057005576196                  0.0   0.3799218073981598  0.02681123734239782\n",
      "  2  0.35180129704735125                  0.0  0.35311057005576196 0.0013092730084107163\n",
      "  3  0.17590064852367562                  0.0  0.35180129704735125 6.426741923926116e-05\n",
      "\n",
      "\n",
      "Raiz:  0.351737029628112\n"
     ]
    }
   ],
   "source": [
    "regula_falsi(f,[0,1],0.002)"
   ]
  },
  {
   "cell_type": "markdown",
   "metadata": {},
   "source": [
    "## 2. MÉTODOS ITERATIVOS"
   ]
  },
  {
   "cell_type": "markdown",
   "metadata": {},
   "source": [
    "## 2.1 Método de punto fijo"
   ]
  },
  {
   "cell_type": "code",
   "execution_count": null,
   "metadata": {},
   "outputs": [],
   "source": []
  },
  {
   "cell_type": "code",
   "execution_count": 99,
   "metadata": {},
   "outputs": [],
   "source": [
    "def error_relativo(actual, anterior):\n",
    "    return abs((actual-anterior)/actual)"
   ]
  },
  {
   "cell_type": "code",
   "execution_count": 101,
   "metadata": {},
   "outputs": [],
   "source": [
    "def metodo_punto_fijo(g, p, error_relativo):\n",
    "    \n",
    "    print(\"{: >3} {: >20} {: >20}\".format(\"k\",\"x\",\"error\"))\n",
    "        \n",
    "    k = 1\n",
    "    x = np.float64(p)\n",
    "    anterior = x\n",
    "    actual = g(x)\n",
    "    \n",
    "    while(error_relativo(actual, anterior) >= error_relativo):\n",
    "        \n",
    "        print(\"{: >3} {: >20} {: >20}\".format(k,actual,error_relativo(actual, anterior)))\n",
    "        \n",
    "        anterior = actual\n",
    "        actual = g(anterior)\n",
    "        \n",
    "        k += 1\n",
    "\n",
    "    print(\"{: >3} {: >20} {: >20}\".format(k,actual,error_relativo(actual, anterior)))"
   ]
  },
  {
   "cell_type": "code",
   "execution_count": null,
   "metadata": {},
   "outputs": [],
   "source": [
    "def metodo_punto_fijo(f, p, error_relativo):\n",
    "    \n",
    "    print(\"{: >3} {: >20} {: >20}\".format(\"k\",\"x\",\"error\"))\n",
    "        \n",
    "    k = 1\n",
    "    x = np.float64(p)\n",
    "    anterior = x\n",
    "    actual = x-f(x)\n",
    "    \n",
    "    while(error_relativo(actual, anterior) >= error_relativo):\n",
    "        \n",
    "        print(\"{: >3} {: >20} {: >20}\".format(k,actual,error_relativo(actual, anterior)))\n",
    "        \n",
    "        anterior = actual\n",
    "        actual = x-f(anterior)\n",
    "        \n",
    "        k += 1\n",
    "\n",
    "    print(\"{: >3} {: >20} {: >20}\".format(k,actual,error_relativo(actual, anterior)))"
   ]
  }
 ],
 "metadata": {
  "kernelspec": {
   "display_name": "Python 3",
   "language": "python",
   "name": "python3"
  },
  "language_info": {
   "codemirror_mode": {
    "name": "ipython",
    "version": 3
   },
   "file_extension": ".py",
   "mimetype": "text/x-python",
   "name": "python",
   "nbconvert_exporter": "python",
   "pygments_lexer": "ipython3",
   "version": "3.6.10"
  }
 },
 "nbformat": 4,
 "nbformat_minor": 4
}
