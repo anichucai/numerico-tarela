{
 "cells": [
  {
   "cell_type": "markdown",
   "metadata": {},
   "source": [
    "# Análisis Numérico I - FIUBA (Cátedra Tarela)\n",
    "# Ecuaciones No Lineales"
   ]
  },
  {
   "cell_type": "markdown",
   "metadata": {},
   "source": [
    "## 1er cuatrimestre 2020"
   ]
  },
  {
   "cell_type": "code",
   "execution_count": 1,
   "metadata": {},
   "outputs": [],
   "source": [
    "import numpy as np\n",
    "import sympy as sp\n",
    "import math\n",
    "import matplotlib.pyplot as plt\n",
    "from sympy.calculus.util import continuous_domain"
   ]
  },
  {
   "cell_type": "markdown",
   "metadata": {},
   "source": [
    "## Calculo del orden de conergencia"
   ]
  },
  {
   "cell_type": "code",
   "execution_count": 2,
   "metadata": {},
   "outputs": [],
   "source": [
    "def orden_de_convergencia(errores):\n",
    "    e1, e2, e3= errores[-3], errores[-2], errores[-1]\n",
    "    P = math.log(e3/e2) / math.log(e2/e1)\n",
    "    \n",
    "    print(\"P: \", P)"
   ]
  },
  {
   "cell_type": "code",
   "execution_count": 109,
   "metadata": {},
   "outputs": [
    {
     "name": "stdout",
     "output_type": "stream",
     "text": [
      "P:  2.064369355544681\n"
     ]
    }
   ],
   "source": [
    "errores = [(1.593411251-1.556724973),-(1.556724973-1.573672129), -(1.573672129-1.577113197)]\n",
    "orden_de_convergencia(errores)"
   ]
  },
  {
   "cell_type": "code",
   "execution_count": 108,
   "metadata": {},
   "outputs": [
    {
     "data": {
      "text/plain": [
       "[0.03668627800000013, 0.016947156000000074, 0.0034410680000001026]"
      ]
     },
     "execution_count": 108,
     "metadata": {},
     "output_type": "execute_result"
    }
   ],
   "source": [
    "errores"
   ]
  },
  {
   "cell_type": "markdown",
   "metadata": {},
   "source": [
    "## 1. MÉTODOS DE ARRANQUE"
   ]
  },
  {
   "cell_type": "markdown",
   "metadata": {},
   "source": [
    "Función que comprueba si el teorema del Bolzano se cumple para un intervalo en cierta función. Es decir, combrueba si hay una raiz en el intervalo para cierta función."
   ]
  },
  {
   "cell_type": "code",
   "execution_count": 3,
   "metadata": {},
   "outputs": [],
   "source": [
    "def cumple_teorema_del_bolzano(f,intervalo):\n",
    "    a = np.float64(intervalo[0])\n",
    "    b = np.float64(intervalo[1])\n",
    "    return(f(a)*f(b)<0)"
   ]
  },
  {
   "cell_type": "markdown",
   "metadata": {},
   "source": [
    "## 1.1 Método bisección"
   ]
  },
  {
   "cell_type": "markdown",
   "metadata": {},
   "source": [
    "Calcula la cantidad de pasos o iteraciones a realizar en el método biseccion para encontrar una raíz en cierto interalo con cierto valor absoluto."
   ]
  },
  {
   "cell_type": "code",
   "execution_count": 4,
   "metadata": {},
   "outputs": [],
   "source": [
    "def biseccion_cant_pasos(intervalo, error_absoluto):\n",
    "    a = np.float64(intervalo[0])\n",
    "    b = np.float64(intervalo[1])\n",
    "    return np.log2((b-a)/error_absoluto)"
   ]
  },
  {
   "cell_type": "markdown",
   "metadata": {},
   "source": [
    "Calcula el error absoluo del método biseccion para encontrar una raíz en cierto interalo con cierto n número de iteraciones o pasos."
   ]
  },
  {
   "cell_type": "code",
   "execution_count": 5,
   "metadata": {},
   "outputs": [],
   "source": [
    "def biseccion_error_asoluto(intervalo, n):\n",
    "    a = np.float64(intervalo[0])\n",
    "    b = np.float64(intervalo[1])\n",
    "    return (b-a)/(2**n)"
   ]
  },
  {
   "cell_type": "markdown",
   "metadata": {},
   "source": [
    "Calcula la raíz de una función en un intervalo utilizando el método numérico bisección.\n",
    "La condición de corte es el error absoluto."
   ]
  },
  {
   "cell_type": "code",
   "execution_count": 6,
   "metadata": {},
   "outputs": [],
   "source": [
    "def biseccion_1(f,intervalo,error_absoluto):\n",
    "        \n",
    "    i = 0\n",
    "    \n",
    "    a = np.float64(intervalo[0])\n",
    "    b = np.float64(intervalo[1])\n",
    "    \n",
    "    errores = [np.float64((b-a)/2)]\n",
    "    \n",
    "    if(not cumple_teorema_del_bolzano(f,intervalo)):\n",
    "        print(\"No cumple teorema del Bolzano\")\n",
    "        return\n",
    "    \n",
    "    print(\"{: >3} {: >20} {: >20} {: >20} {: >20}\\n\".format(\"i\",\"m\",\"a\",\"b\", \"error\"))\n",
    "\n",
    "    while(errores[-1] >= np.float64(error_absoluto)):\n",
    "\n",
    "        m = (a+b)/2\n",
    "\n",
    "        print(\"{: >3} {: >20} {: >20} {: >20} {: >20}\".format(i,m,a,b,errores[-1]))\n",
    "        \n",
    "        if(f(m)==0): return m\n",
    "        \n",
    "        if(f(m)*f(a)<0 ):\n",
    "            b = m\n",
    "        else:\n",
    "            a = m\n",
    "        \n",
    "        i+=1\n",
    "        errores.append((b-a)/2)\n",
    "    \n",
    "    print(\"{: >3} {: >20} {: >20} {: >20} {: >20}\".format(i,(a+b)/2,a,b,errores[-1]))\n",
    "    \n",
    "    print(\"\\n\\nRaiz: \", m)\n",
    "    \n",
    "    return errores"
   ]
  },
  {
   "cell_type": "markdown",
   "metadata": {},
   "source": [
    "Calcula la raíz de una función en un intervalo utilizando el método numérico bisección.\n",
    "La condición de corte es la cantidad de iteraciones o pasos a realizar."
   ]
  },
  {
   "cell_type": "code",
   "execution_count": 7,
   "metadata": {},
   "outputs": [],
   "source": [
    "def biseccion_2(f,intervalo,n_iteraciones):\n",
    "    \n",
    "    print(\"{: >3} {: >20} {: >20} {: >20} {: >20}\\n\".format(\"i\",\"m\",\"a\",\"b\", \"error\"))\n",
    "    \n",
    "    a = np.float64(intervalo[0])\n",
    "    b = np.float64(intervalo[1])\n",
    "    \n",
    "    errores = [np.float64((b-a)/2)]\n",
    "    \n",
    "    if( not cumple_teorema_del_bolzano(f,intervalo)):\n",
    "        print(\"No cumple teorema del Bolzano\")\n",
    "        return\n",
    "    \n",
    "    for i in range(n_iteraciones-1):\n",
    "                \n",
    "        m = (a+b)/2\n",
    "        \n",
    "        print(\"{: >3} {: >20} {: >20} {: >20} {: >20}\".format(i,m,a,b,errores[-1]))\n",
    "        \n",
    "        if(f(m)==0): return m\n",
    "        \n",
    "        if(f(m)*f(a)<0 ):\n",
    "            b = m\n",
    "        else:\n",
    "            a = m\n",
    "        \n",
    "        errores.append((b-a)/2)\n",
    "    \n",
    "    print(\"{: >3} {: >20} {: >20} {: >20} {: >20}\".format(i+1,(a+b)/2,a,b,errores[-1]))\n",
    "    \n",
    "    print(\"\\n\\nRaiz: \", m)\n",
    "    \n",
    "    return errores"
   ]
  },
  {
   "cell_type": "markdown",
   "metadata": {},
   "source": [
    "### 1.1.1 Ejemplo"
   ]
  },
  {
   "cell_type": "code",
   "execution_count": 8,
   "metadata": {},
   "outputs": [],
   "source": [
    "def f(x):\n",
    "    return 2*x - np.exp(-x)"
   ]
  },
  {
   "cell_type": "code",
   "execution_count": 9,
   "metadata": {},
   "outputs": [
    {
     "data": {
      "text/plain": [
       "True"
      ]
     },
     "execution_count": 9,
     "metadata": {},
     "output_type": "execute_result"
    }
   ],
   "source": [
    "cumple_teorema_del_bolzano(f,[0,1])"
   ]
  },
  {
   "cell_type": "code",
   "execution_count": 10,
   "metadata": {},
   "outputs": [
    {
     "data": {
      "text/plain": [
       "0.015625"
      ]
     },
     "execution_count": 10,
     "metadata": {},
     "output_type": "execute_result"
    }
   ],
   "source": [
    "biseccion_error_asoluto([0,1], 6)"
   ]
  },
  {
   "cell_type": "code",
   "execution_count": 11,
   "metadata": {},
   "outputs": [
    {
     "data": {
      "text/plain": [
       "5.643856189774724"
      ]
     },
     "execution_count": 11,
     "metadata": {},
     "output_type": "execute_result"
    }
   ],
   "source": [
    "biseccion_cant_pasos([0,1],0.02)"
   ]
  },
  {
   "cell_type": "code",
   "execution_count": 12,
   "metadata": {},
   "outputs": [
    {
     "name": "stdout",
     "output_type": "stream",
     "text": [
      "  i                    m                    a                    b                error\n",
      "\n",
      "  0                  0.5                  0.0                  1.0                  0.5\n",
      "  1                 0.25                  0.0                  0.5                 0.25\n",
      "  2                0.375                 0.25                  0.5                0.125\n",
      "  3               0.3125                 0.25                0.375               0.0625\n",
      "  4              0.34375               0.3125                0.375              0.03125\n",
      "  5             0.359375              0.34375                0.375             0.015625\n",
      "\n",
      "\n",
      "Raiz:  0.34375\n"
     ]
    }
   ],
   "source": [
    "errores = biseccion_1(f,[0,1],0.02)"
   ]
  },
  {
   "cell_type": "code",
   "execution_count": 13,
   "metadata": {},
   "outputs": [
    {
     "name": "stdout",
     "output_type": "stream",
     "text": [
      "  i                    m                    a                    b                error\n",
      "\n",
      "  0                  0.5                  0.0                  1.0                  0.5\n",
      "  1                 0.25                  0.0                  0.5                 0.25\n",
      "  2                0.375                 0.25                  0.5                0.125\n",
      "  3               0.3125                 0.25                0.375               0.0625\n",
      "  4              0.34375               0.3125                0.375              0.03125\n",
      "  5             0.359375              0.34375                0.375             0.015625\n",
      "\n",
      "\n",
      "Raiz:  0.34375\n"
     ]
    }
   ],
   "source": [
    "errores = biseccion_2(f,[0,1],6)"
   ]
  },
  {
   "cell_type": "code",
   "execution_count": 14,
   "metadata": {},
   "outputs": [
    {
     "name": "stdout",
     "output_type": "stream",
     "text": [
      "P:  1.0\n"
     ]
    }
   ],
   "source": [
    "orden_de_convergencia(errores)"
   ]
  },
  {
   "cell_type": "markdown",
   "metadata": {},
   "source": [
    "## 1.2 Método Regula-Falsi"
   ]
  },
  {
   "cell_type": "markdown",
   "metadata": {},
   "source": [
    "Calcula la raíz de una función en un intervalo utilizando el método numérico Regula-Falsi.\n",
    "La condición de corte es el error absoluto."
   ]
  },
  {
   "cell_type": "code",
   "execution_count": 15,
   "metadata": {},
   "outputs": [],
   "source": [
    "def regula_falsi(f,intervalo,error_absoluto):\n",
    "        \n",
    "    i = 0\n",
    "    \n",
    "    a = np.float64(intervalo[0])\n",
    "    b = np.float64(intervalo[1])\n",
    "    \n",
    "    \n",
    "    if(not cumple_teorema_del_bolzano(f,intervalo)):\n",
    "        print(\"No cumple teorema del Bolzano\")\n",
    "        return\n",
    "    \n",
    "    print(\"{: >3} {: >20} {: >20} {: >20} {: >20}\\n\".format(\"i\",\"m\",\"a\",\"b\", \"error\"))\n",
    "    \n",
    "    m = [0]\n",
    "    errores = [np.inf]\n",
    "\n",
    "    while(errores[-1] >= np.float64(error_absoluto)):\n",
    "\n",
    "        m.append(a - (b-a)*(f(a)/(f(b)-f(a))))\n",
    "        errores.append(abs(m[-2]-m[-1]))\n",
    "        print(\"{: >3} {: >20} {: >20} {: >20} {: >20}\".format(i,m[-1],a,b,errores[-1]))\n",
    "        \n",
    "        if(f(m[-1])==0): return m[-1]\n",
    "        \n",
    "        if(f(m[-1])*f(a)<0 ):\n",
    "            b = m[-1] \n",
    "        else:\n",
    "            a = m[-1]\n",
    "        \n",
    "        i+=1\n",
    "        \n",
    "    \n",
    "    m.append(a - (b-a)*(f(a)/(f(b)-f(a))))\n",
    "    errores.append(abs(m[-2]-m[-1]))\n",
    "    \n",
    "    print(\"{: >3} {: >20} {: >20} {: >20} {: >20}\".format(i,(a+b)/2,a,b,errores[-1]))\n",
    "    \n",
    "    print(\"\\n\\nRaiz: \", m[-1])\n",
    "    \n",
    "    return errores[2:]"
   ]
  },
  {
   "cell_type": "markdown",
   "metadata": {},
   "source": [
    "### 1.2.1 Ejemplo"
   ]
  },
  {
   "cell_type": "code",
   "execution_count": 16,
   "metadata": {},
   "outputs": [],
   "source": [
    "def f(x):\n",
    "    return 2*x - np.exp(-x)"
   ]
  },
  {
   "cell_type": "code",
   "execution_count": 17,
   "metadata": {},
   "outputs": [
    {
     "data": {
      "text/plain": [
       "True"
      ]
     },
     "execution_count": 17,
     "metadata": {},
     "output_type": "execute_result"
    }
   ],
   "source": [
    "cumple_teorema_del_bolzano(f,[0,1])"
   ]
  },
  {
   "cell_type": "code",
   "execution_count": 18,
   "metadata": {},
   "outputs": [
    {
     "name": "stdout",
     "output_type": "stream",
     "text": [
      "  i                    m                    a                    b                error\n",
      "\n",
      "  0   0.3799218073981598                  0.0                  1.0   0.3799218073981598\n",
      "  1  0.35311057005576196                  0.0   0.3799218073981598  0.02681123734239782\n",
      "  2  0.35180129704735125                  0.0  0.35311057005576196 0.0013092730084107163\n",
      "  3  0.17590064852367562                  0.0  0.35180129704735125 6.426741923926116e-05\n",
      "\n",
      "\n",
      "Raiz:  0.351737029628112\n"
     ]
    }
   ],
   "source": [
    "errores = regula_falsi(f,[0,1],0.002)"
   ]
  },
  {
   "cell_type": "code",
   "execution_count": 19,
   "metadata": {},
   "outputs": [
    {
     "name": "stdout",
     "output_type": "stream",
     "text": [
      "P:  0.9982861959901163\n"
     ]
    }
   ],
   "source": [
    "orden_de_convergencia(errores)"
   ]
  },
  {
   "cell_type": "markdown",
   "metadata": {},
   "source": [
    "## 2. MÉTODOS ITERATIVOS"
   ]
  },
  {
   "cell_type": "code",
   "execution_count": 20,
   "metadata": {},
   "outputs": [],
   "source": [
    "def graph(f, intervalo):\n",
    "    \n",
    "    i1, i2 = intervalo[0], intervalo[1]\n",
    "    \n",
    "    x = np.linspace(i1,i2,100)\n",
    "    y = [f(p) for p in x]\n",
    "                 \n",
    "    plt.plot(x, y)  \n",
    "    plt.show()"
   ]
  },
  {
   "cell_type": "code",
   "execution_count": 21,
   "metadata": {},
   "outputs": [],
   "source": [
    "def cumple_condiciones_punto_fijo(g, intervalo):\n",
    "    \n",
    "    x = sp.Symbol('x')\n",
    "    y = g(x)\n",
    "    \n",
    "    Intervalo_continuidad_g = continuous_domain(y, x, sp.S.Reals)\n",
    "    g_derivada =  y.diff(x)\n",
    "    Intervalo_continuidad_g_derivada = continuous_domain(g_derivada, x, sp.S.Reals)\n",
    "\n",
    "    print(\"g(x)=\",y)\n",
    "    print(\"Continua en [{},{}]:\".format(intervalo[0],intervalo[1]), Intervalo_continuidad_g)\n",
    "    print(\"Imagen de g(x) pertenece a [{},{}]:\".format(intervalo[0],intervalo[1]),\"\\n\")\n",
    "    graph(g, intervalo)\n",
    "    \n",
    "\n",
    "    print(\"Existe g'(x)=\",g_derivada)\n",
    "    print(\"g'(x) es continua en [{},{}]:\".format(intervalo[0],intervalo[1]), Intervalo_continuidad_g_derivada)\n",
    "    print(\"Existe k<|g'(x)|<1 en [{},{}]:\".format(intervalo[0],intervalo[1]))\n",
    "    graph(sp.lambdify(x, g_derivada, \"math\"), intervalo)"
   ]
  },
  {
   "cell_type": "markdown",
   "metadata": {},
   "source": [
    "## 2.1 Método de punto fijo"
   ]
  },
  {
   "cell_type": "code",
   "execution_count": 22,
   "metadata": {},
   "outputs": [],
   "source": [
    "def error_relativo(actual, anterior):\n",
    "    return abs((actual-anterior)/actual)"
   ]
  },
  {
   "cell_type": "code",
   "execution_count": 23,
   "metadata": {},
   "outputs": [],
   "source": [
    "def metodo_punto_fijo_1(g, p, error_relativo):\n",
    "    \n",
    "    print(\"{: >3} {: >20} {: >20}\".format(\"k\",\"x\",\"error\"))\n",
    "        \n",
    "    k = 0\n",
    "    x = np.float64(p)\n",
    "    anterior = x\n",
    "    actual = g(x)\n",
    "    \n",
    "    errores_relativos = [error_relativo(actual, anterior)]\n",
    "    \n",
    "    while(error_relativos[-1] >= error_relativo):\n",
    "        \n",
    "        print(\"{: >3} {: >20} {: >20}\".format(k,actual,error_relativos[-1]))\n",
    "        \n",
    "        anterior = actual\n",
    "        actual = g(anterior)\n",
    "        \n",
    "        k += 1\n",
    "        errores_relativos.append(error_relativo(actual, anterior))\n",
    "\n",
    "    print(\"{: >3} {: >20} {: >20}\".format(k,actual,error_relativos[-1]))\n",
    "    print(\"\\n\\nRaiz: \", actual)\n",
    "    \n",
    "    return errores_relativos"
   ]
  },
  {
   "cell_type": "code",
   "execution_count": 24,
   "metadata": {},
   "outputs": [],
   "source": [
    "def metodo_punto_fijo_2(g, p, error_absoluto):\n",
    "    \n",
    "    print(\"{: >3} {: >20} {: >20} {: >20}\".format(\"k\",\"Xn\",\"Xn+1\",\"error\"))\n",
    "    \n",
    "    k = 0\n",
    "\n",
    "    anterior = np.float64(p)\n",
    "    actual = np.float64(g(p))\n",
    "    \n",
    "    errores_absolutos = [abs(actual-anterior)]\n",
    "            \n",
    "    while(errores_absolutos[-1] >= error_absoluto):\n",
    "                \n",
    "        print(\"{: >3} {: >20} {: >20} {: >20}\".format(k,anterior,actual,errores_absolutos[-1]))\n",
    "        \n",
    "        anterior = actual\n",
    "        actual = g(anterior)\n",
    "        \n",
    "        k += 1\n",
    "        errores_absolutos.append(abs(actual-anterior))\n",
    "\n",
    "    print(\"{: >3} {: >20} {: >20} {: >20}\".format(k,anterior, actual, errores_absolutos[-1]))\n",
    "    \n",
    "    print(\"\\n\\nRaiz: \", actual)\n",
    "    \n",
    "    return errores_absolutos"
   ]
  },
  {
   "cell_type": "markdown",
   "metadata": {},
   "source": [
    "### 2.1.1 Ejemplo"
   ]
  },
  {
   "cell_type": "code",
   "execution_count": 73,
   "metadata": {},
   "outputs": [],
   "source": [
    "def f(x):\n",
    "    return sp.sin(0.1*x)+0.3*x-2.3"
   ]
  },
  {
   "cell_type": "code",
   "execution_count": 83,
   "metadata": {},
   "outputs": [],
   "source": [
    "g = lambda x: (sp.sin(0.1*x)-2.3)/0.3"
   ]
  },
  {
   "cell_type": "code",
   "execution_count": 84,
   "metadata": {},
   "outputs": [
    {
     "name": "stdout",
     "output_type": "stream",
     "text": [
      "g(x)= 3.33333333333333*sin(0.1*x) - 7.66666666666667\n",
      "Continua en [-12,1]: Reals\n",
      "Imagen de g(x) pertenece a [-12,1]: \n",
      "\n"
     ]
    },
    {
     "data": {
      "image/png": "[encoded data removed]",
      "text/plain": [
       "<Figure size 432x288 with 1 Axes>"
      ]
     },
     "metadata": {
      "needs_background": "light"
     },
     "output_type": "display_data"
    },
    {
     "name": "stdout",
     "output_type": "stream",
     "text": [
      "Existe g'(x)= 0.333333333333333*cos(0.1*x)\n",
      "g'(x) es continua en [-12,1]: Reals\n",
      "Existe k<|g'(x)|<1 en [-12,1]:\n"
     ]
    },
    {
     "data": {
      "image/png": "[encoded data removed]",
      "text/plain": [
       "<Figure size 432x288 with 1 Axes>"
      ]
     },
     "metadata": {
      "needs_background": "light"
     },
     "output_type": "display_data"
    }
   ],
   "source": [
    "cumple_condiciones_punto_fijo(g,[-12,1])"
   ]
  },
  {
   "cell_type": "code",
   "execution_count": 85,
   "metadata": {},
   "outputs": [
    {
     "name": "stdout",
     "output_type": "stream",
     "text": [
      "  k                   Xn                 Xn+1                error\n",
      "  0                  1.0  -7.3338886111772394     8.33388861117724\n",
      "  1  -7.3338886111772394    -9.89797031146595     2.56408170028871\n",
      "  2    -9.89797031146595    -10.4530486480960    0.555078336630039\n",
      "  3    -10.4530486480960    -10.5502583666386   0.0972097185425689\n",
      "\n",
      "\n",
      "Raiz:  -10.5502583666386\n"
     ]
    }
   ],
   "source": [
    "errores = metodo_punto_fijo_2(g, 1, 0.5)"
   ]
  },
  {
   "cell_type": "code",
   "execution_count": 86,
   "metadata": {},
   "outputs": [
    {
     "name": "stdout",
     "output_type": "stream",
     "text": [
      "P:  1.1385346334018553\n"
     ]
    }
   ],
   "source": [
    "orden_de_convergencia(errores)"
   ]
  },
  {
   "cell_type": "markdown",
   "metadata": {},
   "source": [
    "## 2.2 Método de Newton-Raphson"
   ]
  },
  {
   "cell_type": "markdown",
   "metadata": {},
   "source": [
    "Función que devuelve el polinomio de Newton Raphson"
   ]
  },
  {
   "cell_type": "code",
   "execution_count": 30,
   "metadata": {},
   "outputs": [],
   "source": [
    "def g_nr(f):\n",
    "    \n",
    "    x = sp.Symbol('x')\n",
    "    y = f(x)\n",
    "\n",
    "    yderivada =  y.diff(x)\n",
    "    \n",
    "    g_nr = x - y/yderivada\n",
    "    \n",
    "    print(g_nr)\n",
    "        \n",
    "    return sp.lambdify(x, g_nr, \"sympy\")"
   ]
  },
  {
   "cell_type": "code",
   "execution_count": 55,
   "metadata": {},
   "outputs": [],
   "source": [
    "def f(x):\n",
    "    return sp.sin(x) + 3*x - 8"
   ]
  },
  {
   "cell_type": "code",
   "execution_count": 56,
   "metadata": {},
   "outputs": [
    {
     "name": "stdout",
     "output_type": "stream",
     "text": [
      "x - (3*x + sin(x) - 8)/(cos(x) + 3)\n"
     ]
    },
    {
     "data": {
      "text/plain": [
       "<function _lambdifygenerated>"
      ]
     },
     "execution_count": 56,
     "metadata": {},
     "output_type": "execute_result"
    }
   ],
   "source": [
    "g_nr(f)"
   ]
  },
  {
   "cell_type": "markdown",
   "metadata": {},
   "source": [
    "Función que ayuda a identificar si se cumplen las condiciones para utilizar el método de Newton Raphson."
   ]
  },
  {
   "cell_type": "code",
   "execution_count": 31,
   "metadata": {},
   "outputs": [],
   "source": [
    "# función auxiliar de la función newton_raphson_condiciones\n",
    "\n",
    "def cumple_extra_nr(f, intervalo):\n",
    "        \n",
    "    x = sp.Symbol('x')\n",
    "    y = f(x)\n",
    "    \n",
    "    f_derivada =  y.diff(x)\n",
    "    f_derivada_doble =  f_derivada.diff(x)\n",
    "        \n",
    "    print(\"Existe  f''(x)=\", f_derivada_doble)\n",
    "    print(\"f'(x)!=0 para todo [{},{}]:\".format(intervalo[0],intervalo[1]))\n",
    "    graph(sp.lambdify(x, f_derivada, \"sympy\"), intervalo)"
   ]
  },
  {
   "cell_type": "code",
   "execution_count": 32,
   "metadata": {},
   "outputs": [],
   "source": [
    "def newton_raphson_condiciones(f, g, intervalo):\n",
    "    \n",
    "    print(\"CONDICIONES EXTRA NEWTON RAPHSON\\n\")\n",
    "    cumple_extra_nr(f, intervalo)\n",
    "    \n",
    "    print(\"CONDICIONES DE PUNTO FIJO\\n\")\n",
    "    cumple_condiciones_punto_fijo(g,intervalo)\n",
    "    "
   ]
  },
  {
   "cell_type": "markdown",
   "metadata": {},
   "source": [
    "### 2.2.1 Ejemplo"
   ]
  },
  {
   "cell_type": "code",
   "execution_count": 33,
   "metadata": {},
   "outputs": [],
   "source": [
    "def f(x):\n",
    "    return (x**2)/4 - sp.sin(x)"
   ]
  },
  {
   "cell_type": "code",
   "execution_count": 34,
   "metadata": {},
   "outputs": [
    {
     "name": "stdout",
     "output_type": "stream",
     "text": [
      "x - (x**2/4 - sin(x))/(x/2 - cos(x))\n"
     ]
    }
   ],
   "source": [
    "g = g_nr(f)"
   ]
  },
  {
   "cell_type": "code",
   "execution_count": 35,
   "metadata": {},
   "outputs": [],
   "source": [
    "# BUG: hay que agregar manualmente las dependencias a la libreria sp.\n",
    "# Necesita que usemos sp y no math u otra.\n",
    "g_NR = lambda x: x - ((x**2)/4 - sp.sin(x))/(x/2 - sp.cos(x))"
   ]
  },
  {
   "cell_type": "code",
   "execution_count": 36,
   "metadata": {},
   "outputs": [
    {
     "name": "stdout",
     "output_type": "stream",
     "text": [
      "CONDICIONES EXTRA NEWTON RAPHSON\n",
      "\n",
      "Existe  f''(x)= sin(x) + 1/2\n",
      "f'(x)!=0 para todo [1.8,2]:\n"
     ]
    },
    {
     "data": {
      "image/png": "[encoded data removed]",
      "text/plain": [
       "<Figure size 432x288 with 1 Axes>"
      ]
     },
     "metadata": {
      "needs_background": "light"
     },
     "output_type": "display_data"
    },
    {
     "name": "stdout",
     "output_type": "stream",
     "text": [
      "CONDICIONES DE PUNTO FIJO\n",
      "\n",
      "g(x)= x - (x**2/4 - sin(x))/(x/2 - cos(x))\n",
      "Continua en [1.8,2]: Complement(Reals, Union(Complement(ConditionSet(x, Eq(2*x - 4*cos(x), 0), Reals), ConditionSet(x, Eq(-x**2 + 2*x*(x - 2*cos(x)) + 4*sin(x), 0), Complexes)), ConditionSet(x, Eq(2*x - 4*cos(x), 0), Reals)))\n",
      "Imagen de g(x) pertenece a [1.8,2]: \n",
      "\n"
     ]
    },
    {
     "data": {
      "image/png": "[encoded data removed]",
      "text/plain": [
       "<Figure size 432x288 with 1 Axes>"
      ]
     },
     "metadata": {
      "needs_background": "light"
     },
     "output_type": "display_data"
    },
    {
     "name": "stdout",
     "output_type": "stream",
     "text": [
      "Existe g'(x)= -(x**2/4 - sin(x))*(-sin(x) - 1/2)/(x/2 - cos(x))**2\n",
      "g'(x) es continua en [1.8,2]: Complement(Reals, Union(Complement(ConditionSet(x, Eq((x - 2*cos(x))**2, 0), Reals), Union(ConditionSet(x, Eq(x**2 - 4*sin(x), 0), Complexes), ImageSet(Lambda(_n, 2*_n*pi + 7*pi/6), Integers), ImageSet(Lambda(_n, 2*_n*pi + 11*pi/6), Integers))), ConditionSet(x, Eq(x - 2*cos(x), 0), Reals)))\n",
      "Existe k<|g'(x)|<1 en [1.8,2]:\n"
     ]
    },
    {
     "data": {
      "image/png": "[encoded data removed]",
      "text/plain": [
       "<Figure size 432x288 with 1 Axes>"
      ]
     },
     "metadata": {
      "needs_background": "light"
     },
     "output_type": "display_data"
    }
   ],
   "source": [
    "newton_raphson_condiciones(f,g_NR,[1.8,2])"
   ]
  },
  {
   "cell_type": "code",
   "execution_count": 37,
   "metadata": {},
   "outputs": [
    {
     "name": "stdout",
     "output_type": "stream",
     "text": [
      "  k                   Xn                 Xn+1                error\n",
      "  0                  1.8   1.9453578126314672   0.1453578126314672\n",
      "  1   1.9453578126314672     1.93382579422516   0.0115320184063046\n",
      "  2     1.93382579422516     1.93375376564266 0.0000720285825019928\n",
      "\n",
      "\n",
      "Raiz:  1.93375376564266\n"
     ]
    }
   ],
   "source": [
    "errores = metodo_punto_fijo_2(g_NR, 1.8, 0.01)"
   ]
  },
  {
   "cell_type": "code",
   "execution_count": 38,
   "metadata": {},
   "outputs": [
    {
     "name": "stdout",
     "output_type": "stream",
     "text": [
      "P:  2.0030297632237692\n"
     ]
    }
   ],
   "source": [
    "orden_de_convergencia(errores)"
   ]
  },
  {
   "cell_type": "markdown",
   "metadata": {},
   "source": [
    "## 2.3 Método de Secante"
   ]
  },
  {
   "cell_type": "code",
   "execution_count": 39,
   "metadata": {},
   "outputs": [],
   "source": [
    "def g_secante(f):\n",
    "    return lambda x1,x2: x2 - f(x2)* ((x2 -x1)/(f(x2)-f(x1)))"
   ]
  },
  {
   "cell_type": "code",
   "execution_count": 40,
   "metadata": {},
   "outputs": [],
   "source": [
    "def metodo_secante_1(g, semilla1, semilla2, error_absoluto):\n",
    "    \n",
    "    print(\"{: >3} {: >20} {: >20} {: >20} {: >20}\".format(\"k\",\"Xn-1\",\"Xn\",\"Xn+1\",\"error\"))\n",
    "    \n",
    "    k = 0\n",
    "\n",
    "    anterior1 = np.float64(semilla1)\n",
    "    anterior2 = np.float64(semilla2)\n",
    "    actual = g(anterior1, anterior2)\n",
    "    \n",
    "    errores = [abs(actual-anterior2)]\n",
    "\n",
    "            \n",
    "    while(errores[-1] >= error_absoluto):\n",
    "                \n",
    "        print(\"{: >3} {: >20} {: >20} {: >20} {: >20}\".format(k,anterior1, anterior2,actual,errores[-1]))\n",
    "        \n",
    "        anterior1 = anterior2\n",
    "        anterior2 = actual\n",
    "        actual = g(anterior1, anterior2)\n",
    "        \n",
    "        k += 1\n",
    "        errores.append(error_relativo(actual, anterior2))\n",
    "\n",
    "    print(\"{: >3} {: >20} {: >20} {: >20} {: >20}\".format(k,anterior1, anterior2, actual, errores[-1]))\n",
    "    \n",
    "    print(\"\\n\\nRaiz: \", actual)\n",
    "    \n",
    "    return errores"
   ]
  },
  {
   "cell_type": "code",
   "execution_count": 41,
   "metadata": {},
   "outputs": [],
   "source": [
    "def metodo_secante_2(g, semilla1, semilla2, error_relativo):\n",
    "    \n",
    "    print(\"{: >3} {: >20} {: >20} {: >20} {: >20}\".format(\"k\",\"Xn-1\",\"Xn\",\"Xn+1\",\"error\"))\n",
    "        \n",
    "    k = 0\n",
    "    \n",
    "    anterior1 = np.float64(semilla1)\n",
    "    anterior2 = np.float64(semilla2)\n",
    "    actual = g(anterior1, anterior2)\n",
    "    \n",
    "    errores = [error_relativo(actual, anterior2)]\n",
    "    \n",
    "    while(errores[-1] >= error_relativo):\n",
    "        \n",
    "        print(\"{: >3} {: >20} {: >20} {: >20} {: >20}\".format(k,anterior1, anterior2,actual,errores[-1]))\n",
    "        \n",
    "        anterior1 = anterior2\n",
    "        anterior2 = actual\n",
    "        actual = g(anterior1, anterior2)\n",
    "        \n",
    "        k += 1\n",
    "        errores.append(error_relativo(actual, anterior2))\n",
    "\n",
    "    print(\"{: >3} {: >20} {: >20} {: >20} {: >20}\".format(k,anterior1, anterior2, actual, errores[-1]))\n",
    "    \n",
    "    print(\"\\n\\nRaiz: \", actual)\n",
    "    \n",
    "    return errores"
   ]
  },
  {
   "cell_type": "markdown",
   "metadata": {},
   "source": [
    "### 2.2.1 Ejemplo"
   ]
  },
  {
   "cell_type": "code",
   "execution_count": 42,
   "metadata": {},
   "outputs": [],
   "source": [
    "def f(x):\n",
    "    return (x**2)/4 - sp.sin(x)"
   ]
  },
  {
   "cell_type": "code",
   "execution_count": 43,
   "metadata": {},
   "outputs": [],
   "source": [
    "g_secante = g_secante(f)"
   ]
  },
  {
   "cell_type": "code",
   "execution_count": 44,
   "metadata": {},
   "outputs": [
    {
     "name": "stdout",
     "output_type": "stream",
     "text": [
      "  k                 Xn-1                   Xn                 Xn+1                error\n",
      "  0                 1.75                1.875     1.94063310911454   0.0656331091145357\n",
      "  1                1.875     1.94063310911454     1.93352709066909  0.00367515846027375\n",
      "  2     1.94063310911454     1.93352709066909     1.93375292004736 0.000116782953979575\n",
      "\n",
      "\n",
      "Raiz:  1.93375292004736\n"
     ]
    }
   ],
   "source": [
    "# g_secante es la aproximación discreta del polinomio de Newton Raphson.\n",
    "# Luego, se probó anteriormente que el polinomio convergía en el intervalo [1.8,2]\n",
    "errores = metodo_secante_1(g_secante, 1.75, 1.875, 0.001)"
   ]
  },
  {
   "cell_type": "code",
   "execution_count": 45,
   "metadata": {},
   "outputs": [
    {
     "name": "stdout",
     "output_type": "stream",
     "text": [
      "P:  1.1965493563205216\n"
     ]
    }
   ],
   "source": [
    "orden_de_convergencia(errores)"
   ]
  }
 ],
 "metadata": {
  "kernelspec": {
   "display_name": "Python 3",
   "language": "python",
   "name": "python3"
  },
  "language_info": {
   "codemirror_mode": {
    "name": "ipython",
    "version": 3
   },
   "file_extension": ".py",
   "mimetype": "text/x-python",
   "name": "python",
   "nbconvert_exporter": "python",
   "pygments_lexer": "ipython3",
   "version": "3.6.10"
  }
 },
 "nbformat": 4,
 "nbformat_minor": 4
}
