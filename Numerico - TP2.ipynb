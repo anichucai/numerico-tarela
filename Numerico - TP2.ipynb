{
 "cells": [
  {
   "cell_type": "markdown",
   "metadata": {},
   "source": [
    "# ANEXO"
   ]
  },
  {
   "cell_type": "markdown",
   "metadata": {},
   "source": [
    "## Importo librerías"
   ]
  },
  {
   "cell_type": "code",
   "execution_count": 1,
   "metadata": {},
   "outputs": [],
   "source": [
    "import pandas as pd\n",
    "import datetime as dt\n",
    "import numpy as np\n",
    "import math\n",
    "import sys\n",
    "\n",
    "import sympy as sp\n",
    "from sympy.solvers import solve\n",
    "\n",
    "import scipy\n",
    "from scipy.linalg import solve as solve_matrix\n",
    "from scipy.integrate import quad\n",
    "\n",
    "import matplotlib.pyplot as plt"
   ]
  },
  {
   "cell_type": "markdown",
   "metadata": {},
   "source": [
    "# Preliminar"
   ]
  },
  {
   "cell_type": "markdown",
   "metadata": {},
   "source": [
    "** Leo datos del csv **"
   ]
  },
  {
   "cell_type": "code",
   "execution_count": 2,
   "metadata": {},
   "outputs": [],
   "source": [
    "info = pd.read_csv(\"DATOS_CHILE.csv\")"
   ]
  },
  {
   "cell_type": "markdown",
   "metadata": {},
   "source": [
    "** Calculo la cantidad de días entre los casos **"
   ]
  },
  {
   "cell_type": "code",
   "execution_count": 3,
   "metadata": {},
   "outputs": [],
   "source": [
    "#Se observa que el día cero es el 2020-03-04 ya que es el primer día en el que hay una infección\n",
    "\n",
    "dia_0 = dt.datetime(year=2020,month=3,day=4)"
   ]
  },
  {
   "cell_type": "code",
   "execution_count": 4,
   "metadata": {},
   "outputs": [],
   "source": [
    "# Le resto el día cero a la fecha actual\n",
    "\n",
    "info[\"day\"] = pd.to_datetime(info['date']) - dia_0\n",
    "info[\"day\"] = pd.to_numeric(info['day'].dt.days, downcast='integer')"
   ]
  },
  {
   "cell_type": "code",
   "execution_count": 5,
   "metadata": {},
   "outputs": [
    {
     "data": {
      "text/html": [
       "<div>\n",
       "<style scoped>\n",
       "    .dataframe tbody tr th:only-of-type {\n",
       "        vertical-align: middle;\n",
       "    }\n",
       "\n",
       "    .dataframe tbody tr th {\n",
       "        vertical-align: top;\n",
       "    }\n",
       "\n",
       "    .dataframe thead th {\n",
       "        text-align: right;\n",
       "    }\n",
       "</style>\n",
       "<table border=\"1\" class=\"dataframe\">\n",
       "  <thead>\n",
       "    <tr style=\"text-align: right;\">\n",
       "      <th></th>\n",
       "      <th>date</th>\n",
       "      <th>total_cases</th>\n",
       "      <th>new_cases</th>\n",
       "      <th>population</th>\n",
       "      <th>day</th>\n",
       "    </tr>\n",
       "  </thead>\n",
       "  <tbody>\n",
       "    <tr>\n",
       "      <th>0</th>\n",
       "      <td>2020-03-04</td>\n",
       "      <td>1</td>\n",
       "      <td>1</td>\n",
       "      <td>19116209</td>\n",
       "      <td>0</td>\n",
       "    </tr>\n",
       "    <tr>\n",
       "      <th>1</th>\n",
       "      <td>2020-03-05</td>\n",
       "      <td>3</td>\n",
       "      <td>2</td>\n",
       "      <td>19116209</td>\n",
       "      <td>1</td>\n",
       "    </tr>\n",
       "    <tr>\n",
       "      <th>2</th>\n",
       "      <td>2020-03-06</td>\n",
       "      <td>4</td>\n",
       "      <td>1</td>\n",
       "      <td>19116209</td>\n",
       "      <td>2</td>\n",
       "    </tr>\n",
       "    <tr>\n",
       "      <th>3</th>\n",
       "      <td>2020-03-07</td>\n",
       "      <td>5</td>\n",
       "      <td>1</td>\n",
       "      <td>19116209</td>\n",
       "      <td>3</td>\n",
       "    </tr>\n",
       "    <tr>\n",
       "      <th>4</th>\n",
       "      <td>2020-03-09</td>\n",
       "      <td>10</td>\n",
       "      <td>5</td>\n",
       "      <td>19116209</td>\n",
       "      <td>5</td>\n",
       "    </tr>\n",
       "  </tbody>\n",
       "</table>\n",
       "</div>"
      ],
      "text/plain": [
       "         date  total_cases  new_cases  population  day\n",
       "0  2020-03-04            1          1    19116209    0\n",
       "1  2020-03-05            3          2    19116209    1\n",
       "2  2020-03-06            4          1    19116209    2\n",
       "3  2020-03-07            5          1    19116209    3\n",
       "4  2020-03-09           10          5    19116209    5"
      ]
     },
     "execution_count": 5,
     "metadata": {},
     "output_type": "execute_result"
    }
   ],
   "source": [
    "info.head()"
   ]
  },
  {
   "cell_type": "markdown",
   "metadata": {},
   "source": [
    "** Verifico que total_cases coincide con new_cases acumulado **"
   ]
  },
  {
   "cell_type": "code",
   "execution_count": 6,
   "metadata": {},
   "outputs": [],
   "source": [
    "# Creo una nueva tabla para comparar\n",
    "\n",
    "info_comprobación = info[[\"total_cases\", 'new_cases']].copy()"
   ]
  },
  {
   "cell_type": "code",
   "execution_count": 7,
   "metadata": {},
   "outputs": [],
   "source": [
    "# Calculo new_cases acumulado\n",
    "\n",
    "for i in range(1, len(info_comprobación)):\n",
    "    info_comprobación.loc[i, 'new_cases'] = info_comprobación.loc[i-1, 'new_cases']  + info_comprobación.loc[i, 'new_cases']"
   ]
  },
  {
   "cell_type": "code",
   "execution_count": 8,
   "metadata": {},
   "outputs": [
    {
     "data": {
      "text/plain": [
       "True"
      ]
     },
     "execution_count": 8,
     "metadata": {},
     "output_type": "execute_result"
    }
   ],
   "source": [
    "# Comparo total_cases con new_cases acumulado y seobserva que los valores coinciden\n",
    "\n",
    "(info_comprobación[\"total_cases\"] == info_comprobación[\"total_cases\"]).all()"
   ]
  },
  {
   "cell_type": "markdown",
   "metadata": {},
   "source": [
    "** Observo que population es un valor constante **"
   ]
  },
  {
   "cell_type": "code",
   "execution_count": 9,
   "metadata": {},
   "outputs": [
    {
     "data": {
      "text/plain": [
       "19116209    120\n",
       "Name: population, dtype: int64"
      ]
     },
     "execution_count": 9,
     "metadata": {},
     "output_type": "execute_result"
    }
   ],
   "source": [
    "info[\"population\"].value_counts()"
   ]
  },
  {
   "cell_type": "code",
   "execution_count": 10,
   "metadata": {},
   "outputs": [],
   "source": [
    "total_cases = info[\"total_cases\"]"
   ]
  },
  {
   "cell_type": "markdown",
   "metadata": {},
   "source": [
    "## METODO A"
   ]
  },
  {
   "cell_type": "markdown",
   "metadata": {},
   "source": [
    "### A1) Discretización RK-2"
   ]
  },
  {
   "cell_type": "markdown",
   "metadata": {},
   "source": [
    "** Relleno df de ceros y valores iniciales para calcular la discretización **"
   ]
  },
  {
   "cell_type": "code",
   "execution_count": 11,
   "metadata": {},
   "outputs": [],
   "source": [
    "def inicializacion_df_SIR(m,N):\n",
    "    \n",
    "    info_A = pd.DataFrame()\n",
    "    info_A [\"day\"] = np.arange(0,m,1)\n",
    "    \n",
    "    info_A['un'] = np.float128(0.0)\n",
    "    info_A['vn'] = np.float128(0.0)\n",
    "    info_A['wn'] =np.float128(0.0)\n",
    "\n",
    "    # Primer infectado:inicializacion_df_RK\n",
    "    info_A.loc[0, 'vn'] = 1.0\n",
    "\n",
    "    # population inicial\n",
    "    info_A.loc[0, 'un'] = N-1.0\n",
    "    \n",
    "    return info_A"
   ]
  },
  {
   "cell_type": "markdown",
   "metadata": {},
   "source": [
    "** Creo funciones que calculan la discretización **"
   ]
  },
  {
   "cell_type": "code",
   "execution_count": 12,
   "metadata": {},
   "outputs": [],
   "source": [
    "# Calculo los n+1/2\n",
    "\n",
    "def un_intermedio(un,vn,beta,alfa,n,h):\n",
    "    return un + (h/2)*(-(beta*un*vn)/n)\n",
    "\n",
    "def vn_intermedio(un,vn,beta,alfa,n,h):\n",
    "    return vn + (h/2) * ((beta/n)*un*vn-alfa*vn)\n",
    "\n",
    "def wn_intermedio(wn,vn,beta,alfa,n,h):\n",
    "    return wn + (h/2) * (alfa*vn)"
   ]
  },
  {
   "cell_type": "code",
   "execution_count": 13,
   "metadata": {},
   "outputs": [],
   "source": [
    "# Calculo los n+1\n",
    "\n",
    "def RK_un_sig(un,vn,beta,alfa,n,h):\n",
    "    \n",
    "    un_inter = un_intermedio(un,vn,beta,alfa,n,h)\n",
    "    vn_inter = vn_intermedio(un,vn,beta,alfa,n,h)\n",
    "    \n",
    "    un_siguiente = un - (h*beta*un_inter*vn_inter)/n\n",
    "    \n",
    "    return un_siguiente\n",
    "\n",
    "def RK_vn_sig(un,vn,beta,alfa,n,h):\n",
    "    \n",
    "    un_inter = un_intermedio(un,vn,beta,alfa,n,h)\n",
    "    vn_inter = vn_intermedio(un,vn,beta,alfa,n,h)\n",
    "    \n",
    "    vn_siguiente = vn + h * ((beta*un_inter*vn_inter)/n - alfa*vn_inter)\n",
    "    \n",
    "    return vn_siguiente\n",
    "\n",
    "def RK_wn_sig(un,vn,wn,beta,alfa,n,h):\n",
    "    \n",
    "    vn_inter = vn_intermedio(un,vn,beta,alfa,n,h)\n",
    "    \n",
    "    wn_siguiente = wn + h * alfa * vn_inter\n",
    "    \n",
    "    return wn_siguiente"
   ]
  },
  {
   "cell_type": "markdown",
   "metadata": {},
   "source": [
    "** Aplico funciones a la tabla **"
   ]
  },
  {
   "cell_type": "code",
   "execution_count": 14,
   "metadata": {},
   "outputs": [],
   "source": [
    "# Calculo new_cases acumulado\n",
    "\n",
    "def discretizacion_RK_2(beta,alfa,n,h,m):\n",
    "    \n",
    "    info = inicializacion_df_SIR(m,n)\n",
    "\n",
    "    for i in range(1, len(info)):\n",
    "        un = info.loc[i-1, 'un']\n",
    "        vn = info.loc[i-1, 'vn']\n",
    "        wn = info.loc[i-1, 'wn']\n",
    "        \n",
    "        info.loc[i, 'un'] = RK_un_sig(un,vn,beta,alfa,n,h)\n",
    "        info.loc[i, 'vn'] = RK_vn_sig(un,vn,beta,alfa,n,h)\n",
    "        info.loc[i, 'wn'] = RK_wn_sig(un,vn,wn,beta,alfa,n,h)\n",
    "    \n",
    "    return info"
   ]
  },
  {
   "cell_type": "markdown",
   "metadata": {},
   "source": [
    "### A2) Estabilidad teórica"
   ]
  },
  {
   "cell_type": "code",
   "execution_count": 15,
   "metadata": {},
   "outputs": [],
   "source": [
    "# Creo las variables\n",
    "\n",
    "a = sp.Symbol('γ')\n",
    "b = sp.Symbol('β')\n",
    "h = sp.Symbol('h')\n",
    "N = sp.Symbol('N')\n",
    "\n",
    "un = sp.Symbol('u^n')\n",
    "vn = sp.Symbol('v^n')\n",
    "wn = sp.Symbol('w^n')\n",
    "\n",
    "\n",
    "dun = sp.Symbol('δu^n')\n",
    "dvn = sp.Symbol('δv^n')\n",
    "dwn = sp.Symbol('δw^n')\n",
    "\n",
    "dun_sig = sp.Symbol('δu^n+1')\n",
    "dvn_sig = sp.Symbol('δv^n+1')\n",
    "dwn_sig = sp.Symbol('δw^n+1')"
   ]
  },
  {
   "cell_type": "markdown",
   "metadata": {},
   "source": [
    "#### Obtengo las ecuaciones con RK-2"
   ]
  },
  {
   "cell_type": "code",
   "execution_count": 16,
   "metadata": {},
   "outputs": [],
   "source": [
    "# Funciones auxiliares\n",
    "\n",
    "def _un_medio(un,vn,h,N,b,a):\n",
    "    return un - (h/2) * (b/N) * vn*un\n",
    "\n",
    "def _vn_medio(un,vn,h,N,b,a):\n",
    "    return vn + (h/2) *( (b/N) * vn*un - a*vn)\n",
    "\n",
    "def _un_sig(un,vn,un_medio,vn_medio,h,N,b,a):\n",
    "    return un - h * (b/N) * vn_medio* un_medio\n",
    "\n",
    "def _vn_sig(un,vn,un_medio,vn_medio,h,N,b,a):\n",
    "    return vn + h *( (b/N) * vn_medio*un_medio - a*vn_medio)\n",
    "\n",
    "def _wn_sig(wn,vn,un_medio,vn_medio,h,N,b,a):\n",
    "    return wn + h * a * vn_medio"
   ]
  },
  {
   "cell_type": "markdown",
   "metadata": {},
   "source": [
    "##### prediccion"
   ]
  },
  {
   "cell_type": "code",
   "execution_count": 17,
   "metadata": {},
   "outputs": [],
   "source": [
    "un_medio = _un_medio(un,vn,h,N,b,a)\n",
    "vn_medio = _vn_medio(un,vn,h,N,b,a)"
   ]
  },
  {
   "cell_type": "code",
   "execution_count": 18,
   "metadata": {},
   "outputs": [
    {
     "data": {
      "text/latex": [
       "$\\displaystyle u^{n} - \\frac{h u^{n} v^{n} β}{2 N}$"
      ],
      "text/plain": [
       "u^n - h*u^n*v^n*β/(2*N)"
      ]
     },
     "execution_count": 18,
     "metadata": {},
     "output_type": "execute_result"
    }
   ],
   "source": [
    "un_medio"
   ]
  },
  {
   "cell_type": "code",
   "execution_count": 19,
   "metadata": {},
   "outputs": [
    {
     "data": {
      "text/latex": [
       "$\\displaystyle \\frac{h \\left(- v^{n} γ + \\frac{u^{n} v^{n} β}{N}\\right)}{2} + v^{n}$"
      ],
      "text/plain": [
       "h*(-v^n*γ + u^n*v^n*β/N)/2 + v^n"
      ]
     },
     "execution_count": 19,
     "metadata": {},
     "output_type": "execute_result"
    }
   ],
   "source": [
    "vn_medio"
   ]
  },
  {
   "cell_type": "markdown",
   "metadata": {},
   "source": [
    "##### corrección"
   ]
  },
  {
   "cell_type": "code",
   "execution_count": 20,
   "metadata": {},
   "outputs": [],
   "source": [
    "un_sig = _un_sig(un,vn,un_medio,vn_medio,h,N,b,a)\n",
    "vn_sig = _vn_sig(un,vn,un_medio,vn_medio,h,N,b,a)\n",
    "wn_sig = _wn_sig(wn,vn,un_medio,vn_medio,h,N,b,a)"
   ]
  },
  {
   "cell_type": "code",
   "execution_count": 21,
   "metadata": {},
   "outputs": [
    {
     "data": {
      "text/latex": [
       "$\\displaystyle u^{n} - \\frac{h β \\left(u^{n} - \\frac{h u^{n} v^{n} β}{2 N}\\right) \\left(\\frac{h \\left(- v^{n} γ + \\frac{u^{n} v^{n} β}{N}\\right)}{2} + v^{n}\\right)}{N}$"
      ],
      "text/plain": [
       "u^n - h*β*(u^n - h*u^n*v^n*β/(2*N))*(h*(-v^n*γ + u^n*v^n*β/N)/2 + v^n)/N"
      ]
     },
     "execution_count": 21,
     "metadata": {},
     "output_type": "execute_result"
    }
   ],
   "source": [
    "un_sig"
   ]
  },
  {
   "cell_type": "code",
   "execution_count": 22,
   "metadata": {},
   "outputs": [
    {
     "data": {
      "text/latex": [
       "$\\displaystyle h \\left(- γ \\left(\\frac{h \\left(- v^{n} γ + \\frac{u^{n} v^{n} β}{N}\\right)}{2} + v^{n}\\right) + \\frac{β \\left(u^{n} - \\frac{h u^{n} v^{n} β}{2 N}\\right) \\left(\\frac{h \\left(- v^{n} γ + \\frac{u^{n} v^{n} β}{N}\\right)}{2} + v^{n}\\right)}{N}\\right) + v^{n}$"
      ],
      "text/plain": [
       "h*(-γ*(h*(-v^n*γ + u^n*v^n*β/N)/2 + v^n) + β*(u^n - h*u^n*v^n*β/(2*N))*(h*(-v^n*γ + u^n*v^n*β/N)/2 + v^n)/N) + v^n"
      ]
     },
     "execution_count": 22,
     "metadata": {},
     "output_type": "execute_result"
    }
   ],
   "source": [
    "vn_sig"
   ]
  },
  {
   "cell_type": "code",
   "execution_count": 23,
   "metadata": {},
   "outputs": [
    {
     "data": {
      "text/latex": [
       "$\\displaystyle h γ \\left(\\frac{h \\left(- v^{n} γ + \\frac{u^{n} v^{n} β}{N}\\right)}{2} + v^{n}\\right) + w^{n}$"
      ],
      "text/plain": [
       "h*γ*(h*(-v^n*γ + u^n*v^n*β/N)/2 + v^n) + w^n"
      ]
     },
     "execution_count": 23,
     "metadata": {},
     "output_type": "execute_result"
    }
   ],
   "source": [
    "wn_sig"
   ]
  },
  {
   "cell_type": "markdown",
   "metadata": {},
   "source": [
    "#### Perturbación"
   ]
  },
  {
   "cell_type": "code",
   "execution_count": 24,
   "metadata": {},
   "outputs": [],
   "source": [
    "perturbaciones ={\n",
    "    un: un+dun,\n",
    "    vn: vn+dvn,\n",
    "    wn: wn+dwn,\n",
    "}"
   ]
  },
  {
   "cell_type": "code",
   "execution_count": 25,
   "metadata": {},
   "outputs": [],
   "source": [
    "un_sig_perturbado = un_sig.subs(perturbaciones)\n",
    "vn_sig_perturbado = vn_sig.subs(perturbaciones)\n",
    "wn_sig_perturbado = wn_sig.subs(perturbaciones)"
   ]
  },
  {
   "cell_type": "code",
   "execution_count": 26,
   "metadata": {},
   "outputs": [
    {
     "data": {
      "text/latex": [
       "$\\displaystyle u^{n} + δu^{n} - \\frac{h β \\left(u^{n} + δu^{n} - \\frac{h β \\left(u^{n} + δu^{n}\\right) \\left(v^{n} + δv^{n}\\right)}{2 N}\\right) \\left(\\frac{h \\left(- γ \\left(v^{n} + δv^{n}\\right) + \\frac{β \\left(u^{n} + δu^{n}\\right) \\left(v^{n} + δv^{n}\\right)}{N}\\right)}{2} + v^{n} + δv^{n}\\right)}{N}$"
      ],
      "text/plain": [
       "u^n + δu^n - h*β*(u^n + δu^n - h*β*(u^n + δu^n)*(v^n + δv^n)/(2*N))*(h*(-γ*(v^n + δv^n) + β*(u^n + δu^n)*(v^n + δv^n)/N)/2 + v^n + δv^n)/N"
      ]
     },
     "execution_count": 26,
     "metadata": {},
     "output_type": "execute_result"
    }
   ],
   "source": [
    "un_sig_perturbado"
   ]
  },
  {
   "cell_type": "code",
   "execution_count": 27,
   "metadata": {},
   "outputs": [
    {
     "data": {
      "text/latex": [
       "$\\displaystyle h \\left(- γ \\left(\\frac{h \\left(- γ \\left(v^{n} + δv^{n}\\right) + \\frac{β \\left(u^{n} + δu^{n}\\right) \\left(v^{n} + δv^{n}\\right)}{N}\\right)}{2} + v^{n} + δv^{n}\\right) + \\frac{β \\left(u^{n} + δu^{n} - \\frac{h β \\left(u^{n} + δu^{n}\\right) \\left(v^{n} + δv^{n}\\right)}{2 N}\\right) \\left(\\frac{h \\left(- γ \\left(v^{n} + δv^{n}\\right) + \\frac{β \\left(u^{n} + δu^{n}\\right) \\left(v^{n} + δv^{n}\\right)}{N}\\right)}{2} + v^{n} + δv^{n}\\right)}{N}\\right) + v^{n} + δv^{n}$"
      ],
      "text/plain": [
       "h*(-γ*(h*(-γ*(v^n + δv^n) + β*(u^n + δu^n)*(v^n + δv^n)/N)/2 + v^n + δv^n) + β*(u^n + δu^n - h*β*(u^n + δu^n)*(v^n + δv^n)/(2*N))*(h*(-γ*(v^n + δv^n) + β*(u^n + δu^n)*(v^n + δv^n)/N)/2 + v^n + δv^n)/N) + v^n + δv^n"
      ]
     },
     "execution_count": 27,
     "metadata": {},
     "output_type": "execute_result"
    }
   ],
   "source": [
    "vn_sig_perturbado"
   ]
  },
  {
   "cell_type": "code",
   "execution_count": 28,
   "metadata": {
    "scrolled": true
   },
   "outputs": [
    {
     "data": {
      "text/latex": [
       "$\\displaystyle h γ \\left(\\frac{h \\left(- γ \\left(v^{n} + δv^{n}\\right) + \\frac{β \\left(u^{n} + δu^{n}\\right) \\left(v^{n} + δv^{n}\\right)}{N}\\right)}{2} + v^{n} + δv^{n}\\right) + w^{n} + δw^{n}$"
      ],
      "text/plain": [
       "h*γ*(h*(-γ*(v^n + δv^n) + β*(u^n + δu^n)*(v^n + δv^n)/N)/2 + v^n + δv^n) + w^n + δw^n"
      ]
     },
     "execution_count": 28,
     "metadata": {},
     "output_type": "execute_result"
    }
   ],
   "source": [
    "wn_sig_perturbado"
   ]
  },
  {
   "cell_type": "markdown",
   "metadata": {},
   "source": [
    "#### Despreciación de potencias de deltas"
   ]
  },
  {
   "cell_type": "code",
   "execution_count": 29,
   "metadata": {},
   "outputs": [],
   "source": [
    "dun_sig_nuevo = un_sig_perturbado- un_sig\n",
    "dvn_sig_nuevo = vn_sig_perturbado- un_sig\n",
    "dwn_sig_nuevo = wn_sig_perturbado- un_sig"
   ]
  },
  {
   "cell_type": "code",
   "execution_count": 30,
   "metadata": {},
   "outputs": [],
   "source": [
    "despreciacion ={\n",
    "    \n",
    "    dun**2: 0,\n",
    "    dvn**2: 0,\n",
    "    dwn**2: 0,\n",
    "    \n",
    "    dun_sig**2: 0,\n",
    "    dvn_sig**2: 0,\n",
    "    dvn_sig**2: 0,\n",
    "    \n",
    "    dvn*dun: 0,\n",
    "    dwn*dvn: 0,\n",
    "    dun*dwn: 0,\n",
    "    \n",
    "    dvn_sig*dun_sig: 0,\n",
    "    dwn_sig*dvn_sig: 0,\n",
    "    dun_sig*dwn_sig: 0,\n",
    "    \n",
    "    dun*dun_sig:0,\n",
    "    dun*dvn_sig:0,\n",
    "    dun*dwn_sig:0,\n",
    "    \n",
    "    dvn*dun_sig:0,\n",
    "    dvn*dvn_sig:0,\n",
    "    dvn*dwn_sig:0,\n",
    "    \n",
    "    dwn*dun_sig:0,\n",
    "    dwn*dvn_sig:0,\n",
    "    dwn*dwn_sig:0,\n",
    "    \n",
    "    (un+dun)*(vn+dvn) : un*vn + (un*dvn) + (vn*dun),\n",
    "    (un+2*dun)*(vn+2*dvn) : un*vn + (2*un*dvn) + (2*vn*dun)\n",
    "}"
   ]
  },
  {
   "cell_type": "code",
   "execution_count": 31,
   "metadata": {},
   "outputs": [],
   "source": [
    "dun_sig_aprox = dun_sig_nuevo.expand(basic=True).subs(despreciacion)\n",
    "dvn_sig_aprox = dvn_sig_nuevo.expand(basic=True).subs(despreciacion)\n",
    "dwn_sig_aprox = dwn_sig_nuevo.expand(basic=True).subs(despreciacion)"
   ]
  },
  {
   "cell_type": "code",
   "execution_count": 32,
   "metadata": {},
   "outputs": [
    {
     "data": {
      "text/latex": [
       "$\\displaystyle δu^{n} + \\frac{h^{2} u^{n} β γ δv^{n}}{2 N} + \\frac{h^{2} v^{n} β γ δu^{n}}{2 N} - \\frac{h u^{n} β δv^{n}}{N} - \\frac{h v^{n} β δu^{n}}{N} - \\frac{h^{3} u^{n} v^{n} β^{2} γ δv^{n}}{2 N^{2}} - \\frac{h^{3} \\left(v^{n}\\right)^{2} β^{2} γ δu^{n}}{4 N^{2}} - \\frac{h^{2} \\left(u^{n}\\right)^{2} β^{2} δv^{n}}{2 N^{2}} - \\frac{h^{2} u^{n} v^{n} β^{2} δu^{n}}{N^{2}} + \\frac{h^{2} u^{n} v^{n} β^{2} δv^{n}}{N^{2}} + \\frac{h^{2} \\left(v^{n}\\right)^{2} β^{2} δu^{n}}{2 N^{2}} + \\frac{h^{3} \\left(u^{n}\\right)^{2} v^{n} β^{3} δv^{n}}{2 N^{3}} + \\frac{h^{3} u^{n} \\left(v^{n}\\right)^{2} β^{3} δu^{n}}{2 N^{3}}$"
      ],
      "text/plain": [
       "δu^n + h**2*u^n*β*γ*δv^n/(2*N) + h**2*v^n*β*γ*δu^n/(2*N) - h*u^n*β*δv^n/N - h*v^n*β*δu^n/N - h**3*u^n*v^n*β**2*γ*δv^n/(2*N**2) - h**3*v^n**2*β**2*γ*δu^n/(4*N**2) - h**2*u^n**2*β**2*δv^n/(2*N**2) - h**2*u^n*v^n*β**2*δu^n/N**2 + h**2*u^n*v^n*β**2*δv^n/N**2 + h**2*v^n**2*β**2*δu^n/(2*N**2) + h**3*u^n**2*v^n*β**3*δv^n/(2*N**3) + h**3*u^n*v^n**2*β**3*δu^n/(2*N**3)"
      ]
     },
     "execution_count": 32,
     "metadata": {},
     "output_type": "execute_result"
    }
   ],
   "source": [
    "dun_sig_aprox"
   ]
  },
  {
   "cell_type": "code",
   "execution_count": 33,
   "metadata": {},
   "outputs": [
    {
     "data": {
      "text/latex": [
       "$\\displaystyle \\frac{h^{2} v^{n} γ^{2}}{2} + \\frac{h^{2} γ^{2} δv^{n}}{2} - h v^{n} γ - h γ δv^{n} - u^{n} + v^{n} + δv^{n} - \\frac{3 h^{2} u^{n} v^{n} β γ}{2 N} - \\frac{h^{2} u^{n} β γ δv^{n}}{N} - \\frac{h^{2} v^{n} β γ δu^{n}}{N} + \\frac{2 h u^{n} v^{n} β}{N} + \\frac{h u^{n} β δv^{n}}{N} + \\frac{h v^{n} β δu^{n}}{N} + \\frac{h^{3} u^{n} \\left(v^{n}\\right)^{2} β^{2} γ}{2 N^{2}} + \\frac{h^{3} u^{n} v^{n} β^{2} γ δv^{n}}{2 N^{2}} + \\frac{h^{3} \\left(v^{n}\\right)^{2} β^{2} γ δu^{n}}{4 N^{2}} + \\frac{h^{2} \\left(u^{n}\\right)^{2} v^{n} β^{2}}{N^{2}} + \\frac{h^{2} \\left(u^{n}\\right)^{2} β^{2} δv^{n}}{2 N^{2}} - \\frac{h^{2} u^{n} \\left(v^{n}\\right)^{2} β^{2}}{N^{2}} + \\frac{h^{2} u^{n} v^{n} β^{2} δu^{n}}{N^{2}} - \\frac{h^{2} u^{n} v^{n} β^{2} δv^{n}}{N^{2}} - \\frac{h^{2} \\left(v^{n}\\right)^{2} β^{2} δu^{n}}{2 N^{2}} - \\frac{h^{3} \\left(u^{n}\\right)^{2} \\left(v^{n}\\right)^{2} β^{3}}{2 N^{3}} - \\frac{h^{3} \\left(u^{n}\\right)^{2} v^{n} β^{3} δv^{n}}{2 N^{3}} - \\frac{h^{3} u^{n} \\left(v^{n}\\right)^{2} β^{3} δu^{n}}{2 N^{3}}$"
      ],
      "text/plain": [
       "h**2*v^n*γ**2/2 + h**2*γ**2*δv^n/2 - h*v^n*γ - h*γ*δv^n - u^n + v^n + δv^n - 3*h**2*u^n*v^n*β*γ/(2*N) - h**2*u^n*β*γ*δv^n/N - h**2*v^n*β*γ*δu^n/N + 2*h*u^n*v^n*β/N + h*u^n*β*δv^n/N + h*v^n*β*δu^n/N + h**3*u^n*v^n**2*β**2*γ/(2*N**2) + h**3*u^n*v^n*β**2*γ*δv^n/(2*N**2) + h**3*v^n**2*β**2*γ*δu^n/(4*N**2) + h**2*u^n**2*v^n*β**2/N**2 + h**2*u^n**2*β**2*δv^n/(2*N**2) - h**2*u^n*v^n**2*β**2/N**2 + h**2*u^n*v^n*β**2*δu^n/N**2 - h**2*u^n*v^n*β**2*δv^n/N**2 - h**2*v^n**2*β**2*δu^n/(2*N**2) - h**3*u^n**2*v^n**2*β**3/(2*N**3) - h**3*u^n**2*v^n*β**3*δv^n/(2*N**3) - h**3*u^n*v^n**2*β**3*δu^n/(2*N**3)"
      ]
     },
     "execution_count": 33,
     "metadata": {},
     "output_type": "execute_result"
    }
   ],
   "source": [
    "dvn_sig_aprox"
   ]
  },
  {
   "cell_type": "code",
   "execution_count": 34,
   "metadata": {
    "scrolled": false
   },
   "outputs": [
    {
     "data": {
      "text/latex": [
       "$\\displaystyle - \\frac{h^{2} v^{n} γ^{2}}{2} - \\frac{h^{2} γ^{2} δv^{n}}{2} + h v^{n} γ + h γ δv^{n} - u^{n} + w^{n} + δw^{n} + \\frac{h^{2} u^{n} β γ δv^{n}}{2 N} + \\frac{h^{2} v^{n} β γ δu^{n}}{2 N} + \\frac{h u^{n} v^{n} β}{N} + \\frac{h^{3} u^{n} \\left(v^{n}\\right)^{2} β^{2} γ}{4 N^{2}} + \\frac{h^{2} \\left(u^{n}\\right)^{2} v^{n} β^{2}}{2 N^{2}} - \\frac{h^{2} u^{n} \\left(v^{n}\\right)^{2} β^{2}}{2 N^{2}} - \\frac{h^{3} \\left(u^{n}\\right)^{2} \\left(v^{n}\\right)^{2} β^{3}}{4 N^{3}}$"
      ],
      "text/plain": [
       "-h**2*v^n*γ**2/2 - h**2*γ**2*δv^n/2 + h*v^n*γ + h*γ*δv^n - u^n + w^n + δw^n + h**2*u^n*β*γ*δv^n/(2*N) + h**2*v^n*β*γ*δu^n/(2*N) + h*u^n*v^n*β/N + h**3*u^n*v^n**2*β**2*γ/(4*N**2) + h**2*u^n**2*v^n*β**2/(2*N**2) - h**2*u^n*v^n**2*β**2/(2*N**2) - h**3*u^n**2*v^n**2*β**3/(4*N**3)"
      ]
     },
     "execution_count": 34,
     "metadata": {},
     "output_type": "execute_result"
    }
   ],
   "source": [
    "dwn_sig_aprox"
   ]
  },
  {
   "cell_type": "markdown",
   "metadata": {},
   "source": [
    "#### Get matrix"
   ]
  },
  {
   "cell_type": "code",
   "execution_count": 35,
   "metadata": {},
   "outputs": [],
   "source": [
    "A  = [[0,0,0],[0,0,0],[0,0,0]]"
   ]
  },
  {
   "cell_type": "markdown",
   "metadata": {},
   "source": [
    "##### un coeficientes"
   ]
  },
  {
   "cell_type": "code",
   "execution_count": 36,
   "metadata": {},
   "outputs": [],
   "source": [
    "A[0][0] = dun_sig_aprox.coeff(dun, 1)"
   ]
  },
  {
   "cell_type": "code",
   "execution_count": 37,
   "metadata": {},
   "outputs": [],
   "source": [
    "A[0][1] = dun_sig_aprox.coeff(dvn, 1)"
   ]
  },
  {
   "cell_type": "code",
   "execution_count": 38,
   "metadata": {},
   "outputs": [],
   "source": [
    "A[0][2] = dun_sig_aprox.coeff(dwn, 1)"
   ]
  },
  {
   "cell_type": "markdown",
   "metadata": {},
   "source": [
    "##### wn coeficientes"
   ]
  },
  {
   "cell_type": "code",
   "execution_count": 39,
   "metadata": {},
   "outputs": [],
   "source": [
    "A[2][0] = dwn_sig_aprox.coeff(dun, 1)"
   ]
  },
  {
   "cell_type": "code",
   "execution_count": 40,
   "metadata": {
    "scrolled": true
   },
   "outputs": [],
   "source": [
    "A[2][1] = dwn_sig_aprox.coeff(dvn, 1)"
   ]
  },
  {
   "cell_type": "code",
   "execution_count": 41,
   "metadata": {},
   "outputs": [],
   "source": [
    "A[2][2] = dwn_sig_aprox.coeff(dwn, 1)"
   ]
  },
  {
   "cell_type": "markdown",
   "metadata": {},
   "source": [
    "##### vn coeficientes"
   ]
  },
  {
   "cell_type": "code",
   "execution_count": 42,
   "metadata": {},
   "outputs": [],
   "source": [
    "A[1][0] = dvn_sig_aprox.coeff(dun, 1)"
   ]
  },
  {
   "cell_type": "code",
   "execution_count": 43,
   "metadata": {},
   "outputs": [],
   "source": [
    "A[1][1] = dvn_sig_aprox.coeff(dvn, 1)"
   ]
  },
  {
   "cell_type": "code",
   "execution_count": 44,
   "metadata": {},
   "outputs": [],
   "source": [
    "A[1][2] = dvn_sig_aprox.coeff(dwn, 1)"
   ]
  },
  {
   "cell_type": "markdown",
   "metadata": {},
   "source": [
    "#### Autovalores"
   ]
  },
  {
   "cell_type": "code",
   "execution_count": 45,
   "metadata": {},
   "outputs": [],
   "source": [
    "matrix = sp.Matrix(A)"
   ]
  },
  {
   "cell_type": "code",
   "execution_count": 46,
   "metadata": {},
   "outputs": [
    {
     "data": {
      "text/latex": [
       "$\\displaystyle \\left[\\begin{matrix}1 + \\frac{h^{2} v^{n} β γ}{2 N} - \\frac{h v^{n} β}{N} - \\frac{h^{3} \\left(v^{n}\\right)^{2} β^{2} γ}{4 N^{2}} - \\frac{h^{2} u^{n} v^{n} β^{2}}{N^{2}} + \\frac{h^{2} \\left(v^{n}\\right)^{2} β^{2}}{2 N^{2}} + \\frac{h^{3} u^{n} \\left(v^{n}\\right)^{2} β^{3}}{2 N^{3}} & \\frac{h^{2} u^{n} β γ}{2 N} - \\frac{h u^{n} β}{N} - \\frac{h^{3} u^{n} v^{n} β^{2} γ}{2 N^{2}} - \\frac{h^{2} \\left(u^{n}\\right)^{2} β^{2}}{2 N^{2}} + \\frac{h^{2} u^{n} v^{n} β^{2}}{N^{2}} + \\frac{h^{3} \\left(u^{n}\\right)^{2} v^{n} β^{3}}{2 N^{3}} & 0\\\\- \\frac{h^{2} v^{n} β γ}{N} + \\frac{h v^{n} β}{N} + \\frac{h^{3} \\left(v^{n}\\right)^{2} β^{2} γ}{4 N^{2}} + \\frac{h^{2} u^{n} v^{n} β^{2}}{N^{2}} - \\frac{h^{2} \\left(v^{n}\\right)^{2} β^{2}}{2 N^{2}} - \\frac{h^{3} u^{n} \\left(v^{n}\\right)^{2} β^{3}}{2 N^{3}} & \\frac{h^{2} γ^{2}}{2} - h γ + 1 - \\frac{h^{2} u^{n} β γ}{N} + \\frac{h u^{n} β}{N} + \\frac{h^{3} u^{n} v^{n} β^{2} γ}{2 N^{2}} + \\frac{h^{2} \\left(u^{n}\\right)^{2} β^{2}}{2 N^{2}} - \\frac{h^{2} u^{n} v^{n} β^{2}}{N^{2}} - \\frac{h^{3} \\left(u^{n}\\right)^{2} v^{n} β^{3}}{2 N^{3}} & 0\\\\\\frac{h^{2} v^{n} β γ}{2 N} & - \\frac{h^{2} γ^{2}}{2} + h γ + \\frac{h^{2} u^{n} β γ}{2 N} & 1\\end{matrix}\\right]$"
      ],
      "text/plain": [
       "Matrix([\n",
       "[1 + h**2*v^n*β*γ/(2*N) - h*v^n*β/N - h**3*v^n**2*β**2*γ/(4*N**2) - h**2*u^n*v^n*β**2/N**2 + h**2*v^n**2*β**2/(2*N**2) + h**3*u^n*v^n**2*β**3/(2*N**3),                     h**2*u^n*β*γ/(2*N) - h*u^n*β/N - h**3*u^n*v^n*β**2*γ/(2*N**2) - h**2*u^n**2*β**2/(2*N**2) + h**2*u^n*v^n*β**2/N**2 + h**3*u^n**2*v^n*β**3/(2*N**3), 0],\n",
       "[       -h**2*v^n*β*γ/N + h*v^n*β/N + h**3*v^n**2*β**2*γ/(4*N**2) + h**2*u^n*v^n*β**2/N**2 - h**2*v^n**2*β**2/(2*N**2) - h**3*u^n*v^n**2*β**3/(2*N**3), h**2*γ**2/2 - h*γ + 1 - h**2*u^n*β*γ/N + h*u^n*β/N + h**3*u^n*v^n*β**2*γ/(2*N**2) + h**2*u^n**2*β**2/(2*N**2) - h**2*u^n*v^n*β**2/N**2 - h**3*u^n**2*v^n*β**3/(2*N**3), 0],\n",
       "[                                                                                                                                   h**2*v^n*β*γ/(2*N),                                                                                                                                -h**2*γ**2/2 + h*γ + h**2*u^n*β*γ/(2*N), 1]])"
      ]
     },
     "execution_count": 46,
     "metadata": {},
     "output_type": "execute_result"
    }
   ],
   "source": [
    "matrix"
   ]
  },
  {
   "cell_type": "code",
   "execution_count": 47,
   "metadata": {},
   "outputs": [],
   "source": [
    "autovalores = list(matrix.eigenvals().keys())"
   ]
  },
  {
   "cell_type": "code",
   "execution_count": 48,
   "metadata": {},
   "outputs": [
    {
     "data": {
      "text/latex": [
       "$\\displaystyle 1$"
      ],
      "text/plain": [
       "1"
      ]
     },
     "execution_count": 48,
     "metadata": {},
     "output_type": "execute_result"
    }
   ],
   "source": [
    "ava1 = autovalores[0]\n",
    "ava1"
   ]
  },
  {
   "cell_type": "code",
   "execution_count": 49,
   "metadata": {},
   "outputs": [
    {
     "data": {
      "text/latex": [
       "$\\displaystyle \\frac{2 N^{3} h^{2} γ^{2} - 4 N^{3} h γ + 8 N^{3} - 4 N^{2} h^{2} u^{n} β γ + 2 N^{2} h^{2} v^{n} β γ + 4 N^{2} h u^{n} β - 4 N^{2} h v^{n} β + 2 N h^{3} u^{n} v^{n} β^{2} γ - N h^{3} \\left(v^{n}\\right)^{2} β^{2} γ + 2 N h^{2} \\left(u^{n}\\right)^{2} β^{2} - 8 N h^{2} u^{n} v^{n} β^{2} + 2 N h^{2} \\left(v^{n}\\right)^{2} β^{2} - 2 h^{3} \\left(u^{n}\\right)^{2} v^{n} β^{3} + 2 h^{3} u^{n} \\left(v^{n}\\right)^{2} β^{3} + h \\sqrt{4 N^{6} h^{2} γ^{4} - 16 N^{6} h γ^{3} + 16 N^{6} γ^{2} - 16 N^{5} h^{2} u^{n} β γ^{3} - 8 N^{5} h^{2} v^{n} β γ^{3} + 48 N^{5} h u^{n} β γ^{2} + 32 N^{5} h v^{n} β γ^{2} - 32 N^{5} u^{n} β γ - 32 N^{5} v^{n} β γ + 8 N^{4} h^{3} u^{n} v^{n} β^{2} γ^{3} + 4 N^{4} h^{3} \\left(v^{n}\\right)^{2} β^{2} γ^{3} + 24 N^{4} h^{2} \\left(u^{n}\\right)^{2} β^{2} γ^{2} - 32 N^{4} h^{2} u^{n} v^{n} β^{2} γ^{2} - 12 N^{4} h^{2} \\left(v^{n}\\right)^{2} β^{2} γ^{2} - 48 N^{4} h \\left(u^{n}\\right)^{2} β^{2} γ + 48 N^{4} h u^{n} v^{n} β^{2} γ + 16 N^{4} \\left(u^{n}\\right)^{2} β^{2} - 32 N^{4} u^{n} v^{n} β^{2} + 16 N^{4} \\left(v^{n}\\right)^{2} β^{2} - 24 N^{3} h^{3} \\left(u^{n}\\right)^{2} v^{n} β^{3} γ^{2} + 16 N^{3} h^{3} u^{n} \\left(v^{n}\\right)^{2} β^{3} γ^{2} - 4 N^{3} h^{3} \\left(v^{n}\\right)^{3} β^{3} γ^{2} - 16 N^{3} h^{2} \\left(u^{n}\\right)^{3} β^{3} γ + 88 N^{3} h^{2} \\left(u^{n}\\right)^{2} v^{n} β^{3} γ - 72 N^{3} h^{2} u^{n} \\left(v^{n}\\right)^{2} β^{3} γ + 16 N^{3} h^{2} \\left(v^{n}\\right)^{3} β^{3} γ + 16 N^{3} h \\left(u^{n}\\right)^{3} β^{3} - 80 N^{3} h \\left(u^{n}\\right)^{2} v^{n} β^{3} + 80 N^{3} h u^{n} \\left(v^{n}\\right)^{2} β^{3} - 16 N^{3} h \\left(v^{n}\\right)^{3} β^{3} + 4 N^{2} h^{4} \\left(u^{n}\\right)^{2} \\left(v^{n}\\right)^{2} β^{4} γ^{2} - 4 N^{2} h^{4} u^{n} \\left(v^{n}\\right)^{3} β^{4} γ^{2} + N^{2} h^{4} \\left(v^{n}\\right)^{4} β^{4} γ^{2} + 24 N^{2} h^{3} \\left(u^{n}\\right)^{3} v^{n} β^{4} γ - 60 N^{2} h^{3} \\left(u^{n}\\right)^{2} \\left(v^{n}\\right)^{2} β^{4} γ + 32 N^{2} h^{3} u^{n} \\left(v^{n}\\right)^{3} β^{4} γ - 4 N^{2} h^{3} \\left(v^{n}\\right)^{4} β^{4} γ + 4 N^{2} h^{2} \\left(u^{n}\\right)^{4} β^{4} - 48 N^{2} h^{2} \\left(u^{n}\\right)^{3} v^{n} β^{4} + 104 N^{2} h^{2} \\left(u^{n}\\right)^{2} \\left(v^{n}\\right)^{2} β^{4} - 48 N^{2} h^{2} u^{n} \\left(v^{n}\\right)^{3} β^{4} + 4 N^{2} h^{2} \\left(v^{n}\\right)^{4} β^{4} - 8 N h^{4} \\left(u^{n}\\right)^{3} \\left(v^{n}\\right)^{2} β^{5} γ + 12 N h^{4} \\left(u^{n}\\right)^{2} \\left(v^{n}\\right)^{3} β^{5} γ - 4 N h^{4} u^{n} \\left(v^{n}\\right)^{4} β^{5} γ - 8 N h^{3} \\left(u^{n}\\right)^{4} v^{n} β^{5} + 40 N h^{3} \\left(u^{n}\\right)^{3} \\left(v^{n}\\right)^{2} β^{5} - 40 N h^{3} \\left(u^{n}\\right)^{2} \\left(v^{n}\\right)^{3} β^{5} + 8 N h^{3} u^{n} \\left(v^{n}\\right)^{4} β^{5} + 4 h^{4} \\left(u^{n}\\right)^{4} \\left(v^{n}\\right)^{2} β^{6} - 8 h^{4} \\left(u^{n}\\right)^{3} \\left(v^{n}\\right)^{3} β^{6} + 4 h^{4} \\left(u^{n}\\right)^{2} \\left(v^{n}\\right)^{4} β^{6}}}{8 N^{3}}$"
      ],
      "text/plain": [
       "(2*N**3*h**2*γ**2 - 4*N**3*h*γ + 8*N**3 - 4*N**2*h**2*u^n*β*γ + 2*N**2*h**2*v^n*β*γ + 4*N**2*h*u^n*β - 4*N**2*h*v^n*β + 2*N*h**3*u^n*v^n*β**2*γ - N*h**3*v^n**2*β**2*γ + 2*N*h**2*u^n**2*β**2 - 8*N*h**2*u^n*v^n*β**2 + 2*N*h**2*v^n**2*β**2 - 2*h**3*u^n**2*v^n*β**3 + 2*h**3*u^n*v^n**2*β**3 + h*sqrt(4*N**6*h**2*γ**4 - 16*N**6*h*γ**3 + 16*N**6*γ**2 - 16*N**5*h**2*u^n*β*γ**3 - 8*N**5*h**2*v^n*β*γ**3 + 48*N**5*h*u^n*β*γ**2 + 32*N**5*h*v^n*β*γ**2 - 32*N**5*u^n*β*γ - 32*N**5*v^n*β*γ + 8*N**4*h**3*u^n*v^n*β**2*γ**3 + 4*N**4*h**3*v^n**2*β**2*γ**3 + 24*N**4*h**2*u^n**2*β**2*γ**2 - 32*N**4*h**2*u^n*v^n*β**2*γ**2 - 12*N**4*h**2*v^n**2*β**2*γ**2 - 48*N**4*h*u^n**2*β**2*γ + 48*N**4*h*u^n*v^n*β**2*γ + 16*N**4*u^n**2*β**2 - 32*N**4*u^n*v^n*β**2 + 16*N**4*v^n**2*β**2 - 24*N**3*h**3*u^n**2*v^n*β**3*γ**2 + 16*N**3*h**3*u^n*v^n**2*β**3*γ**2 - 4*N**3*h**3*v^n**3*β**3*γ**2 - 16*N**3*h**2*u^n**3*β**3*γ + 88*N**3*h**2*u^n**2*v^n*β**3*γ - 72*N**3*h**2*u^n*v^n**2*β**3*γ + 16*N**3*h**2*v^n**3*β**3*γ + 16*N**3*h*u^n**3*β**3 - 80*N**3*h*u^n**2*v^n*β**3 + 80*N**3*h*u^n*v^n**2*β**3 - 16*N**3*h*v^n**3*β**3 + 4*N**2*h**4*u^n**2*v^n**2*β**4*γ**2 - 4*N**2*h**4*u^n*v^n**3*β**4*γ**2 + N**2*h**4*v^n**4*β**4*γ**2 + 24*N**2*h**3*u^n**3*v^n*β**4*γ - 60*N**2*h**3*u^n**2*v^n**2*β**4*γ + 32*N**2*h**3*u^n*v^n**3*β**4*γ - 4*N**2*h**3*v^n**4*β**4*γ + 4*N**2*h**2*u^n**4*β**4 - 48*N**2*h**2*u^n**3*v^n*β**4 + 104*N**2*h**2*u^n**2*v^n**2*β**4 - 48*N**2*h**2*u^n*v^n**3*β**4 + 4*N**2*h**2*v^n**4*β**4 - 8*N*h**4*u^n**3*v^n**2*β**5*γ + 12*N*h**4*u^n**2*v^n**3*β**5*γ - 4*N*h**4*u^n*v^n**4*β**5*γ - 8*N*h**3*u^n**4*v^n*β**5 + 40*N*h**3*u^n**3*v^n**2*β**5 - 40*N*h**3*u^n**2*v^n**3*β**5 + 8*N*h**3*u^n*v^n**4*β**5 + 4*h**4*u^n**4*v^n**2*β**6 - 8*h**4*u^n**3*v^n**3*β**6 + 4*h**4*u^n**2*v^n**4*β**6))/(8*N**3)"
      ]
     },
     "execution_count": 49,
     "metadata": {},
     "output_type": "execute_result"
    }
   ],
   "source": [
    "ava2 = autovalores[1]\n",
    "ava2"
   ]
  },
  {
   "cell_type": "code",
   "execution_count": 50,
   "metadata": {},
   "outputs": [
    {
     "data": {
      "text/latex": [
       "$\\displaystyle \\frac{2 N^{3} h^{2} γ^{2} - 4 N^{3} h γ + 8 N^{3} - 4 N^{2} h^{2} u^{n} β γ + 2 N^{2} h^{2} v^{n} β γ + 4 N^{2} h u^{n} β - 4 N^{2} h v^{n} β + 2 N h^{3} u^{n} v^{n} β^{2} γ - N h^{3} \\left(v^{n}\\right)^{2} β^{2} γ + 2 N h^{2} \\left(u^{n}\\right)^{2} β^{2} - 8 N h^{2} u^{n} v^{n} β^{2} + 2 N h^{2} \\left(v^{n}\\right)^{2} β^{2} - 2 h^{3} \\left(u^{n}\\right)^{2} v^{n} β^{3} + 2 h^{3} u^{n} \\left(v^{n}\\right)^{2} β^{3} - h \\sqrt{4 N^{6} h^{2} γ^{4} - 16 N^{6} h γ^{3} + 16 N^{6} γ^{2} - 16 N^{5} h^{2} u^{n} β γ^{3} - 8 N^{5} h^{2} v^{n} β γ^{3} + 48 N^{5} h u^{n} β γ^{2} + 32 N^{5} h v^{n} β γ^{2} - 32 N^{5} u^{n} β γ - 32 N^{5} v^{n} β γ + 8 N^{4} h^{3} u^{n} v^{n} β^{2} γ^{3} + 4 N^{4} h^{3} \\left(v^{n}\\right)^{2} β^{2} γ^{3} + 24 N^{4} h^{2} \\left(u^{n}\\right)^{2} β^{2} γ^{2} - 32 N^{4} h^{2} u^{n} v^{n} β^{2} γ^{2} - 12 N^{4} h^{2} \\left(v^{n}\\right)^{2} β^{2} γ^{2} - 48 N^{4} h \\left(u^{n}\\right)^{2} β^{2} γ + 48 N^{4} h u^{n} v^{n} β^{2} γ + 16 N^{4} \\left(u^{n}\\right)^{2} β^{2} - 32 N^{4} u^{n} v^{n} β^{2} + 16 N^{4} \\left(v^{n}\\right)^{2} β^{2} - 24 N^{3} h^{3} \\left(u^{n}\\right)^{2} v^{n} β^{3} γ^{2} + 16 N^{3} h^{3} u^{n} \\left(v^{n}\\right)^{2} β^{3} γ^{2} - 4 N^{3} h^{3} \\left(v^{n}\\right)^{3} β^{3} γ^{2} - 16 N^{3} h^{2} \\left(u^{n}\\right)^{3} β^{3} γ + 88 N^{3} h^{2} \\left(u^{n}\\right)^{2} v^{n} β^{3} γ - 72 N^{3} h^{2} u^{n} \\left(v^{n}\\right)^{2} β^{3} γ + 16 N^{3} h^{2} \\left(v^{n}\\right)^{3} β^{3} γ + 16 N^{3} h \\left(u^{n}\\right)^{3} β^{3} - 80 N^{3} h \\left(u^{n}\\right)^{2} v^{n} β^{3} + 80 N^{3} h u^{n} \\left(v^{n}\\right)^{2} β^{3} - 16 N^{3} h \\left(v^{n}\\right)^{3} β^{3} + 4 N^{2} h^{4} \\left(u^{n}\\right)^{2} \\left(v^{n}\\right)^{2} β^{4} γ^{2} - 4 N^{2} h^{4} u^{n} \\left(v^{n}\\right)^{3} β^{4} γ^{2} + N^{2} h^{4} \\left(v^{n}\\right)^{4} β^{4} γ^{2} + 24 N^{2} h^{3} \\left(u^{n}\\right)^{3} v^{n} β^{4} γ - 60 N^{2} h^{3} \\left(u^{n}\\right)^{2} \\left(v^{n}\\right)^{2} β^{4} γ + 32 N^{2} h^{3} u^{n} \\left(v^{n}\\right)^{3} β^{4} γ - 4 N^{2} h^{3} \\left(v^{n}\\right)^{4} β^{4} γ + 4 N^{2} h^{2} \\left(u^{n}\\right)^{4} β^{4} - 48 N^{2} h^{2} \\left(u^{n}\\right)^{3} v^{n} β^{4} + 104 N^{2} h^{2} \\left(u^{n}\\right)^{2} \\left(v^{n}\\right)^{2} β^{4} - 48 N^{2} h^{2} u^{n} \\left(v^{n}\\right)^{3} β^{4} + 4 N^{2} h^{2} \\left(v^{n}\\right)^{4} β^{4} - 8 N h^{4} \\left(u^{n}\\right)^{3} \\left(v^{n}\\right)^{2} β^{5} γ + 12 N h^{4} \\left(u^{n}\\right)^{2} \\left(v^{n}\\right)^{3} β^{5} γ - 4 N h^{4} u^{n} \\left(v^{n}\\right)^{4} β^{5} γ - 8 N h^{3} \\left(u^{n}\\right)^{4} v^{n} β^{5} + 40 N h^{3} \\left(u^{n}\\right)^{3} \\left(v^{n}\\right)^{2} β^{5} - 40 N h^{3} \\left(u^{n}\\right)^{2} \\left(v^{n}\\right)^{3} β^{5} + 8 N h^{3} u^{n} \\left(v^{n}\\right)^{4} β^{5} + 4 h^{4} \\left(u^{n}\\right)^{4} \\left(v^{n}\\right)^{2} β^{6} - 8 h^{4} \\left(u^{n}\\right)^{3} \\left(v^{n}\\right)^{3} β^{6} + 4 h^{4} \\left(u^{n}\\right)^{2} \\left(v^{n}\\right)^{4} β^{6}}}{8 N^{3}}$"
      ],
      "text/plain": [
       "(2*N**3*h**2*γ**2 - 4*N**3*h*γ + 8*N**3 - 4*N**2*h**2*u^n*β*γ + 2*N**2*h**2*v^n*β*γ + 4*N**2*h*u^n*β - 4*N**2*h*v^n*β + 2*N*h**3*u^n*v^n*β**2*γ - N*h**3*v^n**2*β**2*γ + 2*N*h**2*u^n**2*β**2 - 8*N*h**2*u^n*v^n*β**2 + 2*N*h**2*v^n**2*β**2 - 2*h**3*u^n**2*v^n*β**3 + 2*h**3*u^n*v^n**2*β**3 - h*sqrt(4*N**6*h**2*γ**4 - 16*N**6*h*γ**3 + 16*N**6*γ**2 - 16*N**5*h**2*u^n*β*γ**3 - 8*N**5*h**2*v^n*β*γ**3 + 48*N**5*h*u^n*β*γ**2 + 32*N**5*h*v^n*β*γ**2 - 32*N**5*u^n*β*γ - 32*N**5*v^n*β*γ + 8*N**4*h**3*u^n*v^n*β**2*γ**3 + 4*N**4*h**3*v^n**2*β**2*γ**3 + 24*N**4*h**2*u^n**2*β**2*γ**2 - 32*N**4*h**2*u^n*v^n*β**2*γ**2 - 12*N**4*h**2*v^n**2*β**2*γ**2 - 48*N**4*h*u^n**2*β**2*γ + 48*N**4*h*u^n*v^n*β**2*γ + 16*N**4*u^n**2*β**2 - 32*N**4*u^n*v^n*β**2 + 16*N**4*v^n**2*β**2 - 24*N**3*h**3*u^n**2*v^n*β**3*γ**2 + 16*N**3*h**3*u^n*v^n**2*β**3*γ**2 - 4*N**3*h**3*v^n**3*β**3*γ**2 - 16*N**3*h**2*u^n**3*β**3*γ + 88*N**3*h**2*u^n**2*v^n*β**3*γ - 72*N**3*h**2*u^n*v^n**2*β**3*γ + 16*N**3*h**2*v^n**3*β**3*γ + 16*N**3*h*u^n**3*β**3 - 80*N**3*h*u^n**2*v^n*β**3 + 80*N**3*h*u^n*v^n**2*β**3 - 16*N**3*h*v^n**3*β**3 + 4*N**2*h**4*u^n**2*v^n**2*β**4*γ**2 - 4*N**2*h**4*u^n*v^n**3*β**4*γ**2 + N**2*h**4*v^n**4*β**4*γ**2 + 24*N**2*h**3*u^n**3*v^n*β**4*γ - 60*N**2*h**3*u^n**2*v^n**2*β**4*γ + 32*N**2*h**3*u^n*v^n**3*β**4*γ - 4*N**2*h**3*v^n**4*β**4*γ + 4*N**2*h**2*u^n**4*β**4 - 48*N**2*h**2*u^n**3*v^n*β**4 + 104*N**2*h**2*u^n**2*v^n**2*β**4 - 48*N**2*h**2*u^n*v^n**3*β**4 + 4*N**2*h**2*v^n**4*β**4 - 8*N*h**4*u^n**3*v^n**2*β**5*γ + 12*N*h**4*u^n**2*v^n**3*β**5*γ - 4*N*h**4*u^n*v^n**4*β**5*γ - 8*N*h**3*u^n**4*v^n*β**5 + 40*N*h**3*u^n**3*v^n**2*β**5 - 40*N*h**3*u^n**2*v^n**3*β**5 + 8*N*h**3*u^n*v^n**4*β**5 + 4*h**4*u^n**4*v^n**2*β**6 - 8*h**4*u^n**3*v^n**3*β**6 + 4*h**4*u^n**2*v^n**4*β**6))/(8*N**3)"
      ]
     },
     "execution_count": 50,
     "metadata": {},
     "output_type": "execute_result"
    }
   ],
   "source": [
    "ava3 = autovalores[2]\n",
    "ava3"
   ]
  },
  {
   "cell_type": "markdown",
   "metadata": {},
   "source": [
    "#### Asignamos valores de N a y b"
   ]
  },
  {
   "cell_type": "code",
   "execution_count": 51,
   "metadata": {},
   "outputs": [],
   "source": [
    "values = {\n",
    "    N : 19116289*0.01,\n",
    "    b : 0.35,\n",
    "    a : 0.07,\n",
    "    h : 0.5,\n",
    "    un: 19116209 *0.01,\n",
    "    vn: 1\n",
    "}"
   ]
  },
  {
   "cell_type": "code",
   "execution_count": 52,
   "metadata": {},
   "outputs": [],
   "source": [
    "ava1_vals = ava1.subs(values)\n",
    "ava2_vals = ava2.subs(values)\n",
    "ava3_vals = ava3.subs(values)"
   ]
  },
  {
   "cell_type": "code",
   "execution_count": 53,
   "metadata": {},
   "outputs": [
    {
     "data": {
      "text/latex": [
       "$\\displaystyle 1$"
      ],
      "text/plain": [
       "1"
      ]
     },
     "execution_count": 53,
     "metadata": {},
     "output_type": "execute_result"
    }
   ],
   "source": [
    "ava1_vals"
   ]
  },
  {
   "cell_type": "code",
   "execution_count": 54,
   "metadata": {
    "scrolled": true
   },
   "outputs": [
    {
     "data": {
      "text/latex": [
       "$\\displaystyle 1.14979768917492$"
      ],
      "text/plain": [
       "1.14979768917492"
      ]
     },
     "execution_count": 54,
     "metadata": {},
     "output_type": "execute_result"
    }
   ],
   "source": [
    "ava2_vals"
   ]
  },
  {
   "cell_type": "code",
   "execution_count": 55,
   "metadata": {},
   "outputs": [
    {
     "data": {
      "text/latex": [
       "$\\displaystyle 1.14979768917492$"
      ],
      "text/plain": [
       "1.14979768917492"
      ]
     },
     "execution_count": 55,
     "metadata": {},
     "output_type": "execute_result"
    }
   ],
   "source": [
    "ava2_vals"
   ]
  },
  {
   "cell_type": "markdown",
   "metadata": {},
   "source": [
    "#### Pruebo varios pasos"
   ]
  },
  {
   "cell_type": "code",
   "execution_count": 56,
   "metadata": {},
   "outputs": [
    {
     "name": "stdout",
     "output_type": "stream",
     "text": [
      "PASO:  1\n",
      "ava:  1\n",
      "ava:  1.31919446519295\n",
      "ava:  1.00000052181427\n",
      "\n",
      "PASO:  0.5\n",
      "ava:  1\n",
      "ava:  1.14979768917492\n",
      "ava:  1.00000024488629\n",
      "\n",
      "PASO:  0.1\n",
      "ava:  1\n",
      "ava:  1.02839160765787\n",
      "ava:  1.00000004641393\n",
      "\n",
      "PASO:  0.01\n",
      "ava:  1\n",
      "ava:  1.00280388229724\n",
      "ava:  1.00000000458372\n",
      "\n",
      "PASO:  0.001\n",
      "ava:  1\n",
      "ava:  1.00028003544496\n",
      "ava:  1.00000000045780\n",
      "\n",
      "PASO:  0.0001\n",
      "ava:  1\n",
      "ava:  1.00002800001665\n",
      "ava:  1.00000000004577\n",
      "\n",
      "PASO:  1e-05\n",
      "ava:  1\n",
      "ava:  1.00000279996639\n",
      "ava:  1.00000000000458\n",
      "\n",
      "PASO:  1e-06\n",
      "ava:  1\n",
      "ava:  1.00000027999629\n",
      "ava:  1.00000000000046\n",
      "\n",
      "PASO:  1e-07\n",
      "ava:  1\n",
      "ava:  1.00000002799962\n",
      "ava:  1.00000000000005\n",
      "\n"
     ]
    }
   ],
   "source": [
    "pasos = [1,0.5,0.1,0.01,0.001,0.0001,0.00001, 0.000001, 0.0000001]\n",
    "\n",
    "for un_h in pasos:\n",
    "    print(\"PASO: \",un_h)\n",
    "    values = {\n",
    "        N : 19116289*0.01,\n",
    "        b : 0.35,\n",
    "        a : 0.07,\n",
    "        h : un_h,\n",
    "        un: 19116209 *0.01,\n",
    "        vn: 1\n",
    "    }\n",
    "\n",
    "    for ava in autovalores:\n",
    "        res = ava.subs(values)\n",
    "        print(\"ava: \",res)\n",
    "    print()"
   ]
  },
  {
   "cell_type": "markdown",
   "metadata": {},
   "source": [
    "### A3) Calibración"
   ]
  },
  {
   "cell_type": "code",
   "execution_count": 57,
   "metadata": {},
   "outputs": [],
   "source": [
    "def norma(vector):\n",
    "    res = 0\n",
    "    for x in vector:\n",
    "        res += x**2\n",
    "    return res**(1/2)"
   ]
  },
  {
   "cell_type": "code",
   "execution_count": 58,
   "metadata": {},
   "outputs": [],
   "source": [
    "def error_relativo_series(X_real,X_calculado,m):\n",
    "        \n",
    "    resta = X_real.copy()[:m]\n",
    "    X_calc = X_calculado.copy()[:m]\n",
    "    \n",
    "    for i in range(len(resta)):\n",
    "        resta[i] -= X_calc[i]\n",
    "    \n",
    "    return 100*norma(resta)/norma(X_real.copy()[:m])"
   ]
  },
  {
   "cell_type": "code",
   "execution_count": 59,
   "metadata": {},
   "outputs": [],
   "source": [
    "def calibracion_GridSearch(total_cases_real, n, sigma, alfa, paso, m):\n",
    "    \n",
    "    print(\"{: >8} {: >8} {: >8} {: >8}\\t {: >12}\\n\".format(\"alfa\",\"beta\",\"sigma\",\"paso\",\"error relativo %\"))\n",
    "    \n",
    "    error_min = np.inf\n",
    "    best_vals = []\n",
    "    \n",
    "    for s in sigma:\n",
    "        for h in paso:\n",
    "            for a in alfa:\n",
    "                \n",
    "                b = s*a\n",
    "                \n",
    "                info_discretizado = discretizacion_RK_2(b, a, n, h, m)\n",
    "                total_cases_modelo = info_discretizado[\"vn\"] + info_discretizado[\"wn\"]\n",
    "                try:\n",
    "                    error_actual = error_relativo_series(total_cases_real, total_cases_modelo, m)\n",
    "                except OverflowError:\n",
    "                    error_actual = np.inf\n",
    "                \n",
    "                \n",
    "                print(\"{: >8} {: >8} {: >8} {: >8}\\t {: >12}\".format(round(a,2),round(b,2),round(b/a,2),h, round(error_actual,2)))\n",
    "                    \n",
    "                if error_min > error_actual:\n",
    "                    error_min = error_actual\n",
    "                    best_vals = [a,b,h]\n",
    "    \n",
    "    return best_vals, error_min"
   ]
  },
  {
   "cell_type": "code",
   "execution_count": 60,
   "metadata": {
    "scrolled": false
   },
   "outputs": [
    {
     "name": "stdout",
     "output_type": "stream",
     "text": [
      "    alfa     beta    sigma     paso\t error relativo %\n",
      "\n",
      "    0.09     0.18      2.0     0.01\t        99.98\n",
      "    0.08     0.16      2.0     0.01\t        99.98\n",
      "    0.07     0.14      2.0     0.01\t        99.98\n",
      "    0.06     0.12      2.0     0.01\t        99.98\n",
      "    0.09     0.18      2.0    0.001\t        99.98\n",
      "    0.08     0.16      2.0    0.001\t        99.98\n",
      "    0.07     0.14      2.0    0.001\t        99.98\n",
      "    0.06     0.12      2.0    0.001\t        99.98\n",
      "    0.09     0.18      2.0   0.0001\t        99.98\n",
      "    0.08     0.16      2.0   0.0001\t        99.98\n",
      "    0.07     0.14      2.0   0.0001\t        99.98\n",
      "    0.06     0.12      2.0   0.0001\t        99.98\n",
      "    0.09     0.18      2.0    1e-05\t        99.98\n",
      "    0.08     0.16      2.0    1e-05\t        99.98\n",
      "    0.07     0.14      2.0    1e-05\t        99.98\n",
      "    0.06     0.12      2.0    1e-05\t        99.98\n",
      "    0.09     0.18      2.0        1\t        98.61\n",
      "    0.08     0.16      2.0        1\t        99.14\n",
      "    0.07     0.14      2.0        1\t        99.47\n",
      "    0.06     0.12      2.0        1\t        99.67\n",
      "    0.09     0.18      2.0      0.5\t        99.84\n",
      "    0.08     0.16      2.0      0.5\t        99.87\n",
      "    0.07     0.14      2.0      0.5\t         99.9\n",
      "    0.06     0.12      2.0      0.5\t        99.92\n",
      "    0.09     0.22      2.5     0.01\t        99.98\n",
      "    0.08      0.2      2.5     0.01\t        99.98\n",
      "    0.07     0.18      2.5     0.01\t        99.98\n",
      "    0.06     0.15      2.5     0.01\t        99.98\n",
      "    0.09     0.22      2.5    0.001\t        99.98\n",
      "    0.08      0.2      2.5    0.001\t        99.98\n",
      "    0.07     0.18      2.5    0.001\t        99.98\n",
      "    0.06     0.15      2.5    0.001\t        99.98\n",
      "    0.09     0.22      2.5   0.0001\t        99.98\n",
      "    0.08      0.2      2.5   0.0001\t        99.98\n",
      "    0.07     0.18      2.5   0.0001\t        99.98\n",
      "    0.06     0.15      2.5   0.0001\t        99.98\n",
      "    0.09     0.22      2.5    1e-05\t        99.98\n",
      "    0.08      0.2      2.5    1e-05\t        99.98\n",
      "    0.07     0.18      2.5    1e-05\t        99.98\n",
      "    0.06     0.15      2.5    1e-05\t        99.98\n",
      "    0.09     0.22      2.5        1\t        89.67\n",
      "    0.08      0.2      2.5        1\t        95.01\n",
      "    0.07     0.18      2.5        1\t        97.59\n",
      "    0.06     0.15      2.5        1\t        98.84\n",
      "    0.09     0.22      2.5      0.5\t        99.61\n",
      "    0.08      0.2      2.5      0.5\t        99.72\n",
      "    0.07     0.18      2.5      0.5\t        99.81\n",
      "    0.06     0.15      2.5      0.5\t        99.86\n",
      "    0.09     0.27      3.0     0.01\t        99.98\n",
      "    0.08     0.24      3.0     0.01\t        99.98\n",
      "    0.07     0.21      3.0     0.01\t        99.98\n",
      "    0.06     0.18      3.0     0.01\t        99.98\n",
      "    0.09     0.27      3.0    0.001\t        99.98\n",
      "    0.08     0.24      3.0    0.001\t        99.98\n",
      "    0.07     0.21      3.0    0.001\t        99.98\n",
      "    0.06     0.18      3.0    0.001\t        99.98\n",
      "    0.09     0.27      3.0   0.0001\t        99.98\n",
      "    0.08     0.24      3.0   0.0001\t        99.98\n",
      "    0.07     0.21      3.0   0.0001\t        99.98\n",
      "    0.06     0.18      3.0   0.0001\t        99.98\n",
      "    0.09     0.27      3.0    1e-05\t        99.98\n",
      "    0.08     0.24      3.0    1e-05\t        99.98\n",
      "    0.07     0.21      3.0    1e-05\t        99.98\n",
      "    0.06     0.18      3.0    1e-05\t        99.98\n",
      "    0.09     0.27      3.0        1\t        53.72\n",
      "    0.08     0.24      3.0        1\t        70.43\n",
      "    0.07     0.21      3.0        1\t        88.14\n",
      "    0.06     0.18      3.0        1\t         95.5\n",
      "    0.09     0.27      3.0      0.5\t        98.95\n",
      "    0.08     0.24      3.0      0.5\t        99.35\n",
      "    0.07     0.21      3.0      0.5\t         99.6\n",
      "    0.06     0.18      3.0      0.5\t        99.75\n",
      "    0.09     0.32      3.5     0.01\t        99.98\n",
      "    0.08     0.28      3.5     0.01\t        99.98\n",
      "    0.07     0.25      3.5     0.01\t        99.98\n",
      "    0.06     0.21      3.5     0.01\t        99.98\n",
      "    0.09     0.32      3.5    0.001\t        99.98\n",
      "    0.08     0.28      3.5    0.001\t        99.98\n",
      "    0.07     0.25      3.5    0.001\t        99.98\n",
      "    0.06     0.21      3.5    0.001\t        99.98\n",
      "    0.09     0.32      3.5   0.0001\t        99.98\n",
      "    0.08     0.28      3.5   0.0001\t        99.98\n",
      "    0.07     0.25      3.5   0.0001\t        99.98\n",
      "    0.06     0.21      3.5   0.0001\t        99.98\n",
      "    0.09     0.32      3.5    1e-05\t        99.98\n",
      "    0.08     0.28      3.5    1e-05\t        99.98\n",
      "    0.07     0.25      3.5    1e-05\t        99.98\n",
      "    0.06     0.21      3.5    1e-05\t        99.98\n",
      "    0.09     0.32      3.5        1\t       401.87\n",
      "    0.08     0.28      3.5        1\t       141.05\n",
      "    0.07     0.25      3.5        1\t        53.96\n",
      "    0.06     0.21      3.5        1\t        82.18\n",
      "    0.09     0.32      3.5      0.5\t        97.08\n",
      "    0.08     0.28      3.5      0.5\t        98.41\n",
      "    0.07     0.25      3.5      0.5\t        99.13\n",
      "    0.06     0.21      3.5      0.5\t        99.53\n",
      "    0.09     0.36      4.0     0.01\t        99.98\n",
      "    0.08     0.32      4.0     0.01\t        99.98\n",
      "    0.07     0.28      4.0     0.01\t        99.98\n",
      "    0.06     0.24      4.0     0.01\t        99.98\n",
      "    0.09     0.36      4.0    0.001\t        99.98\n",
      "    0.08     0.32      4.0    0.001\t        99.98\n",
      "    0.07     0.28      4.0    0.001\t        99.98\n",
      "    0.06     0.24      4.0    0.001\t        99.98\n",
      "    0.09     0.36      4.0   0.0001\t        99.98\n",
      "    0.08     0.32      4.0   0.0001\t        99.98\n",
      "    0.07     0.28      4.0   0.0001\t        99.98\n",
      "    0.06     0.24      4.0   0.0001\t        99.98\n",
      "    0.09     0.36      4.0    1e-05\t        99.98\n",
      "    0.08     0.32      4.0    1e-05\t        99.98\n",
      "    0.07     0.28      4.0    1e-05\t        99.98\n",
      "    0.06     0.24      4.0    1e-05\t        99.98\n",
      "    0.09     0.36      4.0        1\t        934.2\n",
      "    0.08     0.32      4.0        1\t       586.53\n",
      "    0.07     0.28      4.0        1\t       224.34\n",
      "    0.06     0.24      4.0        1\t        53.02\n",
      "    0.09     0.36      4.0      0.5\t        91.68\n",
      "    0.08     0.32      4.0      0.5\t        95.99\n",
      "    0.07     0.28      4.0      0.5\t        98.07\n",
      "    0.06     0.24      4.0      0.5\t        99.07\n",
      "    0.09      0.4      4.5     0.01\t        99.98\n",
      "    0.08     0.36      4.5     0.01\t        99.98\n",
      "    0.07     0.32      4.5     0.01\t        99.98\n",
      "    0.06     0.27      4.5     0.01\t        99.98\n",
      "    0.09      0.4      4.5    0.001\t        99.98\n",
      "    0.08     0.36      4.5    0.001\t        99.98\n",
      "    0.07     0.32      4.5    0.001\t        99.98\n",
      "    0.06     0.27      4.5    0.001\t        99.98\n",
      "    0.09      0.4      4.5   0.0001\t        99.98\n",
      "    0.08     0.36      4.5   0.0001\t        99.98\n",
      "    0.07     0.32      4.5   0.0001\t        99.98\n",
      "    0.06     0.27      4.5   0.0001\t        99.98\n",
      "    0.09      0.4      4.5    1e-05\t        99.98\n",
      "    0.08     0.36      4.5    1e-05\t        99.98\n",
      "    0.07     0.32      4.5    1e-05\t        99.98\n",
      "    0.06     0.27      4.5    1e-05\t        99.98\n",
      "    0.09      0.4      4.5        1\t      1317.67\n",
      "    0.08     0.36      4.5        1\t       1037.8\n",
      "    0.07     0.32      4.5        1\t       648.33\n",
      "    0.06     0.27      4.5        1\t       219.13\n",
      "    0.09      0.4      4.5      0.5\t        76.79\n",
      "    0.08     0.36      4.5      0.5\t        89.77\n",
      "    0.07     0.32      4.5      0.5\t        95.63\n",
      "    0.06     0.27      4.5      0.5\t        98.14\n"
     ]
    },
    {
     "data": {
      "text/plain": [
       "([0.06, 0.24, 1], 53.02487310869998)"
      ]
     },
     "execution_count": 60,
     "metadata": {},
     "output_type": "execute_result"
    }
   ],
   "source": [
    "m = 56\n",
    "sigma =  np.arange(2,5,0.5)\n",
    "alfa = [0.09,0.08,0.07,0.06]\n",
    "paso =[0.01,0.001,0.0001,0.00001,1,0.5]\n",
    "n = 19116209 * 0.01\n",
    "\n",
    "calibracion_GridSearch(total_cases, n, sigma, alfa, paso, m)"
   ]
  },
  {
   "cell_type": "code",
   "execution_count": 61,
   "metadata": {},
   "outputs": [
    {
     "data": {
      "text/plain": [
       "4.0"
      ]
     },
     "execution_count": 61,
     "metadata": {},
     "output_type": "execute_result"
    }
   ],
   "source": [
    "0.24/0.06 #SIGMA"
   ]
  },
  {
   "cell_type": "markdown",
   "metadata": {},
   "source": [
    "**Finalemente**\n",
    "\n",
    "* Beta = 0.24\n",
    "* Alfa = 0.06\n",
    "* h = 1\n",
    "* n = N . 0.01\n",
    "* error relativo porcentual =  53.02487310869998"
   ]
  },
  {
   "cell_type": "markdown",
   "metadata": {},
   "source": [
    "**Grafico aproximación:**"
   ]
  },
  {
   "cell_type": "code",
   "execution_count": 62,
   "metadata": {
    "scrolled": true
   },
   "outputs": [
    {
     "data": {
      "text/html": [
       "<div>\n",
       "<style scoped>\n",
       "    .dataframe tbody tr th:only-of-type {\n",
       "        vertical-align: middle;\n",
       "    }\n",
       "\n",
       "    .dataframe tbody tr th {\n",
       "        vertical-align: top;\n",
       "    }\n",
       "\n",
       "    .dataframe thead th {\n",
       "        text-align: right;\n",
       "    }\n",
       "</style>\n",
       "<table border=\"1\" class=\"dataframe\">\n",
       "  <thead>\n",
       "    <tr style=\"text-align: right;\">\n",
       "      <th></th>\n",
       "      <th>day</th>\n",
       "      <th>un</th>\n",
       "      <th>vn</th>\n",
       "      <th>wn</th>\n",
       "    </tr>\n",
       "  </thead>\n",
       "  <tbody>\n",
       "    <tr>\n",
       "      <th>0</th>\n",
       "      <td>0</td>\n",
       "      <td>191161.090000</td>\n",
       "      <td>1.000000</td>\n",
       "      <td>0.000000</td>\n",
       "    </tr>\n",
       "    <tr>\n",
       "      <th>1</th>\n",
       "      <td>1</td>\n",
       "      <td>191160.828402</td>\n",
       "      <td>1.196198</td>\n",
       "      <td>0.065400</td>\n",
       "    </tr>\n",
       "    <tr>\n",
       "      <th>2</th>\n",
       "      <td>2</td>\n",
       "      <td>191160.515479</td>\n",
       "      <td>1.430890</td>\n",
       "      <td>0.143631</td>\n",
       "    </tr>\n",
       "    <tr>\n",
       "      <th>3</th>\n",
       "      <td>3</td>\n",
       "      <td>191160.141162</td>\n",
       "      <td>1.711627</td>\n",
       "      <td>0.237211</td>\n",
       "    </tr>\n",
       "    <tr>\n",
       "      <th>4</th>\n",
       "      <td>4</td>\n",
       "      <td>191159.693406</td>\n",
       "      <td>2.047443</td>\n",
       "      <td>0.349152</td>\n",
       "    </tr>\n",
       "    <tr>\n",
       "      <th>5</th>\n",
       "      <td>5</td>\n",
       "      <td>191159.157803</td>\n",
       "      <td>2.449143</td>\n",
       "      <td>0.483054</td>\n",
       "    </tr>\n",
       "    <tr>\n",
       "      <th>6</th>\n",
       "      <td>6</td>\n",
       "      <td>191158.517119</td>\n",
       "      <td>2.929653</td>\n",
       "      <td>0.643228</td>\n",
       "    </tr>\n",
       "    <tr>\n",
       "      <th>7</th>\n",
       "      <td>7</td>\n",
       "      <td>191157.750739</td>\n",
       "      <td>3.504434</td>\n",
       "      <td>0.834827</td>\n",
       "    </tr>\n",
       "    <tr>\n",
       "      <th>8</th>\n",
       "      <td>8</td>\n",
       "      <td>191156.834004</td>\n",
       "      <td>4.191980</td>\n",
       "      <td>1.064016</td>\n",
       "    </tr>\n",
       "    <tr>\n",
       "      <th>9</th>\n",
       "      <td>9</td>\n",
       "      <td>191155.737418</td>\n",
       "      <td>5.014411</td>\n",
       "      <td>1.338171</td>\n",
       "    </tr>\n",
       "    <tr>\n",
       "      <th>10</th>\n",
       "      <td>10</td>\n",
       "      <td>191154.425701</td>\n",
       "      <td>5.998187</td>\n",
       "      <td>1.666112</td>\n",
       "    </tr>\n",
       "    <tr>\n",
       "      <th>11</th>\n",
       "      <td>11</td>\n",
       "      <td>191152.856651</td>\n",
       "      <td>7.174957</td>\n",
       "      <td>2.058392</td>\n",
       "    </tr>\n",
       "    <tr>\n",
       "      <th>12</th>\n",
       "      <td>12</td>\n",
       "      <td>191150.979791</td>\n",
       "      <td>8.582577</td>\n",
       "      <td>2.527632</td>\n",
       "    </tr>\n",
       "    <tr>\n",
       "      <th>13</th>\n",
       "      <td>13</td>\n",
       "      <td>191148.734746</td>\n",
       "      <td>10.266325</td>\n",
       "      <td>3.088929</td>\n",
       "    </tr>\n",
       "    <tr>\n",
       "      <th>14</th>\n",
       "      <td>14</td>\n",
       "      <td>191146.049301</td>\n",
       "      <td>12.280358</td>\n",
       "      <td>3.760341</td>\n",
       "    </tr>\n",
       "    <tr>\n",
       "      <th>15</th>\n",
       "      <td>15</td>\n",
       "      <td>191142.837084</td>\n",
       "      <td>14.689447</td>\n",
       "      <td>4.563469</td>\n",
       "    </tr>\n",
       "    <tr>\n",
       "      <th>16</th>\n",
       "      <td>16</td>\n",
       "      <td>191138.994789</td>\n",
       "      <td>17.571063</td>\n",
       "      <td>5.524148</td>\n",
       "    </tr>\n",
       "    <tr>\n",
       "      <th>17</th>\n",
       "      <td>17</td>\n",
       "      <td>191134.398866</td>\n",
       "      <td>21.017853</td>\n",
       "      <td>6.673280</td>\n",
       "    </tr>\n",
       "    <tr>\n",
       "      <th>18</th>\n",
       "      <td>18</td>\n",
       "      <td>191128.901553</td>\n",
       "      <td>25.140621</td>\n",
       "      <td>8.047826</td>\n",
       "    </tr>\n",
       "    <tr>\n",
       "      <th>19</th>\n",
       "      <td>19</td>\n",
       "      <td>191122.326137</td>\n",
       "      <td>30.071871</td>\n",
       "      <td>9.691991</td>\n",
       "    </tr>\n",
       "    <tr>\n",
       "      <th>20</th>\n",
       "      <td>20</td>\n",
       "      <td>191114.461301</td>\n",
       "      <td>35.970052</td>\n",
       "      <td>11.658647</td>\n",
       "    </tr>\n",
       "    <tr>\n",
       "      <th>21</th>\n",
       "      <td>21</td>\n",
       "      <td>191105.054350</td>\n",
       "      <td>43.024626</td>\n",
       "      <td>14.011024</td>\n",
       "    </tr>\n",
       "    <tr>\n",
       "      <th>22</th>\n",
       "      <td>22</td>\n",
       "      <td>191093.803139</td>\n",
       "      <td>51.462119</td>\n",
       "      <td>16.824742</td>\n",
       "    </tr>\n",
       "    <tr>\n",
       "      <th>23</th>\n",
       "      <td>23</td>\n",
       "      <td>191080.346422</td>\n",
       "      <td>61.553346</td>\n",
       "      <td>20.190232</td>\n",
       "    </tr>\n",
       "    <tr>\n",
       "      <th>24</th>\n",
       "      <td>24</td>\n",
       "      <td>191064.252332</td>\n",
       "      <td>73.622037</td>\n",
       "      <td>24.215631</td>\n",
       "    </tr>\n",
       "    <tr>\n",
       "      <th>25</th>\n",
       "      <td>25</td>\n",
       "      <td>191045.004639</td>\n",
       "      <td>88.055120</td>\n",
       "      <td>29.030241</td>\n",
       "    </tr>\n",
       "    <tr>\n",
       "      <th>26</th>\n",
       "      <td>26</td>\n",
       "      <td>191021.986353</td>\n",
       "      <td>105.314989</td>\n",
       "      <td>34.788658</td>\n",
       "    </tr>\n",
       "    <tr>\n",
       "      <th>27</th>\n",
       "      <td>27</td>\n",
       "      <td>190994.460185</td>\n",
       "      <td>125.954113</td>\n",
       "      <td>41.675702</td>\n",
       "    </tr>\n",
       "    <tr>\n",
       "      <th>28</th>\n",
       "      <td>28</td>\n",
       "      <td>190961.545263</td>\n",
       "      <td>150.632431</td>\n",
       "      <td>49.912306</td>\n",
       "    </tr>\n",
       "    <tr>\n",
       "      <th>29</th>\n",
       "      <td>29</td>\n",
       "      <td>190922.189427</td>\n",
       "      <td>180.138044</td>\n",
       "      <td>59.762529</td>\n",
       "    </tr>\n",
       "    <tr>\n",
       "      <th>30</th>\n",
       "      <td>30</td>\n",
       "      <td>190875.136277</td>\n",
       "      <td>215.411793</td>\n",
       "      <td>71.541930</td>\n",
       "    </tr>\n",
       "    <tr>\n",
       "      <th>31</th>\n",
       "      <td>31</td>\n",
       "      <td>190818.886048</td>\n",
       "      <td>257.576420</td>\n",
       "      <td>85.627533</td>\n",
       "    </tr>\n",
       "    <tr>\n",
       "      <th>32</th>\n",
       "      <td>32</td>\n",
       "      <td>190751.649199</td>\n",
       "      <td>307.971100</td>\n",
       "      <td>102.469701</td>\n",
       "    </tr>\n",
       "    <tr>\n",
       "      <th>33</th>\n",
       "      <td>33</td>\n",
       "      <td>190671.291480</td>\n",
       "      <td>368.192270</td>\n",
       "      <td>122.606250</td>\n",
       "    </tr>\n",
       "    <tr>\n",
       "      <th>34</th>\n",
       "      <td>34</td>\n",
       "      <td>190575.269030</td>\n",
       "      <td>440.141752</td>\n",
       "      <td>146.679218</td>\n",
       "    </tr>\n",
       "    <tr>\n",
       "      <th>35</th>\n",
       "      <td>35</td>\n",
       "      <td>190460.551900</td>\n",
       "      <td>526.083339</td>\n",
       "      <td>175.454761</td>\n",
       "    </tr>\n",
       "    <tr>\n",
       "      <th>36</th>\n",
       "      <td>36</td>\n",
       "      <td>190323.534220</td>\n",
       "      <td>628.709069</td>\n",
       "      <td>209.846710</td>\n",
       "    </tr>\n",
       "    <tr>\n",
       "      <th>37</th>\n",
       "      <td>37</td>\n",
       "      <td>190159.929071</td>\n",
       "      <td>751.216503</td>\n",
       "      <td>250.944427</td>\n",
       "    </tr>\n",
       "    <tr>\n",
       "      <th>38</th>\n",
       "      <td>38</td>\n",
       "      <td>189964.646033</td>\n",
       "      <td>897.398336</td>\n",
       "      <td>300.045631</td>\n",
       "    </tr>\n",
       "    <tr>\n",
       "      <th>39</th>\n",
       "      <td>39</td>\n",
       "      <td>189731.649376</td>\n",
       "      <td>1071.745616</td>\n",
       "      <td>358.695008</td>\n",
       "    </tr>\n",
       "    <tr>\n",
       "      <th>40</th>\n",
       "      <td>40</td>\n",
       "      <td>189453.794984</td>\n",
       "      <td>1279.565587</td>\n",
       "      <td>428.729429</td>\n",
       "    </tr>\n",
       "    <tr>\n",
       "      <th>41</th>\n",
       "      <td>41</td>\n",
       "      <td>189122.644517</td>\n",
       "      <td>1527.114794</td>\n",
       "      <td>512.330689</td>\n",
       "    </tr>\n",
       "    <tr>\n",
       "      <th>42</th>\n",
       "      <td>42</td>\n",
       "      <td>188728.255996</td>\n",
       "      <td>1821.747311</td>\n",
       "      <td>612.086692</td>\n",
       "    </tr>\n",
       "    <tr>\n",
       "      <th>43</th>\n",
       "      <td>43</td>\n",
       "      <td>188258.951262</td>\n",
       "      <td>2172.076769</td>\n",
       "      <td>731.061969</td>\n",
       "    </tr>\n",
       "    <tr>\n",
       "      <th>44</th>\n",
       "      <td>44</td>\n",
       "      <td>187701.062659</td>\n",
       "      <td>2588.149057</td>\n",
       "      <td>872.878284</td>\n",
       "    </tr>\n",
       "    <tr>\n",
       "      <th>45</th>\n",
       "      <td>45</td>\n",
       "      <td>187038.664210</td>\n",
       "      <td>3081.619942</td>\n",
       "      <td>1041.805848</td>\n",
       "    </tr>\n",
       "    <tr>\n",
       "      <th>46</th>\n",
       "      <td>46</td>\n",
       "      <td>186253.296665</td>\n",
       "      <td>3665.928137</td>\n",
       "      <td>1242.865198</td>\n",
       "    </tr>\n",
       "    <tr>\n",
       "      <th>47</th>\n",
       "      <td>47</td>\n",
       "      <td>185323.701579</td>\n",
       "      <td>4356.449305</td>\n",
       "      <td>1481.939117</td>\n",
       "    </tr>\n",
       "    <tr>\n",
       "      <th>48</th>\n",
       "      <td>48</td>\n",
       "      <td>184225.587194</td>\n",
       "      <td>5170.609885</td>\n",
       "      <td>1765.892921</td>\n",
       "    </tr>\n",
       "    <tr>\n",
       "      <th>49</th>\n",
       "      <td>49</td>\n",
       "      <td>182931.458761</td>\n",
       "      <td>6127.931299</td>\n",
       "      <td>2102.699939</td>\n",
       "    </tr>\n",
       "    <tr>\n",
       "      <th>50</th>\n",
       "      <td>50</td>\n",
       "      <td>181410.557829</td>\n",
       "      <td>7249.965193</td>\n",
       "      <td>2501.566978</td>\n",
       "    </tr>\n",
       "    <tr>\n",
       "      <th>51</th>\n",
       "      <td>51</td>\n",
       "      <td>179628.968674</td>\n",
       "      <td>8560.069430</td>\n",
       "      <td>2973.051896</td>\n",
       "    </tr>\n",
       "    <tr>\n",
       "      <th>52</th>\n",
       "      <td>52</td>\n",
       "      <td>177549.964079</td>\n",
       "      <td>10082.963874</td>\n",
       "      <td>3529.162047</td>\n",
       "    </tr>\n",
       "    <tr>\n",
       "      <th>53</th>\n",
       "      <td>53</td>\n",
       "      <td>175134.674628</td>\n",
       "      <td>11843.996944</td>\n",
       "      <td>4183.418428</td>\n",
       "    </tr>\n",
       "    <tr>\n",
       "      <th>54</th>\n",
       "      <td>54</td>\n",
       "      <td>172343.171702</td>\n",
       "      <td>13868.052247</td>\n",
       "      <td>4950.866051</td>\n",
       "    </tr>\n",
       "    <tr>\n",
       "      <th>55</th>\n",
       "      <td>55</td>\n",
       "      <td>169136.048481</td>\n",
       "      <td>16178.034565</td>\n",
       "      <td>5848.006954</td>\n",
       "    </tr>\n",
       "  </tbody>\n",
       "</table>\n",
       "</div>"
      ],
      "text/plain": [
       "    day             un            vn           wn\n",
       "0     0  191161.090000      1.000000     0.000000\n",
       "1     1  191160.828402      1.196198     0.065400\n",
       "2     2  191160.515479      1.430890     0.143631\n",
       "3     3  191160.141162      1.711627     0.237211\n",
       "4     4  191159.693406      2.047443     0.349152\n",
       "5     5  191159.157803      2.449143     0.483054\n",
       "6     6  191158.517119      2.929653     0.643228\n",
       "7     7  191157.750739      3.504434     0.834827\n",
       "8     8  191156.834004      4.191980     1.064016\n",
       "9     9  191155.737418      5.014411     1.338171\n",
       "10   10  191154.425701      5.998187     1.666112\n",
       "11   11  191152.856651      7.174957     2.058392\n",
       "12   12  191150.979791      8.582577     2.527632\n",
       "13   13  191148.734746     10.266325     3.088929\n",
       "14   14  191146.049301     12.280358     3.760341\n",
       "15   15  191142.837084     14.689447     4.563469\n",
       "16   16  191138.994789     17.571063     5.524148\n",
       "17   17  191134.398866     21.017853     6.673280\n",
       "18   18  191128.901553     25.140621     8.047826\n",
       "19   19  191122.326137     30.071871     9.691991\n",
       "20   20  191114.461301     35.970052    11.658647\n",
       "21   21  191105.054350     43.024626    14.011024\n",
       "22   22  191093.803139     51.462119    16.824742\n",
       "23   23  191080.346422     61.553346    20.190232\n",
       "24   24  191064.252332     73.622037    24.215631\n",
       "25   25  191045.004639     88.055120    29.030241\n",
       "26   26  191021.986353    105.314989    34.788658\n",
       "27   27  190994.460185    125.954113    41.675702\n",
       "28   28  190961.545263    150.632431    49.912306\n",
       "29   29  190922.189427    180.138044    59.762529\n",
       "30   30  190875.136277    215.411793    71.541930\n",
       "31   31  190818.886048    257.576420    85.627533\n",
       "32   32  190751.649199    307.971100   102.469701\n",
       "33   33  190671.291480    368.192270   122.606250\n",
       "34   34  190575.269030    440.141752   146.679218\n",
       "35   35  190460.551900    526.083339   175.454761\n",
       "36   36  190323.534220    628.709069   209.846710\n",
       "37   37  190159.929071    751.216503   250.944427\n",
       "38   38  189964.646033    897.398336   300.045631\n",
       "39   39  189731.649376   1071.745616   358.695008\n",
       "40   40  189453.794984   1279.565587   428.729429\n",
       "41   41  189122.644517   1527.114794   512.330689\n",
       "42   42  188728.255996   1821.747311   612.086692\n",
       "43   43  188258.951262   2172.076769   731.061969\n",
       "44   44  187701.062659   2588.149057   872.878284\n",
       "45   45  187038.664210   3081.619942  1041.805848\n",
       "46   46  186253.296665   3665.928137  1242.865198\n",
       "47   47  185323.701579   4356.449305  1481.939117\n",
       "48   48  184225.587194   5170.609885  1765.892921\n",
       "49   49  182931.458761   6127.931299  2102.699939\n",
       "50   50  181410.557829   7249.965193  2501.566978\n",
       "51   51  179628.968674   8560.069430  2973.051896\n",
       "52   52  177549.964079  10082.963874  3529.162047\n",
       "53   53  175134.674628  11843.996944  4183.418428\n",
       "54   54  172343.171702  13868.052247  4950.866051\n",
       "55   55  169136.048481  16178.034565  5848.006954"
      ]
     },
     "execution_count": 62,
     "metadata": {},
     "output_type": "execute_result"
    }
   ],
   "source": [
    "h = 1\n",
    "n = 19116209 * 0.01\n",
    "m = 56\n",
    "b = 0.24\n",
    "a = 0.06\n",
    "\n",
    "info_56 = discretizacion_RK_2(b, a, n, h, m)\n",
    "info_56"
   ]
  },
  {
   "cell_type": "markdown",
   "metadata": {},
   "source": [
    "### A4) Gráfico 56 días"
   ]
  },
  {
   "cell_type": "code",
   "execution_count": 63,
   "metadata": {},
   "outputs": [
    {
     "data": {
      "image/png": "[encoded data removed]",
      "text/plain": [
       "<Figure size 864x576 with 1 Axes>"
      ]
     },
     "metadata": {
      "needs_background": "light"
     },
     "output_type": "display_data"
    }
   ],
   "source": [
    "m = 56\n",
    "\n",
    "plt.subplots(1, 1, figsize=(12, 8))\n",
    "\n",
    "plt.xlabel(\"díás\")\n",
    "plt.ylabel(\"total cases\")\n",
    "\n",
    "plt.scatter(info[\"day\"][:m], info[\"total_cases\"][:m], color =\"black\", alpha=1,s=4)\n",
    "\n",
    "plt.plot(info_56[\"day\"], info_56[\"wn\"]+info_56[\"vn\"], color =\"yellow\", alpha=1)\n",
    "\n",
    "\n",
    "\n",
    "plt.legend(['In+Rn',\"casos totales\"])\n",
    "\n",
    "plt.show()"
   ]
  },
  {
   "cell_type": "code",
   "execution_count": 64,
   "metadata": {},
   "outputs": [
    {
     "data": {
      "image/png": "[encoded data removed]",
      "text/plain": [
       "<Figure size 864x576 with 1 Axes>"
      ]
     },
     "metadata": {
      "needs_background": "light"
     },
     "output_type": "display_data"
    }
   ],
   "source": [
    "plt.subplots(1, 1, figsize=(12, 8))\n",
    "\n",
    "plt.xlabel(\"Días\")\n",
    "plt.ylabel(\"total cases\")\n",
    "\n",
    "\n",
    "plt.plot(info_56[\"day\"], info_56[\"un\"], color =\"g\", alpha=0.5)\n",
    "plt.plot(info_56[\"day\"], info_56[\"vn\"], color =\"r\", alpha=0.8)\n",
    "plt.plot(info_56[\"day\"], info_56[\"wn\"], color =\"#FFA500\", alpha=0.4)\n",
    "\n",
    "plt.plot(info_56[\"day\"], info_56[\"wn\"]+info_56[\"vn\"], color =\"b\", alpha=0.5)\n",
    "\n",
    "\n",
    "plt.legend([\"Sn\",\"In\",\"Rn\",'In+Rn'])\n",
    "\n",
    "plt.show()"
   ]
  },
  {
   "cell_type": "code",
   "execution_count": 65,
   "metadata": {},
   "outputs": [
    {
     "name": "stderr",
     "output_type": "stream",
     "text": [
      "/home/anichu/Programs/anaconda3/lib/python3.6/site-packages/ipykernel_launcher.py:2: SettingWithCopyWarning: \n",
      "A value is trying to be set on a copy of a slice from a DataFrame\n",
      "\n",
      "See the caveats in the documentation: http://pandas.pydata.org/pandas-docs/stable/indexing.html#indexing-view-versus-copy\n",
      "  \n",
      "/home/anichu/Programs/anaconda3/lib/python3.6/site-packages/ipykernel_launcher.py:5: SettingWithCopyWarning: \n",
      "A value is trying to be set on a copy of a slice from a DataFrame\n",
      "\n",
      "See the caveats in the documentation: http://pandas.pydata.org/pandas-docs/stable/indexing.html#indexing-view-versus-copy\n",
      "  \"\"\"\n"
     ]
    }
   ],
   "source": [
    "info_56[\"-delta Sn\"] = info_56[\"un\"].copy()\n",
    "info_56[\"-delta Sn\"][0] = 0\n",
    "\n",
    "for i in range(1, len(info_56)):\n",
    "    info_56[\"-delta Sn\"][i] = -(info_56[\"un\"][i] - info_56[\"un\"][i-1])"
   ]
  },
  {
   "cell_type": "code",
   "execution_count": 66,
   "metadata": {},
   "outputs": [
    {
     "data": {
      "image/png": "[encoded data removed]",
      "text/plain": [
       "<Figure size 864x576 with 1 Axes>"
      ]
     },
     "metadata": {
      "needs_background": "light"
     },
     "output_type": "display_data"
    }
   ],
   "source": [
    "m = 56\n",
    "\n",
    "plt.subplots(1, 1, figsize=(12, 8))\n",
    "\n",
    "plt.xlabel(\"díás\")\n",
    "plt.ylabel(\"new cases\")\n",
    "\n",
    "plt.scatter(info[\"day\"][:m], info[\"new_cases\"][:m], color =\"black\", alpha=1,s=4)\n",
    "\n",
    "plt.plot(info_56[\"day\"], info_56[\"-delta Sn\"], color =\"blue\", alpha=1)\n",
    "\n",
    "plt.legend(['-delta Sn',\"new_cases\"])\n",
    "\n",
    "plt.show()"
   ]
  },
  {
   "cell_type": "code",
   "execution_count": 67,
   "metadata": {
    "scrolled": true
   },
   "outputs": [
    {
     "data": {
      "text/html": [
       "<div>\n",
       "<style scoped>\n",
       "    .dataframe tbody tr th:only-of-type {\n",
       "        vertical-align: middle;\n",
       "    }\n",
       "\n",
       "    .dataframe tbody tr th {\n",
       "        vertical-align: top;\n",
       "    }\n",
       "\n",
       "    .dataframe thead th {\n",
       "        text-align: right;\n",
       "    }\n",
       "</style>\n",
       "<table border=\"1\" class=\"dataframe\">\n",
       "  <thead>\n",
       "    <tr style=\"text-align: right;\">\n",
       "      <th></th>\n",
       "      <th>day</th>\n",
       "      <th>un</th>\n",
       "      <th>vn</th>\n",
       "      <th>wn</th>\n",
       "    </tr>\n",
       "  </thead>\n",
       "  <tbody>\n",
       "    <tr>\n",
       "      <th>0</th>\n",
       "      <td>0</td>\n",
       "      <td>191161.090000</td>\n",
       "      <td>1.000000</td>\n",
       "      <td>0.000000</td>\n",
       "    </tr>\n",
       "    <tr>\n",
       "      <th>1</th>\n",
       "      <td>1</td>\n",
       "      <td>191160.828402</td>\n",
       "      <td>1.196198</td>\n",
       "      <td>0.065400</td>\n",
       "    </tr>\n",
       "    <tr>\n",
       "      <th>2</th>\n",
       "      <td>2</td>\n",
       "      <td>191160.515479</td>\n",
       "      <td>1.430890</td>\n",
       "      <td>0.143631</td>\n",
       "    </tr>\n",
       "    <tr>\n",
       "      <th>3</th>\n",
       "      <td>3</td>\n",
       "      <td>191160.141162</td>\n",
       "      <td>1.711627</td>\n",
       "      <td>0.237211</td>\n",
       "    </tr>\n",
       "    <tr>\n",
       "      <th>4</th>\n",
       "      <td>4</td>\n",
       "      <td>191159.693406</td>\n",
       "      <td>2.047443</td>\n",
       "      <td>0.349152</td>\n",
       "    </tr>\n",
       "  </tbody>\n",
       "</table>\n",
       "</div>"
      ],
      "text/plain": [
       "   day             un        vn        wn\n",
       "0    0  191161.090000  1.000000  0.000000\n",
       "1    1  191160.828402  1.196198  0.065400\n",
       "2    2  191160.515479  1.430890  0.143631\n",
       "3    3  191160.141162  1.711627  0.237211\n",
       "4    4  191159.693406  2.047443  0.349152"
      ]
     },
     "execution_count": 67,
     "metadata": {},
     "output_type": "execute_result"
    }
   ],
   "source": [
    "h = 1\n",
    "n = 19116209 * 0.01\n",
    "m = 365\n",
    "b = 0.24\n",
    "a = 0.06\n",
    "\n",
    "info_365 = discretizacion_RK_2(b, a, n, h, m)\n",
    "info_365.head()"
   ]
  },
  {
   "cell_type": "code",
   "execution_count": 68,
   "metadata": {},
   "outputs": [
    {
     "data": {
      "image/png": "[encoded data removed]",
      "text/plain": [
       "<Figure size 864x576 with 1 Axes>"
      ]
     },
     "metadata": {
      "needs_background": "light"
     },
     "output_type": "display_data"
    }
   ],
   "source": [
    "# Busco los datos calculados\n",
    "\n",
    "\n",
    "plt.subplots(1, 1, figsize=(12, 8))\n",
    "\n",
    "plt.xlabel(\"Días\")\n",
    "plt.ylabel(\"Cantidad de personas\")\n",
    "\n",
    "\n",
    "plt.plot(info_365[\"day\"], info_365[\"vn\"], color =\"b\", alpha=0.5)\n",
    "plt.plot(info_365[\"day\"], info_365[\"wn\"], color =\"#FFA500\", alpha=0.5)\n",
    "plt.plot(info_365[\"day\"], info_365[\"un\"], color =\"g\", alpha=0.5)\n",
    "\n",
    "plt.legend([\"In\", \"Rn\", \"Sn\"])\n",
    "\n",
    "\n",
    "plt.show()"
   ]
  },
  {
   "cell_type": "code",
   "execution_count": 69,
   "metadata": {},
   "outputs": [
    {
     "data": {
      "text/plain": [
       "77096.497004024146435"
      ]
     },
     "execution_count": 69,
     "metadata": {},
     "output_type": "execute_result"
    }
   ],
   "source": [
    "# Calculo amplitud del pico\n",
    "\n",
    "info_365[\"vn\"].max()"
   ]
  },
  {
   "cell_type": "code",
   "execution_count": 70,
   "metadata": {},
   "outputs": [
    {
     "data": {
      "text/plain": [
       "75"
      ]
     },
     "execution_count": 70,
     "metadata": {},
     "output_type": "execute_result"
    }
   ],
   "source": [
    "# Calculo dia del pico\n",
    "info_365[\"vn\"].idxmax()"
   ]
  },
  {
   "cell_type": "markdown",
   "metadata": {},
   "source": [
    "### A5) Proceso de validación"
   ]
  },
  {
   "cell_type": "code",
   "execution_count": 71,
   "metadata": {},
   "outputs": [
    {
     "data": {
      "text/html": [
       "<div>\n",
       "<style scoped>\n",
       "    .dataframe tbody tr th:only-of-type {\n",
       "        vertical-align: middle;\n",
       "    }\n",
       "\n",
       "    .dataframe tbody tr th {\n",
       "        vertical-align: top;\n",
       "    }\n",
       "\n",
       "    .dataframe thead th {\n",
       "        text-align: right;\n",
       "    }\n",
       "</style>\n",
       "<table border=\"1\" class=\"dataframe\">\n",
       "  <thead>\n",
       "    <tr style=\"text-align: right;\">\n",
       "      <th></th>\n",
       "      <th>day</th>\n",
       "      <th>un</th>\n",
       "      <th>vn</th>\n",
       "      <th>wn</th>\n",
       "    </tr>\n",
       "  </thead>\n",
       "  <tbody>\n",
       "    <tr>\n",
       "      <th>0</th>\n",
       "      <td>0</td>\n",
       "      <td>191161.090000</td>\n",
       "      <td>1.000000</td>\n",
       "      <td>0.000000</td>\n",
       "    </tr>\n",
       "    <tr>\n",
       "      <th>1</th>\n",
       "      <td>1</td>\n",
       "      <td>191160.828402</td>\n",
       "      <td>1.196198</td>\n",
       "      <td>0.065400</td>\n",
       "    </tr>\n",
       "    <tr>\n",
       "      <th>2</th>\n",
       "      <td>2</td>\n",
       "      <td>191160.515479</td>\n",
       "      <td>1.430890</td>\n",
       "      <td>0.143631</td>\n",
       "    </tr>\n",
       "    <tr>\n",
       "      <th>3</th>\n",
       "      <td>3</td>\n",
       "      <td>191160.141162</td>\n",
       "      <td>1.711627</td>\n",
       "      <td>0.237211</td>\n",
       "    </tr>\n",
       "    <tr>\n",
       "      <th>4</th>\n",
       "      <td>4</td>\n",
       "      <td>191159.693406</td>\n",
       "      <td>2.047443</td>\n",
       "      <td>0.349152</td>\n",
       "    </tr>\n",
       "  </tbody>\n",
       "</table>\n",
       "</div>"
      ],
      "text/plain": [
       "   day             un        vn        wn\n",
       "0    0  191161.090000  1.000000  0.000000\n",
       "1    1  191160.828402  1.196198  0.065400\n",
       "2    2  191160.515479  1.430890  0.143631\n",
       "3    3  191160.141162  1.711627  0.237211\n",
       "4    4  191159.693406  2.047443  0.349152"
      ]
     },
     "execution_count": 71,
     "metadata": {},
     "output_type": "execute_result"
    }
   ],
   "source": [
    "h = 1\n",
    "n = 19116209 * 0.01\n",
    "m = 120\n",
    "b = 0.24\n",
    "a = 0.06\n",
    "\n",
    "\n",
    "info_120 = discretizacion_RK_2(b, a, n, h, m)\n",
    "info_120.head()"
   ]
  },
  {
   "cell_type": "code",
   "execution_count": 72,
   "metadata": {},
   "outputs": [
    {
     "data": {
      "image/png": "[encoded data removed]",
      "text/plain": [
       "<Figure size 864x576 with 1 Axes>"
      ]
     },
     "metadata": {
      "needs_background": "light"
     },
     "output_type": "display_data"
    }
   ],
   "source": [
    "plt.subplots(1, 1, figsize=(12, 8))\n",
    "\n",
    "plt.xlabel(\"Días\")\n",
    "plt.ylabel(\"Cantidad acumulada de personas\")\n",
    "\n",
    "plt.scatter(info[\"day\"],info[\"total_cases\"], color =\"r\", alpha=1,s=4)\n",
    "\n",
    "plt.plot(info_120[\"day\"], info_120[\"vn\"]+info_120[\"wn\"], color =\"b\", alpha=0.5)\n",
    "\n",
    "plt.legend([\"In+Rn\",\"casos totales\"])\n",
    "\n",
    "\n",
    "plt.show()"
   ]
  },
  {
   "cell_type": "markdown",
   "metadata": {},
   "source": [
    "### A6) Recalibración con  𝛽 y 𝛾 calibrados"
   ]
  },
  {
   "cell_type": "code",
   "execution_count": 73,
   "metadata": {
    "scrolled": true
   },
   "outputs": [
    {
     "name": "stdout",
     "output_type": "stream",
     "text": [
      "    alfa     beta    sigma     paso\t error relativo %\n",
      "\n",
      "    0.09      0.0      0.0     0.01\t        100.0\n",
      "    0.08      0.0      0.0     0.01\t        100.0\n",
      "    0.07      0.0      0.0     0.01\t        100.0\n",
      "    0.06      0.0      0.0     0.01\t        100.0\n",
      "    0.09      0.0      0.0    0.001\t        100.0\n",
      "    0.08      0.0      0.0    0.001\t        100.0\n",
      "    0.07      0.0      0.0    0.001\t        100.0\n",
      "    0.06      0.0      0.0    0.001\t        100.0\n",
      "    0.09      0.0      0.0   0.0001\t        100.0\n",
      "    0.08      0.0      0.0   0.0001\t        100.0\n",
      "    0.07      0.0      0.0   0.0001\t        100.0\n",
      "    0.06      0.0      0.0   0.0001\t        100.0\n",
      "    0.09      0.0      0.0    1e-05\t        100.0\n",
      "    0.08      0.0      0.0    1e-05\t        100.0\n",
      "    0.07      0.0      0.0    1e-05\t        100.0\n",
      "    0.06      0.0      0.0    1e-05\t        100.0\n",
      "    0.09      0.0      0.0        1\t        100.0\n",
      "    0.08      0.0      0.0        1\t        100.0\n",
      "    0.07      0.0      0.0        1\t        100.0\n",
      "    0.06      0.0      0.0        1\t        100.0\n",
      "    0.09      0.0      0.0      0.5\t        100.0\n",
      "    0.08      0.0      0.0      0.5\t        100.0\n",
      "    0.07      0.0      0.0      0.5\t        100.0\n",
      "    0.06      0.0      0.0      0.5\t        100.0\n",
      "    0.09     0.04      0.5     0.01\t        100.0\n",
      "    0.08     0.04      0.5     0.01\t        100.0\n",
      "    0.07     0.04      0.5     0.01\t        100.0\n",
      "    0.06     0.03      0.5     0.01\t        100.0\n",
      "    0.09     0.04      0.5    0.001\t        100.0\n",
      "    0.08     0.04      0.5    0.001\t        100.0\n",
      "    0.07     0.04      0.5    0.001\t        100.0\n",
      "    0.06     0.03      0.5    0.001\t        100.0\n",
      "    0.09     0.04      0.5   0.0001\t        100.0\n",
      "    0.08     0.04      0.5   0.0001\t        100.0\n",
      "    0.07     0.04      0.5   0.0001\t        100.0\n",
      "    0.06     0.03      0.5   0.0001\t        100.0\n",
      "    0.09     0.04      0.5    1e-05\t        100.0\n",
      "    0.08     0.04      0.5    1e-05\t        100.0\n",
      "    0.07     0.04      0.5    1e-05\t        100.0\n",
      "    0.06     0.03      0.5    1e-05\t        100.0\n",
      "    0.09     0.04      0.5        1\t        100.0\n",
      "    0.08     0.04      0.5        1\t        100.0\n",
      "    0.07     0.04      0.5        1\t        100.0\n",
      "    0.06     0.03      0.5        1\t        100.0\n",
      "    0.09     0.04      0.5      0.5\t        100.0\n",
      "    0.08     0.04      0.5      0.5\t        100.0\n",
      "    0.07     0.04      0.5      0.5\t        100.0\n",
      "    0.06     0.03      0.5      0.5\t        100.0\n",
      "    0.09     0.09      1.0     0.01\t        100.0\n",
      "    0.08     0.08      1.0     0.01\t        100.0\n",
      "    0.07     0.07      1.0     0.01\t        100.0\n",
      "    0.06     0.06      1.0     0.01\t        100.0\n",
      "    0.09     0.09      1.0    0.001\t        100.0\n",
      "    0.08     0.08      1.0    0.001\t        100.0\n",
      "    0.07     0.07      1.0    0.001\t        100.0\n",
      "    0.06     0.06      1.0    0.001\t        100.0\n",
      "    0.09     0.09      1.0   0.0001\t        100.0\n",
      "    0.08     0.08      1.0   0.0001\t        100.0\n",
      "    0.07     0.07      1.0   0.0001\t        100.0\n",
      "    0.06     0.06      1.0   0.0001\t        100.0\n",
      "    0.09     0.09      1.0    1e-05\t        100.0\n",
      "    0.08     0.08      1.0    1e-05\t        100.0\n",
      "    0.07     0.07      1.0    1e-05\t        100.0\n",
      "    0.06     0.06      1.0    1e-05\t        100.0\n",
      "    0.09     0.09      1.0        1\t        99.99\n",
      "    0.08     0.08      1.0        1\t        99.99\n",
      "    0.07     0.07      1.0        1\t        99.99\n",
      "    0.06     0.06      1.0        1\t        100.0\n",
      "    0.09     0.09      1.0      0.5\t        100.0\n",
      "    0.08     0.08      1.0      0.5\t        100.0\n",
      "    0.07     0.07      1.0      0.5\t        100.0\n",
      "    0.06     0.06      1.0      0.5\t        100.0\n",
      "    0.09     0.14      1.5     0.01\t        100.0\n",
      "    0.08     0.12      1.5     0.01\t        100.0\n",
      "    0.07     0.11      1.5     0.01\t        100.0\n",
      "    0.06     0.09      1.5     0.01\t        100.0\n",
      "    0.09     0.14      1.5    0.001\t        100.0\n",
      "    0.08     0.12      1.5    0.001\t        100.0\n",
      "    0.07     0.11      1.5    0.001\t        100.0\n",
      "    0.06     0.09      1.5    0.001\t        100.0\n",
      "    0.09     0.14      1.5   0.0001\t        100.0\n",
      "    0.08     0.12      1.5   0.0001\t        100.0\n",
      "    0.07     0.11      1.5   0.0001\t        100.0\n",
      "    0.06     0.09      1.5   0.0001\t        100.0\n",
      "    0.09     0.14      1.5    1e-05\t        100.0\n",
      "    0.08     0.12      1.5    1e-05\t        100.0\n",
      "    0.07     0.11      1.5    1e-05\t        100.0\n",
      "    0.06     0.09      1.5    1e-05\t        100.0\n",
      "    0.09     0.14      1.5        1\t         99.8\n",
      "    0.08     0.12      1.5        1\t        99.88\n",
      "    0.07     0.11      1.5        1\t        99.93\n",
      "    0.06     0.09      1.5        1\t        99.96\n",
      "    0.09     0.14      1.5      0.5\t        99.98\n",
      "    0.08     0.12      1.5      0.5\t        99.99\n",
      "    0.07     0.11      1.5      0.5\t        99.99\n",
      "    0.06     0.09      1.5      0.5\t        99.99\n",
      "    0.09     0.18      2.0     0.01\t        100.0\n",
      "    0.08     0.16      2.0     0.01\t        100.0\n",
      "    0.07     0.14      2.0     0.01\t        100.0\n",
      "    0.06     0.12      2.0     0.01\t        100.0\n",
      "    0.09     0.18      2.0    0.001\t        100.0\n",
      "    0.08     0.16      2.0    0.001\t        100.0\n",
      "    0.07     0.14      2.0    0.001\t        100.0\n",
      "    0.06     0.12      2.0    0.001\t        100.0\n",
      "    0.09     0.18      2.0   0.0001\t        100.0\n",
      "    0.08     0.16      2.0   0.0001\t        100.0\n",
      "    0.07     0.14      2.0   0.0001\t        100.0\n",
      "    0.06     0.12      2.0   0.0001\t        100.0\n",
      "    0.09     0.18      2.0    1e-05\t        100.0\n",
      "    0.08     0.16      2.0    1e-05\t        100.0\n",
      "    0.07     0.14      2.0    1e-05\t        100.0\n",
      "    0.06     0.12      2.0    1e-05\t        100.0\n",
      "    0.09     0.18      2.0        1\t        87.05\n",
      "    0.08     0.16      2.0        1\t         94.7\n",
      "    0.07     0.14      2.0        1\t        98.08\n",
      "    0.06     0.12      2.0        1\t        99.34\n",
      "    0.09     0.18      2.0      0.5\t        99.87\n",
      "    0.08     0.16      2.0      0.5\t        99.92\n",
      "    0.07     0.14      2.0      0.5\t        99.95\n",
      "    0.06     0.12      2.0      0.5\t        99.97\n",
      "    0.09     0.22      2.5     0.01\t        100.0\n",
      "    0.08      0.2      2.5     0.01\t        100.0\n",
      "    0.07     0.18      2.5     0.01\t        100.0\n",
      "    0.06     0.15      2.5     0.01\t        100.0\n",
      "    0.09     0.22      2.5    0.001\t        100.0\n",
      "    0.08      0.2      2.5    0.001\t        100.0\n",
      "    0.07     0.18      2.5    0.001\t        100.0\n",
      "    0.06     0.15      2.5    0.001\t        100.0\n",
      "    0.09     0.22      2.5   0.0001\t        100.0\n",
      "    0.08      0.2      2.5   0.0001\t        100.0\n",
      "    0.07     0.18      2.5   0.0001\t        100.0\n",
      "    0.06     0.15      2.5   0.0001\t        100.0\n",
      "    0.09     0.22      2.5    1e-05\t        100.0\n",
      "    0.08      0.2      2.5    1e-05\t        100.0\n",
      "    0.07     0.18      2.5    1e-05\t        100.0\n",
      "    0.06     0.15      2.5    1e-05\t        100.0\n",
      "    0.09     0.22      2.5        1\t        25.61\n",
      "    0.08      0.2      2.5        1\t        43.03\n",
      "    0.07     0.18      2.5        1\t        67.71\n",
      "    0.06     0.15      2.5        1\t        88.44\n",
      "    0.09     0.22      2.5      0.5\t        98.76\n",
      "    0.08      0.2      2.5      0.5\t        99.45\n",
      "    0.07     0.18      2.5      0.5\t        99.75\n",
      "    0.06     0.15      2.5      0.5\t        99.89\n",
      "    0.09     0.27      3.0     0.01\t        100.0\n",
      "    0.08     0.24      3.0     0.01\t        100.0\n",
      "    0.07     0.21      3.0     0.01\t        100.0\n",
      "    0.06     0.18      3.0     0.01\t        100.0\n",
      "    0.09     0.27      3.0    0.001\t        100.0\n",
      "    0.08     0.24      3.0    0.001\t        100.0\n",
      "    0.07     0.21      3.0    0.001\t        100.0\n",
      "    0.06     0.18      3.0    0.001\t        100.0\n",
      "    0.09     0.27      3.0   0.0001\t        100.0\n",
      "    0.08     0.24      3.0   0.0001\t        100.0\n",
      "    0.07     0.21      3.0   0.0001\t        100.0\n",
      "    0.06     0.18      3.0   0.0001\t        100.0\n",
      "    0.09     0.27      3.0    1e-05\t        100.0\n",
      "    0.08     0.24      3.0    1e-05\t        100.0\n",
      "    0.07     0.21      3.0    1e-05\t        100.0\n",
      "    0.06     0.18      3.0    1e-05\t        100.0\n",
      "    0.09     0.27      3.0        1\t        44.62\n",
      "    0.08     0.24      3.0        1\t        29.22\n",
      "    0.07     0.21      3.0        1\t         20.6\n"
     ]
    },
    {
     "name": "stdout",
     "output_type": "stream",
     "text": [
      "    0.06     0.18      3.0        1\t        42.52\n",
      "    0.09     0.27      3.0      0.5\t        89.24\n",
      "    0.08     0.24      3.0      0.5\t        95.86\n",
      "    0.07     0.21      3.0      0.5\t        98.54\n",
      "    0.06     0.18      3.0      0.5\t         99.5\n",
      "    0.09     0.32      3.5     0.01\t        100.0\n",
      "    0.08     0.28      3.5     0.01\t        100.0\n",
      "    0.07     0.25      3.5     0.01\t        100.0\n",
      "    0.06     0.21      3.5     0.01\t        100.0\n",
      "    0.09     0.32      3.5    0.001\t        100.0\n",
      "    0.08     0.28      3.5    0.001\t        100.0\n",
      "    0.07     0.25      3.5    0.001\t        100.0\n",
      "    0.06     0.21      3.5    0.001\t        100.0\n",
      "    0.09     0.32      3.5   0.0001\t        100.0\n",
      "    0.08     0.28      3.5   0.0001\t        100.0\n",
      "    0.07     0.25      3.5   0.0001\t        100.0\n",
      "    0.06     0.21      3.5   0.0001\t        100.0\n",
      "    0.09     0.32      3.5    1e-05\t        100.0\n",
      "    0.08     0.28      3.5    1e-05\t        100.0\n",
      "    0.07     0.25      3.5    1e-05\t        100.0\n",
      "    0.06     0.21      3.5    1e-05\t        100.0\n",
      "    0.09     0.32      3.5        1\t         71.4\n",
      "    0.08     0.28      3.5        1\t        58.73\n",
      "    0.07     0.25      3.5        1\t        41.58\n",
      "    0.06     0.21      3.5        1\t        21.42\n",
      "    0.09     0.32      3.5      0.5\t        55.67\n",
      "    0.08     0.28      3.5      0.5\t        77.38\n",
      "    0.07     0.25      3.5      0.5\t        91.86\n",
      "    0.06     0.21      3.5      0.5\t        97.68\n",
      "    0.09     0.36      4.0     0.01\t        100.0\n",
      "    0.08     0.32      4.0     0.01\t        100.0\n",
      "    0.07     0.28      4.0     0.01\t        100.0\n",
      "    0.06     0.24      4.0     0.01\t        100.0\n",
      "    0.09     0.36      4.0    0.001\t        100.0\n",
      "    0.08     0.32      4.0    0.001\t        100.0\n",
      "    0.07     0.28      4.0    0.001\t        100.0\n",
      "    0.06     0.24      4.0    0.001\t        100.0\n",
      "    0.09     0.36      4.0   0.0001\t        100.0\n",
      "    0.08     0.32      4.0   0.0001\t        100.0\n",
      "    0.07     0.28      4.0   0.0001\t        100.0\n",
      "    0.06     0.24      4.0   0.0001\t        100.0\n",
      "    0.09     0.36      4.0    1e-05\t        100.0\n",
      "    0.08     0.32      4.0    1e-05\t        100.0\n",
      "    0.07     0.28      4.0    1e-05\t        100.0\n",
      "    0.06     0.24      4.0    1e-05\t        100.0\n",
      "    0.09     0.36      4.0        1\t        88.37\n",
      "    0.08     0.32      4.0        1\t        78.65\n",
      "    0.07     0.28      4.0        1\t        65.25\n",
      "    0.06     0.24      4.0        1\t         46.0\n",
      "    0.09     0.36      4.0      0.5\t        21.45\n",
      "    0.08     0.32      4.0      0.5\t         42.4\n",
      "    0.07     0.28      4.0      0.5\t        69.63\n",
      "    0.06     0.24      4.0      0.5\t        90.12\n",
      "    0.09      0.4      4.5     0.01\t        100.0\n",
      "    0.08     0.36      4.5     0.01\t        100.0\n",
      "    0.07     0.32      4.5     0.01\t        100.0\n",
      "    0.06     0.27      4.5     0.01\t        100.0\n",
      "    0.09      0.4      4.5    0.001\t        100.0\n",
      "    0.08     0.36      4.5    0.001\t        100.0\n",
      "    0.07     0.32      4.5    0.001\t        100.0\n",
      "    0.06     0.27      4.5    0.001\t        100.0\n",
      "    0.09      0.4      4.5   0.0001\t        100.0\n",
      "    0.08     0.36      4.5   0.0001\t        100.0\n",
      "    0.07     0.32      4.5   0.0001\t        100.0\n",
      "    0.06     0.27      4.5   0.0001\t        100.0\n",
      "    0.09      0.4      4.5    1e-05\t        100.0\n",
      "    0.08     0.36      4.5    1e-05\t        100.0\n",
      "    0.07     0.32      4.5    1e-05\t        100.0\n",
      "    0.06     0.27      4.5    1e-05\t        100.0\n",
      "    0.09      0.4      4.5        1\t        99.71\n",
      "    0.08     0.36      4.5        1\t        91.94\n",
      "    0.07     0.32      4.5        1\t         81.3\n",
      "    0.06     0.27      4.5        1\t        65.91\n",
      "    0.09      0.4      4.5      0.5\t        26.91\n",
      "    0.08     0.36      4.5      0.5\t        17.95\n",
      "    0.07     0.32      4.5      0.5\t        38.11\n",
      "    0.06     0.27      4.5      0.5\t         70.0\n",
      "    0.09     0.45      5.0     0.01\t        100.0\n",
      "    0.08      0.4      5.0     0.01\t        100.0\n",
      "    0.07     0.35      5.0     0.01\t        100.0\n",
      "    0.06      0.3      5.0     0.01\t        100.0\n",
      "    0.09     0.45      5.0    0.001\t        100.0\n",
      "    0.08      0.4      5.0    0.001\t        100.0\n",
      "    0.07     0.35      5.0    0.001\t        100.0\n",
      "    0.06      0.3      5.0    0.001\t        100.0\n",
      "    0.09     0.45      5.0   0.0001\t        100.0\n",
      "    0.08      0.4      5.0   0.0001\t        100.0\n",
      "    0.07     0.35      5.0   0.0001\t        100.0\n",
      "    0.06      0.3      5.0   0.0001\t        100.0\n",
      "    0.09     0.45      5.0    1e-05\t        100.0\n",
      "    0.08      0.4      5.0    1e-05\t        100.0\n",
      "    0.07     0.35      5.0    1e-05\t        100.0\n",
      "    0.06      0.3      5.0    1e-05\t        100.0\n",
      "    0.09     0.45      5.0        1\t       107.75\n",
      "    0.08      0.4      5.0        1\t       101.28\n",
      "    0.07     0.35      5.0        1\t        92.53\n",
      "    0.06      0.3      5.0        1\t         80.0\n",
      "    0.09     0.45      5.0      0.5\t        46.72\n",
      "    0.08      0.4      5.0      0.5\t        29.24\n",
      "    0.07     0.35      5.0      0.5\t        17.61\n",
      "    0.06      0.3      5.0      0.5\t        42.51\n",
      "    0.09      0.5      5.5     0.01\t        100.0\n",
      "    0.08     0.44      5.5     0.01\t        100.0\n",
      "    0.07     0.38      5.5     0.01\t        100.0\n",
      "    0.06     0.33      5.5     0.01\t        100.0\n",
      "    0.09      0.5      5.5    0.001\t        100.0\n",
      "    0.08     0.44      5.5    0.001\t        100.0\n",
      "    0.07     0.38      5.5    0.001\t        100.0\n",
      "    0.06     0.33      5.5    0.001\t        100.0\n",
      "    0.09      0.5      5.5   0.0001\t        100.0\n",
      "    0.08     0.44      5.5   0.0001\t        100.0\n",
      "    0.07     0.38      5.5   0.0001\t        100.0\n",
      "    0.06     0.33      5.5   0.0001\t        100.0\n",
      "    0.09      0.5      5.5    1e-05\t        100.0\n",
      "    0.08     0.44      5.5    1e-05\t        100.0\n",
      "    0.07     0.38      5.5    1e-05\t        100.0\n",
      "    0.06     0.33      5.5    1e-05\t        100.0\n",
      "    0.09      0.5      5.5        1\t       113.71\n",
      "    0.08     0.44      5.5        1\t       108.18\n",
      "    0.07     0.38      5.5        1\t       100.75\n",
      "    0.06     0.33      5.5        1\t        90.24\n",
      "    0.09      0.5      5.5      0.5\t        62.47\n",
      "    0.08     0.44      5.5      0.5\t        46.95\n",
      "    0.07     0.38      5.5      0.5\t        26.95\n",
      "    0.06     0.33      5.5      0.5\t        20.52\n",
      "    0.09     0.54      6.0     0.01\t        100.0\n",
      "    0.08     0.48      6.0     0.01\t        100.0\n",
      "    0.07     0.42      6.0     0.01\t        100.0\n",
      "    0.06     0.36      6.0     0.01\t        100.0\n",
      "    0.09     0.54      6.0    0.001\t        100.0\n",
      "    0.08     0.48      6.0    0.001\t        100.0\n",
      "    0.07     0.42      6.0    0.001\t        100.0\n",
      "    0.06     0.36      6.0    0.001\t        100.0\n",
      "    0.09     0.54      6.0   0.0001\t        100.0\n",
      "    0.08     0.48      6.0   0.0001\t        100.0\n",
      "    0.07     0.42      6.0   0.0001\t        100.0\n",
      "    0.06     0.36      6.0   0.0001\t        100.0\n",
      "    0.09     0.54      6.0    1e-05\t        100.0\n",
      "    0.08     0.48      6.0    1e-05\t        100.0\n",
      "    0.07     0.42      6.0    1e-05\t        100.0\n",
      "    0.06     0.36      6.0    1e-05\t        100.0\n",
      "    0.09     0.54      6.0        1\t       118.29\n",
      "    0.08     0.48      6.0        1\t       113.46\n",
      "    0.07     0.42      6.0        1\t       107.01\n",
      "    0.06     0.36      6.0        1\t        97.97\n",
      "    0.09     0.54      6.0      0.5\t        74.43\n",
      "    0.08     0.48      6.0      0.5\t        61.21\n",
      "    0.07     0.42      6.0      0.5\t        43.02\n",
      "    0.06     0.36      6.0      0.5\t        20.38\n",
      "    0.09     0.58      6.5     0.01\t        100.0\n",
      "    0.08     0.52      6.5     0.01\t        100.0\n",
      "    0.07     0.46      6.5     0.01\t        100.0\n",
      "    0.06     0.39      6.5     0.01\t        100.0\n",
      "    0.09     0.58      6.5    0.001\t        100.0\n",
      "    0.08     0.52      6.5    0.001\t        100.0\n",
      "    0.07     0.46      6.5    0.001\t        100.0\n",
      "    0.06     0.39      6.5    0.001\t        100.0\n",
      "    0.09     0.58      6.5   0.0001\t        100.0\n",
      "    0.08     0.52      6.5   0.0001\t        100.0\n",
      "    0.07     0.46      6.5   0.0001\t        100.0\n",
      "    0.06     0.39      6.5   0.0001\t        100.0\n",
      "    0.09     0.58      6.5    1e-05\t        100.0\n",
      "    0.08     0.52      6.5    1e-05\t        100.0\n",
      "    0.07     0.46      6.5    1e-05\t        100.0\n",
      "    0.06     0.39      6.5    1e-05\t        100.0\n"
     ]
    },
    {
     "name": "stdout",
     "output_type": "stream",
     "text": [
      "    0.09     0.58      6.5        1\t        121.9\n",
      "    0.08     0.52      6.5        1\t       117.62\n",
      "    0.07     0.46      6.5        1\t       111.93\n",
      "    0.06     0.39      6.5        1\t        104.0\n",
      "    0.09     0.58      6.5      0.5\t        83.65\n",
      "    0.08     0.52      6.5      0.5\t        72.31\n",
      "    0.07     0.46      6.5      0.5\t        56.53\n",
      "    0.06     0.39      6.5      0.5\t        34.15\n",
      "    0.09     0.63      7.0     0.01\t        100.0\n",
      "    0.08     0.56      7.0     0.01\t        100.0\n",
      "    0.07     0.49      7.0     0.01\t        100.0\n",
      "    0.06     0.42      7.0     0.01\t        100.0\n",
      "    0.09     0.63      7.0    0.001\t        100.0\n",
      "    0.08     0.56      7.0    0.001\t        100.0\n",
      "    0.07     0.49      7.0    0.001\t        100.0\n",
      "    0.06     0.42      7.0    0.001\t        100.0\n",
      "    0.09     0.63      7.0   0.0001\t        100.0\n",
      "    0.08     0.56      7.0   0.0001\t        100.0\n",
      "    0.07     0.49      7.0   0.0001\t        100.0\n",
      "    0.06     0.42      7.0   0.0001\t        100.0\n",
      "    0.09     0.63      7.0    1e-05\t        100.0\n",
      "    0.08     0.56      7.0    1e-05\t        100.0\n",
      "    0.07     0.49      7.0    1e-05\t        100.0\n",
      "    0.06     0.42      7.0    1e-05\t        100.0\n",
      "    0.09     0.63      7.0        1\t       124.82\n",
      "    0.08     0.56      7.0        1\t       120.98\n",
      "    0.07     0.49      7.0        1\t       115.89\n",
      "    0.06     0.42      7.0        1\t       108.83\n",
      "    0.09     0.63      7.0      0.5\t        90.93\n",
      "    0.08     0.56      7.0      0.5\t        81.06\n",
      "    0.07     0.49      7.0      0.5\t        67.35\n",
      "    0.06     0.42      7.0      0.5\t         47.4\n",
      "    0.09     0.68      7.5     0.01\t        100.0\n",
      "    0.08      0.6      7.5     0.01\t        100.0\n",
      "    0.07     0.52      7.5     0.01\t        100.0\n",
      "    0.06     0.45      7.5     0.01\t        100.0\n",
      "    0.09     0.68      7.5    0.001\t        100.0\n",
      "    0.08      0.6      7.5    0.001\t        100.0\n",
      "    0.07     0.52      7.5    0.001\t        100.0\n",
      "    0.06     0.45      7.5    0.001\t        100.0\n",
      "    0.09     0.68      7.5   0.0001\t        100.0\n",
      "    0.08      0.6      7.5   0.0001\t        100.0\n",
      "    0.07     0.52      7.5   0.0001\t        100.0\n",
      "    0.06     0.45      7.5   0.0001\t        100.0\n",
      "    0.09     0.68      7.5    1e-05\t        100.0\n",
      "    0.08      0.6      7.5    1e-05\t        100.0\n",
      "    0.07     0.52      7.5    1e-05\t        100.0\n",
      "    0.06     0.45      7.5    1e-05\t        100.0\n",
      "    0.09     0.68      7.5        1\t       127.23\n",
      "    0.08      0.6      7.5        1\t       123.75\n",
      "    0.07     0.52      7.5        1\t       119.14\n",
      "    0.06     0.45      7.5        1\t       112.78\n",
      "    0.09     0.68      7.5      0.5\t         96.8\n",
      "    0.08      0.6      7.5      0.5\t         88.1\n",
      "    0.07     0.52      7.5      0.5\t        76.06\n",
      "    0.06     0.45      7.5      0.5\t        58.47\n",
      "    0.09     0.72      8.0     0.01\t        100.0\n",
      "    0.08     0.64      8.0     0.01\t        100.0\n",
      "    0.07     0.56      8.0     0.01\t        100.0\n",
      "    0.06     0.48      8.0     0.01\t        100.0\n",
      "    0.09     0.72      8.0    0.001\t        100.0\n",
      "    0.08     0.64      8.0    0.001\t        100.0\n",
      "    0.07     0.56      8.0    0.001\t        100.0\n",
      "    0.06     0.48      8.0    0.001\t        100.0\n",
      "    0.09     0.72      8.0   0.0001\t        100.0\n",
      "    0.08     0.64      8.0   0.0001\t        100.0\n",
      "    0.07     0.56      8.0   0.0001\t        100.0\n",
      "    0.06     0.48      8.0   0.0001\t        100.0\n",
      "    0.09     0.72      8.0    1e-05\t        100.0\n",
      "    0.08     0.64      8.0    1e-05\t        100.0\n",
      "    0.07     0.56      8.0    1e-05\t        100.0\n",
      "    0.06     0.48      8.0    1e-05\t        100.0\n",
      "    0.09     0.72      8.0        1\t       129.25\n",
      "    0.08     0.64      8.0        1\t       126.06\n",
      "    0.07     0.56      8.0        1\t       121.87\n",
      "    0.06     0.48      8.0        1\t       116.08\n",
      "    0.09     0.72      8.0      0.5\t       101.65\n",
      "    0.08     0.64      8.0      0.5\t        93.86\n",
      "    0.07     0.56      8.0      0.5\t        83.17\n",
      "    0.06     0.48      8.0      0.5\t        67.59\n",
      "    0.09     0.76      8.5     0.01\t        100.0\n",
      "    0.08     0.68      8.5     0.01\t        100.0\n",
      "    0.07      0.6      8.5     0.01\t        100.0\n",
      "    0.06     0.51      8.5     0.01\t        100.0\n",
      "    0.09     0.76      8.5    0.001\t        100.0\n",
      "    0.08     0.68      8.5    0.001\t        100.0\n",
      "    0.07      0.6      8.5    0.001\t        100.0\n",
      "    0.06     0.51      8.5    0.001\t        100.0\n",
      "    0.09     0.76      8.5   0.0001\t        100.0\n",
      "    0.08     0.68      8.5   0.0001\t        100.0\n",
      "    0.07      0.6      8.5   0.0001\t        100.0\n",
      "    0.06     0.51      8.5   0.0001\t        100.0\n",
      "    0.09     0.76      8.5    1e-05\t        100.0\n",
      "    0.08     0.68      8.5    1e-05\t        100.0\n",
      "    0.07      0.6      8.5    1e-05\t        100.0\n",
      "    0.06     0.51      8.5    1e-05\t        100.0\n",
      "    0.09     0.76      8.5        1\t       130.96\n",
      "    0.08     0.68      8.5        1\t       128.03\n",
      "    0.07      0.6      8.5        1\t       124.17\n",
      "    0.06     0.51      8.5        1\t       118.87\n",
      "    0.09     0.76      8.5      0.5\t       105.71\n",
      "    0.08     0.68      8.5      0.5\t        98.66\n",
      "    0.07      0.6      8.5      0.5\t        89.06\n",
      "    0.06     0.51      8.5      0.5\t        75.15\n",
      "    0.09     0.81      9.0     0.01\t        100.0\n",
      "    0.08     0.72      9.0     0.01\t        100.0\n",
      "    0.07     0.63      9.0     0.01\t        100.0\n",
      "    0.06     0.54      9.0     0.01\t        100.0\n",
      "    0.09     0.81      9.0    0.001\t        100.0\n",
      "    0.08     0.72      9.0    0.001\t        100.0\n",
      "    0.07     0.63      9.0    0.001\t        100.0\n",
      "    0.06     0.54      9.0    0.001\t        100.0\n",
      "    0.09     0.81      9.0   0.0001\t        100.0\n",
      "    0.08     0.72      9.0   0.0001\t        100.0\n",
      "    0.07     0.63      9.0   0.0001\t        100.0\n",
      "    0.06     0.54      9.0   0.0001\t        100.0\n",
      "    0.09     0.81      9.0    1e-05\t        100.0\n",
      "    0.08     0.72      9.0    1e-05\t        100.0\n",
      "    0.07     0.63      9.0    1e-05\t        100.0\n",
      "    0.06     0.54      9.0    1e-05\t        100.0\n",
      "    0.09     0.81      9.0        1\t       132.43\n",
      "    0.08     0.72      9.0        1\t       129.72\n",
      "    0.07     0.63      9.0        1\t       126.16\n",
      "    0.06     0.54      9.0        1\t       121.26\n",
      "    0.09     0.81      9.0      0.5\t       109.16\n",
      "    0.08     0.72      9.0      0.5\t       102.73\n",
      "    0.07     0.63      9.0      0.5\t        94.02\n",
      "    0.06     0.54      9.0      0.5\t        81.48\n",
      "    0.09     0.86      9.5     0.01\t        100.0\n",
      "    0.08     0.76      9.5     0.01\t        100.0\n",
      "    0.07     0.66      9.5     0.01\t        100.0\n",
      "    0.06     0.57      9.5     0.01\t        100.0\n",
      "    0.09     0.86      9.5    0.001\t        100.0\n",
      "    0.08     0.76      9.5    0.001\t        100.0\n",
      "    0.07     0.66      9.5    0.001\t        100.0\n",
      "    0.06     0.57      9.5    0.001\t        100.0\n",
      "    0.09     0.86      9.5   0.0001\t        100.0\n",
      "    0.08     0.76      9.5   0.0001\t        100.0\n",
      "    0.07     0.66      9.5   0.0001\t        100.0\n",
      "    0.06     0.57      9.5   0.0001\t        100.0\n",
      "    0.09     0.86      9.5    1e-05\t        100.0\n",
      "    0.08     0.76      9.5    1e-05\t        100.0\n",
      "    0.07     0.66      9.5    1e-05\t        100.0\n",
      "    0.06     0.57      9.5    1e-05\t        100.0\n",
      "    0.09     0.86      9.5        1\t       133.71\n",
      "    0.08     0.76      9.5        1\t       131.19\n",
      "    0.07     0.66      9.5        1\t       127.88\n",
      "    0.06     0.57      9.5        1\t       123.33\n",
      "    0.09     0.86      9.5      0.5\t       112.14\n",
      "    0.08     0.76      9.5      0.5\t       106.22\n",
      "    0.07     0.66      9.5      0.5\t        98.24\n",
      "    0.06     0.57      9.5      0.5\t        86.84\n"
     ]
    },
    {
     "data": {
      "text/plain": [
       "([0.07, 0.35000000000000003, 0.5], 17.612719850612635)"
      ]
     },
     "execution_count": 73,
     "metadata": {},
     "output_type": "execute_result"
    }
   ],
   "source": [
    "m = 120\n",
    "sigma =  np.arange(0,10,0.5)\n",
    "alfa = [0.09,0.08,0.07,0.06]\n",
    "paso =[0.01,0.001,0.0001,0.00001,1,0.5]\n",
    "n = 19116209 * 0.01\n",
    "\n",
    "calibracion_GridSearch(total_cases, n, sigma, alfa, paso, m)"
   ]
  },
  {
   "cell_type": "markdown",
   "metadata": {},
   "source": [
    "**Finalemente**\n",
    "\n",
    "* Beta = 0.35\n",
    "* Alfa = 0.07\n",
    "* h = 0.5\n",
    "* n = N . 0.01\n",
    "* error relativo porcentual =  17.612719850612635"
   ]
  },
  {
   "cell_type": "code",
   "execution_count": 74,
   "metadata": {},
   "outputs": [],
   "source": [
    "h = 0.5\n",
    "n = 19116209 * 0.01\n",
    "m = 120\n",
    "b = 0.35\n",
    "a = 0.07\n",
    "\n",
    "info_121 = discretizacion_RK_2(b, a, n, h, m)"
   ]
  },
  {
   "cell_type": "code",
   "execution_count": 75,
   "metadata": {},
   "outputs": [
    {
     "data": {
      "image/png": "[encoded data removed]",
      "text/plain": [
       "<Figure size 864x576 with 1 Axes>"
      ]
     },
     "metadata": {
      "needs_background": "light"
     },
     "output_type": "display_data"
    }
   ],
   "source": [
    "m = 120\n",
    "\n",
    "plt.subplots(1, 1, figsize=(12, 8))\n",
    "\n",
    "plt.xlabel(\"díás\")\n",
    "plt.ylabel(\"total cases\")\n",
    "\n",
    "plt.scatter(info[\"day\"][:m], info[\"total_cases\"][:m], color =\"black\", alpha=1,s=4)\n",
    "\n",
    "plt.plot(info_121[\"day\"], info_121[\"wn\"]+info_121[\"vn\"], color =\"yellow\", alpha=1)\n",
    "\n",
    "plt.legend(['In+Rn',\"casos totales\"])\n",
    "\n",
    "plt.show()"
   ]
  },
  {
   "cell_type": "code",
   "execution_count": 76,
   "metadata": {},
   "outputs": [
    {
     "data": {
      "image/png": "[encoded data removed]",
      "text/plain": [
       "<Figure size 864x576 with 1 Axes>"
      ]
     },
     "metadata": {
      "needs_background": "light"
     },
     "output_type": "display_data"
    }
   ],
   "source": [
    "plt.subplots(1, 1, figsize=(12, 8))\n",
    "\n",
    "plt.xlabel(\"Días\")\n",
    "plt.ylabel(\"Cantidad acumulada de personas\")\n",
    "\n",
    "\n",
    "plt.plot(info_121[\"day\"], info_121[\"un\"], color =\"g\", alpha=0.5)\n",
    "plt.plot(info_121[\"day\"], info_121[\"vn\"], color =\"r\", alpha=0.4)\n",
    "plt.plot(info_121[\"day\"], info_121[\"wn\"], color =\"#FFA500\", alpha=0.4)\n",
    "\n",
    "plt.plot(info_121[\"day\"], info_121[\"wn\"]+info_121[\"vn\"], color =\"b\", alpha=0.5)\n",
    "\n",
    "\n",
    "plt.legend([\"Sn\",\"In\",\"Rn\",'In+Rn'])\n",
    "\n",
    "plt.show()"
   ]
  },
  {
   "cell_type": "code",
   "execution_count": 77,
   "metadata": {
    "scrolled": true
   },
   "outputs": [
    {
     "name": "stderr",
     "output_type": "stream",
     "text": [
      "/home/anichu/Programs/anaconda3/lib/python3.6/site-packages/ipykernel_launcher.py:3: SettingWithCopyWarning: \n",
      "A value is trying to be set on a copy of a slice from a DataFrame\n",
      "\n",
      "See the caveats in the documentation: http://pandas.pydata.org/pandas-docs/stable/indexing.html#indexing-view-versus-copy\n",
      "  This is separate from the ipykernel package so we can avoid doing imports until\n",
      "/home/anichu/Programs/anaconda3/lib/python3.6/site-packages/ipykernel_launcher.py:6: SettingWithCopyWarning: \n",
      "A value is trying to be set on a copy of a slice from a DataFrame\n",
      "\n",
      "See the caveats in the documentation: http://pandas.pydata.org/pandas-docs/stable/indexing.html#indexing-view-versus-copy\n",
      "  \n"
     ]
    }
   ],
   "source": [
    "info_121[\"un\"]\n",
    "info_121[\"-delta Sn\"] = info_121[\"un\"].copy()\n",
    "info_121[\"-delta Sn\"][0] = 0\n",
    "\n",
    "for i in range(1, len(info_121)):\n",
    "    info_121[\"-delta Sn\"][i] = -(info_121[\"un\"][i] - info_121[\"un\"][i-1])"
   ]
  },
  {
   "cell_type": "code",
   "execution_count": 78,
   "metadata": {},
   "outputs": [
    {
     "data": {
      "image/png": "[encoded data removed]",
      "text/plain": [
       "<Figure size 864x576 with 1 Axes>"
      ]
     },
     "metadata": {
      "needs_background": "light"
     },
     "output_type": "display_data"
    }
   ],
   "source": [
    "m = 120\n",
    "\n",
    "plt.subplots(1, 1, figsize=(12, 8))\n",
    "\n",
    "plt.xlabel(\"díás\")\n",
    "plt.ylabel(\"total cases\")\n",
    "\n",
    "plt.scatter(info[\"day\"][:m], info[\"new_cases\"][:m], color =\"black\", alpha=1,s=4)\n",
    "\n",
    "plt.plot(info_121[\"day\"], info_121[\"-delta Sn\"], color =\"blue\", alpha=1)\n",
    "\n",
    "plt.legend(['-delta Sn',\"new_cases\"])\n",
    "\n",
    "plt.show()"
   ]
  },
  {
   "cell_type": "markdown",
   "metadata": {},
   "source": [
    "### A7) N(t)"
   ]
  },
  {
   "cell_type": "code",
   "execution_count": 79,
   "metadata": {},
   "outputs": [
    {
     "data": {
      "image/png": "[encoded data removed]",
      "text/plain": [
       "<Figure size 864x576 with 1 Axes>"
      ]
     },
     "metadata": {
      "needs_background": "light"
     },
     "output_type": "display_data"
    }
   ],
   "source": [
    "m = 120\n",
    "\n",
    "info_121[\"N\"] = info_121[\"un\"] + info_121[\"vn\"] + info_121[\"wn\"] \n",
    "\n",
    "plt.subplots(1, 1, figsize=(12, 8))\n",
    "plt.ylim((0, 3*10**5))\n",
    "plt.xlabel(\"Días\")\n",
    "plt.ylabel(\"Cantidad de personas\")\n",
    "\n",
    "plt.plot(info_121[\"day\"], info_121[\"N\"])\n",
    "\n",
    "plt.show()"
   ]
  },
  {
   "cell_type": "markdown",
   "metadata": {},
   "source": [
    "### A.8)"
   ]
  },
  {
   "cell_type": "code",
   "execution_count": 80,
   "metadata": {},
   "outputs": [],
   "source": [
    "N = 19116209* 0.01\n",
    "BETA = 0.35\n",
    "ALFA = 0.07\n",
    "PASO = 0.5\n",
    "SIGMA = BETA/ALFA\n",
    "s_0 = (N-1)/N\n",
    "i_0 = 1/N"
   ]
  },
  {
   "cell_type": "code",
   "execution_count": 81,
   "metadata": {},
   "outputs": [
    {
     "data": {
      "text/latex": [
       "$\\displaystyle 0.478113463748462$"
      ],
      "text/plain": [
       "0.478113463748462"
      ]
     },
     "execution_count": 81,
     "metadata": {},
     "output_type": "execute_result"
    }
   ],
   "source": [
    "# i max ecuación\n",
    "\n",
    "i_0 + s_0 - 1/SIGMA- 1/SIGMA* sp.log(SIGMA*s_0)"
   ]
  },
  {
   "cell_type": "code",
   "execution_count": 82,
   "metadata": {
    "scrolled": true
   },
   "outputs": [
    {
     "data": {
      "image/png": "[encoded data removed]",
      "text/plain": [
       "<Figure size 864x576 with 1 Axes>"
      ]
     },
     "metadata": {
      "needs_background": "light"
     },
     "output_type": "display_data"
    }
   ],
   "source": [
    "# Busco los datos calculados\n",
    "\n",
    "m = 300\n",
    "\n",
    "SIR = discretizacion_RK_2(BETA,ALFA,N,PASO, m)\n",
    "\n",
    "plt.subplots(1, 1, figsize=(12, 8))\n",
    "\n",
    "plt.xlabel(\"Días\")\n",
    "plt.ylabel(\"Cantidad de personas\")\n",
    "\n",
    "\n",
    "plt.plot(SIR[\"day\"], SIR[\"vn\"], color =\"b\", alpha=0.5)\n",
    "\n",
    "plt.legend([\"I(t) SIR\"])\n",
    "\n",
    "\n",
    "plt.show()"
   ]
  },
  {
   "cell_type": "code",
   "execution_count": 83,
   "metadata": {},
   "outputs": [
    {
     "data": {
      "text/plain": [
       "0.47804500786796539955"
      ]
     },
     "execution_count": 83,
     "metadata": {},
     "output_type": "execute_result"
    }
   ],
   "source": [
    "# i max numérico\n",
    "\n",
    "SIR[\"vn\"].max()/N"
   ]
  },
  {
   "cell_type": "markdown",
   "metadata": {},
   "source": [
    "### A9) Cálculo de s infinito"
   ]
  },
  {
   "cell_type": "code",
   "execution_count": 84,
   "metadata": {},
   "outputs": [],
   "source": [
    "def cumple_teorema_del_bolzano(f,intervalo):\n",
    "    a = np.float64(intervalo[0])\n",
    "    b = np.float64(intervalo[1])\n",
    "    return(f(a)*f(b)<0)"
   ]
  },
  {
   "cell_type": "code",
   "execution_count": 85,
   "metadata": {},
   "outputs": [],
   "source": [
    "def biseccion(f,intervalo,error_absoluto):\n",
    "        \n",
    "    i = 0\n",
    "    \n",
    "    a = np.float64(intervalo[0])\n",
    "    b = np.float64(intervalo[1])\n",
    "    \n",
    "    errores = [np.float64((b-a)/2)]\n",
    "    \n",
    "    if(not cumple_teorema_del_bolzano(f,intervalo)):\n",
    "        print(\"No cumple teorema del Bolzano\")\n",
    "        return\n",
    "    \n",
    "    print(\"{: >3} {: >20} {: >20} {: >20} {: >20}\\n\".format(\"i\",\"m\",\"a\",\"b\", \"error\"))\n",
    "\n",
    "    while(errores[-1] >= np.float64(error_absoluto)):\n",
    "\n",
    "        m = (a+b)/2\n",
    "\n",
    "        print(\"{: >3} {: >20} {: >20} {: >20} {: >20}\".format(i,m,a,b,errores[-1]))\n",
    "        \n",
    "        if(f(m)==0): return m\n",
    "        \n",
    "        if(f(m)*f(a)<0 ):\n",
    "            b = m\n",
    "        else:\n",
    "            a = m\n",
    "        \n",
    "        i+=1\n",
    "        errores.append((b-a)/2)\n",
    "    \n",
    "    print(\"{: >3} {: >20} {: >20} {: >20} {: >20}\".format(i,(a+b)/2,a,b,errores[-1]))\n",
    "    \n",
    "    print(\"\\n\\nRaiz: \", m)\n",
    "    \n",
    "    return errores"
   ]
  },
  {
   "cell_type": "code",
   "execution_count": 86,
   "metadata": {},
   "outputs": [],
   "source": [
    "N = 19116209* 0.01\n",
    "BETA = 0.35\n",
    "ALFA = 0.07\n",
    "PASO = 0.5\n",
    "SIGMA = BETA/ALFA\n",
    "s_0 = (N-1)/N\n",
    "i_0 = 1/N\n",
    "\n",
    "f = lambda x: i_0 + s_0 - x + (1/SIGMA)* sp.log(x/s_0)"
   ]
  },
  {
   "cell_type": "code",
   "execution_count": 87,
   "metadata": {
    "scrolled": true
   },
   "outputs": [
    {
     "name": "stdout",
     "output_type": "stream",
     "text": [
      "  i                    m                    a                    b                error\n",
      "\n",
      "  0  0.10000000000000052                1e-15  0.20000000000000004  0.09999999999999952\n",
      "  1  0.05000000000000076                1e-15  0.10000000000000052  0.04999999999999976\n",
      "  2  0.02500000000000088                1e-15  0.05000000000000076  0.02499999999999988\n",
      "  3  0.01250000000000094                1e-15  0.02500000000000088  0.01249999999999994\n",
      "  4 0.006250000000000969                1e-15  0.01250000000000094  0.00624999999999997\n",
      "  5 0.009375000000000954 0.006250000000000969  0.01250000000000094 0.003124999999999985\n",
      "  6 0.007812500000000961 0.006250000000000969 0.009375000000000954 0.0015624999999999923\n",
      "  7 0.0070312500000009655 0.006250000000000969 0.007812500000000961 0.0007812499999999959\n",
      "  8 0.006640625000000967 0.006250000000000969 0.0070312500000009655 0.0003906249999999982\n",
      "  9 0.006835937500000966 0.006640625000000967 0.0070312500000009655 0.0001953124999999993\n",
      " 10 0.006933593750000966 0.006835937500000966 0.0070312500000009655 9.765624999999965e-05\n",
      " 11 0.006982421875000966 0.006933593750000966 0.0070312500000009655 4.8828124999999827e-05\n",
      " 12 0.006958007812500966 0.006933593750000966 0.006982421875000966 2.4414062499999913e-05\n",
      " 13 0.0069702148437509655 0.006958007812500966 0.006982421875000966 1.220703124999974e-05\n",
      " 14 0.006976318359375965 0.0069702148437509655 0.006982421875000966 6.103515625000087e-06\n",
      " 15 0.006979370117188466 0.006976318359375965 0.006982421875000966 3.05175781250026e-06\n",
      " 16 0.0069778442382822155 0.006976318359375965 0.006979370117188466 1.525878906250347e-06\n",
      " 17  0.00697708129882909 0.006976318359375965 0.0069778442382822155 7.629394531251735e-07\n",
      " 18 0.006977462768555653  0.00697708129882909 0.0069778442382822155 3.8146972656258674e-07\n",
      " 19 0.0069772720336923715  0.00697708129882909 0.006977462768555653 1.907348632815102e-07\n",
      " 20 0.0069771766662607305  0.00697708129882909 0.0069772720336923715 9.536743164053826e-08\n",
      "\n",
      "\n",
      "Raiz:  0.0069772720336923715\n"
     ]
    }
   ],
   "source": [
    "errores =biseccion(f,[0.000000000000001, 1/SIGMA],0.0000001)"
   ]
  },
  {
   "cell_type": "code",
   "execution_count": 88,
   "metadata": {
    "scrolled": false
   },
   "outputs": [
    {
     "data": {
      "image/png": "[encoded data removed]",
      "text/plain": [
       "<Figure size 864x576 with 1 Axes>"
      ]
     },
     "metadata": {
      "needs_background": "light"
     },
     "output_type": "display_data"
    }
   ],
   "source": [
    "# Busco los datos calculados\n",
    "\n",
    "h = 0.5\n",
    "n = 19116209 * 0.01\n",
    "m = 1000\n",
    "b = 0.35\n",
    "a = 0.07\n",
    "\n",
    "SIR = discretizacion_RK_2(b, a, n, h, m)\n",
    "\n",
    "plt.subplots(1, 1, figsize=(12, 8))\n",
    "\n",
    "plt.xlabel(\"Días\")\n",
    "plt.ylabel(\"Cantidad de personas\")\n",
    "\n",
    "\n",
    "plt.plot(SIR[\"day\"], SIR[\"un\"], color =\"b\", alpha=0.5)\n",
    "\n",
    "plt.legend([\"Sn\"])\n",
    "\n",
    "\n",
    "plt.show()"
   ]
  },
  {
   "cell_type": "code",
   "execution_count": 89,
   "metadata": {},
   "outputs": [
    {
     "data": {
      "text/plain": [
       "0.0069987957610074921383"
      ]
     },
     "execution_count": 89,
     "metadata": {},
     "output_type": "execute_result"
    }
   ],
   "source": [
    "# i max numérico\n",
    "list(SIR[\"un\"])[-1]/n"
   ]
  },
  {
   "cell_type": "markdown",
   "metadata": {},
   "source": [
    "### A4) Validación de aproximación"
   ]
  },
  {
   "cell_type": "code",
   "execution_count": 90,
   "metadata": {},
   "outputs": [
    {
     "data": {
      "text/latex": [
       "$\\displaystyle 5.00000458151499$"
      ],
      "text/plain": [
       "5.00000458151499"
      ]
     },
     "execution_count": 90,
     "metadata": {},
     "output_type": "execute_result"
    }
   ],
   "source": [
    "s_0 = (n-1)/n\n",
    "s_inf =  0.0069772720336923715\n",
    "\n",
    "sp.log(s_0/s_inf) / (s_0-s_inf)"
   ]
  },
  {
   "cell_type": "code",
   "execution_count": 91,
   "metadata": {},
   "outputs": [
    {
     "data": {
      "text/plain": [
       "4.999999999999999"
      ]
     },
     "execution_count": 91,
     "metadata": {},
     "output_type": "execute_result"
    }
   ],
   "source": [
    "SIGMA"
   ]
  },
  {
   "cell_type": "markdown",
   "metadata": {},
   "source": [
    "## METODO B"
   ]
  },
  {
   "cell_type": "code",
   "execution_count": 92,
   "metadata": {},
   "outputs": [],
   "source": [
    "def error_relativo(actual, anterior):\n",
    "    return abs(actual-anterior)/actual"
   ]
  },
  {
   "cell_type": "code",
   "execution_count": 93,
   "metadata": {},
   "outputs": [],
   "source": [
    "def metodo_punto_fijo(g, p, e_r= 0.001):\n",
    "\n",
    "    anterior = p\n",
    "    actual = g(p)\n",
    "        \n",
    "    while(error_relativo(actual, anterior)>=e_r):\n",
    "        anterior = actual\n",
    "        actual = g(anterior)\n",
    "        \n",
    "    return actual"
   ]
  },
  {
   "cell_type": "code",
   "execution_count": 94,
   "metadata": {},
   "outputs": [],
   "source": [
    "def CN_get_vn_sig(un, vn, BETA,ALFA,N,h):\n",
    "    \n",
    "    BN = BETA/N\n",
    "    hmed= h/2\n",
    "    \n",
    "    un_sig = lambda x: (un-hmed*BN*vn*un) / (1+hmed*BN*x)\n",
    "\n",
    "    \n",
    "    g = lambda x: vn + hmed * (BN*(x*un_sig(x)+vn*un) - ALFA*(x+vn))\n",
    "            \n",
    "    vn_sig = metodo_punto_fijo(g, vn)\n",
    "    \n",
    "    return vn_sig"
   ]
  },
  {
   "cell_type": "code",
   "execution_count": 95,
   "metadata": {},
   "outputs": [],
   "source": [
    "def CN_get_un_sig(un,vn,vn_sig,BETA,ALFA,N,h):\n",
    "    \n",
    "    BN = BETA/N\n",
    "    hmed= h/2\n",
    "    \n",
    "    g = lambda x: un - hmed*BN*(vn_sig*x+vn*un)\n",
    "        \n",
    "    un_sig = metodo_punto_fijo(g, un)\n",
    "    \n",
    "    return un_sig"
   ]
  },
  {
   "cell_type": "code",
   "execution_count": 96,
   "metadata": {},
   "outputs": [],
   "source": [
    "def CN_get_wn_sig(wn,vn,vn_sig,BETA,ALFA,N,h):\n",
    "    wn_sig = wn + (h/2)*ALFA*(vn_sig+vn)\n",
    "    return wn_sig"
   ]
  },
  {
   "cell_type": "code",
   "execution_count": 97,
   "metadata": {
    "scrolled": false
   },
   "outputs": [],
   "source": [
    "def get_info_B(BETA,ALFA,N,h):\n",
    "    \n",
    "    info_B = inicializacion_df_SIR(121, N)\n",
    "    \n",
    "    for i in range(1, len(info_B)):\n",
    "\n",
    "        un = info_B.loc[i-1, 'un']\n",
    "        vn = info_B.loc[i-1, 'vn']\n",
    "        wn = info_B.loc[i-1, 'wn']\n",
    "        \n",
    "        vn_sig = CN_get_vn_sig(un,vn,BETA,ALFA,N,h)\n",
    "        info_B.loc[i, 'vn'] = vn_sig\n",
    "\n",
    "        info_B.loc[i, 'un'] =   CN_get_un_sig(un,vn,vn_sig,BETA,ALFA,N,h)\n",
    "        \n",
    "        info_B.loc[i, 'wn'] = CN_get_wn_sig(wn,vn,vn_sig,BETA,ALFA,N,h)\n",
    "    \n",
    "    return info_B"
   ]
  },
  {
   "cell_type": "code",
   "execution_count": 98,
   "metadata": {},
   "outputs": [],
   "source": [
    "N = 19116209.0 * 0.01\n",
    "BETA = 0.35\n",
    "ALFA = 0.07\n",
    "h = 0.5\n",
    "m = 121\n",
    "info_B = get_info_B(BETA,ALFA,N,h)"
   ]
  },
  {
   "cell_type": "code",
   "execution_count": 99,
   "metadata": {
    "scrolled": false
   },
   "outputs": [
    {
     "data": {
      "image/png": "[encoded data removed]",
      "text/plain": [
       "<Figure size 864x576 with 1 Axes>"
      ]
     },
     "metadata": {
      "needs_background": "light"
     },
     "output_type": "display_data"
    }
   ],
   "source": [
    "m = 120\n",
    "\n",
    "plt.subplots(1, 1, figsize=(12, 8))\n",
    "\n",
    "plt.xlabel(\"díás\")\n",
    "plt.ylabel(\"total cases\")\n",
    "\n",
    "plt.scatter(info[\"day\"][:m], info[\"total_cases\"][:m], color =\"black\", alpha=1,s=4)\n",
    "\n",
    "plt.plot(info_B[\"day\"], info_B[\"wn\"]+info_B[\"vn\"], color =\"yellow\", alpha=1)\n",
    "\n",
    "plt.legend(['In+Rn',\"casos totales\"])\n",
    "\n",
    "plt.show()"
   ]
  },
  {
   "cell_type": "code",
   "execution_count": 100,
   "metadata": {},
   "outputs": [
    {
     "data": {
      "text/plain": [
       "17.487628509225253"
      ]
     },
     "execution_count": 100,
     "metadata": {},
     "output_type": "execute_result"
    }
   ],
   "source": [
    "error_relativo_series(total_cases, info_B[\"vn\"]+info_B[\"wn\"], m)"
   ]
  },
  {
   "cell_type": "code",
   "execution_count": 101,
   "metadata": {},
   "outputs": [
    {
     "data": {
      "image/png": "[encoded data removed]",
      "text/plain": [
       "<Figure size 864x576 with 1 Axes>"
      ]
     },
     "metadata": {
      "needs_background": "light"
     },
     "output_type": "display_data"
    }
   ],
   "source": [
    "plt.subplots(1, 1, figsize=(12, 8))\n",
    "\n",
    "plt.xlabel(\"Días\")\n",
    "plt.ylabel(\"total cases\")\n",
    "\n",
    "\n",
    "plt.plot(info_B[\"day\"], info_B[\"un\"], color =\"g\", alpha=0.5)\n",
    "plt.plot(info_B[\"day\"], info_B[\"vn\"], color =\"r\", alpha=0.4)\n",
    "plt.plot(info_B[\"day\"], info_B[\"wn\"], color =\"#FFA500\", alpha=0.4)\n",
    "\n",
    "plt.plot(info_B[\"day\"], info_B[\"wn\"]+info_B[\"vn\"], color =\"b\", alpha=0.5)\n",
    "\n",
    "\n",
    "plt.legend([\"Sn\",\"In\",\"Rn\",'In+Rn'])\n",
    "\n",
    "plt.show()"
   ]
  },
  {
   "cell_type": "code",
   "execution_count": 102,
   "metadata": {},
   "outputs": [
    {
     "name": "stderr",
     "output_type": "stream",
     "text": [
      "/home/anichu/Programs/anaconda3/lib/python3.6/site-packages/ipykernel_launcher.py:3: SettingWithCopyWarning: \n",
      "A value is trying to be set on a copy of a slice from a DataFrame\n",
      "\n",
      "See the caveats in the documentation: http://pandas.pydata.org/pandas-docs/stable/indexing.html#indexing-view-versus-copy\n",
      "  This is separate from the ipykernel package so we can avoid doing imports until\n",
      "/home/anichu/Programs/anaconda3/lib/python3.6/site-packages/ipykernel_launcher.py:6: SettingWithCopyWarning: \n",
      "A value is trying to be set on a copy of a slice from a DataFrame\n",
      "\n",
      "See the caveats in the documentation: http://pandas.pydata.org/pandas-docs/stable/indexing.html#indexing-view-versus-copy\n",
      "  \n"
     ]
    }
   ],
   "source": [
    "info_B[\"un\"]\n",
    "info_B[\"-delta Sn\"] = info_B[\"un\"].copy()\n",
    "info_B[\"-delta Sn\"][0] = 0\n",
    "\n",
    "for i in range(1, len(info_B)):\n",
    "    info_B[\"-delta Sn\"][i] = -(info_B[\"un\"][i] - info_B[\"un\"][i-1])"
   ]
  },
  {
   "cell_type": "code",
   "execution_count": 103,
   "metadata": {},
   "outputs": [
    {
     "data": {
      "image/png": "[encoded data removed]",
      "text/plain": [
       "<Figure size 864x576 with 1 Axes>"
      ]
     },
     "metadata": {
      "needs_background": "light"
     },
     "output_type": "display_data"
    }
   ],
   "source": [
    "m = 120\n",
    "\n",
    "plt.subplots(1, 1, figsize=(12, 8))\n",
    "\n",
    "plt.xlabel(\"díás\")\n",
    "plt.ylabel(\"new cases\")\n",
    "\n",
    "plt.scatter(info[\"day\"][:m], info[\"new_cases\"][:m], color =\"black\", alpha=1,s=4)\n",
    "\n",
    "plt.plot(info_B[\"day\"], info_B[\"-delta Sn\"], color =\"blue\", alpha=1)\n",
    "\n",
    "plt.legend(['-delta Sn',\"new_cases\"])\n",
    "\n",
    "plt.show()"
   ]
  },
  {
   "cell_type": "code",
   "execution_count": 104,
   "metadata": {
    "scrolled": false
   },
   "outputs": [
    {
     "data": {
      "image/png": "[encoded data removed]",
      "text/plain": [
       "<Figure size 864x576 with 1 Axes>"
      ]
     },
     "metadata": {
      "needs_background": "light"
     },
     "output_type": "display_data"
    }
   ],
   "source": [
    "m = 120\n",
    "\n",
    "info_B[\"N\"] = info_B[\"un\"] + info_B[\"vn\"] + info_B[\"wn\"] \n",
    "\n",
    "plt.subplots(1, 1, figsize=(12, 8))\n",
    "plt.ylim((0, 3*10**5))\n",
    "plt.xlabel(\"Días\")\n",
    "plt.ylabel(\"total cases\")\n",
    "\n",
    "plt.plot(info_B[\"day\"], info_B[\"N\"])\n",
    "\n",
    "plt.show()"
   ]
  },
  {
   "cell_type": "markdown",
   "metadata": {},
   "source": [
    "# COMPARACION METODOS"
   ]
  },
  {
   "cell_type": "markdown",
   "metadata": {},
   "source": [
    "## Graficos"
   ]
  },
  {
   "cell_type": "code",
   "execution_count": 105,
   "metadata": {},
   "outputs": [
    {
     "data": {
      "image/png": "[encoded data removed]",
      "text/plain": [
       "<Figure size 864x576 with 1 Axes>"
      ]
     },
     "metadata": {
      "needs_background": "light"
     },
     "output_type": "display_data"
    }
   ],
   "source": [
    "# Busco los datos calculados\n",
    "\n",
    "m = 120\n",
    "\n",
    "plt.subplots(1, 1, figsize=(12, 8))\n",
    "\n",
    "plt.xlabel(\"Días\")\n",
    "plt.ylabel(\"Cantidad de personas\")\n",
    "plt.title(\"Infecciones\")\n",
    "\n",
    "\n",
    "plt.plot(info_121[\"day\"][:m], info_121[\"vn\"][:m], color =\"b\", alpha=0.5)\n",
    "plt.plot(info_B[\"day\"][:m], info_B[\"vn\"][:m], color =\"r\", alpha=0.5)\n",
    "\n",
    "plt.legend([\"Método A\", \"Método B\"])\n",
    "\n",
    "\n",
    "plt.show()"
   ]
  },
  {
   "cell_type": "code",
   "execution_count": 106,
   "metadata": {},
   "outputs": [
    {
     "data": {
      "image/png": "[encoded data removed]",
      "text/plain": [
       "<Figure size 864x576 with 1 Axes>"
      ]
     },
     "metadata": {
      "needs_background": "light"
     },
     "output_type": "display_data"
    }
   ],
   "source": [
    "# Busco los datos calculados\n",
    "\n",
    "m = 120\n",
    "\n",
    "plt.subplots(1, 1, figsize=(12, 8))\n",
    "\n",
    "plt.xlabel(\"Días\")\n",
    "plt.ylabel(\"Cantidad de personas\")\n",
    "plt.title(\"Recuperados\")\n",
    "\n",
    "\n",
    "plt.plot(info_121[\"day\"], info_121[\"wn\"], color =\"b\", alpha=0.5)\n",
    "plt.plot(info_B[\"day\"][:m], info_B[\"wn\"][:m], color =\"r\", alpha=0.5)\n",
    "\n",
    "plt.legend([\"Método A\", \"Método B\"])\n",
    "\n",
    "\n",
    "plt.show()"
   ]
  },
  {
   "cell_type": "code",
   "execution_count": 107,
   "metadata": {},
   "outputs": [
    {
     "data": {
      "image/png": "[encoded data removed]",
      "text/plain": [
       "<Figure size 864x576 with 1 Axes>"
      ]
     },
     "metadata": {
      "needs_background": "light"
     },
     "output_type": "display_data"
    }
   ],
   "source": [
    "# Busco los datos calculados\n",
    "\n",
    "m = 120\n",
    "\n",
    "plt.subplots(1, 1, figsize=(12, 8))\n",
    "\n",
    "plt.xlabel(\"Días\")\n",
    "plt.ylabel(\"Cantidad de personas\")\n",
    "plt.title(\"Suceptibles\")\n",
    "\n",
    "\n",
    "plt.plot(info_121[\"day\"][:m], info_121[\"un\"][:m], color =\"b\", alpha=0.5)\n",
    "plt.plot(info_B[\"day\"][:m], info_B[\"un\"][:m], color =\"r\", alpha=0.5)\n",
    "\n",
    "plt.legend([\"Método A\", \"Método B\"])\n",
    "\n",
    "\n",
    "plt.show()"
   ]
  },
  {
   "cell_type": "markdown",
   "metadata": {},
   "source": [
    "## Estabilidad"
   ]
  },
  {
   "cell_type": "code",
   "execution_count": 108,
   "metadata": {},
   "outputs": [],
   "source": [
    "N = 19116209* 0.01\n",
    "BETA = 0.35\n",
    "ALFA = 0.07\n",
    "PASO = 0.5\n",
    "SIGMA = BETA/ALFA\n",
    "m = 120"
   ]
  },
  {
   "cell_type": "markdown",
   "metadata": {},
   "source": [
    "### Método A"
   ]
  },
  {
   "cell_type": "code",
   "execution_count": 109,
   "metadata": {},
   "outputs": [],
   "source": [
    "def plot_total_cases_A(b,a,n,h,m):\n",
    "\n",
    "    info_121 = discretizacion_RK_2(b, a, n, h, m)\n",
    "\n",
    "\n",
    "    plt.subplots(1, 1, figsize=(4, 4))\n",
    "\n",
    "    plt.xlabel(\"díás\")\n",
    "    plt.ylabel(\"total cases\")\n",
    "\n",
    "    plt.scatter(info[\"day\"][:m], info[\"total_cases\"][:m], color =\"black\", alpha=1,s=4)\n",
    "\n",
    "    plt.plot(info_121[\"day\"], info_121[\"wn\"]+info_121[\"vn\"], color =\"yellow\", alpha=1)\n",
    "\n",
    "    plt.legend(['In+Rn',\"casos totales\"])\n",
    "    plt.title(\"paso de \"+str(h))\n",
    "\n",
    "    plt.show()"
   ]
  },
  {
   "cell_type": "code",
   "execution_count": 110,
   "metadata": {
    "scrolled": false
   },
   "outputs": [
    {
     "name": "stdout",
     "output_type": "stream",
     "text": [
      "0.5\n"
     ]
    },
    {
     "data": {
      "image/png": "[encoded data removed]",
      "text/plain": [
       "<Figure size 288x288 with 1 Axes>"
      ]
     },
     "metadata": {
      "needs_background": "light"
     },
     "output_type": "display_data"
    },
    {
     "name": "stdout",
     "output_type": "stream",
     "text": [
      "\n",
      "\n",
      "\n",
      "\n",
      "1\n"
     ]
    },
    {
     "data": {
      "image/png": "[encoded data removed]",
      "text/plain": [
       "<Figure size 288x288 with 1 Axes>"
      ]
     },
     "metadata": {
      "needs_background": "light"
     },
     "output_type": "display_data"
    },
    {
     "name": "stdout",
     "output_type": "stream",
     "text": [
      "\n",
      "\n",
      "\n",
      "\n",
      "5\n"
     ]
    },
    {
     "data": {
      "image/png": "[encoded data removed]",
      "text/plain": [
       "<Figure size 288x288 with 1 Axes>"
      ]
     },
     "metadata": {
      "needs_background": "light"
     },
     "output_type": "display_data"
    },
    {
     "name": "stdout",
     "output_type": "stream",
     "text": [
      "\n",
      "\n",
      "\n",
      "\n",
      "10\n"
     ]
    },
    {
     "data": {
      "image/png": "[encoded data removed]",
      "text/plain": [
       "<Figure size 288x288 with 1 Axes>"
      ]
     },
     "metadata": {
      "needs_background": "light"
     },
     "output_type": "display_data"
    },
    {
     "name": "stdout",
     "output_type": "stream",
     "text": [
      "\n",
      "\n",
      "\n",
      "\n",
      "20\n"
     ]
    },
    {
     "data": {
      "image/png": "[encoded data removed]",
      "text/plain": [
       "<Figure size 288x288 with 1 Axes>"
      ]
     },
     "metadata": {
      "needs_background": "light"
     },
     "output_type": "display_data"
    },
    {
     "name": "stdout",
     "output_type": "stream",
     "text": [
      "\n",
      "\n",
      "\n",
      "\n",
      "21\n"
     ]
    },
    {
     "name": "stderr",
     "output_type": "stream",
     "text": [
      "/home/anichu/Programs/anaconda3/lib/python3.6/site-packages/ipykernel_launcher.py:8: RuntimeWarning: overflow encountered in longdouble_scalars\n",
      "  \n",
      "/home/anichu/Programs/anaconda3/lib/python3.6/site-packages/ipykernel_launcher.py:17: RuntimeWarning: overflow encountered in longdouble_scalars\n",
      "/home/anichu/Programs/anaconda3/lib/python3.6/site-packages/ipykernel_launcher.py:7: RuntimeWarning: invalid value encountered in longdouble_scalars\n",
      "  import sys\n"
     ]
    },
    {
     "data": {
      "image/png": "[encoded data removed]",
      "text/plain": [
       "<Figure size 288x288 with 1 Axes>"
      ]
     },
     "metadata": {
      "needs_background": "light"
     },
     "output_type": "display_data"
    },
    {
     "name": "stdout",
     "output_type": "stream",
     "text": [
      "\n",
      "\n",
      "\n",
      "\n",
      "22\n"
     ]
    },
    {
     "name": "stderr",
     "output_type": "stream",
     "text": [
      "/home/anichu/Programs/anaconda3/lib/python3.6/site-packages/ipykernel_launcher.py:8: RuntimeWarning: overflow encountered in longdouble_scalars\n",
      "  \n",
      "/home/anichu/Programs/anaconda3/lib/python3.6/site-packages/ipykernel_launcher.py:17: RuntimeWarning: overflow encountered in longdouble_scalars\n",
      "/home/anichu/Programs/anaconda3/lib/python3.6/site-packages/ipykernel_launcher.py:7: RuntimeWarning: invalid value encountered in longdouble_scalars\n",
      "  import sys\n"
     ]
    },
    {
     "data": {
      "image/png": "[encoded data removed]",
      "text/plain": [
       "<Figure size 288x288 with 1 Axes>"
      ]
     },
     "metadata": {
      "needs_background": "light"
     },
     "output_type": "display_data"
    },
    {
     "name": "stdout",
     "output_type": "stream",
     "text": [
      "\n",
      "\n",
      "\n",
      "\n"
     ]
    }
   ],
   "source": [
    "for h in [0.5,1,5,10,20,21,22]:\n",
    "    print(h)\n",
    "    plot_total_cases_A(BETA,ALFA,N,h,m)\n",
    "    print(\"\\n\\n\\n\")"
   ]
  },
  {
   "cell_type": "markdown",
   "metadata": {},
   "source": [
    "### Método B"
   ]
  },
  {
   "cell_type": "code",
   "execution_count": 111,
   "metadata": {},
   "outputs": [],
   "source": [
    "N = 19116209.0 * 0.01\n",
    "BETA = 0.35\n",
    "ALFA = 0.07\n",
    "h = 0.5\n",
    "m = 120\n",
    "\n",
    "info_B = get_info_B(BETA,ALFA,N,h)"
   ]
  },
  {
   "cell_type": "code",
   "execution_count": 112,
   "metadata": {},
   "outputs": [],
   "source": [
    "def plot_total_cases_B(b,a,n,h,m):\n",
    "\n",
    "    info_121 = get_info_B(b,a,n,h)\n",
    "\n",
    "    plt.subplots(1, 1, figsize=(4, 4))\n",
    "\n",
    "    plt.xlabel(\"díás\")\n",
    "    plt.ylabel(\"total cases\")\n",
    "\n",
    "    plt.scatter(info[\"day\"][:m], info[\"total_cases\"][:m], color =\"black\", alpha=1,s=4)\n",
    "\n",
    "    plt.plot(info_121[\"day\"], info_121[\"wn\"]+info_121[\"vn\"], color =\"yellow\", alpha=1)\n",
    "\n",
    "    plt.legend(['In+Rn',\"casos totales\"])\n",
    "    plt.title(\"paso de \"+str(h))\n",
    "\n",
    "    plt.show()"
   ]
  },
  {
   "cell_type": "code",
   "execution_count": 113,
   "metadata": {
    "scrolled": false
   },
   "outputs": [
    {
     "data": {
      "image/png": "[encoded data removed]",
      "text/plain": [
       "<Figure size 288x288 with 1 Axes>"
      ]
     },
     "metadata": {
      "needs_background": "light"
     },
     "output_type": "display_data"
    },
    {
     "data": {
      "image/png": "[encoded data removed]",
      "text/plain": [
       "<Figure size 288x288 with 1 Axes>"
      ]
     },
     "metadata": {
      "needs_background": "light"
     },
     "output_type": "display_data"
    },
    {
     "data": {
      "image/png": "[encoded data removed]",
      "text/plain": [
       "<Figure size 288x288 with 1 Axes>"
      ]
     },
     "metadata": {
      "needs_background": "light"
     },
     "output_type": "display_data"
    },
    {
     "data": {
      "image/png": "[encoded data removed]",
      "text/plain": [
       "<Figure size 288x288 with 1 Axes>"
      ]
     },
     "metadata": {
      "needs_background": "light"
     },
     "output_type": "display_data"
    },
    {
     "data": {
      "image/png": "[encoded data removed]",
      "text/plain": [
       "<Figure size 288x288 with 1 Axes>"
      ]
     },
     "metadata": {
      "needs_background": "light"
     },
     "output_type": "display_data"
    },
    {
     "data": {
      "image/png": "[encoded data removed]",
      "text/plain": [
       "<Figure size 288x288 with 1 Axes>"
      ]
     },
     "metadata": {
      "needs_background": "light"
     },
     "output_type": "display_data"
    },
    {
     "data": {
      "image/png": "[encoded data removed]",
      "text/plain": [
       "<Figure size 288x288 with 1 Axes>"
      ]
     },
     "metadata": {
      "needs_background": "light"
     },
     "output_type": "display_data"
    },
    {
     "data": {
      "image/png": "[encoded data removed]",
      "text/plain": [
       "<Figure size 288x288 with 1 Axes>"
      ]
     },
     "metadata": {
      "needs_background": "light"
     },
     "output_type": "display_data"
    },
    {
     "data": {
      "image/png": "[encoded data removed]",
      "text/plain": [
       "<Figure size 288x288 with 1 Axes>"
      ]
     },
     "metadata": {
      "needs_background": "light"
     },
     "output_type": "display_data"
    },
    {
     "name": "stderr",
     "output_type": "stream",
     "text": [
      "/home/anichu/Programs/anaconda3/lib/python3.6/site-packages/ipykernel_launcher.py:6: RuntimeWarning: overflow encountered in longdouble_scalars\n",
      "  \n",
      "/home/anichu/Programs/anaconda3/lib/python3.6/site-packages/ipykernel_launcher.py:2: RuntimeWarning: invalid value encountered in longdouble_scalars\n",
      "  \n",
      "/home/anichu/Programs/anaconda3/lib/python3.6/site-packages/ipykernel_launcher.py:9: RuntimeWarning: invalid value encountered in longdouble_scalars\n",
      "  if __name__ == '__main__':\n"
     ]
    },
    {
     "data": {
      "image/png": "[encoded data removed]",
      "text/plain": [
       "<Figure size 288x288 with 1 Axes>"
      ]
     },
     "metadata": {
      "needs_background": "light"
     },
     "output_type": "display_data"
    },
    {
     "name": "stderr",
     "output_type": "stream",
     "text": [
      "/home/anichu/Programs/anaconda3/lib/python3.6/site-packages/ipykernel_launcher.py:6: RuntimeWarning: overflow encountered in longdouble_scalars\n",
      "  \n",
      "/home/anichu/Programs/anaconda3/lib/python3.6/site-packages/ipykernel_launcher.py:9: RuntimeWarning: overflow encountered in longdouble_scalars\n",
      "  if __name__ == '__main__':\n",
      "/home/anichu/Programs/anaconda3/lib/python3.6/site-packages/ipykernel_launcher.py:9: RuntimeWarning: invalid value encountered in longdouble_scalars\n",
      "  if __name__ == '__main__':\n"
     ]
    },
    {
     "data": {
      "image/png": "[encoded data removed]",
      "text/plain": [
       "<Figure size 288x288 with 1 Axes>"
      ]
     },
     "metadata": {
      "needs_background": "light"
     },
     "output_type": "display_data"
    }
   ],
   "source": [
    "for h in [0.5,1,5,6,7,8,9,10,11,12,13]:\n",
    "    plot_total_cases_B(BETA,ALFA,N,h,m)"
   ]
  },
  {
   "cell_type": "markdown",
   "metadata": {},
   "source": [
    "## Orden de convergencia"
   ]
  },
  {
   "cell_type": "markdown",
   "metadata": {},
   "source": [
    "### Método A"
   ]
  },
  {
   "cell_type": "code",
   "execution_count": 114,
   "metadata": {},
   "outputs": [],
   "source": [
    "N = 19116209* 0.01\n",
    "BETA = 0.35\n",
    "ALFA = 0.07\n",
    "PASO = 0.5\n",
    "SIGMA = BETA/ALFA\n",
    "m = 120"
   ]
  },
  {
   "cell_type": "code",
   "execution_count": 115,
   "metadata": {},
   "outputs": [],
   "source": [
    "SIR = discretizacion_RK_2(BETA, ALFA, N, PASO, m)"
   ]
  },
  {
   "cell_type": "code",
   "execution_count": 116,
   "metadata": {},
   "outputs": [
    {
     "data": {
      "text/plain": [
       "[0.094185020317981094735,\n",
       " 0.19336110858683353128,\n",
       " 0.29772285564496336744,\n",
       " 0.40746946120895209198,\n",
       " 0.52280473381588913077,\n",
       " 0.64393709076356489616,\n",
       " 0.7710795580484897673,\n",
       " 0.9044497703017072342,\n",
       " 1.0442699707223604224,\n",
       " 1.1907670110089854502,\n",
       " 1.344172351288488002,\n",
       " 2.0316672056907612903,\n",
       " 12.6273375342352056645,\n",
       " 28.122893200547471763,\n",
       " 39.654202550913974196,\n",
       " 54.372565479833951444,\n",
       " 72.833973585349431945,\n",
       " 95.640353890853298226,\n",
       " 123.4395311623844669]"
      ]
     },
     "execution_count": 116,
     "metadata": {},
     "output_type": "execute_result"
    }
   ],
   "source": [
    "dia = 2\n",
    "SIR = discretizacion_RK_2(BETA, ALFA, N, PASO, m)\n",
    "valor_calculado_fijo = SIR[\"vn\"][dia]+SIR[\"wn\"][dia]\n",
    "errores = []\n",
    "\n",
    "pasos = [0.6,0.7,0.8,0.9,1,1.1,\\\n",
    "         1.2,1.3,1.4,1.5,1.6,2,5,7,8,9,10,11,12]\n",
    "\n",
    "for h in pasos:\n",
    "    SIR = discretizacion_RK_2(BETA, ALFA, N, h, m)\n",
    "    valor_calculado = SIR[\"vn\"][dia]+SIR[\"wn\"][dia]\n",
    "    error = abs(valor_calculado_fijo-valor_calculado)\n",
    "    errores.append(error)\n",
    "errores"
   ]
  },
  {
   "cell_type": "code",
   "execution_count": 117,
   "metadata": {},
   "outputs": [
    {
     "data": {
      "image/png": "[encoded data removed]",
      "text/plain": [
       "<Figure size 432x288 with 1 Axes>"
      ]
     },
     "metadata": {
      "needs_background": "light"
     },
     "output_type": "display_data"
    }
   ],
   "source": [
    "import pylab\n",
    "\n",
    "log_errores =[np.log(x) for x in errores]\n",
    "log_pasos = [np.log(x) for x in pasos]\n",
    "\n",
    "fig = plt.figure()\n",
    "ax = fig.add_subplot(2, 1, 1)\n",
    "\n",
    "line = ax.plot(log_errores,log_pasos, color='blue', lw=2)\n",
    "\n",
    "ax.set_title(\"Método A\")\n",
    "\n",
    "pylab.show()\n"
   ]
  },
  {
   "cell_type": "code",
   "execution_count": 118,
   "metadata": {},
   "outputs": [
    {
     "data": {
      "text/html": [
       "<div>\n",
       "<style scoped>\n",
       "    .dataframe tbody tr th:only-of-type {\n",
       "        vertical-align: middle;\n",
       "    }\n",
       "\n",
       "    .dataframe tbody tr th {\n",
       "        vertical-align: top;\n",
       "    }\n",
       "\n",
       "    .dataframe thead th {\n",
       "        text-align: right;\n",
       "    }\n",
       "</style>\n",
       "<table border=\"1\" class=\"dataframe\">\n",
       "  <thead>\n",
       "    <tr style=\"text-align: right;\">\n",
       "      <th></th>\n",
       "      <th>paso</th>\n",
       "      <th>error absoluto</th>\n",
       "    </tr>\n",
       "  </thead>\n",
       "  <tbody>\n",
       "    <tr>\n",
       "      <th>0</th>\n",
       "      <td>0.6</td>\n",
       "      <td>0.094185</td>\n",
       "    </tr>\n",
       "    <tr>\n",
       "      <th>1</th>\n",
       "      <td>0.7</td>\n",
       "      <td>0.193361</td>\n",
       "    </tr>\n",
       "    <tr>\n",
       "      <th>2</th>\n",
       "      <td>0.8</td>\n",
       "      <td>0.297723</td>\n",
       "    </tr>\n",
       "    <tr>\n",
       "      <th>3</th>\n",
       "      <td>0.9</td>\n",
       "      <td>0.407469</td>\n",
       "    </tr>\n",
       "    <tr>\n",
       "      <th>4</th>\n",
       "      <td>1.0</td>\n",
       "      <td>0.522805</td>\n",
       "    </tr>\n",
       "    <tr>\n",
       "      <th>5</th>\n",
       "      <td>1.1</td>\n",
       "      <td>0.643937</td>\n",
       "    </tr>\n",
       "    <tr>\n",
       "      <th>6</th>\n",
       "      <td>1.2</td>\n",
       "      <td>0.771080</td>\n",
       "    </tr>\n",
       "    <tr>\n",
       "      <th>7</th>\n",
       "      <td>1.3</td>\n",
       "      <td>0.904450</td>\n",
       "    </tr>\n",
       "    <tr>\n",
       "      <th>8</th>\n",
       "      <td>1.4</td>\n",
       "      <td>1.044270</td>\n",
       "    </tr>\n",
       "    <tr>\n",
       "      <th>9</th>\n",
       "      <td>1.5</td>\n",
       "      <td>1.190767</td>\n",
       "    </tr>\n",
       "    <tr>\n",
       "      <th>10</th>\n",
       "      <td>1.6</td>\n",
       "      <td>1.344172</td>\n",
       "    </tr>\n",
       "    <tr>\n",
       "      <th>11</th>\n",
       "      <td>2.0</td>\n",
       "      <td>2.031667</td>\n",
       "    </tr>\n",
       "    <tr>\n",
       "      <th>12</th>\n",
       "      <td>5.0</td>\n",
       "      <td>12.627338</td>\n",
       "    </tr>\n",
       "    <tr>\n",
       "      <th>13</th>\n",
       "      <td>7.0</td>\n",
       "      <td>28.122893</td>\n",
       "    </tr>\n",
       "    <tr>\n",
       "      <th>14</th>\n",
       "      <td>8.0</td>\n",
       "      <td>39.654203</td>\n",
       "    </tr>\n",
       "    <tr>\n",
       "      <th>15</th>\n",
       "      <td>9.0</td>\n",
       "      <td>54.372565</td>\n",
       "    </tr>\n",
       "    <tr>\n",
       "      <th>16</th>\n",
       "      <td>10.0</td>\n",
       "      <td>72.833974</td>\n",
       "    </tr>\n",
       "    <tr>\n",
       "      <th>17</th>\n",
       "      <td>11.0</td>\n",
       "      <td>95.640354</td>\n",
       "    </tr>\n",
       "    <tr>\n",
       "      <th>18</th>\n",
       "      <td>12.0</td>\n",
       "      <td>123.439531</td>\n",
       "    </tr>\n",
       "  </tbody>\n",
       "</table>\n",
       "</div>"
      ],
      "text/plain": [
       "    paso  error absoluto\n",
       "0    0.6        0.094185\n",
       "1    0.7        0.193361\n",
       "2    0.8        0.297723\n",
       "3    0.9        0.407469\n",
       "4    1.0        0.522805\n",
       "5    1.1        0.643937\n",
       "6    1.2        0.771080\n",
       "7    1.3        0.904450\n",
       "8    1.4        1.044270\n",
       "9    1.5        1.190767\n",
       "10   1.6        1.344172\n",
       "11   2.0        2.031667\n",
       "12   5.0       12.627338\n",
       "13   7.0       28.122893\n",
       "14   8.0       39.654203\n",
       "15   9.0       54.372565\n",
       "16  10.0       72.833974\n",
       "17  11.0       95.640354\n",
       "18  12.0      123.439531"
      ]
     },
     "execution_count": 118,
     "metadata": {},
     "output_type": "execute_result"
    }
   ],
   "source": [
    "table = pd.DataFrame()\n",
    "table[\"paso\"] = pasos\n",
    "table[\"error absoluto\"] = errores\n",
    "table"
   ]
  },
  {
   "cell_type": "code",
   "execution_count": 119,
   "metadata": {},
   "outputs": [],
   "source": [
    "def get_slope(x,y):\n",
    "    \n",
    "    x = np.array(x)\n",
    "    y = np.array(y)\n",
    "    \n",
    "    X = x - x.mean()\n",
    "    Y = y - y.mean()\n",
    "\n",
    "    slope = (X.dot(Y)) / (X.dot(X))\n",
    "    return slope"
   ]
  },
  {
   "cell_type": "code",
   "execution_count": 120,
   "metadata": {
    "scrolled": false
   },
   "outputs": [
    {
     "data": {
      "text/plain": [
       "2.1932287678707026032"
      ]
     },
     "execution_count": 120,
     "metadata": {},
     "output_type": "execute_result"
    }
   ],
   "source": [
    "get_slope(log_pasos,log_errores)"
   ]
  },
  {
   "cell_type": "markdown",
   "metadata": {},
   "source": [
    "### Método B"
   ]
  },
  {
   "cell_type": "code",
   "execution_count": 121,
   "metadata": {},
   "outputs": [],
   "source": [
    "N = 19116209* 0.01\n",
    "BETA = 0.35\n",
    "ALFA = 0.07\n",
    "PASO = 0.5\n",
    "SIGMA = BETA/ALFA\n",
    "m = 120"
   ]
  },
  {
   "cell_type": "code",
   "execution_count": 122,
   "metadata": {},
   "outputs": [
    {
     "data": {
      "text/plain": [
       "[0.04112849510936391717,\n",
       " 0.0834779167347989065,\n",
       " 0.12715394786509940056,\n",
       " 0.17221594317449949755,\n",
       " 0.21872582003098432323,\n",
       " 0.26674809073037291306,\n",
       " 0.3166287767911380429,\n",
       " 0.368018559719277583,\n",
       " 0.42118081031235066246,\n",
       " 0.47620363615530639744,\n",
       " 0.53317997380106015633,\n",
       " 0.78369064593637916536,\n",
       " 1.6206360746688181415,\n",
       " 2.988623435596633994,\n",
       " 5.631764357826238104,\n",
       " 12.862477745407162278]"
      ]
     },
     "execution_count": 122,
     "metadata": {},
     "output_type": "execute_result"
    }
   ],
   "source": [
    "dia = 1\n",
    "SIR = get_info_B(BETA, ALFA, N, PASO)\n",
    "valor_calculado_fijo = SIR[\"vn\"][dia]+SIR[\"wn\"][dia]\n",
    "errores = []\n",
    "\n",
    "pasos = [0.6,0.7,0.8,0.9,1,1.1,\\\n",
    "         1.2,1.3,1.4,1.5,1.6,2,3,4,5,6]\n",
    "\n",
    "for h in pasos:\n",
    "    SIR = get_info_B(BETA,ALFA,N,h)\n",
    "    valor_calculado = SIR[\"vn\"][dia]+SIR[\"wn\"][dia]\n",
    "    error = abs(valor_calculado_fijo-valor_calculado)\n",
    "    errores.append(error)\n",
    "errores"
   ]
  },
  {
   "cell_type": "code",
   "execution_count": 123,
   "metadata": {},
   "outputs": [
    {
     "data": {
      "text/html": [
       "<div>\n",
       "<style scoped>\n",
       "    .dataframe tbody tr th:only-of-type {\n",
       "        vertical-align: middle;\n",
       "    }\n",
       "\n",
       "    .dataframe tbody tr th {\n",
       "        vertical-align: top;\n",
       "    }\n",
       "\n",
       "    .dataframe thead th {\n",
       "        text-align: right;\n",
       "    }\n",
       "</style>\n",
       "<table border=\"1\" class=\"dataframe\">\n",
       "  <thead>\n",
       "    <tr style=\"text-align: right;\">\n",
       "      <th></th>\n",
       "      <th>paso</th>\n",
       "      <th>error absoluto</th>\n",
       "    </tr>\n",
       "  </thead>\n",
       "  <tbody>\n",
       "    <tr>\n",
       "      <th>0</th>\n",
       "      <td>0.6</td>\n",
       "      <td>0.041128</td>\n",
       "    </tr>\n",
       "    <tr>\n",
       "      <th>1</th>\n",
       "      <td>0.7</td>\n",
       "      <td>0.083478</td>\n",
       "    </tr>\n",
       "    <tr>\n",
       "      <th>2</th>\n",
       "      <td>0.8</td>\n",
       "      <td>0.127154</td>\n",
       "    </tr>\n",
       "    <tr>\n",
       "      <th>3</th>\n",
       "      <td>0.9</td>\n",
       "      <td>0.172216</td>\n",
       "    </tr>\n",
       "    <tr>\n",
       "      <th>4</th>\n",
       "      <td>1.0</td>\n",
       "      <td>0.218726</td>\n",
       "    </tr>\n",
       "    <tr>\n",
       "      <th>5</th>\n",
       "      <td>1.1</td>\n",
       "      <td>0.266748</td>\n",
       "    </tr>\n",
       "    <tr>\n",
       "      <th>6</th>\n",
       "      <td>1.2</td>\n",
       "      <td>0.316629</td>\n",
       "    </tr>\n",
       "    <tr>\n",
       "      <th>7</th>\n",
       "      <td>1.3</td>\n",
       "      <td>0.368019</td>\n",
       "    </tr>\n",
       "    <tr>\n",
       "      <th>8</th>\n",
       "      <td>1.4</td>\n",
       "      <td>0.421181</td>\n",
       "    </tr>\n",
       "    <tr>\n",
       "      <th>9</th>\n",
       "      <td>1.5</td>\n",
       "      <td>0.476204</td>\n",
       "    </tr>\n",
       "    <tr>\n",
       "      <th>10</th>\n",
       "      <td>1.6</td>\n",
       "      <td>0.533180</td>\n",
       "    </tr>\n",
       "    <tr>\n",
       "      <th>11</th>\n",
       "      <td>2.0</td>\n",
       "      <td>0.783691</td>\n",
       "    </tr>\n",
       "    <tr>\n",
       "      <th>12</th>\n",
       "      <td>3.0</td>\n",
       "      <td>1.620636</td>\n",
       "    </tr>\n",
       "    <tr>\n",
       "      <th>13</th>\n",
       "      <td>4.0</td>\n",
       "      <td>2.988623</td>\n",
       "    </tr>\n",
       "    <tr>\n",
       "      <th>14</th>\n",
       "      <td>5.0</td>\n",
       "      <td>5.631764</td>\n",
       "    </tr>\n",
       "    <tr>\n",
       "      <th>15</th>\n",
       "      <td>6.0</td>\n",
       "      <td>12.862478</td>\n",
       "    </tr>\n",
       "  </tbody>\n",
       "</table>\n",
       "</div>"
      ],
      "text/plain": [
       "    paso  error absoluto\n",
       "0    0.6        0.041128\n",
       "1    0.7        0.083478\n",
       "2    0.8        0.127154\n",
       "3    0.9        0.172216\n",
       "4    1.0        0.218726\n",
       "5    1.1        0.266748\n",
       "6    1.2        0.316629\n",
       "7    1.3        0.368019\n",
       "8    1.4        0.421181\n",
       "9    1.5        0.476204\n",
       "10   1.6        0.533180\n",
       "11   2.0        0.783691\n",
       "12   3.0        1.620636\n",
       "13   4.0        2.988623\n",
       "14   5.0        5.631764\n",
       "15   6.0       12.862478"
      ]
     },
     "execution_count": 123,
     "metadata": {},
     "output_type": "execute_result"
    }
   ],
   "source": [
    "table = pd.DataFrame()\n",
    "table[\"paso\"] = pasos\n",
    "table[\"error absoluto\"] = errores\n",
    "table"
   ]
  },
  {
   "cell_type": "code",
   "execution_count": 124,
   "metadata": {},
   "outputs": [
    {
     "data": {
      "image/png": "[encoded data removed]",
      "text/plain": [
       "<Figure size 432x288 with 1 Axes>"
      ]
     },
     "metadata": {
      "needs_background": "light"
     },
     "output_type": "display_data"
    }
   ],
   "source": [
    "import pylab\n",
    "\n",
    "log_errores =[np.log(x) for x in errores]\n",
    "log_pasos = [np.log(x) for x in pasos]\n",
    "\n",
    "fig = plt.figure()\n",
    "ax = fig.add_subplot(2, 1, 1)\n",
    "\n",
    "line = ax.plot(log_errores,log_pasos, color='blue', lw=2)\n",
    "\n",
    "ax.set_title(\"Método B\")\n",
    "\n",
    "pylab.show()\n"
   ]
  },
  {
   "cell_type": "code",
   "execution_count": 125,
   "metadata": {},
   "outputs": [],
   "source": [
    "def get_slope(x,y):\n",
    "    \n",
    "    x = np.array(x)\n",
    "    y = np.array(y)\n",
    "    \n",
    "    X = x - x.mean()\n",
    "    Y = y - y.mean()\n",
    "\n",
    "    slope = (X.dot(Y)) / (X.dot(X))\n",
    "    return slope"
   ]
  },
  {
   "cell_type": "code",
   "execution_count": 126,
   "metadata": {
    "scrolled": true
   },
   "outputs": [
    {
     "data": {
      "text/plain": [
       "2.1774239825628787471"
      ]
     },
     "execution_count": 126,
     "metadata": {},
     "output_type": "execute_result"
    }
   ],
   "source": [
    "get_slope(log_pasos,log_errores)"
   ]
  }
 ],
 "metadata": {
  "kernelspec": {
   "display_name": "Python 3",
   "language": "python",
   "name": "python3"
  },
  "language_info": {
   "codemirror_mode": {
    "name": "ipython",
    "version": 3
   },
   "file_extension": ".py",
   "mimetype": "text/x-python",
   "name": "python",
   "nbconvert_exporter": "python",
   "pygments_lexer": "ipython3",
   "version": "3.6.10"
  }
 },
 "nbformat": 4,
 "nbformat_minor": 4
}
