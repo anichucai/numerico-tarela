{
 "cells": [
  {
   "cell_type": "markdown",
   "metadata": {},
   "source": [
    "# Análisis Numérico (1c 2020)"
   ]
  },
  {
   "cell_type": "markdown",
   "metadata": {},
   "source": [
    "# Trabajo práctico 1 - Ecuaciones no lineales: Fondo de retiro"
   ]
  },
  {
   "cell_type": "markdown",
   "metadata": {},
   "source": [
    "#### Carga de librerías"
   ]
  },
  {
   "cell_type": "code",
   "execution_count": 1,
   "metadata": {},
   "outputs": [],
   "source": [
    "import matplotlib.pyplot as plt\n",
    "import numpy as np\n",
    "import math"
   ]
  },
  {
   "cell_type": "markdown",
   "metadata": {},
   "source": [
    "#### Defino constantes"
   ]
  },
  {
   "cell_type": "code",
   "execution_count": 2,
   "metadata": {},
   "outputs": [],
   "source": [
    "P = np.float32(102995)/700\n",
    "n = np.float32(30 * 12)\n",
    "A = np.float32(200000)"
   ]
  },
  {
   "cell_type": "code",
   "execution_count": 3,
   "metadata": {},
   "outputs": [
    {
     "data": {
      "text/plain": [
       "147.13571428571427"
      ]
     },
     "execution_count": 3,
     "metadata": {},
     "output_type": "execute_result"
    }
   ],
   "source": [
    "P"
   ]
  },
  {
   "cell_type": "code",
   "execution_count": 4,
   "metadata": {},
   "outputs": [
    {
     "data": {
      "text/plain": [
       "360.0"
      ]
     },
     "execution_count": 4,
     "metadata": {},
     "output_type": "execute_result"
    }
   ],
   "source": [
    "n"
   ]
  },
  {
   "cell_type": "markdown",
   "metadata": {},
   "source": [
    "# B2"
   ]
  },
  {
   "cell_type": "markdown",
   "metadata": {},
   "source": [
    "### Busco semilla"
   ]
  },
  {
   "cell_type": "code",
   "execution_count": 5,
   "metadata": {},
   "outputs": [],
   "source": [
    "def f(x):\n",
    "   return (P/x)*((1+x)**n-1)"
   ]
  },
  {
   "cell_type": "code",
   "execution_count": 6,
   "metadata": {},
   "outputs": [],
   "source": [
    "def biseccion(f):\n",
    "    \n",
    "    a =float(-1)\n",
    "    b = float(1.1)\n",
    "    for i in range(5):\n",
    "        c = (a+b)/2\n",
    "        res = f(c)\n",
    "        print(\"a: {} \\t- b:{} - c:{} \\nf(c): {}\\n\".format(a,b, c,res))\n",
    "        if(f(c)<0.0001):            \n",
    "            return c\n",
    "        if(f(c)*f(a)<0 ):\n",
    "            b = c \n",
    "        else:\n",
    "            a = c"
   ]
  },
  {
   "cell_type": "code",
   "execution_count": 7,
   "metadata": {},
   "outputs": [
    {
     "name": "stdout",
     "output_type": "stream",
     "text": [
      "a: -1.0 \t- b:1.1 - c:0.050000000000000044 \n",
      "f(c): 124995895574.7732\n",
      "\n",
      "a: 0.050000000000000044 \t- b:1.1 - c:0.5750000000000001 \n",
      "f(c): 2.685660937415293e+73\n",
      "\n",
      "a: 0.5750000000000001 \t- b:1.1 - c:0.8375000000000001 \n",
      "f(c): 2.3258327336143373e+97\n",
      "\n",
      "a: 0.8375000000000001 \t- b:1.1 - c:0.9687500000000001 \n",
      "f(c): 1.23058606966761e+108\n",
      "\n",
      "a: 0.9687500000000001 \t- b:1.1 - c:1.034375 \n",
      "f(c): 1.542424005858347e+113\n",
      "\n"
     ]
    }
   ],
   "source": [
    "biseccion(f)"
   ]
  },
  {
   "cell_type": "markdown",
   "metadata": {},
   "source": [
    "### Algoritmos"
   ]
  },
  {
   "cell_type": "code",
   "execution_count": 9,
   "metadata": {},
   "outputs": [],
   "source": [
    "def algoritmo_1(x):\n",
    "    return x - ((P/x)*((1+x)**n-1)-A)"
   ]
  },
  {
   "cell_type": "code",
   "execution_count": 10,
   "metadata": {},
   "outputs": [],
   "source": [
    "def algoritmo_2(x):\n",
    "    return (A*(x/P)+1)**(1/n)-1"
   ]
  },
  {
   "cell_type": "code",
   "execution_count": 11,
   "metadata": {},
   "outputs": [],
   "source": [
    "def algoritmo_3(x):\n",
    "    return (P/A)*((1+x)**n-1)"
   ]
  },
  {
   "cell_type": "code",
   "execution_count": 12,
   "metadata": {},
   "outputs": [],
   "source": [
    "def algoritmo_4(x):\n",
    "    return ( (A*(x/P)+1) / ((1+x)**(n/2)) )**(2/n) -1"
   ]
  },
  {
   "cell_type": "code",
   "execution_count": 13,
   "metadata": {},
   "outputs": [],
   "source": [
    "def algoritmo_5(x):\n",
    "    return x - ((P/x)*((1+x)**n-1)-A) / ((-P/(x**2)) * ((1+x)**n-1) +(P/(x)) * n * ((1+x)**(n-1)))"
   ]
  },
  {
   "cell_type": "markdown",
   "metadata": {},
   "source": [
    "### Busco raíz"
   ]
  },
  {
   "cell_type": "code",
   "execution_count": 14,
   "metadata": {},
   "outputs": [
    {
     "name": "stdout",
     "output_type": "stream",
     "text": [
      "0.00001\n"
     ]
    }
   ],
   "source": [
    "a_float = 10**(-5)\n",
    "print(\"{:.5f}\".format(a_float))"
   ]
  },
  {
   "cell_type": "code",
   "execution_count": 15,
   "metadata": {},
   "outputs": [],
   "source": [
    "def error_relativo(actual, anterior):\n",
    "    return abs((actual-anterior)/actual)"
   ]
  },
  {
   "cell_type": "code",
   "execution_count": 16,
   "metadata": {},
   "outputs": [],
   "source": [
    "def metodo_punto_fijo(g, p):\n",
    "    k = 1\n",
    "    anterior = np.float32(p)\n",
    "    actual = np.float32(g(p))\n",
    "    while(error_relativo(actual, anterior)>= 10**(-5)):\n",
    "        print(k,\" \",actual)\n",
    "        anterior = np.float32(actual)\n",
    "        actual = np.float32(g(anterior))\n",
    "        k += 1\n",
    "\n",
    "    print(k,\" \",actual)"
   ]
  },
  {
   "cell_type": "code",
   "execution_count": 17,
   "metadata": {
    "scrolled": true
   },
   "outputs": [
    {
     "name": "stdout",
     "output_type": "stream",
     "text": [
      "1   0.0074737193\n",
      "2   0.0067231706\n",
      "3   0.0064550866\n",
      "4   0.006352759\n",
      "5   0.006312694\n",
      "6   0.00629685\n",
      "7   0.006290559\n",
      "8   0.0062880577\n",
      "9   0.0062870625\n",
      "10   0.0062866663\n",
      "11   0.006286509\n",
      "12   0.006286446\n"
     ]
    }
   ],
   "source": [
    "p = np.float32(0.01) \n",
    "#voy variando semilla para encontrar intervalo de convregenci\n",
    "metodo_punto_fijo(algoritmo_2, p)"
   ]
  },
  {
   "cell_type": "markdown",
   "metadata": {},
   "source": [
    "## B4."
   ]
  },
  {
   "cell_type": "code",
   "execution_count": 18,
   "metadata": {},
   "outputs": [],
   "source": [
    "p = np.float32(0.01) #semilla"
   ]
  },
  {
   "cell_type": "code",
   "execution_count": 19,
   "metadata": {},
   "outputs": [
    {
     "name": "stdout",
     "output_type": "stream",
     "text": [
      "1   0.0074737193\n",
      "2   0.0067231706\n",
      "3   0.0064550866\n",
      "4   0.006352759\n",
      "5   0.006312694\n",
      "6   0.00629685\n",
      "7   0.006290559\n",
      "8   0.0062880577\n",
      "9   0.0062870625\n",
      "10   0.0062866663\n",
      "11   0.006286509\n",
      "12   0.006286446\n"
     ]
    }
   ],
   "source": [
    "metodo_punto_fijo(algoritmo_2, p)"
   ]
  },
  {
   "cell_type": "code",
   "execution_count": 20,
   "metadata": {},
   "outputs": [
    {
     "name": "stdout",
     "output_type": "stream",
     "text": [
      "1   0.004953758\n",
      "2   0.006443437\n",
      "3   0.0062530255\n",
      "4   0.006293147\n",
      "5   0.006285027\n",
      "6   0.0062866854\n",
      "7   0.0062863473\n",
      "8   0.006286416\n",
      "9   0.0062864022\n"
     ]
    }
   ],
   "source": [
    "metodo_punto_fijo(algoritmo_4, p)"
   ]
  },
  {
   "cell_type": "code",
   "execution_count": 21,
   "metadata": {},
   "outputs": [
    {
     "name": "stdout",
     "output_type": "stream",
     "text": [
      "1   0.0077082007\n",
      "2   0.0065342714\n",
      "3   0.0062946714\n",
      "4   0.006286414\n",
      "5   0.0062864046\n"
     ]
    }
   ],
   "source": [
    "metodo_punto_fijo(algoritmo_5, p)"
   ]
  }
 ],
 "metadata": {
  "kernelspec": {
   "display_name": "Python 3",
   "language": "python",
   "name": "python3"
  },
  "language_info": {
   "codemirror_mode": {
    "name": "ipython",
    "version": 3
   },
   "file_extension": ".py",
   "mimetype": "text/x-python",
   "name": "python",
   "nbconvert_exporter": "python",
   "pygments_lexer": "ipython3",
   "version": "3.6.10"
  }
 },
 "nbformat": 4,
 "nbformat_minor": 2
}
