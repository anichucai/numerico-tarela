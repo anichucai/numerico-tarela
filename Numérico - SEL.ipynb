{
 "cells": [
  {
   "cell_type": "markdown",
   "metadata": {},
   "source": [
    "# <span style=\"color:red\"> Análisis Numérico I - FIUBA (Cátedra Tarela)</span>\n",
    "# <span style=\"color:red\">Ecuaciones No Lineales</span>"
   ]
  },
  {
   "cell_type": "markdown",
   "metadata": {},
   "source": [
    "## <span style=\"color:red\">1er cuatrimestre 2020</span>"
   ]
  },
  {
   "cell_type": "code",
   "execution_count": 1,
   "metadata": {},
   "outputs": [],
   "source": [
    "import numpy as np\n",
    "import sympy as sp\n",
    "import math\n",
    "import scipy\n",
    "\n",
    "import matplotlib.pyplot as plt\n",
    "from sympy.calculus.util import continuous_domain\n",
    "from sympy.solvers import solve\n",
    "from scipy.linalg import solve as solve_matrix\n",
    "from scipy.integrate import quad"
   ]
  },
  {
   "cell_type": "markdown",
   "metadata": {},
   "source": [
    "# Funciones auxiliares"
   ]
  },
  {
   "cell_type": "code",
   "execution_count": 2,
   "metadata": {},
   "outputs": [],
   "source": [
    "def round_sig(x, sig=2):\n",
    "    return round(x, sig-int(math.floor(math.log10(abs(x))))-1)"
   ]
  },
  {
   "cell_type": "code",
   "execution_count": 3,
   "metadata": {},
   "outputs": [],
   "source": [
    "def print_matriz(matriz, spacing=15, rounding=-1):\n",
    "    \n",
    "    space_str = \"{: >\" + str(spacing)+ \"}\" + \" \"*3 + \"\\t\"\n",
    "    line = space_str * len(matriz)\n",
    "    \n",
    "    for fila in matriz:\n",
    "        \n",
    "        fila_modificada = fila\n",
    "        if (rounding!=-1):\n",
    "            fila_modificada = [round(x, rounding) for x in fila_modificada]  \n",
    "            \n",
    "        fila_string = [str(x) for x in fila_modificada]        \n",
    "        print('|'+ line.format(*fila_string) + \"|\")"
   ]
  },
  {
   "cell_type": "code",
   "execution_count": 4,
   "metadata": {},
   "outputs": [],
   "source": [
    "def print_vector(vector, spacing=4, rounding=-1):\n",
    "    \n",
    "    space_str = \"{: >\" + str(spacing)+ \"}\" + \" \"*3\n",
    "    line = space_str * len(vector)\n",
    "    \n",
    "    vector_modificado = vector\n",
    "    if (rounding!=-1):\n",
    "            vector_modificado = [round(x, rounding) for x in vector_modificado]  \n",
    "    \n",
    "    vector_string = [str(x) for x in vector_modificado]    \n",
    "    print('|'+ line.format(*vector_string) + \"|\")"
   ]
  },
  {
   "cell_type": "code",
   "execution_count": 5,
   "metadata": {},
   "outputs": [],
   "source": [
    "def resolver_sistema_ecuaciones(A,b):\n",
    "    A_bis = np.array(A, dtype = 'float')\n",
    "    b_bis = np.array(b, dtype = 'float')\n",
    "    return list(solve_matrix(A_bis,b_bis))"
   ]
  },
  {
   "cell_type": "code",
   "execution_count": 6,
   "metadata": {},
   "outputs": [],
   "source": [
    "def matriz_aumentada(A,b):\n",
    "    \n",
    "    m = np.array(A +[b])\n",
    "\n",
    "    A_bis, b_bis = lu(m, permute_l=True)\n",
    "    \n",
    "    return A_bis, b_bis"
   ]
  },
  {
   "cell_type": "code",
   "execution_count": 7,
   "metadata": {},
   "outputs": [],
   "source": [
    "def permutar_filas(A,b,pos1,pos2):\n",
    "    \n",
    "    fil_aux = A[pos1]\n",
    "    A[pos1] = A[pos2]\n",
    "    A[pos2] = fil_aux\n",
    "    \n",
    "    b_aux = b[pos1]\n",
    "    b[pos1] = b[pos2]\n",
    "    b[pos2] = b_aux\n",
    "    \n",
    "    return A,b"
   ]
  },
  {
   "cell_type": "code",
   "execution_count": 8,
   "metadata": {},
   "outputs": [],
   "source": [
    "def permutar_columnas(A,x,pos1,pos2):\n",
    "    \n",
    "    col_aux = []\n",
    "    for fil in A:\n",
    "        col_aux.append(fil[pos1])\n",
    "    \n",
    "    n = 0\n",
    "    for fil in range(len(A)):\n",
    "        A[fil][pos1] = A[fil][pos2]\n",
    "        A[fil][pos2] = col_aux[n]\n",
    "        n +=1\n",
    "        \n",
    "    x_aux = x[pos1]\n",
    "    x[pos1] = x[pos2]\n",
    "    x[pos2] = x_aux\n",
    "\n",
    "    return A,x"
   ]
  },
  {
   "cell_type": "code",
   "execution_count": 9,
   "metadata": {},
   "outputs": [],
   "source": [
    "def indice_fila_mayor(A,n):\n",
    "    \n",
    "    \n",
    "    fil_max = 0\n",
    "    \n",
    "    for fil in range(1, len(A)):\n",
    "        if(A[fil][n] > A[fil_max][n]):\n",
    "            fil_max = fil\n",
    "    \n",
    "    return fil_max"
   ]
  },
  {
   "cell_type": "code",
   "execution_count": 10,
   "metadata": {},
   "outputs": [],
   "source": [
    "def indice_valor_mayor(A):\n",
    "    \n",
    "    fil_max = 0\n",
    "    col_max = 0\n",
    "    \n",
    "    for fil in range(0, len(A)):\n",
    "        for col in range(0,len(A[0])): \n",
    "            if(A[fil][col] > A[fil_max][col_max]):\n",
    "                fil_max = fil\n",
    "                col_max = col\n",
    "    \n",
    "    return fil_max, col_max"
   ]
  },
  {
   "cell_type": "code",
   "execution_count": 11,
   "metadata": {},
   "outputs": [],
   "source": [
    "def sustitucion_inversa(A,b):\n",
    "    \n",
    "    cant_fil = len(A)\n",
    "    cant_col = len(A[0])\n",
    "    \n",
    "    res = [0]*cant_col\n",
    "    \n",
    "    for i in range(cant_fil):\n",
    "        suma = sum([res[j]* A[cant_fil-i-1][j] for j in range(cant_col)])\n",
    "        res[-i-1] = (b[-i-1] - suma) / A[cant_fil-i-1][cant_col-i-1]\n",
    "    \n",
    "    return res"
   ]
  },
  {
   "cell_type": "code",
   "execution_count": 12,
   "metadata": {},
   "outputs": [],
   "source": [
    "def sustitucion_directa(A,b):\n",
    "    \n",
    "    cant_fil = len(A)\n",
    "    cant_col = len(A[0])\n",
    "    \n",
    "    res = [0]*cant_col\n",
    "    \n",
    "    for i in range(cant_fil):\n",
    "        suma = sum([res[j]* A[i][j] for j in range(cant_col)])\n",
    "        res[i] = (b[i] - suma) / A[i][i]\n",
    "    \n",
    "    return res"
   ]
  },
  {
   "cell_type": "code",
   "execution_count": 13,
   "metadata": {},
   "outputs": [],
   "source": [
    "def get_x(A):\n",
    "    return [\"x{}\".format(i+1) for i in range(len(A[0]))]"
   ]
  },
  {
   "cell_type": "markdown",
   "metadata": {},
   "source": [
    "# 1. MÉTODOS DIRECTOS"
   ]
  },
  {
   "cell_type": "markdown",
   "metadata": {},
   "source": [
    "## 1.1 Eliminación de Gauss"
   ]
  },
  {
   "cell_type": "markdown",
   "metadata": {},
   "source": [
    "### 1.1.1 Calculo"
   ]
  },
  {
   "cell_type": "markdown",
   "metadata": {},
   "source": [
    "#### SIN PIVOTEO"
   ]
  },
  {
   "cell_type": "code",
   "execution_count": 14,
   "metadata": {},
   "outputs": [],
   "source": [
    "#Pre condición: sistema linialmente dependiente\n",
    "\n",
    "def EG(A,b, x=None):\n",
    "    \n",
    "    _A = A[:]\n",
    "    _b = b[:]    \n",
    "    _x = get_x(_A) if (x==None) else x[:]\n",
    "    \n",
    "    cant_fil = len(_A)\n",
    "    cant_col = len(_A[0])\n",
    "    \n",
    "    for fil in range(cant_fil-1):\n",
    "                    \n",
    "        for sub_fil in range(fil+1, cant_col):\n",
    "            \n",
    "            n = 1\n",
    "            while(_A[fil][fil]==0):\n",
    "                _A, _b = permutar_filas(_A, _b, fil, fil + n)\n",
    "                n += 1\n",
    "                if(fil+n == cant_fil): break\n",
    "            if(fil+n == cant_fil):break\n",
    "                \n",
    "            pivote = _A[sub_fil][fil] / _A[fil][fil]\n",
    "            \n",
    "            _A[sub_fil] = _A[sub_fil][:fil]+[_A[sub_fil][p] - pivote*_A[fil][p] for p in range(fil,cant_col)]\n",
    "            _b[sub_fil] = _b[sub_fil] - pivote*_b[fil]\n",
    "    \n",
    "    return _A, _b, _x"
   ]
  },
  {
   "cell_type": "markdown",
   "metadata": {},
   "source": [
    "#### PIVOTEO PARCIAL"
   ]
  },
  {
   "cell_type": "code",
   "execution_count": 15,
   "metadata": {},
   "outputs": [],
   "source": [
    "def _permutar_fila_mayor(A,b,n):\n",
    "    \n",
    "    fil_max = indice_fila_mayor(A[n:],n) + n\n",
    "    A,b = permutar_filas(A,b,n,fil_max)\n",
    "    \n",
    "    return A,b"
   ]
  },
  {
   "cell_type": "code",
   "execution_count": 16,
   "metadata": {},
   "outputs": [],
   "source": [
    "#Pre condición: sistema linialmente dependiente\n",
    "\n",
    "def EG_PP(A,b, x=None):\n",
    "    \n",
    "    _A = A[:]\n",
    "    _b = b[:]    \n",
    "    _x = get_x(_A) if (x==None) else x[:]\n",
    "    \n",
    "    if(x==None): _x = get_x(_A)\n",
    "    \n",
    "    cant_fil = len(_A)\n",
    "    cant_col = len(_A[0])\n",
    "    \n",
    "    for fil in range(cant_fil-1):\n",
    "                \n",
    "        _A, _b = _permutar_fila_mayor(_A, _b, fil)\n",
    "    \n",
    "        for sub_fil in range(fil+1, cant_col):\n",
    "                \n",
    "            pivote = _A[sub_fil][fil] / _A[fil][fil]\n",
    "            \n",
    "            _A[sub_fil] = _A[sub_fil][:fil]+[_A[sub_fil][p] - pivote*_A[fil][p] for p in range(fil,cant_col)]\n",
    "            _b[sub_fil] = _b[sub_fil] - pivote*_b[fil]\n",
    "    \n",
    "    return _A, _b, _x"
   ]
  },
  {
   "cell_type": "markdown",
   "metadata": {},
   "source": [
    "#### PIVOTEO TOTAL O COMPLETO"
   ]
  },
  {
   "cell_type": "code",
   "execution_count": 17,
   "metadata": {},
   "outputs": [],
   "source": [
    "def _indice_valor_mayor(A,n):\n",
    "    B = A[n:]\n",
    "    B = [fil[n:] for fil in B]\n",
    "    \n",
    "    fil_max, col_max = indice_valor_mayor(B)\n",
    "    \n",
    "    return fil_max+n, col_max+n"
   ]
  },
  {
   "cell_type": "code",
   "execution_count": 18,
   "metadata": {},
   "outputs": [],
   "source": [
    "def _permutar_valor_mayor(A,b,x,n):\n",
    "    \n",
    "    fil_max, col_max = _indice_valor_mayor(A,n)\n",
    "    \n",
    "    A,b = permutar_filas(A,b,n,fil_max)\n",
    "    \n",
    "    A,x = permutar_columnas(A,x,n,col_max)\n",
    "        \n",
    "    return A,b,x"
   ]
  },
  {
   "cell_type": "code",
   "execution_count": 19,
   "metadata": {},
   "outputs": [],
   "source": [
    "#Pre condición: sistema linialmente dependiente\n",
    "\n",
    "def EG_PT(A,b, x=None):\n",
    "    \n",
    "    _A = A[:]\n",
    "    _b = b[:]    \n",
    "    _x = get_x(_A) if (x==None) else x[:]\n",
    "    \n",
    "    if(x==None): _x = get_x(_A)\n",
    "    \n",
    "    cant_fil = len(_A)\n",
    "    cant_col = len(_A[0])\n",
    "    \n",
    "    for fil in range(cant_fil-1):\n",
    "                \n",
    "        _A, _b, _x = _permutar_valor_mayor(_A, _b, _x, fil)\n",
    "    \n",
    "        for sub_fil in range(fil+1, cant_col):\n",
    "                \n",
    "            pivote = _A[sub_fil][fil] / _A[fil][fil]\n",
    "            \n",
    "            _A[sub_fil] = _A[sub_fil][:fil]+[_A[sub_fil][p] - pivote*_A[fil][p] for p in range(fil,cant_col)]\n",
    "            _b[sub_fil] = _b[sub_fil] - pivote*_b[fil]\n",
    "    \n",
    "    return _A, _b, _x"
   ]
  },
  {
   "cell_type": "markdown",
   "metadata": {},
   "source": [
    "### 1.1.2 Errores"
   ]
  },
  {
   "cell_type": "code",
   "execution_count": 20,
   "metadata": {},
   "outputs": [],
   "source": [
    "def cota_error_x(A,dA,db, x):\n",
    "    inversa = np.linalg.inv(A)\n",
    "    A = np.array(A)\n",
    "    dA = np.array(dA)\n",
    "    db = np.array(db)\n",
    "    x = np.array(x)\n",
    "    return abs(inversa.dot(db) - inversa.dot(dA.dot(x)))"
   ]
  },
  {
   "cell_type": "code",
   "execution_count": 21,
   "metadata": {},
   "outputs": [],
   "source": [
    "def numero_de_condicion_K(A):\n",
    "    norma_inf_inversa_A = np.linalg.norm(np.linalg.inv(A), ord = np.inf)\n",
    "    norma_inf_A = np.linalg.norm(A, ord = np.inf)\n",
    "    \n",
    "    return norma_inf_A * norma_inf_inversa_A"
   ]
  },
  {
   "cell_type": "code",
   "execution_count": 22,
   "metadata": {},
   "outputs": [],
   "source": [
    "def cota_error_relativo_norma_x(A,dA,b,db):\n",
    "    norma_b = np.linalg.norm(b, ord = np.inf)\n",
    "    norma_db = np.linalg.norm(db, ord = np.inf)\n",
    "    norma_A = np.linalg.norm(A, ord = np.inf)\n",
    "    norma_dA = np.linalg.norm(dA, ord = np.inf)\n",
    "    \n",
    "    return numero_de_condicion_K(A)*(norma_db/norma_b+norma_dA/norma_A)"
   ]
  },
  {
   "cell_type": "code",
   "execution_count": 23,
   "metadata": {},
   "outputs": [],
   "source": [
    "def cota_error_absoluto_norma_x(A,x,unidad_de_maquina):\n",
    "    \n",
    "    norma_x = np.linalg.norm(x, ord = np.inf)\n",
    "    \n",
    "    return numero_de_condicion_K(A)*norma_x*2*unidad_de_maquina"
   ]
  },
  {
   "cell_type": "code",
   "execution_count": 24,
   "metadata": {},
   "outputs": [],
   "source": [
    "def cota_error_de_redondeo(A,b,x_monio,presicion):\n",
    "    K = numero_de_condicion_K(A)\n",
    "    norma_b = np.linalg.norm(b, ord = np.inf)\n",
    "    norma_R = np.linalg.norm(residuo(b, x_monio, A,presicion), ord = np.inf)\n",
    "    return K*(norma_R/norma_b)"
   ]
  },
  {
   "cell_type": "code",
   "execution_count": 25,
   "metadata": {},
   "outputs": [],
   "source": [
    "def residuo(b, x_monio, A, presicion):\n",
    "    \n",
    "    A = np.array(A)\n",
    "    b_monio = A.dot(np.array(x_monio))\n",
    "    \n",
    "    b_t = [round_sig(b_i, presicion) for b_i in b]\n",
    "    b_monio_t = [round_sig(b_i, presicion*2) for b_i in b_monio]\n",
    "    \n",
    "    print(b_t, b_monio_t)\n",
    "        \n",
    "    return [ abs(b_t[i] - b_monio_t[i]) for i in range(len(b))]"
   ]
  },
  {
   "cell_type": "markdown",
   "metadata": {},
   "source": [
    "### 1.1.3 Ejemplos"
   ]
  },
  {
   "cell_type": "markdown",
   "metadata": {},
   "source": [
    "##### Gauss sin pivoteo"
   ]
  },
  {
   "cell_type": "code",
   "execution_count": 26,
   "metadata": {
    "scrolled": true
   },
   "outputs": [
    {
     "name": "stdout",
     "output_type": "stream",
     "text": [
      "x1 = 0.1440540798676171\n",
      "x2 = 0.047332020139405996\n",
      "x3 = 0.031750797526024215\n"
     ]
    }
   ],
   "source": [
    "A = [[0.001,1,30],[5,21,9],[20,0.5,3]]\n",
    "b = [1,2,3]\n",
    "\n",
    "dA = [[0.1,0.1,0.02],[0.05,0.06,0.3],[0.1,0.3,0.01]]\n",
    "db = [0.001,0.002,0.02]\n",
    "      \n",
    "A_bis, b_bis, x = EG(A,b)\n",
    "x_monio = sustitucion_inversa(A_bis, b_bis)\n",
    "\n",
    "for i in range(len(x_monio)):\n",
    "    print(\"{} = {}\".format(x[i], x_monio[i]))"
   ]
  },
  {
   "cell_type": "code",
   "execution_count": 27,
   "metadata": {
    "scrolled": true
   },
   "outputs": [
    {
     "data": {
      "text/plain": [
       "2.590997700110474"
      ]
     },
     "execution_count": 27,
     "metadata": {},
     "output_type": "execute_result"
    }
   ],
   "source": [
    "numero_de_condicion_K(A)"
   ]
  },
  {
   "cell_type": "code",
   "execution_count": 28,
   "metadata": {
    "scrolled": false
   },
   "outputs": [
    {
     "data": {
      "text/plain": [
       "array([0.00034238, 0.00049391, 0.00060931])"
      ]
     },
     "execution_count": 28,
     "metadata": {},
     "output_type": "execute_result"
    }
   ],
   "source": [
    "cota_error_x(A,dA,db, x_monio)"
   ]
  },
  {
   "cell_type": "markdown",
   "metadata": {},
   "source": [
    "##### Gauss con pivoteo parcial"
   ]
  },
  {
   "cell_type": "code",
   "execution_count": 29,
   "metadata": {},
   "outputs": [
    {
     "name": "stdout",
     "output_type": "stream",
     "text": [
      "x1 = 0.14405407986761104\n",
      "x2 = 0.04733202013941571\n",
      "x3 = 0.03175079752602389\n"
     ]
    }
   ],
   "source": [
    "A = [[0.001,1,30],[5,21,9],[20,0.5,3]]\n",
    "b = [1,2,3]\n",
    "\n",
    "dA = [[0.1,0.1,0.02],[0.05,0.06,0.3],[0.1,0.3,0.01]]\n",
    "db = [0.001,0.002,0.02]\n",
    "      \n",
    "A_bis, b_bis, x = EG_PP(A,b)\n",
    "x_monio = sustitucion_inversa(A_bis, b_bis)\n",
    "\n",
    "for i in range(len(x_monio)):\n",
    "    print(\"{} = {}\".format(x[i], x_monio[i]))"
   ]
  },
  {
   "cell_type": "code",
   "execution_count": 30,
   "metadata": {},
   "outputs": [
    {
     "data": {
      "text/plain": [
       "array([0.00034238, 0.00049391, 0.00060931])"
      ]
     },
     "execution_count": 30,
     "metadata": {},
     "output_type": "execute_result"
    }
   ],
   "source": [
    "cota_error_x(A,dA,db, x_monio)"
   ]
  },
  {
   "cell_type": "code",
   "execution_count": 31,
   "metadata": {},
   "outputs": [
    {
     "data": {
      "text/plain": [
       "0.04762500534488776"
      ]
     },
     "execution_count": 31,
     "metadata": {},
     "output_type": "execute_result"
    }
   ],
   "source": [
    "cota_error_relativo_norma_x(A,dA,b,db)"
   ]
  },
  {
   "cell_type": "code",
   "execution_count": 32,
   "metadata": {},
   "outputs": [
    {
     "name": "stdout",
     "output_type": "stream",
     "text": [
      "[1, 2, 3] [1.0, 2.0, 3.0]\n"
     ]
    },
    {
     "data": {
      "text/plain": [
       "[0.0, 0.0, 0.0]"
      ]
     },
     "execution_count": 32,
     "metadata": {},
     "output_type": "execute_result"
    }
   ],
   "source": [
    "residuo(b, x_monio, A, 4)"
   ]
  },
  {
   "cell_type": "code",
   "execution_count": 33,
   "metadata": {},
   "outputs": [
    {
     "name": "stdout",
     "output_type": "stream",
     "text": [
      "[1, 2, 3] [1.0, 2.0000000000000004, 3.0000000000000004]\n"
     ]
    },
    {
     "data": {
      "text/plain": [
       "3.8354470712179657e-16"
      ]
     },
     "execution_count": 33,
     "metadata": {},
     "output_type": "execute_result"
    }
   ],
   "source": [
    "cota_error_de_redondeo(A,b,x_monio,32)"
   ]
  },
  {
   "cell_type": "markdown",
   "metadata": {},
   "source": [
    "##### Gauss con pivoteo total"
   ]
  },
  {
   "cell_type": "code",
   "execution_count": 34,
   "metadata": {
    "scrolled": true
   },
   "outputs": [
    {
     "name": "stdout",
     "output_type": "stream",
     "text": [
      "x3 = 0.03175079752602389\n",
      "x2 = 0.04733202013941571\n",
      "x1 = 0.144054079867611\n"
     ]
    }
   ],
   "source": [
    "A = [[0.001,1,30],[5,21,9],[20,0.5,3]]\n",
    "b = [1,2,3]\n",
    "\n",
    "A_bis,b_bis,x = EG_PT(A,b)\n",
    "x_monio = sustitucion_inversa(A_bis, b_bis)\n",
    "\n",
    "for i in range(len(x_monio)):\n",
    "    print(\"{} = {}\".format(x[i], x_monio[i]))"
   ]
  },
  {
   "cell_type": "markdown",
   "metadata": {},
   "source": [
    "## 1.2 Descomposición LU"
   ]
  },
  {
   "cell_type": "markdown",
   "metadata": {},
   "source": [
    "### 1.2.1 Cálculo"
   ]
  },
  {
   "cell_type": "code",
   "execution_count": 35,
   "metadata": {},
   "outputs": [],
   "source": [
    "def matriz_identidad(n):\n",
    "    \n",
    "    I = np.zeros((1,n,n))[0]\n",
    "    for i in range(n):\n",
    "        I[i][i]=1\n",
    "        \n",
    "    return I"
   ]
  },
  {
   "cell_type": "code",
   "execution_count": 36,
   "metadata": {},
   "outputs": [],
   "source": [
    "def descomponer_LU_EG(A,b):\n",
    "        \n",
    "    cant_fil = len(A)\n",
    "    cant_col = len(A[0])\n",
    "    \n",
    "    \n",
    "    L = matriz_identidad(cant_fil)\n",
    "    U = A[:]\n",
    "    \n",
    "    for fil in range(cant_fil-1):\n",
    "        \n",
    "        for sub_fil in range(fil+1, cant_col):\n",
    "                \n",
    "            pivote = U[sub_fil][fil]/U[fil][fil]\n",
    "            \n",
    "            U[sub_fil] = U[sub_fil][:fil]+[U[sub_fil][p] - pivote*U[fil][p] for p in range(fil,cant_col)]\n",
    "            L[sub_fil][fil] = pivote\n",
    "            \n",
    "    return L,U,b,x"
   ]
  },
  {
   "cell_type": "code",
   "execution_count": 37,
   "metadata": {},
   "outputs": [],
   "source": [
    "def descomponer_LU_EGPP(A,b):\n",
    "        \n",
    "    cant_fil = len(A)\n",
    "    cant_col = len(A[0])\n",
    "    \n",
    "    _b = b[:]\n",
    "    \n",
    "    L = matriz_identidad(cant_fil)\n",
    "    U = A[:]\n",
    "    \n",
    "    for fil in range(cant_fil-1):\n",
    "        \n",
    "        U,b = _permutar_fila_mayor(U, _b, fil)\n",
    "        \n",
    "        for sub_fil in range(fil+1, cant_col):\n",
    "                \n",
    "            pivote = U[sub_fil][fil]/U[fil][fil]\n",
    "            \n",
    "            U[sub_fil] = U[sub_fil][:fil]+[U[sub_fil][p] - pivote*U[fil][p] for p in range(fil,cant_col)]\n",
    "            L[sub_fil][fil] = pivote\n",
    "            \n",
    "    return L,U,_b,x"
   ]
  },
  {
   "cell_type": "code",
   "execution_count": 38,
   "metadata": {},
   "outputs": [],
   "source": [
    "def descomponer_LU_EGPT(A,b):\n",
    "    \n",
    "    x = get_x(A)\n",
    "    _b = b[:]\n",
    "        \n",
    "    cant_fil = len(A)\n",
    "    cant_col = len(A[0])\n",
    "    \n",
    "    L = matriz_identidad(cant_fil)\n",
    "    U = A[:]\n",
    "    \n",
    "    for fil in range(cant_fil-1):\n",
    "        \n",
    "        A,_b,x = _permutar_valor_mayor(A,b,x,fil)\n",
    "        \n",
    "        for sub_fil in range(fil+1, cant_col):\n",
    "                \n",
    "            pivote = U[sub_fil][fil]/U[fil][fil]\n",
    "            \n",
    "            U[sub_fil] = U[sub_fil][:fil]+[U[sub_fil][p] - pivote*U[fil][p] for p in range(fil,cant_col)]\n",
    "            L[sub_fil][fil] = pivote\n",
    "            \n",
    "    return L,U,_b,x"
   ]
  },
  {
   "cell_type": "code",
   "execution_count": 39,
   "metadata": {},
   "outputs": [],
   "source": [
    "# Precondicion A no singular\n",
    "\n",
    "def resolverLU(A,b,f_descomponer_LU):\n",
    "    \n",
    "    # A = LU   -   Ux = y   -   Ly = b\n",
    "    \n",
    "    L,U,b,x = f_descomponer_LU(A,b)\n",
    "    \n",
    "    print(\"MATRIZ L\")\n",
    "    print_matriz(L)\n",
    "    print(\"MATRIZ U\")\n",
    "    print_matriz(U)\n",
    "    print()\n",
    "    \n",
    "    y = sustitucion_directa(L, b)\n",
    "    x_monio = sustitucion_inversa(U,y)\n",
    "    \n",
    "    return y,x_monio,b,x"
   ]
  },
  {
   "cell_type": "code",
   "execution_count": 40,
   "metadata": {},
   "outputs": [],
   "source": [
    "# n **2 operaciones LU\n",
    "# 2/3  * n**3 operaciones GAUS"
   ]
  },
  {
   "cell_type": "markdown",
   "metadata": {},
   "source": [
    "### 1.2.2 Ejemplos"
   ]
  },
  {
   "cell_type": "code",
   "execution_count": 41,
   "metadata": {},
   "outputs": [
    {
     "name": "stdout",
     "output_type": "stream",
     "text": [
      "MATRIZ L\n",
      "|            1.0   \t            0.0   \t            0.0   \t|\n",
      "|         5000.0   \t            1.0   \t            0.0   \t|\n",
      "|        20000.0   \t4.016770435830488   \t            1.0   \t|\n",
      "MATRIZ U\n",
      "|          0.001   \t              1   \t             30   \t|\n",
      "|            0.0   \t        -4979.0   \t      -149991.0   \t|\n",
      "|            0.0   \t            0.0   \t2482.4144406507257   \t|\n",
      "\n",
      "x3 = 0.1440540798676171\n",
      "x2 = 0.047332020139405996\n",
      "x1 = 0.031750797526024215\n"
     ]
    }
   ],
   "source": [
    "A = [[0.001,1,30],[5,21,9],[20,0.5,3]]\n",
    "b = [1,2,3]\n",
    "\n",
    "dx,x_monio,b,x = resolverLU(A,b,descomponer_LU_EG)\n",
    "\n",
    "for i in range(len(x_monio)):\n",
    "    print(\"{} = {}\".format(x[i], x_monio[i]))"
   ]
  },
  {
   "cell_type": "code",
   "execution_count": 42,
   "metadata": {},
   "outputs": [
    {
     "name": "stdout",
     "output_type": "stream",
     "text": [
      "MATRIZ L\n",
      "|            1.0   \t            0.0   \t            0.0   \t|\n",
      "|           0.25   \t            1.0   \t            0.0   \t|\n",
      "|          5e-05   \t0.04790299401197604   \t            1.0   \t|\n",
      "MATRIZ U\n",
      "|             20   \t            0.5   \t              3   \t|\n",
      "|            0.0   \t         20.875   \t           8.25   \t|\n",
      "|            0.0   \t1.1102230246251565e-16   \t29.604650299401197   \t|\n",
      "\n",
      "x3 = 0.14405407986761104\n",
      "x2 = 0.04733202013941571\n",
      "x1 = 0.03175079752602389\n"
     ]
    }
   ],
   "source": [
    "A = [[0.001,1,30],[5,21,9],[20,0.5,3]]\n",
    "b = [1,2,3]\n",
    "y,x_monio,b,x = resolverLU(A,b,descomponer_LU_EGPP)\n",
    "\n",
    "for i in range(len(x_monio)):\n",
    "    print(\"{} = {}\".format(x[i], x_monio[i]))"
   ]
  },
  {
   "cell_type": "code",
   "execution_count": 43,
   "metadata": {},
   "outputs": [
    {
     "name": "stdout",
     "output_type": "stream",
     "text": [
      "MATRIZ L\n",
      "|            1.0   \t            0.0   \t            0.0   \t|\n",
      "|            0.3   \t            1.0   \t            0.0   \t|\n",
      "|            0.1   \t0.019323671497584544   \t            1.0   \t|\n",
      "MATRIZ U\n",
      "|             30   \t              1   \t          0.001   \t|\n",
      "|            0.0   \t           20.7   \t         4.9997   \t|\n",
      "|            0.0   \t            0.0   \t19.90328743961353   \t|\n",
      "\n",
      "x3 = 0.03175079752602389\n",
      "x2 = 0.04733202013941571\n",
      "x1 = 0.144054079867611\n"
     ]
    }
   ],
   "source": [
    "A = [[0.001,1,30],[5,21,9],[20,0.5,3]]\n",
    "b = [1,2,3]\n",
    "y,x_monio,b,x = resolverLU(A,b,descomponer_LU_EGPT)\n",
    "\n",
    "for i in range(len(x_monio)):\n",
    "    print(\"{} = {}\".format(x[i], x_monio[i]))"
   ]
  },
  {
   "cell_type": "markdown",
   "metadata": {},
   "source": [
    "## 1.3 Refinamiento iterativo"
   ]
  },
  {
   "cell_type": "code",
   "execution_count": 44,
   "metadata": {},
   "outputs": [],
   "source": [
    "def error_por_LU(A, b, triangulacion, f_LU, presicion):\n",
    "    \n",
    "    A_bis, b_bis, x = triangulacion(A,b)\n",
    "    x_monio = sustitucion_inversa(A_bis, b_bis)\n",
    "    \n",
    "    R = residuo(b, x_monio, A, presicion)\n",
    "    \n",
    "    res = resolverLU(A, R, f_LU)\n",
    "    dx = res[1]\n",
    "        \n",
    "    return [round_sig(x, 1) for x in dx]"
   ]
  },
  {
   "cell_type": "code",
   "execution_count": 45,
   "metadata": {},
   "outputs": [],
   "source": [
    "def round_sig_matriz(A, presicion):\n",
    "    \n",
    "    _A = A[:]\n",
    "    \n",
    "    for fil in range(len(A)):\n",
    "        for col in range (len(A[0])):\n",
    "            _A[fil][col] = round_sig(_A[fil][col], presicion)\n",
    "    return _A"
   ]
  },
  {
   "cell_type": "code",
   "execution_count": 46,
   "metadata": {},
   "outputs": [],
   "source": [
    "def residuo(b, x_monio, A, presicion):\n",
    "    \n",
    "    x_monio_t = [round_sig(x, presicion*2) for x in x_monio]\n",
    "    \n",
    "    A_t = np.array(A)\n",
    "    b_monio = A_t.dot(np.array(x_monio_t))\n",
    "    \n",
    "    b_t = [round_sig(b_i, presicion) for b_i in b]        \n",
    "    \n",
    "    print(b_monio)\n",
    "    return [ abs(b_t[i] - b_monio[i]) for i in range(len(b))]"
   ]
  },
  {
   "cell_type": "code",
   "execution_count": 47,
   "metadata": {},
   "outputs": [
    {
     "name": "stdout",
     "output_type": "stream",
     "text": [
      "[1.00000001 2.         3.        ]\n",
      "MATRIZ L\n",
      "|            1.0   \t            0.0   \t            0.0   \t|\n",
      "|         5000.0   \t            1.0   \t            0.0   \t|\n",
      "|        20000.0   \t4.016770435830488   \t            1.0   \t|\n",
      "MATRIZ U\n",
      "|          0.001   \t              1   \t             30   \t|\n",
      "|            0.0   \t        -4979.0   \t      -149991.0   \t|\n",
      "|            0.0   \t            0.0   \t2482.4144406507257   \t|\n",
      "\n",
      "x1 = 0.1440540798676171 ± 1e-10 \n",
      "x2 = 0.047332020139405996 ± -1e-10 \n",
      "x3 = 0.031750797526024215 ± 5e-10 \n"
     ]
    }
   ],
   "source": [
    "A = [[0.001,1,30],[5,21,9],[20,0.5,3]]\n",
    "b = [1,2,3]\n",
    "\n",
    "A_bis, b_bis, x = EG(A,b)\n",
    "x_monio = sustitucion_inversa(A_bis, b_bis)\n",
    "\n",
    "\n",
    "dx = error_por_LU(A, b, EG, descomponer_LU_EG, 4)\n",
    "\n",
    "for i in range(len(x_monio)):\n",
    "    print(\"{} = {} ± {} \".format(x[i], x_monio[i], dx[i]))"
   ]
  },
  {
   "cell_type": "code",
   "execution_count": 48,
   "metadata": {},
   "outputs": [
    {
     "name": "stdout",
     "output_type": "stream",
     "text": [
      "[1.00000001 2.         3.        ]\n",
      "MATRIZ L\n",
      "|            1.0   \t            0.0   \t            0.0   \t|\n",
      "|           0.25   \t            1.0   \t            0.0   \t|\n",
      "|          5e-05   \t0.04790299401197604   \t            1.0   \t|\n",
      "MATRIZ U\n",
      "|             20   \t            0.5   \t              3   \t|\n",
      "|            0.0   \t         20.875   \t           8.25   \t|\n",
      "|            0.0   \t1.1102230246251565e-16   \t29.604650299401197   \t|\n",
      "\n",
      "x1 = 0.14405407986761104 ± 1e-10 \n",
      "x2 = 0.04733202013941571 ± -1e-10 \n",
      "x3 = 0.03175079752602389 ± 5e-10 \n"
     ]
    }
   ],
   "source": [
    "A = [[0.001,1,30],[5,21,9],[20,0.5,3]]\n",
    "b = [1,2,3]\n",
    "\n",
    "A_bis, b_bis, x = EG_PP(A,b)\n",
    "x_monio = sustitucion_inversa(A_bis, b_bis)\n",
    "\n",
    "dx = error_por_LU(A, b, EG_PP, descomponer_LU_EGPP, 4)\n",
    "\n",
    "for i in range(len(x_monio)):\n",
    "    print(\"{} = {} ± {} \".format(x[i], x_monio[i], dx[i]))"
   ]
  },
  {
   "cell_type": "code",
   "execution_count": 49,
   "metadata": {},
   "outputs": [
    {
     "name": "stdout",
     "output_type": "stream",
     "text": [
      "[1.00000001 2.         3.        ]\n",
      "MATRIZ L\n",
      "|            1.0   \t            0.0   \t            0.0   \t|\n",
      "|            0.3   \t            1.0   \t            0.0   \t|\n",
      "|            0.1   \t0.019323671497584544   \t            1.0   \t|\n",
      "MATRIZ U\n",
      "|             30   \t              1   \t          0.001   \t|\n",
      "|            0.0   \t           20.7   \t         4.9997   \t|\n",
      "|            0.0   \t            0.0   \t19.90328743961353   \t|\n",
      "\n",
      "x3 = 0.03175079752602389 ± 5e-10 \n",
      "x2 = 0.04733202013941571 ± -1e-10 \n",
      "x1 = 0.144054079867611 ± 1e-10 \n"
     ]
    }
   ],
   "source": [
    "A = [[0.001,1,30],[5,21,9],[20,0.5,3]]\n",
    "b = [1,2,3]\n",
    "\n",
    "A_bis, b_bis, x = EG_PT(A,b)\n",
    "x_monio = sustitucion_inversa(A_bis, b_bis)\n",
    "\n",
    "dx = error_por_LU(A, b, EG_PT, descomponer_LU_EGPT, 4)\n",
    "\n",
    "for i in range(len(x_monio)):\n",
    "    print(\"{} = {} ± {} \".format(x[i], x_monio[i], dx[i]))"
   ]
  },
  {
   "cell_type": "markdown",
   "metadata": {},
   "source": [
    "# 2. MÉTODOS ITERATIVOS"
   ]
  },
  {
   "cell_type": "markdown",
   "metadata": {},
   "source": [
    "## 2.1 Método de Jacobi"
   ]
  },
  {
   "cell_type": "code",
   "execution_count": 50,
   "metadata": {},
   "outputs": [],
   "source": [
    "def vectores_Jacobi(A,b):\n",
    "    \n",
    "    T = A[:]\n",
    "    c = []\n",
    "    \n",
    "    for i in range(len(T)):\n",
    "        T[i] = [-x/T[i][i] for x in T[i]]\n",
    "        c.append(b[i]/T[i][i])\n",
    "        T[i][i]=0\n",
    "    return T, c"
   ]
  },
  {
   "cell_type": "code",
   "execution_count": 51,
   "metadata": {},
   "outputs": [],
   "source": [
    "def descomposicion_Jacobi(A):\n",
    "    \n",
    "    n = len(A)\n",
    "    \n",
    "    D = np.zeros((1,n,n))[0]\n",
    "    L = np.zeros((1,n,n))[0]\n",
    "    U = np.zeros((1,n,n))[0]\n",
    "    \n",
    "    for i in range(n):\n",
    "        for j in range(n):\n",
    "            if(i==j):\n",
    "                D[i][j] = A[i][j]\n",
    "            elif (i<j):\n",
    "                L[i][j] = -A[i][j]\n",
    "            else:\n",
    "                U[i][j] = -A[i][j]\n",
    "    return D,L,U"
   ]
  },
  {
   "cell_type": "code",
   "execution_count": 52,
   "metadata": {},
   "outputs": [],
   "source": [
    "def suma_matrices(A,B):\n",
    "    \n",
    "    res = A[:]\n",
    "    for i in range(len(A)):\n",
    "        for j in range(len(A)):\n",
    "            res[i][j] += B[i][j]\n",
    "    return res"
   ]
  },
  {
   "cell_type": "code",
   "execution_count": 53,
   "metadata": {},
   "outputs": [],
   "source": [
    "def suma_vect(A,B):\n",
    "    \n",
    "    res = A[:]\n",
    "    for i in range(len(A)):\n",
    "        res[i] += B[i]\n",
    "    return res"
   ]
  },
  {
   "cell_type": "code",
   "execution_count": 54,
   "metadata": {},
   "outputs": [],
   "source": [
    "def resta_vect_abs(A,B):\n",
    "    \n",
    "    res = []\n",
    "    for i in range(len(A)):\n",
    "        res.append( A[i] -  B[i])\n",
    "    return res"
   ]
  },
  {
   "cell_type": "code",
   "execution_count": 55,
   "metadata": {},
   "outputs": [],
   "source": [
    "def resta_matrices(A,B):\n",
    "    \n",
    "    n = len(A)\n",
    "    m = len(A[0])\n",
    "    \n",
    "    res = A[:]\n",
    "    \n",
    "    for i in range(n):\n",
    "        for j in range(m):\n",
    "            res[i][j] = A[i][j] - B[i][j]\n",
    "            \n",
    "    return res"
   ]
  },
  {
   "cell_type": "code",
   "execution_count": 56,
   "metadata": {},
   "outputs": [],
   "source": [
    "def criterio_corte_Jacobi(x_k, x_k_anterior):\n",
    "    \n",
    "    dif = resta_vect_abs(x_k,x_k_anterior)\n",
    "    \n",
    "    norma_dif = np.linalg.norm(dif, ord = np.inf)\n",
    "    norma_x_k = np.linalg.norm(x_k, ord = np.inf)\n",
    "    \n",
    "    return norma_dif/norma_x_k"
   ]
  },
  {
   "cell_type": "code",
   "execution_count": 57,
   "metadata": {},
   "outputs": [],
   "source": [
    "def print_Jacobi(k,x,error):\n",
    "    string = \"{: >3}\".format(k)\n",
    "    string += \" {: > 20}\"* len(x)\n",
    "    string = string.format(*x)\n",
    "    string += \"{:>30}\"\n",
    "    print(string.format(error))"
   ]
  },
  {
   "cell_type": "code",
   "execution_count": 58,
   "metadata": {},
   "outputs": [],
   "source": [
    "def resolver_Jacobi(A, b, x, tolerancia):\n",
    "    \n",
    "    D,L,U = descomposicion_Jacobi(A)\n",
    "    \n",
    "    D_inversa = np.linalg.inv(D)\n",
    "\n",
    "    L_mas_U = suma_matrices(L,U)\n",
    "    \n",
    "    T = np.array(D_inversa).dot(L_mas_U)\n",
    "\n",
    "    c = np.array(D_inversa).dot(b)\n",
    "    \n",
    "    x_k_anterior = x\n",
    "\n",
    "    k = 1\n",
    "    x_k = suma_vect(np.array(T).dot(x_k_anterior),c)\n",
    "    error = criterio_corte_Jacobi(x_k, x_k_anterior)\n",
    "\n",
    "    print_Jacobi(k,x_k,error)\n",
    "    \n",
    "    while(error>tolerancia):\n",
    "        \n",
    "        x_k_anterior = x_k\n",
    "        x_k = suma_vect(np.array(T).dot(x_k_anterior),c)\n",
    "        error = criterio_corte_Jacobi(x_k, x_k_anterior)\n",
    "        k+=1\n",
    "        print_Jacobi(k,x_k,error)\n",
    "\n",
    "    return x_k"
   ]
  },
  {
   "cell_type": "code",
   "execution_count": 59,
   "metadata": {},
   "outputs": [],
   "source": [
    "def convergencia_Jacobi(T):\n",
    "    \n",
    "    norma_inf = np.linalg.norm(T, ord = np.inf)\n",
    "    norma_uno = np.linalg.norm(T, ord = 1)\n",
    "    \n",
    "    autovalores = scipy.linalg.eig(np.array(T))[0]\n",
    "    modulo_de_autovalores = [abs(x) for x in autovalores]\n",
    "    max_autovalor = max(modulo_de_autovalores)\n",
    "    \n",
    "    print(\"Si las normas son menores a uno converge\")\n",
    "    print(\"norma T infinito: {}\".format(norma_inf))\n",
    "    print(\"norma T uno: {}\".format(norma_uno))\n",
    "    \n",
    "    print(\"Si el máximo de del módulo de sus autovalores es < 1 converge\")\n",
    "    print(\"Máximo módulo del ava: \", max_autovalor)\n",
    "    \n",
    "    return max_autovalor < 1"
   ]
  },
  {
   "cell_type": "markdown",
   "metadata": {},
   "source": [
    "### Ejemplos"
   ]
  },
  {
   "cell_type": "markdown",
   "metadata": {},
   "source": [
    "#### Ejemplo 1"
   ]
  },
  {
   "cell_type": "code",
   "execution_count": 60,
   "metadata": {},
   "outputs": [
    {
     "name": "stdout",
     "output_type": "stream",
     "text": [
      "Si las normas son menores a uno converge\n",
      "norma T infinito: 6.0\n",
      "norma T uno: 5.48\n",
      "Si el máximo de del módulo de sus autovalores es < 1 converge\n",
      "Máximo módulo del ava:  3.3980000483448087\n"
     ]
    },
    {
     "data": {
      "text/plain": [
       "False"
      ]
     },
     "execution_count": 60,
     "metadata": {},
     "output_type": "execute_result"
    }
   ],
   "source": [
    "A = [[1,1,-5], [8,2.5,1.2], [3,-9,4]]\n",
    "b = [3,67.9,1]\n",
    "semilla = [0,0,0]\n",
    "\n",
    "T, c = vectores_Jacobi(A,b)\n",
    "convergencia_Jacobi(T)"
   ]
  },
  {
   "cell_type": "markdown",
   "metadata": {},
   "source": [
    "#### Ejemplo 2"
   ]
  },
  {
   "cell_type": "code",
   "execution_count": 61,
   "metadata": {},
   "outputs": [
    {
     "name": "stdout",
     "output_type": "stream",
     "text": [
      "Si las normas son menores a uno converge\n",
      "norma T infinito: 0.7777777777777777\n",
      "norma T uno: 0.5944444444444444\n",
      "Si el máximo de del módulo de sus autovalores es < 1 converge\n",
      "Máximo módulo del ava:  0.3603894401470086\n"
     ]
    },
    {
     "data": {
      "text/plain": [
       "True"
      ]
     },
     "execution_count": 61,
     "metadata": {},
     "output_type": "execute_result"
    }
   ],
   "source": [
    "A = [[8,2.5,1.2],[3,-9,4],[1,1,-5]]\n",
    "b = [67.9,1,3]\n",
    "semilla = [0,0,0]\n",
    "\n",
    "T, c = vectores_Jacobi(A,b)\n",
    "convergencia_Jacobi(T)"
   ]
  },
  {
   "cell_type": "code",
   "execution_count": 62,
   "metadata": {},
   "outputs": [
    {
     "name": "stdout",
     "output_type": "stream",
     "text": [
      "  1               8.4875  -0.1111111111111111  -0.6000000000000001                           1.0\n",
      "  2    8.612222222222224    2.451388888888889    1.075277777777778           0.29754225261256606\n",
      "  3    7.560149305555556   3.2375308641975313   1.6127222222222226           0.13916033588034496\n",
      "  4    7.233863271604939   3.1257040895061725   1.5595360339506175          0.045105363717805755\n"
     ]
    }
   ],
   "source": [
    "resolver_Jacobi(A, b, semilla, 0.1)\n",
    "T, c = vectores_Jacobi(A,b)"
   ]
  },
  {
   "cell_type": "markdown",
   "metadata": {},
   "source": [
    "## 2.1 Método de Jacobi"
   ]
  },
  {
   "cell_type": "code",
   "execution_count": 63,
   "metadata": {},
   "outputs": [],
   "source": [
    "def vectores_Guss_Seidel(A,b):\n",
    "    \n",
    "    D,L,U = descomposicion_Jacobi(A)\n",
    "        \n",
    "    resta = resta_matrices(D,L)\n",
    "    inversa = np.linalg.inv(resta)\n",
    "    \n",
    "    T = np.array(inversa).dot(U)\n",
    "    c = np.array(inversa).dot(b)\n",
    "    \n",
    "    return T, c"
   ]
  },
  {
   "cell_type": "code",
   "execution_count": 64,
   "metadata": {},
   "outputs": [],
   "source": [
    "def resolver_Guss_Seidel(A, b, x, tolerancia):\n",
    "    \n",
    "    T,c = vectores_Guss_Seidel(A,b)\n",
    "    \n",
    "    x_k_anterior = x\n",
    "\n",
    "    k = 1\n",
    "    x_k = suma_vect(np.array(T).dot(x_k_anterior),c)\n",
    "    error = criterio_corte_Jacobi(x_k, x_k_anterior)\n",
    "\n",
    "    print_Jacobi(k,x_k,error)\n",
    "    \n",
    "    while(error>tolerancia):\n",
    "        \n",
    "        x_k_anterior = x_k\n",
    "        x_k = suma_vect(np.array(T).dot(x_k_anterior),c)\n",
    "        error = criterio_corte_Jacobi(x_k, x_k_anterior)\n",
    "        k+=1\n",
    "        print_Jacobi(k,x_k,error)\n",
    "\n",
    "    return x_k"
   ]
  },
  {
   "cell_type": "code",
   "execution_count": 65,
   "metadata": {},
   "outputs": [],
   "source": [
    "def convergencia_Guss_Seidel(T):\n",
    "    \n",
    "    norma_inf = np.linalg.norm(T, ord = np.inf)\n",
    "    norma_uno = np.linalg.norm(T, ord = 1)\n",
    "    \n",
    "    autovalores = scipy.linalg.eig(np.array(T))[0]\n",
    "    modulo_de_autovalores = [abs(x) for x in autovalores]\n",
    "    max_autovalor = max(modulo_de_autovalores)\n",
    "    \n",
    "    print(\"Si las normas son menores a uno converge\")\n",
    "    print(\"norma T infinito: {}\".format(norma_inf))\n",
    "    print(\"norma T uno: {}\".format(norma_uno))\n",
    "    \n",
    "    print(\"Si el máximo de del módulo de sus autovalores es < 1 converge\")\n",
    "    print(\"Máximo módulo del ava: \", max_autovalor)\n",
    "    \n",
    "    return max_autovalor < 1"
   ]
  },
  {
   "cell_type": "markdown",
   "metadata": {},
   "source": [
    "### Ejemplos"
   ]
  },
  {
   "cell_type": "markdown",
   "metadata": {},
   "source": [
    "#### Ejemplo 1"
   ]
  },
  {
   "cell_type": "code",
   "execution_count": 66,
   "metadata": {},
   "outputs": [
    {
     "name": "stdout",
     "output_type": "stream",
     "text": [
      "Si las normas son menores a uno converge\n",
      "norma T infinito: 13.240000000000002\n",
      "norma T uno: 15.660000000000002\n",
      "Si el máximo de del módulo de sus autovalores es < 1 converge\n",
      "Máximo módulo del ava:  6.000000000000001\n"
     ]
    },
    {
     "data": {
      "text/plain": [
       "False"
      ]
     },
     "execution_count": 66,
     "metadata": {},
     "output_type": "execute_result"
    }
   ],
   "source": [
    "A = [[1,1,-5], [8,2.5,1.2], [3,-9,4]]\n",
    "b = [3,67.9,1]\n",
    "\n",
    "T,c = vectores_Guss_Seidel(A,b)\n",
    "convergencia_Guss_Seidel(T)"
   ]
  },
  {
   "cell_type": "markdown",
   "metadata": {},
   "source": [
    "#### Ejemplo 2"
   ]
  },
  {
   "cell_type": "code",
   "execution_count": 67,
   "metadata": {},
   "outputs": [
    {
     "name": "stdout",
     "output_type": "stream",
     "text": [
      "Si las normas son menores a uno converge\n",
      "norma T infinito: 0.5111111111111111\n",
      "norma T uno: 0.7841666666666667\n",
      "Si el máximo de del módulo de sus autovalores es < 1 converge\n",
      "Máximo módulo del ava:  0.09999999999999999\n"
     ]
    },
    {
     "data": {
      "text/plain": [
       "True"
      ]
     },
     "execution_count": 67,
     "metadata": {},
     "output_type": "execute_result"
    }
   ],
   "source": [
    "A = [[8,2.5,1.2],[3,-9,4],[1,1,-5]]\n",
    "b = [67.9,1,3]\n",
    "semilla = [0,0,0]\n",
    "\n",
    "T,c = vectores_Guss_Seidel(A,b)\n",
    "convergencia_Guss_Seidel(T)"
   ]
  },
  {
   "cell_type": "code",
   "execution_count": 68,
   "metadata": {},
   "outputs": [
    {
     "name": "stdout",
     "output_type": "stream",
     "text": [
      "  1    8.695555555555556 -0.37777777777777777  -0.6000000000000001                           1.0\n",
      "  2    7.309185802469136   3.2600987654320988   1.0635555555555556            0.4977129657835426\n",
      "  3    7.323512259430728   2.9981094513031548    1.513856913580247            0.0614870764290486\n",
      "  4     7.33632932968912   2.9808704607643657   1.4643243421467766          0.006751683192985751\n"
     ]
    },
    {
     "data": {
      "text/plain": [
       "array([7.33632933, 2.98087046, 1.46432434])"
      ]
     },
     "execution_count": 68,
     "metadata": {},
     "output_type": "execute_result"
    }
   ],
   "source": [
    "resolver_Guss_Seidel(A, b, semilla, 0.01)"
   ]
  },
  {
   "cell_type": "markdown",
   "metadata": {},
   "source": [
    "#### Ejemplo 3"
   ]
  },
  {
   "cell_type": "code",
   "execution_count": 69,
   "metadata": {},
   "outputs": [
    {
     "name": "stdout",
     "output_type": "stream",
     "text": [
      "  1   0.9464285714285714   1.6428571428571428  -0.8571428571428571                           1.0\n",
      "  2   1.0045705782312924   1.9749149659863945  -0.9566326530612245           0.16813778256189452\n",
      "  3    1.001263489026563   2.0008174400712666  -0.9957634839650146          0.019557421941702145\n",
      "  4   1.0001185660187402    2.000410542795633  -0.9999362787206719         0.0020859691880176483\n",
      "  5   1.0000011907165351    2.000046473834268  -1.0000417109681274        0.00018203025086058075\n"
     ]
    },
    {
     "data": {
      "text/plain": [
       "array([ 1.00000119,  2.00004647, -1.00004171])"
      ]
     },
     "execution_count": 69,
     "metadata": {},
     "output_type": "execute_result"
    }
   ],
   "source": [
    "A =[ [4,-1,-1], [-2,6,1], [-1,1,7]]\n",
    "b = [3,9,-6]\n",
    "\n",
    "resolver_Guss_Seidel(A, b, semilla, 0.001)"
   ]
  }
 ],
 "metadata": {
  "kernelspec": {
   "display_name": "Python 3",
   "language": "python",
   "name": "python3"
  },
  "language_info": {
   "codemirror_mode": {
    "name": "ipython",
    "version": 3
   },
   "file_extension": ".py",
   "mimetype": "text/x-python",
   "name": "python",
   "nbconvert_exporter": "python",
   "pygments_lexer": "ipython3",
   "version": "3.6.10"
  }
 },
 "nbformat": 4,
 "nbformat_minor": 4
}
